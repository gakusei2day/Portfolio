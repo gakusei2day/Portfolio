{
 "cells": [
  {
   "cell_type": "markdown",
   "metadata": {},
   "source": [
    "# A/B тест"
   ]
  },
  {
   "cell_type": "markdown",
   "metadata": {
    "toc": true
   },
   "source": [
    "<h1>Содержание<span class=\"tocSkip\"></span></h1>\n",
    "<div class=\"toc\"><ul class=\"toc-item\"><li><span><a href=\"#Изучение-данных\" data-toc-modified-id=\"Изучение-данных-1\"><span class=\"toc-item-num\">1&nbsp;&nbsp;</span>Изучение данных</a></span></li><li><span><a href=\"#Работа-с-таблицами\" data-toc-modified-id=\"Работа-с-таблицами-2\"><span class=\"toc-item-num\">2&nbsp;&nbsp;</span>Работа с таблицами</a></span></li><li><span><a href=\"#Исследовательский-анализ-данных\" data-toc-modified-id=\"Исследовательский-анализ-данных-3\"><span class=\"toc-item-num\">3&nbsp;&nbsp;</span>Исследовательский анализ данных</a></span><ul class=\"toc-item\"><li><span><a href=\"#Распределение-пользователей-по-группам.\" data-toc-modified-id=\"Распределение-пользователей-по-группам.-3.1\"><span class=\"toc-item-num\">3.1&nbsp;&nbsp;</span>Распределение пользователей по группам.</a></span></li><li><span><a href=\"#Распределение-событий-по-группам.\" data-toc-modified-id=\"Распределение-событий-по-группам.-3.2\"><span class=\"toc-item-num\">3.2&nbsp;&nbsp;</span>Распределение событий по группам.</a></span></li><li><span><a href=\"#Распределение-событий-по-дням\" data-toc-modified-id=\"Распределение-событий-по-дням-3.3\"><span class=\"toc-item-num\">3.3&nbsp;&nbsp;</span>Распределение событий по дням</a></span></li><li><span><a href=\"#Воронка-продаж\" data-toc-modified-id=\"Воронка-продаж-3.4\"><span class=\"toc-item-num\">3.4&nbsp;&nbsp;</span>Воронка продаж</a></span></li></ul></li><li><span><a href=\"#Анализ-результатов-А/В-тестирования\" data-toc-modified-id=\"Анализ-результатов-А/В-тестирования-4\"><span class=\"toc-item-num\">4&nbsp;&nbsp;</span>Анализ результатов А/В тестирования</a></span></li><li><span><a href=\"#Вывод\" data-toc-modified-id=\"Вывод-5\"><span class=\"toc-item-num\">5&nbsp;&nbsp;</span>Вывод</a></span></li></ul></div>"
   ]
  },
  {
   "cell_type": "markdown",
   "metadata": {},
   "source": [
    "**Цель** — провести оценку результатов A/B-теста.\n",
    "\n",
    "**Задачи**:\n",
    "\n",
    "1. Оценить корректность проведения теста;\n",
    "2. Проанализировать результаты теста;\n",
    "3. Чтобы оценить корректность проведения теста, проверить: пересечение тестовой аудитории с конкурирующим тестом, совпадение теста и маркетинговых событий, другие проблемы временных границ теста.\n",
    "В наличии: датасет с действиями пользователей, техническое задание и несколько вспомогательных датасетов.\n",
    "\n",
    "**Техническое задание**\n",
    "\n",
    "- Название теста: recommender_system_test;\n",
    "- Группы: А (контрольная), B (новая платёжная воронка);\n",
    "- Дата запуска: 2020-12-07;\n",
    "- Дата остановки набора новых пользователей: 2020-12-21;\n",
    "- Дата остановки: 2021-01-04;\n",
    "- Аудитория: 15% новых пользователей из региона EU;\n",
    "- Назначение теста: тестирование изменений, связанных с внедрением улучшенной рекомендательной системы;\n",
    "- Ожидаемое количество участников теста: 6000.\n",
    "- Ожидаемый эффект: за 14 дней с момента регистрации в системе пользователи покажут улучшение каждой метрики не менее, чем на 10%."
   ]
  },
  {
   "cell_type": "markdown",
   "metadata": {},
   "source": [
    "## Изучение данных"
   ]
  },
  {
   "cell_type": "code",
   "execution_count": 1,
   "metadata": {},
   "outputs": [
    {
     "name": "stdout",
     "output_type": "stream",
     "text": [
      "Requirement already satisfied: kaleido in /opt/conda/lib/python3.9/site-packages (0.2.1)\r\n"
     ]
    }
   ],
   "source": [
    "!pip install kaleido\n",
    "\n",
    "from plotly import graph_objects as go\n",
    "from IPython.display import display\n",
    "import matplotlib.pyplot as plt\n",
    "from collections import Counter \n",
    "from scipy import stats as st\n",
    "from pymystem3 import Mystem\n",
    "import plotly.express as px\n",
    "import plotly.io as pio\n",
    "import seaborn as sns\n",
    "import pandas as pd\n",
    "import numpy as np\n",
    "import math as mth\n",
    "import kaleido\n",
    "import os\n",
    "import re\n",
    "\n",
    "#Задаем константы\n",
    "sns.set(rc={'figure.figsize':(15,10)})\n",
    "sns.set_palette('pastel')\n",
    "pio.renderers.default = \"png\"\n",
    "svg_renderer = pio.renderers[\"png\"]\n",
    "svg_renderer.scale = 1.2\n",
    "\n",
    "#Зададим функцию для безопасного извлечения датафрейма\n",
    "def read_df(file_name):\n",
    "    path1 = os.path.join('/datasets', file_name)\n",
    "    path2 = os.path.join(file_name)\n",
    "    if os.path.exists(path1):\n",
    "        df = pd.read_csv(path1)\n",
    "        return df\n",
    "    elif os.path.exists(path2):\n",
    "        df = pd.read_csv(path2)\n",
    "        return df\n",
    "    else:\n",
    "        print('File is not found')\n",
    "        \n",
    "#Зададим функцию для удобства ознакомления с датафреймами\n",
    "def lazy_info(dt):\n",
    "    x = dt.duplicated().sum()\n",
    "    y = dt.shape[0]\n",
    "    display(dt.head(5))\n",
    "    dt.info()\n",
    "    print(dt.isna().sum())\n",
    "    print('Явных дубликатов', x, ', что составляет', \"{:.2%}\".format(x / y), 'от всех строк.')"
   ]
  },
  {
   "cell_type": "code",
   "execution_count": 2,
   "metadata": {},
   "outputs": [],
   "source": [
    "marketing_events  = read_df('***')\n",
    "new_users = read_df('***')\n",
    "events = read_df('***')\n",
    "participants = read_df('***')"
   ]
  },
  {
   "cell_type": "code",
   "execution_count": 3,
   "metadata": {},
   "outputs": [
    {
     "data": {
      "text/html": [
       "<div>\n",
       "<style scoped>\n",
       "    .dataframe tbody tr th:only-of-type {\n",
       "        vertical-align: middle;\n",
       "    }\n",
       "\n",
       "    .dataframe tbody tr th {\n",
       "        vertical-align: top;\n",
       "    }\n",
       "\n",
       "    .dataframe thead th {\n",
       "        text-align: right;\n",
       "    }\n",
       "</style>\n",
       "<table border=\"1\" class=\"dataframe\">\n",
       "  <thead>\n",
       "    <tr style=\"text-align: right;\">\n",
       "      <th></th>\n",
       "      <th>name</th>\n",
       "      <th>regions</th>\n",
       "      <th>start_dt</th>\n",
       "      <th>finish_dt</th>\n",
       "    </tr>\n",
       "  </thead>\n",
       "  <tbody>\n",
       "    <tr>\n",
       "      <th>0</th>\n",
       "      <td>Christmas&amp;New Year Promo</td>\n",
       "      <td>EU, N.America</td>\n",
       "      <td>2020-12-25</td>\n",
       "      <td>2021-01-03</td>\n",
       "    </tr>\n",
       "    <tr>\n",
       "      <th>1</th>\n",
       "      <td>St. Valentine's Day Giveaway</td>\n",
       "      <td>EU, CIS, APAC, N.America</td>\n",
       "      <td>2020-02-14</td>\n",
       "      <td>2020-02-16</td>\n",
       "    </tr>\n",
       "    <tr>\n",
       "      <th>2</th>\n",
       "      <td>St. Patric's Day Promo</td>\n",
       "      <td>EU, N.America</td>\n",
       "      <td>2020-03-17</td>\n",
       "      <td>2020-03-19</td>\n",
       "    </tr>\n",
       "    <tr>\n",
       "      <th>3</th>\n",
       "      <td>Easter Promo</td>\n",
       "      <td>EU, CIS, APAC, N.America</td>\n",
       "      <td>2020-04-12</td>\n",
       "      <td>2020-04-19</td>\n",
       "    </tr>\n",
       "    <tr>\n",
       "      <th>4</th>\n",
       "      <td>4th of July Promo</td>\n",
       "      <td>N.America</td>\n",
       "      <td>2020-07-04</td>\n",
       "      <td>2020-07-11</td>\n",
       "    </tr>\n",
       "  </tbody>\n",
       "</table>\n",
       "</div>"
      ],
      "text/plain": [
       "                           name                   regions    start_dt  \\\n",
       "0      Christmas&New Year Promo             EU, N.America  2020-12-25   \n",
       "1  St. Valentine's Day Giveaway  EU, CIS, APAC, N.America  2020-02-14   \n",
       "2        St. Patric's Day Promo             EU, N.America  2020-03-17   \n",
       "3                  Easter Promo  EU, CIS, APAC, N.America  2020-04-12   \n",
       "4             4th of July Promo                 N.America  2020-07-04   \n",
       "\n",
       "    finish_dt  \n",
       "0  2021-01-03  \n",
       "1  2020-02-16  \n",
       "2  2020-03-19  \n",
       "3  2020-04-19  \n",
       "4  2020-07-11  "
      ]
     },
     "metadata": {},
     "output_type": "display_data"
    },
    {
     "name": "stdout",
     "output_type": "stream",
     "text": [
      "<class 'pandas.core.frame.DataFrame'>\n",
      "RangeIndex: 14 entries, 0 to 13\n",
      "Data columns (total 4 columns):\n",
      " #   Column     Non-Null Count  Dtype \n",
      "---  ------     --------------  ----- \n",
      " 0   name       14 non-null     object\n",
      " 1   regions    14 non-null     object\n",
      " 2   start_dt   14 non-null     object\n",
      " 3   finish_dt  14 non-null     object\n",
      "dtypes: object(4)\n",
      "memory usage: 576.0+ bytes\n",
      "name         0\n",
      "regions      0\n",
      "start_dt     0\n",
      "finish_dt    0\n",
      "dtype: int64\n",
      "Явных дубликатов 0 , что составляет 0.00% от всех строк.\n"
     ]
    }
   ],
   "source": [
    "lazy_info(marketing_events)"
   ]
  },
  {
   "cell_type": "markdown",
   "metadata": {},
   "source": [
    "Меняем тип данных в столбцах с датами."
   ]
  },
  {
   "cell_type": "code",
   "execution_count": 4,
   "metadata": {},
   "outputs": [],
   "source": [
    "marketing_events['start_dt'] = pd.to_datetime(marketing_events['start_dt'], format='%Y-%m-%d')\n",
    "marketing_events['finish_dt'] = pd.to_datetime(marketing_events['finish_dt'], format='%Y-%m-%d')"
   ]
  },
  {
   "cell_type": "code",
   "execution_count": 5,
   "metadata": {},
   "outputs": [
    {
     "data": {
      "text/html": [
       "<div>\n",
       "<style scoped>\n",
       "    .dataframe tbody tr th:only-of-type {\n",
       "        vertical-align: middle;\n",
       "    }\n",
       "\n",
       "    .dataframe tbody tr th {\n",
       "        vertical-align: top;\n",
       "    }\n",
       "\n",
       "    .dataframe thead th {\n",
       "        text-align: right;\n",
       "    }\n",
       "</style>\n",
       "<table border=\"1\" class=\"dataframe\">\n",
       "  <thead>\n",
       "    <tr style=\"text-align: right;\">\n",
       "      <th></th>\n",
       "      <th>user_id</th>\n",
       "      <th>first_date</th>\n",
       "      <th>region</th>\n",
       "      <th>device</th>\n",
       "    </tr>\n",
       "  </thead>\n",
       "  <tbody>\n",
       "    <tr>\n",
       "      <th>0</th>\n",
       "      <td>D72A72121175D8BE</td>\n",
       "      <td>2020-12-07</td>\n",
       "      <td>EU</td>\n",
       "      <td>PC</td>\n",
       "    </tr>\n",
       "    <tr>\n",
       "      <th>1</th>\n",
       "      <td>F1C668619DFE6E65</td>\n",
       "      <td>2020-12-07</td>\n",
       "      <td>N.America</td>\n",
       "      <td>Android</td>\n",
       "    </tr>\n",
       "    <tr>\n",
       "      <th>2</th>\n",
       "      <td>2E1BF1D4C37EA01F</td>\n",
       "      <td>2020-12-07</td>\n",
       "      <td>EU</td>\n",
       "      <td>PC</td>\n",
       "    </tr>\n",
       "    <tr>\n",
       "      <th>3</th>\n",
       "      <td>50734A22C0C63768</td>\n",
       "      <td>2020-12-07</td>\n",
       "      <td>EU</td>\n",
       "      <td>iPhone</td>\n",
       "    </tr>\n",
       "    <tr>\n",
       "      <th>4</th>\n",
       "      <td>E1BDDCE0DAFA2679</td>\n",
       "      <td>2020-12-07</td>\n",
       "      <td>N.America</td>\n",
       "      <td>iPhone</td>\n",
       "    </tr>\n",
       "  </tbody>\n",
       "</table>\n",
       "</div>"
      ],
      "text/plain": [
       "            user_id  first_date     region   device\n",
       "0  D72A72121175D8BE  2020-12-07         EU       PC\n",
       "1  F1C668619DFE6E65  2020-12-07  N.America  Android\n",
       "2  2E1BF1D4C37EA01F  2020-12-07         EU       PC\n",
       "3  50734A22C0C63768  2020-12-07         EU   iPhone\n",
       "4  E1BDDCE0DAFA2679  2020-12-07  N.America   iPhone"
      ]
     },
     "metadata": {},
     "output_type": "display_data"
    },
    {
     "name": "stdout",
     "output_type": "stream",
     "text": [
      "<class 'pandas.core.frame.DataFrame'>\n",
      "RangeIndex: 61733 entries, 0 to 61732\n",
      "Data columns (total 4 columns):\n",
      " #   Column      Non-Null Count  Dtype \n",
      "---  ------      --------------  ----- \n",
      " 0   user_id     61733 non-null  object\n",
      " 1   first_date  61733 non-null  object\n",
      " 2   region      61733 non-null  object\n",
      " 3   device      61733 non-null  object\n",
      "dtypes: object(4)\n",
      "memory usage: 1.9+ MB\n",
      "user_id       0\n",
      "first_date    0\n",
      "region        0\n",
      "device        0\n",
      "dtype: int64\n",
      "Явных дубликатов 0 , что составляет 0.00% от всех строк.\n"
     ]
    }
   ],
   "source": [
    "lazy_info(new_users)"
   ]
  },
  {
   "cell_type": "markdown",
   "metadata": {},
   "source": [
    "Меняем тип данных в столбце с датами."
   ]
  },
  {
   "cell_type": "code",
   "execution_count": 6,
   "metadata": {},
   "outputs": [],
   "source": [
    "new_users['first_date'] = pd.to_datetime(new_users['first_date'], format='%Y-%m-%d')"
   ]
  },
  {
   "cell_type": "code",
   "execution_count": 7,
   "metadata": {},
   "outputs": [
    {
     "data": {
      "text/html": [
       "<div>\n",
       "<style scoped>\n",
       "    .dataframe tbody tr th:only-of-type {\n",
       "        vertical-align: middle;\n",
       "    }\n",
       "\n",
       "    .dataframe tbody tr th {\n",
       "        vertical-align: top;\n",
       "    }\n",
       "\n",
       "    .dataframe thead th {\n",
       "        text-align: right;\n",
       "    }\n",
       "</style>\n",
       "<table border=\"1\" class=\"dataframe\">\n",
       "  <thead>\n",
       "    <tr style=\"text-align: right;\">\n",
       "      <th></th>\n",
       "      <th>user_id</th>\n",
       "      <th>event_dt</th>\n",
       "      <th>event_name</th>\n",
       "      <th>details</th>\n",
       "    </tr>\n",
       "  </thead>\n",
       "  <tbody>\n",
       "    <tr>\n",
       "      <th>0</th>\n",
       "      <td>E1BDDCE0DAFA2679</td>\n",
       "      <td>2020-12-07 20:22:03</td>\n",
       "      <td>purchase</td>\n",
       "      <td>99.99</td>\n",
       "    </tr>\n",
       "    <tr>\n",
       "      <th>1</th>\n",
       "      <td>7B6452F081F49504</td>\n",
       "      <td>2020-12-07 09:22:53</td>\n",
       "      <td>purchase</td>\n",
       "      <td>9.99</td>\n",
       "    </tr>\n",
       "    <tr>\n",
       "      <th>2</th>\n",
       "      <td>9CD9F34546DF254C</td>\n",
       "      <td>2020-12-07 12:59:29</td>\n",
       "      <td>purchase</td>\n",
       "      <td>4.99</td>\n",
       "    </tr>\n",
       "    <tr>\n",
       "      <th>3</th>\n",
       "      <td>96F27A054B191457</td>\n",
       "      <td>2020-12-07 04:02:40</td>\n",
       "      <td>purchase</td>\n",
       "      <td>4.99</td>\n",
       "    </tr>\n",
       "    <tr>\n",
       "      <th>4</th>\n",
       "      <td>1FD7660FDF94CA1F</td>\n",
       "      <td>2020-12-07 10:15:09</td>\n",
       "      <td>purchase</td>\n",
       "      <td>4.99</td>\n",
       "    </tr>\n",
       "  </tbody>\n",
       "</table>\n",
       "</div>"
      ],
      "text/plain": [
       "            user_id             event_dt event_name  details\n",
       "0  E1BDDCE0DAFA2679  2020-12-07 20:22:03   purchase    99.99\n",
       "1  7B6452F081F49504  2020-12-07 09:22:53   purchase     9.99\n",
       "2  9CD9F34546DF254C  2020-12-07 12:59:29   purchase     4.99\n",
       "3  96F27A054B191457  2020-12-07 04:02:40   purchase     4.99\n",
       "4  1FD7660FDF94CA1F  2020-12-07 10:15:09   purchase     4.99"
      ]
     },
     "metadata": {},
     "output_type": "display_data"
    },
    {
     "name": "stdout",
     "output_type": "stream",
     "text": [
      "<class 'pandas.core.frame.DataFrame'>\n",
      "RangeIndex: 440317 entries, 0 to 440316\n",
      "Data columns (total 4 columns):\n",
      " #   Column      Non-Null Count   Dtype  \n",
      "---  ------      --------------   -----  \n",
      " 0   user_id     440317 non-null  object \n",
      " 1   event_dt    440317 non-null  object \n",
      " 2   event_name  440317 non-null  object \n",
      " 3   details     62740 non-null   float64\n",
      "dtypes: float64(1), object(3)\n",
      "memory usage: 13.4+ MB\n",
      "user_id            0\n",
      "event_dt           0\n",
      "event_name         0\n",
      "details       377577\n",
      "dtype: int64\n",
      "Явных дубликатов 0 , что составляет 0.00% от всех строк.\n"
     ]
    }
   ],
   "source": [
    "lazy_info(events)"
   ]
  },
  {
   "cell_type": "markdown",
   "metadata": {},
   "source": [
    "Меняем тип данных в столбце с датами и посмотрим на нашу будующую воронку."
   ]
  },
  {
   "cell_type": "code",
   "execution_count": 8,
   "metadata": {},
   "outputs": [
    {
     "data": {
      "text/plain": [
       "login           189552\n",
       "product_page    125563\n",
       "purchase         62740\n",
       "product_cart     62462\n",
       "Name: event_name, dtype: int64"
      ]
     },
     "execution_count": 8,
     "metadata": {},
     "output_type": "execute_result"
    }
   ],
   "source": [
    "events['event_dt'] = pd.to_datetime(events['event_dt'], format='%Y-%m-%dT%H:%M:%S')\n",
    "events['event_name'].value_counts()"
   ]
  },
  {
   "cell_type": "code",
   "execution_count": 9,
   "metadata": {},
   "outputs": [
    {
     "data": {
      "text/html": [
       "<div>\n",
       "<style scoped>\n",
       "    .dataframe tbody tr th:only-of-type {\n",
       "        vertical-align: middle;\n",
       "    }\n",
       "\n",
       "    .dataframe tbody tr th {\n",
       "        vertical-align: top;\n",
       "    }\n",
       "\n",
       "    .dataframe thead th {\n",
       "        text-align: right;\n",
       "    }\n",
       "</style>\n",
       "<table border=\"1\" class=\"dataframe\">\n",
       "  <thead>\n",
       "    <tr style=\"text-align: right;\">\n",
       "      <th></th>\n",
       "      <th>user_id</th>\n",
       "      <th>group</th>\n",
       "      <th>ab_test</th>\n",
       "    </tr>\n",
       "  </thead>\n",
       "  <tbody>\n",
       "    <tr>\n",
       "      <th>0</th>\n",
       "      <td>D1ABA3E2887B6A73</td>\n",
       "      <td>A</td>\n",
       "      <td>recommender_system_test</td>\n",
       "    </tr>\n",
       "    <tr>\n",
       "      <th>1</th>\n",
       "      <td>A7A3664BD6242119</td>\n",
       "      <td>A</td>\n",
       "      <td>recommender_system_test</td>\n",
       "    </tr>\n",
       "    <tr>\n",
       "      <th>2</th>\n",
       "      <td>DABC14FDDFADD29E</td>\n",
       "      <td>A</td>\n",
       "      <td>recommender_system_test</td>\n",
       "    </tr>\n",
       "    <tr>\n",
       "      <th>3</th>\n",
       "      <td>04988C5DF189632E</td>\n",
       "      <td>A</td>\n",
       "      <td>recommender_system_test</td>\n",
       "    </tr>\n",
       "    <tr>\n",
       "      <th>4</th>\n",
       "      <td>482F14783456D21B</td>\n",
       "      <td>B</td>\n",
       "      <td>recommender_system_test</td>\n",
       "    </tr>\n",
       "  </tbody>\n",
       "</table>\n",
       "</div>"
      ],
      "text/plain": [
       "            user_id group                  ab_test\n",
       "0  D1ABA3E2887B6A73     A  recommender_system_test\n",
       "1  A7A3664BD6242119     A  recommender_system_test\n",
       "2  DABC14FDDFADD29E     A  recommender_system_test\n",
       "3  04988C5DF189632E     A  recommender_system_test\n",
       "4  482F14783456D21B     B  recommender_system_test"
      ]
     },
     "metadata": {},
     "output_type": "display_data"
    },
    {
     "name": "stdout",
     "output_type": "stream",
     "text": [
      "<class 'pandas.core.frame.DataFrame'>\n",
      "RangeIndex: 18268 entries, 0 to 18267\n",
      "Data columns (total 3 columns):\n",
      " #   Column   Non-Null Count  Dtype \n",
      "---  ------   --------------  ----- \n",
      " 0   user_id  18268 non-null  object\n",
      " 1   group    18268 non-null  object\n",
      " 2   ab_test  18268 non-null  object\n",
      "dtypes: object(3)\n",
      "memory usage: 428.3+ KB\n",
      "user_id    0\n",
      "group      0\n",
      "ab_test    0\n",
      "dtype: int64\n",
      "Явных дубликатов 0 , что составляет 0.00% от всех строк.\n"
     ]
    }
   ],
   "source": [
    "lazy_info(participants)"
   ]
  },
  {
   "cell_type": "markdown",
   "metadata": {},
   "source": [
    "**Вывод**\n",
    "\n",
    "Пропуски только в столбце <code>events['details']</code>. Количество записей в столбце соответсвует числу совершенных покупок. Пропуски обусловлены тем, что для других событий не подразумевается наличие дополнительной информации в виде цены купленного товара.\n",
    "\n",
    "В остальных датасетах пропуски отсутствуют. Дубликаты в данных также не наблюдаются. Все столбцы с датами приведены к нужному типу."
   ]
  },
  {
   "cell_type": "markdown",
   "metadata": {},
   "source": [
    "## Работа с таблицами"
   ]
  },
  {
   "cell_type": "markdown",
   "metadata": {},
   "source": [
    "Отобьем пользователей по интресующему нас тесту."
   ]
  },
  {
   "cell_type": "code",
   "execution_count": 10,
   "metadata": {},
   "outputs": [],
   "source": [
    "participants_1 = participants.query('ab_test == \"recommender_system_test\"')"
   ]
  },
  {
   "cell_type": "markdown",
   "metadata": {},
   "source": [
    "Посмотрим даты"
   ]
  },
  {
   "cell_type": "code",
   "execution_count": 11,
   "metadata": {},
   "outputs": [
    {
     "name": "stdout",
     "output_type": "stream",
     "text": [
      "Минимальная первая дата: 2020-12-07 00:00:33\n",
      "максимальная первая дата 2020-12-30 23:36:33\n"
     ]
    }
   ],
   "source": [
    "print('Минимальная первая дата:', events['event_dt'].min())\n",
    "print('максимальная первая дата', events['event_dt'].max())"
   ]
  },
  {
   "cell_type": "markdown",
   "metadata": {},
   "source": [
    "Тест закончился раньше врмени, причина нам не известна, но нам с этим жить. На всякий случай дополнительно отфильтруем таблицу событий."
   ]
  },
  {
   "cell_type": "code",
   "execution_count": 12,
   "metadata": {},
   "outputs": [],
   "source": [
    "events = events.query('event_dt >= \"2020-12-07\" and event_dt <= \"2021-01-04\"')"
   ]
  },
  {
   "cell_type": "markdown",
   "metadata": {},
   "source": [
    "Уберем пользователей зарегистрировавшихся в неустраивающий нас период. "
   ]
  },
  {
   "cell_type": "code",
   "execution_count": 13,
   "metadata": {},
   "outputs": [],
   "source": [
    "new_users = new_users.query('first_date >= \"2020-12-07\" and first_date <= \"2020-12-21\"')"
   ]
  },
  {
   "cell_type": "markdown",
   "metadata": {},
   "source": [
    "Создадим своднцю таблицу для дальнейшей работы и выделим европейцев."
   ]
  },
  {
   "cell_type": "code",
   "execution_count": 14,
   "metadata": {},
   "outputs": [],
   "source": [
    "df = participants_1.merge(new_users, on='user_id', how='left')   \n",
    "df = df.query('region == \"EU\"')"
   ]
  },
  {
   "cell_type": "code",
   "execution_count": 15,
   "metadata": {},
   "outputs": [
    {
     "name": "stdout",
     "output_type": "stream",
     "text": [
      "Итого участников теста:  6351\n"
     ]
    },
    {
     "data": {
      "text/plain": [
       "0.15"
      ]
     },
     "execution_count": 15,
     "metadata": {},
     "output_type": "execute_result"
    }
   ],
   "source": [
    "#Смотрим количество участников\n",
    "print('Итого участников теста: ',df['user_id'].nunique())\n",
    "#Смотрим процентаж европейцев\n",
    "df['user_id'].nunique() / new_users.query('region == \"EU\"')['user_id'].nunique()"
   ]
  },
  {
   "cell_type": "markdown",
   "metadata": {},
   "source": [
    "Получается, что колчиество пользователей и процентаж совпадают с запланированными (почти).\n",
    "***\n",
    "Просмотрим промоакции."
   ]
  },
  {
   "cell_type": "code",
   "execution_count": 16,
   "metadata": {},
   "outputs": [
    {
     "data": {
      "text/html": [
       "<div>\n",
       "<style scoped>\n",
       "    .dataframe tbody tr th:only-of-type {\n",
       "        vertical-align: middle;\n",
       "    }\n",
       "\n",
       "    .dataframe tbody tr th {\n",
       "        vertical-align: top;\n",
       "    }\n",
       "\n",
       "    .dataframe thead th {\n",
       "        text-align: right;\n",
       "    }\n",
       "</style>\n",
       "<table border=\"1\" class=\"dataframe\">\n",
       "  <thead>\n",
       "    <tr style=\"text-align: right;\">\n",
       "      <th></th>\n",
       "      <th>name</th>\n",
       "      <th>regions</th>\n",
       "      <th>start_dt</th>\n",
       "      <th>finish_dt</th>\n",
       "    </tr>\n",
       "  </thead>\n",
       "  <tbody>\n",
       "    <tr>\n",
       "      <th>0</th>\n",
       "      <td>Christmas&amp;New Year Promo</td>\n",
       "      <td>EU, N.America</td>\n",
       "      <td>2020-12-25</td>\n",
       "      <td>2021-01-03</td>\n",
       "    </tr>\n",
       "  </tbody>\n",
       "</table>\n",
       "</div>"
      ],
      "text/plain": [
       "                       name        regions   start_dt  finish_dt\n",
       "0  Christmas&New Year Promo  EU, N.America 2020-12-25 2021-01-03"
      ]
     },
     "execution_count": 16,
     "metadata": {},
     "output_type": "execute_result"
    }
   ],
   "source": [
    "#Отберем те которые происходили в интересующий нас промежуток\n",
    "marketing_events.query('start_dt >= \"2020-12-07\" and finish_dt <= \"2021-01-04\"')"
   ]
  },
  {
   "cell_type": "markdown",
   "metadata": {},
   "source": [
    "К сожалению нам неизвестна направленость акции, но она определенно исказила данные, придётся иметь это в виду. \n",
    "***\n",
    "Проверим пересечения тестов, для этого смерджим еще одну таблицу."
   ]
  },
  {
   "cell_type": "code",
   "execution_count": 17,
   "metadata": {},
   "outputs": [
    {
     "name": "stdout",
     "output_type": "stream",
     "text": [
      "783\n",
      "0\n",
      "Пришлось отбросить 12.20%\n"
     ]
    }
   ],
   "source": [
    "df = df.merge(events, on='user_id', how='left').reset_index(drop=True)\n",
    "#Смотрим пересечения\n",
    "print(participants.query('ab_test == \"recommender_system_test\"')['user_id']\n",
    "      .isin(participants.query('ab_test == \"interface_eu_test\" and group ==\"B\"')['user_id']).sum()\n",
    "     )\n",
    "x = len(df)\n",
    "#Фильруем\n",
    "df = df[~df['user_id'].isin(participants[(participants['ab_test']=='interface_eu_test')&(participants['group']=='B')]['user_id'])]\n",
    "y = len(df)\n",
    "#Проверяем\n",
    "print(df.query('group == \"A\"')['user_id'].isin(df.query('group == \"B\"')['user_id']).sum())\n",
    "print('Пришлось отбросить', \"{:.2%}\".format(1 - y / x))"
   ]
  },
  {
   "cell_type": "markdown",
   "metadata": {},
   "source": [
    "Проследим, чтобы лайфтайм событий был не больше 14 дней."
   ]
  },
  {
   "cell_type": "code",
   "execution_count": 18,
   "metadata": {
    "scrolled": true
   },
   "outputs": [
    {
     "name": "stdout",
     "output_type": "stream",
     "text": [
      "Пришлось отбросить 0.00% а именно: 0\n"
     ]
    }
   ],
   "source": [
    "from datetime import datetime\n",
    "#Создаём столбец под это\n",
    "df['lt'] = df['event_dt'] - df['first_date']\n",
    "#\n",
    "df['lt'] = [x.days for x in df['lt']]\n",
    "x = len(df)\n",
    "#Отсекаем\n",
    "#df = df.query('lt <= 14')\n",
    "y = len(df)\n",
    "print('Пришлось отбросить', \"{:.2%}\".format(1 - y / x),'а именно:', x-y)"
   ]
  },
  {
   "cell_type": "markdown",
   "metadata": {},
   "source": [
    "Таблица готова к дальнейшей работе, ТЗ соблюдено."
   ]
  },
  {
   "cell_type": "markdown",
   "metadata": {},
   "source": [
    "## Исследовательский анализ данных"
   ]
  },
  {
   "cell_type": "markdown",
   "metadata": {},
   "source": [
    "### Распределение пользователей по группам."
   ]
  },
  {
   "cell_type": "code",
   "execution_count": 19,
   "metadata": {},
   "outputs": [
    {
     "data": {
      "text/html": [
       "<div>\n",
       "<style scoped>\n",
       "    .dataframe tbody tr th:only-of-type {\n",
       "        vertical-align: middle;\n",
       "    }\n",
       "\n",
       "    .dataframe tbody tr th {\n",
       "        vertical-align: top;\n",
       "    }\n",
       "\n",
       "    .dataframe thead th {\n",
       "        text-align: right;\n",
       "    }\n",
       "</style>\n",
       "<table border=\"1\" class=\"dataframe\">\n",
       "  <thead>\n",
       "    <tr style=\"text-align: right;\">\n",
       "      <th></th>\n",
       "      <th>group</th>\n",
       "      <th>user_id</th>\n",
       "    </tr>\n",
       "  </thead>\n",
       "  <tbody>\n",
       "    <tr>\n",
       "      <th>0</th>\n",
       "      <td>A</td>\n",
       "      <td>3195</td>\n",
       "    </tr>\n",
       "    <tr>\n",
       "      <th>1</th>\n",
       "      <td>B</td>\n",
       "      <td>2373</td>\n",
       "    </tr>\n",
       "  </tbody>\n",
       "</table>\n",
       "</div>"
      ],
      "text/plain": [
       "  group  user_id\n",
       "0     A     3195\n",
       "1     B     2373"
      ]
     },
     "metadata": {},
     "output_type": "display_data"
    },
    {
     "name": "stdout",
     "output_type": "stream",
     "text": [
      "Распределение не равно\n"
     ]
    }
   ],
   "source": [
    "temp = df.groupby('group',as_index=False).agg({'user_id':'nunique'})\n",
    "if temp['user_id'][0] / temp['user_id'][1] > .5:\n",
    "    display(temp)\n",
    "    print('Распределение не равно')\n",
    "else:\n",
    "    print('Распределение в порядке')"
   ]
  },
  {
   "cell_type": "markdown",
   "metadata": {},
   "source": [
    "### Распределение событий по группам."
   ]
  },
  {
   "cell_type": "code",
   "execution_count": 20,
   "metadata": {},
   "outputs": [
    {
     "data": {
      "text/html": [
       "<div>\n",
       "<style scoped>\n",
       "    .dataframe tbody tr th:only-of-type {\n",
       "        vertical-align: middle;\n",
       "    }\n",
       "\n",
       "    .dataframe tbody tr th {\n",
       "        vertical-align: top;\n",
       "    }\n",
       "\n",
       "    .dataframe thead th {\n",
       "        text-align: right;\n",
       "    }\n",
       "</style>\n",
       "<table border=\"1\" class=\"dataframe\">\n",
       "  <thead>\n",
       "    <tr style=\"text-align: right;\">\n",
       "      <th></th>\n",
       "      <th>group</th>\n",
       "      <th>event_name</th>\n",
       "      <th>events_on_user</th>\n",
       "    </tr>\n",
       "  </thead>\n",
       "  <tbody>\n",
       "    <tr>\n",
       "      <th>0</th>\n",
       "      <td>A</td>\n",
       "      <td>16154</td>\n",
       "      <td>5.06</td>\n",
       "    </tr>\n",
       "    <tr>\n",
       "      <th>1</th>\n",
       "      <td>B</td>\n",
       "      <td>4410</td>\n",
       "      <td>1.86</td>\n",
       "    </tr>\n",
       "  </tbody>\n",
       "</table>\n",
       "</div>"
      ],
      "text/plain": [
       "  group  event_name  events_on_user\n",
       "0     A       16154            5.06\n",
       "1     B        4410            1.86"
      ]
     },
     "execution_count": 20,
     "metadata": {},
     "output_type": "execute_result"
    }
   ],
   "source": [
    "temp = df.groupby('group',as_index=False).agg({'event_name':'count'})\n",
    "temp['events_on_user'] = (temp['event_name'] / df.groupby('group',as_index=False).agg({'user_id':'nunique'})['user_id']).round(2)\n",
    "temp"
   ]
  },
  {
   "cell_type": "markdown",
   "metadata": {},
   "source": [
    "Различия количества событий на пользователя, так же значительно."
   ]
  },
  {
   "cell_type": "markdown",
   "metadata": {},
   "source": [
    "### Распределение событий по дням"
   ]
  },
  {
   "cell_type": "code",
   "execution_count": 21,
   "metadata": {},
   "outputs": [
    {
     "data": {
      "image/png": "[encoded data removed]",
      "text/plain": [
       "<Figure size 1200x640 with 1 Axes>"
      ]
     },
     "metadata": {},
     "output_type": "display_data"
    }
   ],
   "source": [
    "fig, ax = plt.subplots(figsize=(15,8), dpi = 80)\n",
    "\n",
    "df.query('group==\"A\"')['event_dt'].hist(bins=100,label='A')\n",
    "df.query('group==\"B\"')['event_dt'].hist(bins=100,label='B')\n",
    "\n",
    "ax.legend(title = 'группа')\n",
    "plt.xlabel('Дата')\n",
    "plt.ylabel('Число событий')\n",
    "plt.title('Распределение событий по дням в группах');"
   ]
  },
  {
   "cell_type": "markdown",
   "metadata": {},
   "source": [
    "На лицо скачок у группы **А** 14 декабря, возможно существовала еще одна промоакция о которой забыли нам сообщить. Группе **В** характерна некоторая постоянность. 22 декабря обе группы сталкиваются со спадом."
   ]
  },
  {
   "cell_type": "markdown",
   "metadata": {},
   "source": [
    "### Воронка продаж"
   ]
  },
  {
   "cell_type": "code",
   "execution_count": 22,
   "metadata": {},
   "outputs": [
    {
     "data": {
      "image/png": "[encoded data removed]"
     },
     "metadata": {},
     "output_type": "display_data"
    }
   ],
   "source": [
    "#Наша воронка выглядит так: login → product_page → product_cart → purchase. \n",
    "#Построим для группы А\n",
    "grpA = (df\n",
    "        .query('group == \"A\"')\n",
    "        .groupby('event_name',as_index=False)\n",
    "        .agg({'user_id':'nunique'})\n",
    "        .sort_values('user_id', ascending = False)\n",
    "        .reindex([0,2,1,3])\n",
    "       )\n",
    "\n",
    "#Построим для группы В\n",
    "grpB = (df.query('group == \"B\"')\n",
    "        .groupby('event_name',as_index=False)\n",
    "        .agg({'user_id':'nunique'})\n",
    "        .sort_values('user_id', ascending = False)\n",
    "        .reindex([0,2,1,3])\n",
    "       )\n",
    "\n",
    "fig = go.Figure()\n",
    "fig.add_trace(go.Funnel(\n",
    "    name = 'A',\n",
    "    y = grpA['event_name'],\n",
    "    x = grpA['user_id'],\n",
    "    textinfo = \"value+percent initial\"))\n",
    "fig.add_trace(go.Funnel(\n",
    "    name = 'B',\n",
    "    y = grpB['event_name'],\n",
    "    x = grpB['user_id'],\n",
    "    textinfo = \"value+percent initial\"))\n",
    "fig.update_layout(\n",
    "    title = {\n",
    "        'text' : 'Конверсия событий пользователей по группам А и В',\n",
    "        'x':0.5\n",
    "    }\n",
    ")\n",
    "fig.show()"
   ]
  },
  {
   "cell_type": "markdown",
   "metadata": {},
   "source": [
    "Продполагался рост конверсии группы **В**, но она получилась даже меньше чем у группы **А 28%** к **32%**. Это уже провал, но тестирование доведем до конца. Правда стоит учитывать, что группы уже не равны по колчиеству участников и  по количеству событий.  "
   ]
  },
  {
   "cell_type": "markdown",
   "metadata": {},
   "source": [
    "## Анализ результатов А/В тестирования"
   ]
  },
  {
   "cell_type": "markdown",
   "metadata": {},
   "source": [
    "Создадим вспомогательную таблицы."
   ]
  },
  {
   "cell_type": "code",
   "execution_count": 23,
   "metadata": {},
   "outputs": [],
   "source": [
    "temp = df.pivot_table(index='event_name', values='user_id', columns='group', aggfunc='nunique').reset_index()\n",
    "temp_1 = df.groupby('group',as_index=False).agg({'user_id':'nunique'})"
   ]
  },
  {
   "cell_type": "markdown",
   "metadata": {},
   "source": [
    "Для удобства напишем функцию."
   ]
  },
  {
   "cell_type": "code",
   "execution_count": 24,
   "metadata": {},
   "outputs": [],
   "source": [
    "#определим функцию для проведения теста на равенство долей\n",
    "def z_test(group1, group2, event, alpha=0.05):\n",
    "    successes1 = temp[temp['event_name']==event][group1].iloc[0]\n",
    "    successes2 = temp[temp['event_name']==event][group2].iloc[0]\n",
    "    trials1 = temp_1[temp_1['group']== group1]['user_id'].iloc[0]\n",
    "    trials2 = temp_1[temp_1['group']== group2]['user_id'].iloc[0]\n",
    "    p1 = successes1/trials1\n",
    "    p2 = successes2/trials2\n",
    "    p_combined = (successes1 + successes2) / (trials1 + trials2)\n",
    "    difference = p1 - p2  \n",
    "    z_value = difference / mth.sqrt(p_combined * (1 - p_combined) * (1/trials1 + 1/trials2))\n",
    "    distr = st.norm(0, 1)\n",
    "    #применим поправку Бонферрони\n",
    "    alpha = alpha / 4 \n",
    "    #значение p для двухсторонней гипотезы\n",
    "    p_value = (1 - distr.cdf(abs(z_value))) * 2\n",
    "\n",
    "    print('p-value: ', p_value)\n",
    "\n",
    "    if (p_value < alpha):\n",
    "        print(\"Отвергаем нулевую гипотезу: между долями есть значимая разница для события\", event, 'для групп', group1, 'и', group2)\n",
    "    else:\n",
    "        print(\"Не получилось отвергнуть нулевую гипотезу для события\", event, 'для групп', group1, 'и', group2)  "
   ]
  },
  {
   "cell_type": "markdown",
   "metadata": {},
   "source": [
    "Проверим, есть ли различия в долях пользователей в событиях контрольных группах.\n",
    "\n",
    "- Нулевая гипотеза: Между долями пользователей групп нет статистических различий.\n",
    "\n",
    "- Альтернативная гипотеза: Между долями пользователей групп есть статистические различия."
   ]
  },
  {
   "cell_type": "code",
   "execution_count": 25,
   "metadata": {},
   "outputs": [
    {
     "name": "stdout",
     "output_type": "stream",
     "text": [
      "p-value:  0.0\n",
      "Отвергаем нулевую гипотезу: между долями есть значимая разница для события login для групп A и B\n",
      "p-value:  0.0\n",
      "Отвергаем нулевую гипотезу: между долями есть значимая разница для события product_cart для групп A и B\n",
      "p-value:  0.0\n",
      "Отвергаем нулевую гипотезу: между долями есть значимая разница для события product_page для групп A и B\n",
      "p-value:  0.0\n",
      "Отвергаем нулевую гипотезу: между долями есть значимая разница для события purchase для групп A и B\n"
     ]
    }
   ],
   "source": [
    "for event in temp.event_name.unique():\n",
    "    z_test('A', 'B', event, 0.05)"
   ]
  },
  {
   "cell_type": "markdown",
   "metadata": {},
   "source": [
    "Статистическая разница присутствует у всех событий, но не в ту сторону в которую хотелось бы нам."
   ]
  },
  {
   "cell_type": "markdown",
   "metadata": {},
   "source": [
    "## Вывод"
   ]
  },
  {
   "cell_type": "markdown",
   "metadata": {},
   "source": [
    "Во время обработки таблиц с результатами А/В теста и приведениюх их к ТЗ, было обнаружено:\n",
    "- Обрыв данных по действиям юзеров 30 декабря, а не 4 января как планировалось изначально\n",
    "- Данные включали в себя сведенья о пользователях зарегистрированных после 21 декабря, хотя не должны были\n",
    "- В тесте принимали участие пользователи из нецелевых регионов \n",
    "- Тест проводился параллельно с конкурирующим тестом\n",
    "- Во время теста проводились промоакции, возможно повлиявшие на результат\n",
    "- Группы для теста распределены не коректно\n",
    "- Целевой показатель роста конверсии 10% не достигнут\n",
    "\n",
    "Рекомендации: \n",
    "- Разносить разные тесты по времени, чтобы не допускать пересечений \n",
    "- Провоить А/А тест перед А/В тетсом\n",
    "- На время теста не проводить промоакции "
   ]
  }
 ],
 "metadata": {
  "ExecuteTimeLog": [
   {
    "duration": 1306,
    "start_time": "2023-06-28T22:52:31.886Z"
   },
   {
    "duration": 779,
    "start_time": "2023-06-28T22:54:46.274Z"
   },
   {
    "duration": 21,
    "start_time": "2023-06-28T22:54:56.341Z"
   },
   {
    "duration": 54,
    "start_time": "2023-06-28T22:55:46.855Z"
   },
   {
    "duration": 299,
    "start_time": "2023-06-28T22:55:48.926Z"
   },
   {
    "duration": 22,
    "start_time": "2023-06-28T22:55:51.276Z"
   },
   {
    "duration": 5,
    "start_time": "2023-06-28T22:58:32.482Z"
   },
   {
    "duration": 13,
    "start_time": "2023-06-28T22:59:50.201Z"
   },
   {
    "duration": 123,
    "start_time": "2023-06-28T23:01:03.486Z"
   },
   {
    "duration": 228,
    "start_time": "2023-06-28T23:06:34.471Z"
   },
   {
    "duration": 185,
    "start_time": "2023-06-28T23:06:41.785Z"
   },
   {
    "duration": 188,
    "start_time": "2023-06-28T23:10:06.338Z"
   },
   {
    "duration": 65,
    "start_time": "2023-06-28T23:10:07.950Z"
   },
   {
    "duration": 69,
    "start_time": "2023-06-28T23:10:18.119Z"
   },
   {
    "duration": 73,
    "start_time": "2023-06-28T23:10:23.666Z"
   },
   {
    "duration": 79,
    "start_time": "2023-06-28T23:12:03.119Z"
   },
   {
    "duration": 102,
    "start_time": "2023-06-28T23:13:49.427Z"
   },
   {
    "duration": 98,
    "start_time": "2023-06-28T23:14:11.296Z"
   },
   {
    "duration": 8,
    "start_time": "2023-06-28T23:15:15.459Z"
   },
   {
    "duration": 12,
    "start_time": "2023-06-28T23:18:58.431Z"
   },
   {
    "duration": 100,
    "start_time": "2023-06-28T23:19:40.176Z"
   },
   {
    "duration": 47,
    "start_time": "2023-06-28T23:28:00.052Z"
   },
   {
    "duration": 1197,
    "start_time": "2023-06-28T23:28:06.234Z"
   },
   {
    "duration": 806,
    "start_time": "2023-06-28T23:28:07.432Z"
   },
   {
    "duration": 19,
    "start_time": "2023-06-28T23:28:08.239Z"
   },
   {
    "duration": 3,
    "start_time": "2023-06-28T23:28:08.260Z"
   },
   {
    "duration": 60,
    "start_time": "2023-06-28T23:28:08.265Z"
   },
   {
    "duration": 11,
    "start_time": "2023-06-28T23:28:08.326Z"
   },
   {
    "duration": 299,
    "start_time": "2023-06-28T23:28:08.338Z"
   },
   {
    "duration": 119,
    "start_time": "2023-06-28T23:28:08.639Z"
   },
   {
    "duration": 19,
    "start_time": "2023-06-28T23:28:08.759Z"
   },
   {
    "duration": 223,
    "start_time": "2023-06-28T23:28:08.780Z"
   },
   {
    "duration": 126,
    "start_time": "2023-06-28T23:28:09.004Z"
   },
   {
    "duration": 1194,
    "start_time": "2023-06-28T23:29:07.795Z"
   },
   {
    "duration": 833,
    "start_time": "2023-06-28T23:29:08.990Z"
   },
   {
    "duration": 20,
    "start_time": "2023-06-28T23:29:09.824Z"
   },
   {
    "duration": 4,
    "start_time": "2023-06-28T23:29:09.845Z"
   },
   {
    "duration": 57,
    "start_time": "2023-06-28T23:29:09.851Z"
   },
   {
    "duration": 11,
    "start_time": "2023-06-28T23:29:09.909Z"
   },
   {
    "duration": 312,
    "start_time": "2023-06-28T23:29:09.921Z"
   },
   {
    "duration": 120,
    "start_time": "2023-06-28T23:29:10.234Z"
   },
   {
    "duration": 22,
    "start_time": "2023-06-28T23:29:10.355Z"
   },
   {
    "duration": 222,
    "start_time": "2023-06-28T23:29:10.378Z"
   },
   {
    "duration": 122,
    "start_time": "2023-06-28T23:29:10.601Z"
   },
   {
    "duration": 29,
    "start_time": "2023-06-28T23:29:10.725Z"
   },
   {
    "duration": 8,
    "start_time": "2023-06-28T23:30:38.840Z"
   },
   {
    "duration": 10,
    "start_time": "2023-06-29T00:04:35.601Z"
   },
   {
    "duration": 6,
    "start_time": "2023-06-29T00:06:52.012Z"
   },
   {
    "duration": 6,
    "start_time": "2023-06-29T00:07:18.808Z"
   },
   {
    "duration": 28,
    "start_time": "2023-06-29T00:08:46.347Z"
   },
   {
    "duration": 27,
    "start_time": "2023-06-29T00:10:11.759Z"
   },
   {
    "duration": 27,
    "start_time": "2023-06-29T00:10:16.208Z"
   },
   {
    "duration": 24,
    "start_time": "2023-06-29T00:11:27.084Z"
   },
   {
    "duration": 20,
    "start_time": "2023-06-29T00:12:52.532Z"
   },
   {
    "duration": 22,
    "start_time": "2023-06-29T00:13:44.557Z"
   },
   {
    "duration": 8,
    "start_time": "2023-06-29T00:18:15.539Z"
   },
   {
    "duration": 24,
    "start_time": "2023-06-29T00:18:16.638Z"
   },
   {
    "duration": 20,
    "start_time": "2023-06-29T00:18:17.438Z"
   },
   {
    "duration": 10,
    "start_time": "2023-06-29T00:20:03.543Z"
   },
   {
    "duration": 95,
    "start_time": "2023-06-29T00:27:16.257Z"
   },
   {
    "duration": 14,
    "start_time": "2023-06-29T00:27:16.608Z"
   },
   {
    "duration": 11,
    "start_time": "2023-06-29T00:27:41.768Z"
   },
   {
    "duration": 1150,
    "start_time": "2023-06-29T00:27:47.147Z"
   },
   {
    "duration": 502,
    "start_time": "2023-06-29T00:27:48.299Z"
   },
   {
    "duration": 19,
    "start_time": "2023-06-29T00:27:48.803Z"
   },
   {
    "duration": 4,
    "start_time": "2023-06-29T00:27:48.824Z"
   },
   {
    "duration": 69,
    "start_time": "2023-06-29T00:27:48.830Z"
   },
   {
    "duration": 11,
    "start_time": "2023-06-29T00:27:48.901Z"
   },
   {
    "duration": 324,
    "start_time": "2023-06-29T00:27:48.913Z"
   },
   {
    "duration": 128,
    "start_time": "2023-06-29T00:27:49.238Z"
   },
   {
    "duration": 37,
    "start_time": "2023-06-29T00:27:49.368Z"
   },
   {
    "duration": 6,
    "start_time": "2023-06-29T00:27:49.408Z"
   },
   {
    "duration": 23,
    "start_time": "2023-06-29T00:27:49.415Z"
   },
   {
    "duration": 37,
    "start_time": "2023-06-29T00:27:49.440Z"
   },
   {
    "duration": 8,
    "start_time": "2023-06-29T00:27:49.478Z"
   },
   {
    "duration": 30,
    "start_time": "2023-06-29T00:27:49.487Z"
   },
   {
    "duration": 18,
    "start_time": "2023-06-29T00:27:49.519Z"
   },
   {
    "duration": 9,
    "start_time": "2023-06-29T00:27:49.538Z"
   },
   {
    "duration": 118,
    "start_time": "2023-06-29T00:27:49.549Z"
   },
   {
    "duration": 10,
    "start_time": "2023-06-29T00:27:49.669Z"
   },
   {
    "duration": 1102,
    "start_time": "2023-06-29T00:29:12.774Z"
   },
   {
    "duration": 495,
    "start_time": "2023-06-29T00:29:13.878Z"
   },
   {
    "duration": 19,
    "start_time": "2023-06-29T00:29:14.374Z"
   },
   {
    "duration": 9,
    "start_time": "2023-06-29T00:29:14.395Z"
   },
   {
    "duration": 62,
    "start_time": "2023-06-29T00:29:14.405Z"
   },
   {
    "duration": 11,
    "start_time": "2023-06-29T00:29:14.468Z"
   },
   {
    "duration": 313,
    "start_time": "2023-06-29T00:29:14.481Z"
   },
   {
    "duration": 126,
    "start_time": "2023-06-29T00:29:14.799Z"
   },
   {
    "duration": 21,
    "start_time": "2023-06-29T00:29:14.926Z"
   },
   {
    "duration": 13,
    "start_time": "2023-06-29T00:29:14.949Z"
   },
   {
    "duration": 21,
    "start_time": "2023-06-29T00:29:14.963Z"
   },
   {
    "duration": 40,
    "start_time": "2023-06-29T00:29:14.986Z"
   },
   {
    "duration": 7,
    "start_time": "2023-06-29T00:29:15.028Z"
   },
   {
    "duration": 46,
    "start_time": "2023-06-29T00:29:15.037Z"
   },
   {
    "duration": 19,
    "start_time": "2023-06-29T00:29:15.084Z"
   },
   {
    "duration": 32,
    "start_time": "2023-06-29T00:29:15.104Z"
   },
   {
    "duration": 134,
    "start_time": "2023-06-29T00:29:15.137Z"
   },
   {
    "duration": 10,
    "start_time": "2023-06-29T00:29:15.272Z"
   },
   {
    "duration": 1120,
    "start_time": "2023-06-29T00:29:29.479Z"
   },
   {
    "duration": 493,
    "start_time": "2023-06-29T00:29:30.600Z"
   },
   {
    "duration": 19,
    "start_time": "2023-06-29T00:29:31.095Z"
   },
   {
    "duration": 35,
    "start_time": "2023-06-29T00:29:31.115Z"
   },
   {
    "duration": 100,
    "start_time": "2023-06-29T00:29:31.151Z"
   },
   {
    "duration": 12,
    "start_time": "2023-06-29T00:29:31.252Z"
   },
   {
    "duration": 337,
    "start_time": "2023-06-29T00:29:31.265Z"
   },
   {
    "duration": 136,
    "start_time": "2023-06-29T00:29:31.603Z"
   },
   {
    "duration": 20,
    "start_time": "2023-06-29T00:29:31.740Z"
   },
   {
    "duration": 29,
    "start_time": "2023-06-29T00:29:31.762Z"
   },
   {
    "duration": 18,
    "start_time": "2023-06-29T00:29:31.792Z"
   },
   {
    "duration": 62,
    "start_time": "2023-06-29T00:29:31.811Z"
   },
   {
    "duration": 8,
    "start_time": "2023-06-29T00:29:31.874Z"
   },
   {
    "duration": 58,
    "start_time": "2023-06-29T00:29:31.884Z"
   },
   {
    "duration": 29,
    "start_time": "2023-06-29T00:29:31.943Z"
   },
   {
    "duration": 30,
    "start_time": "2023-06-29T00:29:31.974Z"
   },
   {
    "duration": 228,
    "start_time": "2023-06-29T00:29:32.006Z"
   },
   {
    "duration": 11,
    "start_time": "2023-06-29T00:29:32.235Z"
   },
   {
    "duration": 1127,
    "start_time": "2023-06-29T00:30:52.848Z"
   },
   {
    "duration": 490,
    "start_time": "2023-06-29T00:30:53.977Z"
   },
   {
    "duration": 21,
    "start_time": "2023-06-29T00:30:54.468Z"
   },
   {
    "duration": 12,
    "start_time": "2023-06-29T00:30:54.491Z"
   },
   {
    "duration": 70,
    "start_time": "2023-06-29T00:30:54.504Z"
   },
   {
    "duration": 12,
    "start_time": "2023-06-29T00:30:54.576Z"
   },
   {
    "duration": 319,
    "start_time": "2023-06-29T00:30:54.589Z"
   },
   {
    "duration": 128,
    "start_time": "2023-06-29T00:30:54.910Z"
   },
   {
    "duration": 23,
    "start_time": "2023-06-29T00:30:55.039Z"
   },
   {
    "duration": 6,
    "start_time": "2023-06-29T00:30:55.064Z"
   },
   {
    "duration": 30,
    "start_time": "2023-06-29T00:30:55.072Z"
   },
   {
    "duration": 53,
    "start_time": "2023-06-29T00:30:55.103Z"
   },
   {
    "duration": 8,
    "start_time": "2023-06-29T00:30:55.158Z"
   },
   {
    "duration": 34,
    "start_time": "2023-06-29T00:30:55.167Z"
   },
   {
    "duration": 18,
    "start_time": "2023-06-29T00:30:55.202Z"
   },
   {
    "duration": 8,
    "start_time": "2023-06-29T00:30:55.222Z"
   },
   {
    "duration": 109,
    "start_time": "2023-06-29T00:30:55.232Z"
   },
   {
    "duration": 13,
    "start_time": "2023-06-29T00:30:55.343Z"
   },
   {
    "duration": 143,
    "start_time": "2023-06-29T00:33:08.917Z"
   },
   {
    "duration": 164,
    "start_time": "2023-06-29T00:33:16.123Z"
   },
   {
    "duration": 62,
    "start_time": "2023-06-29T00:33:25.197Z"
   },
   {
    "duration": 202,
    "start_time": "2023-06-29T00:33:30.225Z"
   },
   {
    "duration": 2468,
    "start_time": "2023-06-29T00:33:54.846Z"
   },
   {
    "duration": 1127,
    "start_time": "2023-06-29T00:34:18.595Z"
   },
   {
    "duration": 786,
    "start_time": "2023-06-29T00:34:19.723Z"
   },
   {
    "duration": 19,
    "start_time": "2023-06-29T00:34:20.511Z"
   },
   {
    "duration": 5,
    "start_time": "2023-06-29T00:34:20.531Z"
   },
   {
    "duration": 54,
    "start_time": "2023-06-29T00:34:20.537Z"
   },
   {
    "duration": 11,
    "start_time": "2023-06-29T00:34:20.599Z"
   },
   {
    "duration": 331,
    "start_time": "2023-06-29T00:34:20.611Z"
   },
   {
    "duration": 126,
    "start_time": "2023-06-29T00:34:20.944Z"
   },
   {
    "duration": 36,
    "start_time": "2023-06-29T00:34:21.071Z"
   },
   {
    "duration": 6,
    "start_time": "2023-06-29T00:34:21.109Z"
   },
   {
    "duration": 7,
    "start_time": "2023-06-29T00:34:21.116Z"
   },
   {
    "duration": 33,
    "start_time": "2023-06-29T00:34:21.125Z"
   },
   {
    "duration": 9,
    "start_time": "2023-06-29T00:34:21.159Z"
   },
   {
    "duration": 50,
    "start_time": "2023-06-29T00:34:21.169Z"
   },
   {
    "duration": 18,
    "start_time": "2023-06-29T00:34:21.221Z"
   },
   {
    "duration": 10,
    "start_time": "2023-06-29T00:34:21.241Z"
   },
   {
    "duration": 130,
    "start_time": "2023-06-29T00:34:21.252Z"
   },
   {
    "duration": 20,
    "start_time": "2023-06-29T00:34:21.384Z"
   },
   {
    "duration": 249,
    "start_time": "2023-06-29T00:36:39.866Z"
   },
   {
    "duration": 1117,
    "start_time": "2023-06-29T00:36:47.990Z"
   },
   {
    "duration": 497,
    "start_time": "2023-06-29T00:36:49.109Z"
   },
   {
    "duration": 18,
    "start_time": "2023-06-29T00:36:49.608Z"
   },
   {
    "duration": 4,
    "start_time": "2023-06-29T00:36:49.628Z"
   },
   {
    "duration": 68,
    "start_time": "2023-06-29T00:36:49.634Z"
   },
   {
    "duration": 11,
    "start_time": "2023-06-29T00:36:49.704Z"
   },
   {
    "duration": 320,
    "start_time": "2023-06-29T00:36:49.716Z"
   },
   {
    "duration": 126,
    "start_time": "2023-06-29T00:36:50.037Z"
   },
   {
    "duration": 36,
    "start_time": "2023-06-29T00:36:50.165Z"
   },
   {
    "duration": 5,
    "start_time": "2023-06-29T00:36:50.203Z"
   },
   {
    "duration": 7,
    "start_time": "2023-06-29T00:36:50.209Z"
   },
   {
    "duration": 37,
    "start_time": "2023-06-29T00:36:50.217Z"
   },
   {
    "duration": 8,
    "start_time": "2023-06-29T00:36:50.256Z"
   },
   {
    "duration": 53,
    "start_time": "2023-06-29T00:36:50.265Z"
   },
   {
    "duration": 19,
    "start_time": "2023-06-29T00:36:50.320Z"
   },
   {
    "duration": 9,
    "start_time": "2023-06-29T00:36:50.340Z"
   },
   {
    "duration": 138,
    "start_time": "2023-06-29T00:36:50.351Z"
   },
   {
    "duration": 1130,
    "start_time": "2023-06-29T00:43:38.266Z"
   },
   {
    "duration": 516,
    "start_time": "2023-06-29T00:43:39.399Z"
   },
   {
    "duration": 18,
    "start_time": "2023-06-29T00:43:39.916Z"
   },
   {
    "duration": 19,
    "start_time": "2023-06-29T00:43:39.936Z"
   },
   {
    "duration": 53,
    "start_time": "2023-06-29T00:43:39.956Z"
   },
   {
    "duration": 10,
    "start_time": "2023-06-29T00:43:40.010Z"
   },
   {
    "duration": 326,
    "start_time": "2023-06-29T00:43:40.022Z"
   },
   {
    "duration": 121,
    "start_time": "2023-06-29T00:43:40.350Z"
   },
   {
    "duration": 27,
    "start_time": "2023-06-29T00:43:40.473Z"
   },
   {
    "duration": 5,
    "start_time": "2023-06-29T00:43:40.502Z"
   },
   {
    "duration": 8,
    "start_time": "2023-06-29T00:43:40.508Z"
   },
   {
    "duration": 35,
    "start_time": "2023-06-29T00:43:40.517Z"
   },
   {
    "duration": 8,
    "start_time": "2023-06-29T00:43:40.554Z"
   },
   {
    "duration": 43,
    "start_time": "2023-06-29T00:43:40.563Z"
   },
   {
    "duration": 20,
    "start_time": "2023-06-29T00:43:40.607Z"
   },
   {
    "duration": 9,
    "start_time": "2023-06-29T00:43:40.628Z"
   },
   {
    "duration": 134,
    "start_time": "2023-06-29T00:43:40.639Z"
   },
   {
    "duration": 9,
    "start_time": "2023-06-29T00:47:27.256Z"
   },
   {
    "duration": 9,
    "start_time": "2023-06-29T00:47:51.407Z"
   },
   {
    "duration": 10,
    "start_time": "2023-06-29T00:48:13.386Z"
   },
   {
    "duration": 13,
    "start_time": "2023-06-29T00:48:22.198Z"
   },
   {
    "duration": 19,
    "start_time": "2023-06-29T00:50:45.466Z"
   },
   {
    "duration": 608,
    "start_time": "2023-06-29T00:53:29.839Z"
   },
   {
    "duration": 492,
    "start_time": "2023-06-29T00:54:20.149Z"
   },
   {
    "duration": 3,
    "start_time": "2023-06-29T00:58:32.880Z"
   },
   {
    "duration": 251,
    "start_time": "2023-06-29T01:00:18.321Z"
   },
   {
    "duration": 20,
    "start_time": "2023-06-29T01:06:37.761Z"
   },
   {
    "duration": 17,
    "start_time": "2023-06-29T01:13:47.411Z"
   },
   {
    "duration": 5,
    "start_time": "2023-06-29T01:13:50.893Z"
   },
   {
    "duration": 13,
    "start_time": "2023-06-29T01:13:52.030Z"
   },
   {
    "duration": 27,
    "start_time": "2023-06-29T01:13:56.806Z"
   },
   {
    "duration": 5,
    "start_time": "2023-06-29T01:13:57.277Z"
   },
   {
    "duration": 18,
    "start_time": "2023-06-29T01:13:58.028Z"
   },
   {
    "duration": 1081,
    "start_time": "2023-06-29T01:23:32.439Z"
   },
   {
    "duration": 481,
    "start_time": "2023-06-29T01:23:33.521Z"
   },
   {
    "duration": 17,
    "start_time": "2023-06-29T01:23:34.005Z"
   },
   {
    "duration": 4,
    "start_time": "2023-06-29T01:23:34.024Z"
   },
   {
    "duration": 70,
    "start_time": "2023-06-29T01:23:34.029Z"
   },
   {
    "duration": 11,
    "start_time": "2023-06-29T01:23:34.101Z"
   },
   {
    "duration": 301,
    "start_time": "2023-06-29T01:23:34.113Z"
   },
   {
    "duration": 122,
    "start_time": "2023-06-29T01:23:34.416Z"
   },
   {
    "duration": 23,
    "start_time": "2023-06-29T01:23:34.540Z"
   },
   {
    "duration": 38,
    "start_time": "2023-06-29T01:23:34.565Z"
   },
   {
    "duration": 6,
    "start_time": "2023-06-29T01:23:34.605Z"
   },
   {
    "duration": 32,
    "start_time": "2023-06-29T01:23:34.612Z"
   },
   {
    "duration": 7,
    "start_time": "2023-06-29T01:23:34.647Z"
   },
   {
    "duration": 27,
    "start_time": "2023-06-29T01:23:34.655Z"
   },
   {
    "duration": 31,
    "start_time": "2023-06-29T01:23:34.684Z"
   },
   {
    "duration": 9,
    "start_time": "2023-06-29T01:23:34.716Z"
   },
   {
    "duration": 126,
    "start_time": "2023-06-29T01:23:34.726Z"
   },
   {
    "duration": 11,
    "start_time": "2023-06-29T01:23:34.854Z"
   },
   {
    "duration": 16,
    "start_time": "2023-06-29T01:23:34.866Z"
   },
   {
    "duration": 568,
    "start_time": "2023-06-29T01:23:34.899Z"
   },
   {
    "duration": 152,
    "start_time": "2023-06-29T01:23:35.468Z"
   },
   {
    "duration": 23,
    "start_time": "2023-06-29T01:23:35.621Z"
   },
   {
    "duration": 5,
    "start_time": "2023-06-29T01:23:35.646Z"
   },
   {
    "duration": 60,
    "start_time": "2023-06-29T01:23:35.652Z"
   },
   {
    "duration": 10,
    "start_time": "2023-06-29T01:45:19.195Z"
   },
   {
    "duration": 5,
    "start_time": "2023-06-29T01:46:02.048Z"
   },
   {
    "duration": 171,
    "start_time": "2023-06-29T01:47:14.768Z"
   },
   {
    "duration": 1196,
    "start_time": "2023-06-30T00:57:25.388Z"
   },
   {
    "duration": 591,
    "start_time": "2023-06-30T00:57:26.586Z"
   },
   {
    "duration": 23,
    "start_time": "2023-06-30T00:57:27.179Z"
   },
   {
    "duration": 5,
    "start_time": "2023-06-30T00:57:27.204Z"
   },
   {
    "duration": 75,
    "start_time": "2023-06-30T00:57:27.211Z"
   },
   {
    "duration": 12,
    "start_time": "2023-06-30T00:57:27.288Z"
   },
   {
    "duration": 388,
    "start_time": "2023-06-30T00:57:27.301Z"
   },
   {
    "duration": 129,
    "start_time": "2023-06-30T00:57:27.691Z"
   },
   {
    "duration": 39,
    "start_time": "2023-06-30T00:57:27.821Z"
   },
   {
    "duration": 7,
    "start_time": "2023-06-30T00:57:27.861Z"
   },
   {
    "duration": 10,
    "start_time": "2023-06-30T00:57:27.869Z"
   },
   {
    "duration": 43,
    "start_time": "2023-06-30T00:57:27.881Z"
   },
   {
    "duration": 10,
    "start_time": "2023-06-30T00:57:27.925Z"
   },
   {
    "duration": 33,
    "start_time": "2023-06-30T00:57:27.960Z"
   },
   {
    "duration": 21,
    "start_time": "2023-06-30T00:57:27.994Z"
   },
   {
    "duration": 11,
    "start_time": "2023-06-30T00:57:28.016Z"
   },
   {
    "duration": 171,
    "start_time": "2023-06-30T00:57:28.029Z"
   },
   {
    "duration": 20,
    "start_time": "2023-06-30T00:57:28.201Z"
   },
   {
    "duration": 13,
    "start_time": "2023-06-30T00:57:28.222Z"
   },
   {
    "duration": 36,
    "start_time": "2023-06-30T00:57:28.236Z"
   },
   {
    "duration": 630,
    "start_time": "2023-06-30T00:57:28.273Z"
   },
   {
    "duration": 327,
    "start_time": "2023-06-30T00:57:28.904Z"
   },
   {
    "duration": 42,
    "start_time": "2023-06-30T00:57:29.234Z"
   },
   {
    "duration": 7,
    "start_time": "2023-06-30T00:57:29.279Z"
   },
   {
    "duration": 79,
    "start_time": "2023-06-30T00:57:29.288Z"
   },
   {
    "duration": 1292,
    "start_time": "2023-06-30T02:18:31.563Z"
   },
   {
    "duration": 901,
    "start_time": "2023-06-30T02:18:32.857Z"
   },
   {
    "duration": 21,
    "start_time": "2023-06-30T02:18:33.760Z"
   },
   {
    "duration": 5,
    "start_time": "2023-06-30T02:18:33.783Z"
   },
   {
    "duration": 62,
    "start_time": "2023-06-30T02:18:33.790Z"
   },
   {
    "duration": 11,
    "start_time": "2023-06-30T02:18:33.854Z"
   },
   {
    "duration": 385,
    "start_time": "2023-06-30T02:18:33.867Z"
   },
   {
    "duration": 135,
    "start_time": "2023-06-30T02:18:34.254Z"
   },
   {
    "duration": 23,
    "start_time": "2023-06-30T02:18:34.390Z"
   },
   {
    "duration": 6,
    "start_time": "2023-06-30T02:18:34.465Z"
   },
   {
    "duration": 7,
    "start_time": "2023-06-30T02:18:35.313Z"
   },
   {
    "duration": 37,
    "start_time": "2023-06-30T02:18:35.721Z"
   },
   {
    "duration": 7,
    "start_time": "2023-06-30T02:18:36.117Z"
   },
   {
    "duration": 31,
    "start_time": "2023-06-30T02:18:36.705Z"
   },
   {
    "duration": 21,
    "start_time": "2023-06-30T02:18:36.913Z"
   },
   {
    "duration": 15,
    "start_time": "2023-06-30T02:18:37.337Z"
   },
   {
    "duration": 157,
    "start_time": "2023-06-30T02:18:37.757Z"
   },
   {
    "duration": 11,
    "start_time": "2023-06-30T02:18:49.893Z"
   },
   {
    "duration": 12,
    "start_time": "2023-06-30T02:19:32.817Z"
   },
   {
    "duration": 13,
    "start_time": "2023-06-30T02:20:01.014Z"
   },
   {
    "duration": 1074,
    "start_time": "2023-06-30T02:22:30.999Z"
   },
   {
    "duration": 13,
    "start_time": "2023-06-30T02:22:40.269Z"
   },
   {
    "duration": 92,
    "start_time": "2023-06-30T02:24:39.726Z"
   },
   {
    "duration": 116,
    "start_time": "2023-06-30T02:25:34.625Z"
   },
   {
    "duration": 89,
    "start_time": "2023-06-30T02:25:41.506Z"
   },
   {
    "duration": 149,
    "start_time": "2023-06-30T02:26:11.325Z"
   },
   {
    "duration": 91,
    "start_time": "2023-06-30T02:26:20.525Z"
   },
   {
    "duration": 91,
    "start_time": "2023-06-30T02:27:19.050Z"
   },
   {
    "duration": 86,
    "start_time": "2023-06-30T02:28:05.671Z"
   },
   {
    "duration": 84,
    "start_time": "2023-06-30T02:28:40.038Z"
   },
   {
    "duration": 137,
    "start_time": "2023-06-30T02:28:46.558Z"
   },
   {
    "duration": 1146,
    "start_time": "2023-06-30T02:29:08.957Z"
   },
   {
    "duration": 550,
    "start_time": "2023-06-30T02:29:10.105Z"
   },
   {
    "duration": 20,
    "start_time": "2023-06-30T02:29:10.657Z"
   },
   {
    "duration": 5,
    "start_time": "2023-06-30T02:29:10.678Z"
   },
   {
    "duration": 62,
    "start_time": "2023-06-30T02:29:10.684Z"
   },
   {
    "duration": 12,
    "start_time": "2023-06-30T02:29:10.747Z"
   },
   {
    "duration": 513,
    "start_time": "2023-06-30T02:29:10.761Z"
   },
   {
    "duration": 157,
    "start_time": "2023-06-30T02:29:11.275Z"
   },
   {
    "duration": 22,
    "start_time": "2023-06-30T02:29:11.434Z"
   },
   {
    "duration": 5,
    "start_time": "2023-06-30T02:29:11.458Z"
   },
   {
    "duration": 10,
    "start_time": "2023-06-30T02:29:11.464Z"
   },
   {
    "duration": 87,
    "start_time": "2023-06-30T02:29:11.476Z"
   },
   {
    "duration": 8,
    "start_time": "2023-06-30T02:29:11.564Z"
   },
   {
    "duration": 82,
    "start_time": "2023-06-30T02:29:11.574Z"
   },
   {
    "duration": 75,
    "start_time": "2023-06-30T02:29:11.658Z"
   },
   {
    "duration": 10,
    "start_time": "2023-06-30T02:29:11.734Z"
   },
   {
    "duration": 229,
    "start_time": "2023-06-30T02:29:11.745Z"
   },
   {
    "duration": 194,
    "start_time": "2023-06-30T02:29:11.975Z"
   },
   {
    "duration": 62,
    "start_time": "2023-06-30T02:29:12.170Z"
   },
   {
    "duration": 17,
    "start_time": "2023-06-30T02:29:12.233Z"
   },
   {
    "duration": 1023,
    "start_time": "2023-06-30T02:29:12.251Z"
   },
   {
    "duration": 223,
    "start_time": "2023-06-30T02:29:13.275Z"
   },
   {
    "duration": 38,
    "start_time": "2023-06-30T02:29:13.499Z"
   },
   {
    "duration": 5,
    "start_time": "2023-06-30T02:29:13.539Z"
   },
   {
    "duration": 20,
    "start_time": "2023-06-30T02:29:13.545Z"
   },
   {
    "duration": 45,
    "start_time": "2023-06-30T02:33:13.499Z"
   },
   {
    "duration": 1110,
    "start_time": "2023-06-30T02:33:19.034Z"
   },
   {
    "duration": 565,
    "start_time": "2023-06-30T02:33:20.146Z"
   },
   {
    "duration": 24,
    "start_time": "2023-06-30T02:33:20.713Z"
   },
   {
    "duration": 9,
    "start_time": "2023-06-30T02:33:20.739Z"
   },
   {
    "duration": 81,
    "start_time": "2023-06-30T02:33:20.749Z"
   },
   {
    "duration": 13,
    "start_time": "2023-06-30T02:33:20.832Z"
   },
   {
    "duration": 721,
    "start_time": "2023-06-30T02:33:20.846Z"
   },
   {
    "duration": 289,
    "start_time": "2023-06-30T02:33:21.568Z"
   },
   {
    "duration": 74,
    "start_time": "2023-06-30T02:33:21.858Z"
   },
   {
    "duration": 6,
    "start_time": "2023-06-30T02:33:21.934Z"
   },
   {
    "duration": 27,
    "start_time": "2023-06-30T02:33:21.941Z"
   },
   {
    "duration": 86,
    "start_time": "2023-06-30T02:33:21.970Z"
   },
   {
    "duration": 7,
    "start_time": "2023-06-30T02:33:22.058Z"
   },
   {
    "duration": 83,
    "start_time": "2023-06-30T02:33:22.067Z"
   },
   {
    "duration": 19,
    "start_time": "2023-06-30T02:33:22.151Z"
   },
   {
    "duration": 61,
    "start_time": "2023-06-30T02:33:22.172Z"
   },
   {
    "duration": 241,
    "start_time": "2023-06-30T02:33:22.235Z"
   },
   {
    "duration": 153,
    "start_time": "2023-06-30T02:33:22.478Z"
   },
   {
    "duration": 12,
    "start_time": "2023-06-30T02:33:22.633Z"
   },
   {
    "duration": 16,
    "start_time": "2023-06-30T02:33:22.646Z"
   },
   {
    "duration": 604,
    "start_time": "2023-06-30T02:33:22.663Z"
   },
   {
    "duration": 243,
    "start_time": "2023-06-30T02:33:23.269Z"
   },
   {
    "duration": 22,
    "start_time": "2023-06-30T02:33:23.513Z"
   },
   {
    "duration": 10,
    "start_time": "2023-06-30T02:33:23.536Z"
   },
   {
    "duration": 22,
    "start_time": "2023-06-30T02:33:23.547Z"
   },
   {
    "duration": 50,
    "start_time": "2024-06-24T20:03:13.138Z"
   },
   {
    "duration": 1499,
    "start_time": "2024-06-24T20:03:25.280Z"
   },
   {
    "duration": 1929,
    "start_time": "2024-06-24T20:03:26.781Z"
   },
   {
    "duration": 25,
    "start_time": "2024-06-24T20:03:28.713Z"
   },
   {
    "duration": 5,
    "start_time": "2024-06-24T20:03:28.741Z"
   },
   {
    "duration": 85,
    "start_time": "2024-06-24T20:03:28.747Z"
   },
   {
    "duration": 14,
    "start_time": "2024-06-24T20:03:28.833Z"
   },
   {
    "duration": 425,
    "start_time": "2024-06-24T20:03:28.848Z"
   },
   {
    "duration": 145,
    "start_time": "2024-06-24T20:03:29.275Z"
   },
   {
    "duration": 24,
    "start_time": "2024-06-24T20:03:29.422Z"
   },
   {
    "duration": 5,
    "start_time": "2024-06-24T20:03:29.448Z"
   },
   {
    "duration": 9,
    "start_time": "2024-06-24T20:03:29.455Z"
   },
   {
    "duration": 61,
    "start_time": "2024-06-24T20:03:29.465Z"
   },
   {
    "duration": 8,
    "start_time": "2024-06-24T20:03:29.529Z"
   },
   {
    "duration": 28,
    "start_time": "2024-06-24T20:03:29.539Z"
   },
   {
    "duration": 36,
    "start_time": "2024-06-24T20:03:29.569Z"
   },
   {
    "duration": 16,
    "start_time": "2024-06-24T20:03:29.607Z"
   },
   {
    "duration": 296,
    "start_time": "2024-06-24T20:03:29.625Z"
   },
   {
    "duration": 192,
    "start_time": "2024-06-24T20:03:29.923Z"
   },
   {
    "duration": 13,
    "start_time": "2024-06-24T20:03:30.117Z"
   },
   {
    "duration": 85,
    "start_time": "2024-06-24T20:03:30.132Z"
   },
   {
    "duration": 1310,
    "start_time": "2024-06-24T20:03:30.218Z"
   },
   {
    "duration": 228,
    "start_time": "2024-06-24T20:03:31.529Z"
   },
   {
    "duration": 48,
    "start_time": "2024-06-24T20:03:31.759Z"
   },
   {
    "duration": 6,
    "start_time": "2024-06-24T20:03:31.808Z"
   },
   {
    "duration": 23,
    "start_time": "2024-06-24T20:03:31.816Z"
   },
   {
    "duration": 3609,
    "start_time": "2024-06-24T22:15:51.714Z"
   },
   {
    "duration": 632,
    "start_time": "2024-06-24T22:15:55.325Z"
   },
   {
    "duration": 24,
    "start_time": "2024-06-24T22:15:55.959Z"
   },
   {
    "duration": 5,
    "start_time": "2024-06-24T22:15:55.985Z"
   },
   {
    "duration": 67,
    "start_time": "2024-06-24T22:15:55.992Z"
   },
   {
    "duration": 12,
    "start_time": "2024-06-24T22:15:56.060Z"
   },
   {
    "duration": 432,
    "start_time": "2024-06-24T22:15:56.074Z"
   },
   {
    "duration": 147,
    "start_time": "2024-06-24T22:15:56.508Z"
   },
   {
    "duration": 23,
    "start_time": "2024-06-24T22:15:56.657Z"
   },
   {
    "duration": 6,
    "start_time": "2024-06-24T22:15:56.700Z"
   },
   {
    "duration": 7,
    "start_time": "2024-06-24T22:15:56.707Z"
   },
   {
    "duration": 36,
    "start_time": "2024-06-24T22:15:56.716Z"
   },
   {
    "duration": 8,
    "start_time": "2024-06-24T22:15:56.753Z"
   },
   {
    "duration": 50,
    "start_time": "2024-06-24T22:15:56.763Z"
   },
   {
    "duration": 20,
    "start_time": "2024-06-24T22:15:56.814Z"
   },
   {
    "duration": 10,
    "start_time": "2024-06-24T22:15:56.836Z"
   },
   {
    "duration": 153,
    "start_time": "2024-06-24T22:15:56.848Z"
   },
   {
    "duration": 82,
    "start_time": "2024-06-24T22:15:57.003Z"
   },
   {
    "duration": 23,
    "start_time": "2024-06-24T22:15:57.087Z"
   },
   {
    "duration": 18,
    "start_time": "2024-06-24T22:15:57.112Z"
   },
   {
    "duration": 685,
    "start_time": "2024-06-24T22:15:57.132Z"
   },
   {
    "duration": 943,
    "start_time": "2024-06-24T22:15:57.818Z"
   },
   {
    "duration": 51,
    "start_time": "2024-06-24T22:15:58.763Z"
   },
   {
    "duration": 5,
    "start_time": "2024-06-24T22:15:58.816Z"
   },
   {
    "duration": 32,
    "start_time": "2024-06-24T22:15:58.823Z"
   }
  ],
  "kernelspec": {
   "display_name": "Python 3 (ipykernel)",
   "language": "python",
   "name": "python3"
  },
  "language_info": {
   "codemirror_mode": {
    "name": "ipython",
    "version": 3
   },
   "file_extension": ".py",
   "mimetype": "text/x-python",
   "name": "python",
   "nbconvert_exporter": "python",
   "pygments_lexer": "ipython3",
   "version": "3.10.9"
  },
  "toc": {
   "base_numbering": 1,
   "nav_menu": {},
   "number_sections": true,
   "sideBar": true,
   "skip_h1_title": true,
   "title_cell": "Содержание",
   "title_sidebar": "Contents",
   "toc_cell": true,
   "toc_position": {
    "height": "calc(100% - 180px)",
    "left": "10px",
    "top": "150px",
    "width": "165px"
   },
   "toc_section_display": true,
   "toc_window_display": true
  }
 },
 "nbformat": 4,
 "nbformat_minor": 2
}

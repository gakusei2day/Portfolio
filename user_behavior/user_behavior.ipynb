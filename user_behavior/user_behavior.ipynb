{
 "cells": [
  {
   "cell_type": "markdown",
   "metadata": {},
   "source": [
    " # Корзиночка. Шрифты: A/A/B тест "
   ]
  },
  {
   "cell_type": "markdown",
   "metadata": {
    "toc": true
   },
   "source": [
    "<h1>Содержание<span class=\"tocSkip\"></span></h1>\n",
    "<div class=\"toc\"><ul class=\"toc-item\"><li><span><a href=\"#Введение\" data-toc-modified-id=\"Введение-1\"><span class=\"toc-item-num\">1&nbsp;&nbsp;</span>Введение</a></span></li><li><span><a href=\"#Распаковка-данных\" data-toc-modified-id=\"Распаковка-данных-2\"><span class=\"toc-item-num\">2&nbsp;&nbsp;</span>Распаковка данных</a></span></li><li><span><a href=\"#Предобработка-данных\" data-toc-modified-id=\"Предобработка-данных-3\"><span class=\"toc-item-num\">3&nbsp;&nbsp;</span>Предобработка данных</a></span></li><li><span><a href=\"#Изучение-и-проверка-данных\" data-toc-modified-id=\"Изучение-и-проверка-данных-4\"><span class=\"toc-item-num\">4&nbsp;&nbsp;</span>Изучение и проверка данных</a></span><ul class=\"toc-item\"><li><span><a href=\"#Узнаем-какие-события-отображены-в-логе\" data-toc-modified-id=\"Узнаем-какие-события-отображены-в-логе-4.1\"><span class=\"toc-item-num\">4.1&nbsp;&nbsp;</span>Узнаем какие события отображены в логе</a></span></li><li><span><a href=\"#Узнаем-количество-уникальных-пользователей-в-логе\" data-toc-modified-id=\"Узнаем-количество-уникальных-пользователей-в-логе-4.2\"><span class=\"toc-item-num\">4.2&nbsp;&nbsp;</span>Узнаем количество уникальных пользователей в логе</a></span></li><li><span><a href=\"#Узнаем-среднее-количество-событий-на-пользоватлея\" data-toc-modified-id=\"Узнаем-среднее-количество-событий-на-пользоватлея-4.3\"><span class=\"toc-item-num\">4.3&nbsp;&nbsp;</span>Узнаем среднее количество событий на пользоватлея</a></span></li><li><span><a href=\"#Узнаем-за-какие-даты-у-нас-есть-логи\" data-toc-modified-id=\"Узнаем-за-какие-даты-у-нас-есть-логи-4.4\"><span class=\"toc-item-num\">4.4&nbsp;&nbsp;</span>Узнаем за какие даты у нас есть логи</a></span></li><li><span><a href=\"#Узнаем-какие-события-остались-после-чистки\" data-toc-modified-id=\"Узнаем-какие-события-остались-после-чистки-4.5\"><span class=\"toc-item-num\">4.5&nbsp;&nbsp;</span>Узнаем какие события остались после чистки</a></span></li><li><span><a href=\"#Проверим-что-каждая-группа-исследования-имеет-пользователей\" data-toc-modified-id=\"Проверим-что-каждая-группа-исследования-имеет-пользователей-4.6\"><span class=\"toc-item-num\">4.6&nbsp;&nbsp;</span>Проверим что каждая группа исследования имеет пользователей</a></span></li></ul></li><li><span><a href=\"#Изучение-воронки-событий\" data-toc-modified-id=\"Изучение-воронки-событий-5\"><span class=\"toc-item-num\">5&nbsp;&nbsp;</span>Изучение воронки событий</a></span><ul class=\"toc-item\"><li><span><a href=\"#Смотрим-частотность-событий\" data-toc-modified-id=\"Смотрим-частотность-событий-5.1\"><span class=\"toc-item-num\">5.1&nbsp;&nbsp;</span>Смотрим частотность событий</a></span></li><li><span><a href=\"#Смотрим-на-популярность-событий\" data-toc-modified-id=\"Смотрим-на-популярность-событий-5.2\"><span class=\"toc-item-num\">5.2&nbsp;&nbsp;</span>Смотрим на популярность событий</a></span></li><li><span><a href=\"#Конструируем-воронку-событий\" data-toc-modified-id=\"Конструируем-воронку-событий-5.3\"><span class=\"toc-item-num\">5.3&nbsp;&nbsp;</span>Конструируем воронку событий</a></span></li><li><span><a href=\"#Посчитаем-общую-конверсию-и-рассмотрим-воронку-продаж\" data-toc-modified-id=\"Посчитаем-общую-конверсию-и-рассмотрим-воронку-продаж-5.4\"><span class=\"toc-item-num\">5.4&nbsp;&nbsp;</span>Посчитаем общую конверсию и рассмотрим воронку продаж</a></span></li></ul></li><li><span><a href=\"#Результаты-эксперимента\" data-toc-modified-id=\"Результаты-эксперимента-6\"><span class=\"toc-item-num\">6&nbsp;&nbsp;</span>Результаты эксперимента</a></span><ul class=\"toc-item\"><li><span><a href=\"#Обзор-групп\" data-toc-modified-id=\"Обзор-групп-6.1\"><span class=\"toc-item-num\">6.1&nbsp;&nbsp;</span>Обзор групп</a></span></li><li><span><a href=\"#Воронка-событий-по-группам\" data-toc-modified-id=\"Воронка-событий-по-группам-6.2\"><span class=\"toc-item-num\">6.2&nbsp;&nbsp;</span>Воронка событий по группам</a></span></li><li><span><a href=\"#Проверка-групп-на-различия\" data-toc-modified-id=\"Проверка-групп-на-различия-6.3\"><span class=\"toc-item-num\">6.3&nbsp;&nbsp;</span>Проверка групп на различия</a></span></li></ul></li><li><span><a href=\"#Заключение\" data-toc-modified-id=\"Заключение-7\"><span class=\"toc-item-num\">7&nbsp;&nbsp;</span>Заключение</a></span></li></ul></div>"
   ]
  },
  {
   "cell_type": "markdown",
   "metadata": {},
   "source": [
    "## Введение "
   ]
  },
  {
   "cell_type": "markdown",
   "metadata": {},
   "source": [
    "Коллеги из стартапа Корзиночка попросили сделать контрольную проверку, пропущенной в обход нашего отдела, гипотезы. Дизайнеры решили поменять шрифты во всем приложении для чего запустили A/A/B тестирование. Наша задача обновить основные метрики, проверить воронку продаж и изучить результаты A/A/B-теста.\n",
    "\n",
    "1. Структура датафрейма:\n",
    "    - EventName — название события\n",
    "    - DeviceIDHash — уникальный идентификатор пользователя\n",
    "    - EventTimestamp — время события\n",
    "    - ExpId — номер группы\n",
    "2. План работы: \n",
    "    - Провести предобработку данных \n",
    "    - Рассмотреть воронку продаж\n",
    "    - Проверить правильность выполнения теста и его результаты \n",
    "    - Дать рекоммендации коллегам "
   ]
  },
  {
   "cell_type": "markdown",
   "metadata": {},
   "source": [
    "## Распаковка данных"
   ]
  },
  {
   "cell_type": "code",
   "execution_count": 1,
   "metadata": {
    "scrolled": false
   },
   "outputs": [
    {
     "name": "stdout",
     "output_type": "stream",
     "text": [
      "Collecting kaleido\n",
      "  Downloading kaleido-0.2.1-py2.py3-none-manylinux1_x86_64.whl (79.9 MB)\n",
      "\u001b[K     |████████████████████████████████| 79.9 MB 80.0 MB/s eta 0:00:01\n",
      "\u001b[?25hInstalling collected packages: kaleido\n",
      "Successfully installed kaleido-0.2.1\n"
     ]
    }
   ],
   "source": [
    "#Импортируем нужные нам библиотеки \n",
    "!pip install kaleido\n",
    "from plotly import graph_objects as go\n",
    "from IPython.display import display\n",
    "from scipy import stats as st\n",
    "import matplotlib.pyplot as plt\n",
    "import plotly.io as pio\n",
    "import pandas as pd\n",
    "import numpy as np\n",
    "import math as mth\n",
    "import kaleido\n",
    "import os\n",
    "\n",
    "#Задаем константы\n",
    "pio.renderers.default = \"png\"\n",
    "svg_renderer = pio.renderers[\"png\"]\n",
    "svg_renderer.scale = 1.2\n",
    "\n",
    "#Зададим функцию для безопасного извлечения датафрейма\n",
    "def read_df(file_name):\n",
    "    path1 = os.path.join('/datasets', file_name)\n",
    "    path2 = os.path.join(file_name)\n",
    "    if os.path.exists(path1):\n",
    "        df = pd.read_csv(path1, sep='\\t')\n",
    "        return df\n",
    "    elif os.path.exists(path2):\n",
    "        df = pd.read_csv(path2, sep='\\t')\n",
    "        return df\n",
    "    else:\n",
    "        print('File is not found')\n",
    "        \n",
    "#Зададим функцию для удобства ознакомления с датафреймами\n",
    "def lazy_info(dt):\n",
    "    x = dt.duplicated().sum()\n",
    "    y = dt.shape[0]\n",
    "    display(dt.head(5))\n",
    "    dt.info()\n",
    "    print(dt.isna().sum())\n",
    "    print('Явных дубликатов', x, ', что составляет', \"{:.2%}\".format(x / y), 'от всех строк.')"
   ]
  },
  {
   "cell_type": "code",
   "execution_count": 2,
   "metadata": {
    "scrolled": false
   },
   "outputs": [
    {
     "data": {
      "text/html": [
       "<div>\n",
       "<style scoped>\n",
       "    .dataframe tbody tr th:only-of-type {\n",
       "        vertical-align: middle;\n",
       "    }\n",
       "\n",
       "    .dataframe tbody tr th {\n",
       "        vertical-align: top;\n",
       "    }\n",
       "\n",
       "    .dataframe thead th {\n",
       "        text-align: right;\n",
       "    }\n",
       "</style>\n",
       "<table border=\"1\" class=\"dataframe\">\n",
       "  <thead>\n",
       "    <tr style=\"text-align: right;\">\n",
       "      <th></th>\n",
       "      <th>EventName</th>\n",
       "      <th>DeviceIDHash</th>\n",
       "      <th>EventTimestamp</th>\n",
       "      <th>ExpId</th>\n",
       "    </tr>\n",
       "  </thead>\n",
       "  <tbody>\n",
       "    <tr>\n",
       "      <th>0</th>\n",
       "      <td>MainScreenAppear</td>\n",
       "      <td>4575588528974610257</td>\n",
       "      <td>1564029816</td>\n",
       "      <td>246</td>\n",
       "    </tr>\n",
       "    <tr>\n",
       "      <th>1</th>\n",
       "      <td>MainScreenAppear</td>\n",
       "      <td>7416695313311560658</td>\n",
       "      <td>1564053102</td>\n",
       "      <td>246</td>\n",
       "    </tr>\n",
       "    <tr>\n",
       "      <th>2</th>\n",
       "      <td>PaymentScreenSuccessful</td>\n",
       "      <td>3518123091307005509</td>\n",
       "      <td>1564054127</td>\n",
       "      <td>248</td>\n",
       "    </tr>\n",
       "    <tr>\n",
       "      <th>3</th>\n",
       "      <td>CartScreenAppear</td>\n",
       "      <td>3518123091307005509</td>\n",
       "      <td>1564054127</td>\n",
       "      <td>248</td>\n",
       "    </tr>\n",
       "    <tr>\n",
       "      <th>4</th>\n",
       "      <td>PaymentScreenSuccessful</td>\n",
       "      <td>6217807653094995999</td>\n",
       "      <td>1564055322</td>\n",
       "      <td>248</td>\n",
       "    </tr>\n",
       "  </tbody>\n",
       "</table>\n",
       "</div>"
      ],
      "text/plain": [
       "                 EventName         DeviceIDHash  EventTimestamp  ExpId\n",
       "0         MainScreenAppear  4575588528974610257      1564029816    246\n",
       "1         MainScreenAppear  7416695313311560658      1564053102    246\n",
       "2  PaymentScreenSuccessful  3518123091307005509      1564054127    248\n",
       "3         CartScreenAppear  3518123091307005509      1564054127    248\n",
       "4  PaymentScreenSuccessful  6217807653094995999      1564055322    248"
      ]
     },
     "metadata": {},
     "output_type": "display_data"
    },
    {
     "name": "stdout",
     "output_type": "stream",
     "text": [
      "<class 'pandas.core.frame.DataFrame'>\n",
      "RangeIndex: 244126 entries, 0 to 244125\n",
      "Data columns (total 4 columns):\n",
      " #   Column          Non-Null Count   Dtype \n",
      "---  ------          --------------   ----- \n",
      " 0   EventName       244126 non-null  object\n",
      " 1   DeviceIDHash    244126 non-null  int64 \n",
      " 2   EventTimestamp  244126 non-null  int64 \n",
      " 3   ExpId           244126 non-null  int64 \n",
      "dtypes: int64(3), object(1)\n",
      "memory usage: 7.5+ MB\n",
      "EventName         0\n",
      "DeviceIDHash      0\n",
      "EventTimestamp    0\n",
      "ExpId             0\n",
      "dtype: int64\n",
      "Явных дубликатов 413 , что составляет 0.17% от всех строк.\n"
     ]
    }
   ],
   "source": [
    "#Извлекаем датафрейм \n",
    "logs_exp = read_df('logs_exp.csv')\n",
    "\n",
    "lazy_info(logs_exp)"
   ]
  },
  {
   "cell_type": "markdown",
   "metadata": {},
   "source": [
    "Данные благополучно добрались до нас."
   ]
  },
  {
   "cell_type": "markdown",
   "metadata": {},
   "source": [
    "## Предобработка данных"
   ]
  },
  {
   "cell_type": "markdown",
   "metadata": {},
   "source": [
    "Предварительный осмотр данных выявил ряд проблем:\n",
    "1. 413 дубликатов\n",
    "2. Неудобные для работы названия столбцов\n",
    "3. EventTimestamp имеет не правильный тип данных \n",
    "4. Для удобной работы нужно добавить дополнительные столбец\n",
    "5. Неудобные для восприятия числовые названия групп в **exp_id**"
   ]
  },
  {
   "cell_type": "code",
   "execution_count": 3,
   "metadata": {},
   "outputs": [],
   "source": [
    "#Отбрасываем дубликаты\n",
    "logs_exp = logs_exp.drop_duplicates()"
   ]
  },
  {
   "cell_type": "code",
   "execution_count": 4,
   "metadata": {},
   "outputs": [],
   "source": [
    "#Меняем название столбцов\n",
    "logs_exp.columns = ['event_name', 'user_id', 'event_timestamp', 'exp_id']"
   ]
  },
  {
   "cell_type": "code",
   "execution_count": 5,
   "metadata": {},
   "outputs": [],
   "source": [
    "#Меняем тип данных\n",
    "logs_exp['event_timestamp'] = pd.to_datetime(logs_exp['event_timestamp'], unit = 's')"
   ]
  },
  {
   "cell_type": "code",
   "execution_count": 6,
   "metadata": {},
   "outputs": [],
   "source": [
    "#Создаем отдельный столбец для даты \n",
    "logs_exp['date'] = pd.DatetimeIndex(logs_exp['event_timestamp']).date"
   ]
  },
  {
   "cell_type": "code",
   "execution_count": 7,
   "metadata": {},
   "outputs": [
    {
     "data": {
      "text/plain": [
       "array(['A1', 'B', 'A2'], dtype=object)"
      ]
     },
     "execution_count": 7,
     "metadata": {},
     "output_type": "execute_result"
    }
   ],
   "source": [
    "#Меняем название 246 на A1\n",
    "logs_exp.loc[logs_exp['exp_id'] == 246, 'exp_id'] = 'A1' \n",
    "\n",
    "#Меняем название 247 на A2\n",
    "logs_exp.loc[logs_exp['exp_id'] == 247, 'exp_id'] = 'A2' \n",
    "\n",
    "#Меняем название 248 на B\n",
    "logs_exp.loc[logs_exp['exp_id'] == 248, 'exp_id'] = 'B' \n",
    "logs_exp['exp_id'].unique()"
   ]
  },
  {
   "cell_type": "markdown",
   "metadata": {},
   "source": [
    "## Изучение и проверка данных"
   ]
  },
  {
   "cell_type": "markdown",
   "metadata": {},
   "source": [
    "### Узнаем какие события отображены в логе"
   ]
  },
  {
   "cell_type": "code",
   "execution_count": 8,
   "metadata": {},
   "outputs": [
    {
     "data": {
      "text/plain": [
       "5"
      ]
     },
     "metadata": {},
     "output_type": "display_data"
    },
    {
     "data": {
      "text/plain": [
       "array(['MainScreenAppear', 'PaymentScreenSuccessful', 'CartScreenAppear',\n",
       "       'OffersScreenAppear', 'Tutorial'], dtype=object)"
      ]
     },
     "metadata": {},
     "output_type": "display_data"
    },
    {
     "data": {
      "text/html": [
       "<div>\n",
       "<style scoped>\n",
       "    .dataframe tbody tr th:only-of-type {\n",
       "        vertical-align: middle;\n",
       "    }\n",
       "\n",
       "    .dataframe tbody tr th {\n",
       "        vertical-align: top;\n",
       "    }\n",
       "\n",
       "    .dataframe thead th {\n",
       "        text-align: right;\n",
       "    }\n",
       "</style>\n",
       "<table border=\"1\" class=\"dataframe\">\n",
       "  <thead>\n",
       "    <tr style=\"text-align: right;\">\n",
       "      <th></th>\n",
       "      <th>user_id</th>\n",
       "    </tr>\n",
       "    <tr>\n",
       "      <th>event_name</th>\n",
       "      <th></th>\n",
       "    </tr>\n",
       "  </thead>\n",
       "  <tbody>\n",
       "    <tr>\n",
       "      <th>MainScreenAppear</th>\n",
       "      <td>119101</td>\n",
       "    </tr>\n",
       "    <tr>\n",
       "      <th>OffersScreenAppear</th>\n",
       "      <td>46808</td>\n",
       "    </tr>\n",
       "    <tr>\n",
       "      <th>CartScreenAppear</th>\n",
       "      <td>42668</td>\n",
       "    </tr>\n",
       "    <tr>\n",
       "      <th>PaymentScreenSuccessful</th>\n",
       "      <td>34118</td>\n",
       "    </tr>\n",
       "    <tr>\n",
       "      <th>Tutorial</th>\n",
       "      <td>1018</td>\n",
       "    </tr>\n",
       "  </tbody>\n",
       "</table>\n",
       "</div>"
      ],
      "text/plain": [
       "                         user_id\n",
       "event_name                      \n",
       "MainScreenAppear          119101\n",
       "OffersScreenAppear         46808\n",
       "CartScreenAppear           42668\n",
       "PaymentScreenSuccessful    34118\n",
       "Tutorial                    1018"
      ]
     },
     "execution_count": 8,
     "metadata": {},
     "output_type": "execute_result"
    }
   ],
   "source": [
    "display(logs_exp['event_name'].nunique())\n",
    "display(logs_exp['event_name'].unique())\n",
    "(\n",
    "    logs_exp.groupby('event_name')\n",
    "    .agg({'user_id' : 'count'})\n",
    "    .sort_values(by=['user_id'], ascending=False)\n",
    ")"
   ]
  },
  {
   "cell_type": "markdown",
   "metadata": {},
   "source": [
    "Всего в логах отображается **5** событий:\n",
    "- **'MainScreenAppear'** - главная страница - событие зафиксировано **119101** раз\n",
    "- **'OffersScreenAppear'** - страница товара - событие зафиксировано **46808** раз\n",
    "- **'CartScreenAppear'**- открытие корзины - событие зафиксировано **42668** раз\n",
    "- **'PaymentScreenSuccessful'** - успешная покупка - событие зафиксировано **34118** раз\n",
    "- **'Tutorial'** - обучение - событие зафиксировано **1018** раз"
   ]
  },
  {
   "cell_type": "markdown",
   "metadata": {},
   "source": [
    "### Узнаем количество уникальных пользователей в логе"
   ]
  },
  {
   "cell_type": "code",
   "execution_count": 9,
   "metadata": {},
   "outputs": [
    {
     "data": {
      "text/plain": [
       "7551"
      ]
     },
     "execution_count": 9,
     "metadata": {},
     "output_type": "execute_result"
    }
   ],
   "source": [
    "logs_exp['user_id'].nunique()"
   ]
  },
  {
   "cell_type": "markdown",
   "metadata": {},
   "source": [
    "За зафиксированое в логе время приложение посетил **7551** уникальный пользователь."
   ]
  },
  {
   "cell_type": "markdown",
   "metadata": {},
   "source": [
    "### Узнаем среднее количество событий на пользоватлея "
   ]
  },
  {
   "cell_type": "code",
   "execution_count": 10,
   "metadata": {},
   "outputs": [
    {
     "data": {
      "text/plain": [
       "event_name    32.275593\n",
       "dtype: float64"
      ]
     },
     "execution_count": 10,
     "metadata": {},
     "output_type": "execute_result"
    }
   ],
   "source": [
    "#Ищем среднее количество событий на пользователя\n",
    "logs_exp.groupby('user_id').agg({'event_name' : 'count'}).mean()"
   ]
  },
  {
   "cell_type": "code",
   "execution_count": 11,
   "metadata": {
    "scrolled": false
   },
   "outputs": [
    {
     "data": {
      "text/plain": [
       "count    7551.000000\n",
       "mean       32.275593\n",
       "std        65.154219\n",
       "min         1.000000\n",
       "25%         9.000000\n",
       "50%        20.000000\n",
       "75%        37.000000\n",
       "max      2307.000000\n",
       "Name: events, dtype: float64"
      ]
     },
     "execution_count": 11,
     "metadata": {},
     "output_type": "execute_result"
    },
    {
     "data": {
      "image/png": "[encoded data removed]",
      "text/plain": [
       "<Figure size 1152x432 with 1 Axes>"
      ]
     },
     "metadata": {
      "needs_background": "light"
     },
     "output_type": "display_data"
    }
   ],
   "source": [
    "#Получаем таблицу с числом событий на пользователя\n",
    "eventsByUsers = logs_exp.groupby('user_id').agg(events = ('event_name', 'count'))\n",
    "x_values = pd.Series(range(0,len(eventsByUsers))) \n",
    "\n",
    "plt.figure(figsize=(16,6))\n",
    "plt.title('График количества событий')\n",
    "plt.scatter(x_values, eventsByUsers['events'], alpha=0.5)\n",
    "plt.ylabel('Количество событий')\n",
    "plt.xlabel('Пользователи')\n",
    "plt.grid();\n",
    "\n",
    "#Получаем статичтику \n",
    "eventsByUsers['events'].describe()"
   ]
  },
  {
   "cell_type": "markdown",
   "metadata": {},
   "source": [
    "В среднем каждый уникальный пользователь за зафиксированый период совершил **32** действия фиксируемых в логе.\n",
    "Правда существуют уникумы которые соверишили больше чем **2000** действий!"
   ]
  },
  {
   "cell_type": "markdown",
   "metadata": {},
   "source": [
    "### Узнаем за какие даты у нас есть логи"
   ]
  },
  {
   "cell_type": "code",
   "execution_count": 12,
   "metadata": {
    "scrolled": false
   },
   "outputs": [
    {
     "name": "stdout",
     "output_type": "stream",
     "text": [
      "Дата начала фиксации лога - 2019-07-25\n",
      "Дата конца фиксации лога - 2019-08-07\n"
     ]
    },
    {
     "data": {
      "image/png": "[encoded data removed]",
      "text/plain": [
       "<Figure size 1152x432 with 1 Axes>"
      ]
     },
     "metadata": {
      "needs_background": "light"
     },
     "output_type": "display_data"
    }
   ],
   "source": [
    "print('Дата начала фиксации лога -',logs_exp['date'].min())\n",
    "print('Дата конца фиксации лога -',logs_exp['date'].max())\n",
    "(\n",
    "    logs_exp.groupby(['date'])\n",
    "    .agg(user = ('user_id', 'count'))\n",
    "    .plot(kind='bar',figsize=(16, 6))\n",
    ")\n",
    "plt.title('График распределения активности пользователей по дням')\n",
    "plt.ylabel('Количество событий')\n",
    "plt.xlabel('Дата');"
   ]
  },
  {
   "cell_type": "markdown",
   "metadata": {},
   "source": [
    "В наш лог попали данные за период с 2019-07-25 по 2019-08-07, но до 01.08 активностей за день зафиксировано более чем в семь раз меньше. В связи с чем следует удалить данные за период до 01.08.2019, что бы не искажать дальнейшие выводы."
   ]
  },
  {
   "cell_type": "code",
   "execution_count": 13,
   "metadata": {},
   "outputs": [
    {
     "data": {
      "image/png": "[encoded data removed]",
      "text/plain": [
       "<Figure size 1152x432 with 1 Axes>"
      ]
     },
     "metadata": {
      "needs_background": "light"
     },
     "output_type": "display_data"
    }
   ],
   "source": [
    "logs_exp['month'] = pd.DatetimeIndex(logs_exp['event_timestamp']).month\n",
    "\n",
    "logs_flt = logs_exp[logs_exp['month'] == 8]\n",
    "#Столкнулся с неожиданной трудностью, ни обычное индексирование ни query() не захотели работать с datetime.date \n",
    "#Этот код выдавал ошибку logs_exp.query('date > 2019-07-31') и этот logs_exp.query('date > 2019-7-31')\n",
    "#пришлось через дополнительный столбец проворачивать\n",
    "(\n",
    "    logs_flt.groupby(['date'])\n",
    "    .agg(user = ('user_id', 'count'))\n",
    "    .plot(kind='bar',figsize=(16, 6))\n",
    ")\n",
    "plt.title('Обновленный график распределения активности пользователей по дням')\n",
    "plt.ylabel('Количество событий')\n",
    "plt.xlabel('Дата');"
   ]
  },
  {
   "cell_type": "markdown",
   "metadata": {},
   "source": [
    "Готово."
   ]
  },
  {
   "cell_type": "markdown",
   "metadata": {},
   "source": [
    "### Узнаем какие события остались после чистки "
   ]
  },
  {
   "cell_type": "code",
   "execution_count": 14,
   "metadata": {},
   "outputs": [
    {
     "name": "stdout",
     "output_type": "stream",
     "text": [
      "В ходе исправления ошибок дата инженеров было потеряно 17 уникальных пользователей.\n",
      "Это составило 0.23% от первоночального количества.\n",
      " \n",
      "В ходе исправления ошибок дата инженеров было потеряно 2826 записей.\n",
      "Это составило 1.16% от первоночального количества.\n"
     ]
    }
   ],
   "source": [
    "x = logs_exp['user_id'].nunique() - logs_flt['user_id'].nunique()\n",
    "y = logs_exp['user_id'].count() - logs_flt['user_id'].count()\n",
    "z = x / logs_exp['user_id'].nunique()\n",
    "i = y / logs_exp['user_id'].count()\n",
    "\n",
    "print('В ходе исправления ошибок дата инженеров было потеряно', x, 'уникальных пользователей.')\n",
    "print('Это составило',\"{:.2%}\".format(z), 'от первоночального количества.')\n",
    "print(' ')\n",
    "print('В ходе исправления ошибок дата инженеров было потеряно', y, 'записей.')\n",
    "print('Это составило',\"{:.2%}\".format(i), 'от первоночального количества.')"
   ]
  },
  {
   "cell_type": "markdown",
   "metadata": {},
   "source": [
    "Из-за исправления ошибки в выгрузке мы потеряли **17** уникальных пользователей, что составило **0.2%** от начального числа, так же были потеряныы **2826** записи, что составило **1.1%** от начального числа. Учитывая, что мы выкинули времянной отрезок равный половине времени наблюдений, потери в 0.2% и 1.1% не существенны. "
   ]
  },
  {
   "cell_type": "markdown",
   "metadata": {},
   "source": [
    "### Проверим что каждая группа исследования имеет пользователей "
   ]
  },
  {
   "cell_type": "code",
   "execution_count": 15,
   "metadata": {},
   "outputs": [
    {
     "data": {
      "text/html": [
       "<div>\n",
       "<style scoped>\n",
       "    .dataframe tbody tr th:only-of-type {\n",
       "        vertical-align: middle;\n",
       "    }\n",
       "\n",
       "    .dataframe tbody tr th {\n",
       "        vertical-align: top;\n",
       "    }\n",
       "\n",
       "    .dataframe thead th {\n",
       "        text-align: right;\n",
       "    }\n",
       "</style>\n",
       "<table border=\"1\" class=\"dataframe\">\n",
       "  <thead>\n",
       "    <tr style=\"text-align: right;\">\n",
       "      <th></th>\n",
       "      <th>user_id</th>\n",
       "    </tr>\n",
       "    <tr>\n",
       "      <th>exp_id</th>\n",
       "      <th></th>\n",
       "    </tr>\n",
       "  </thead>\n",
       "  <tbody>\n",
       "    <tr>\n",
       "      <th>A1</th>\n",
       "      <td>2484</td>\n",
       "    </tr>\n",
       "    <tr>\n",
       "      <th>A2</th>\n",
       "      <td>2513</td>\n",
       "    </tr>\n",
       "    <tr>\n",
       "      <th>B</th>\n",
       "      <td>2537</td>\n",
       "    </tr>\n",
       "  </tbody>\n",
       "</table>\n",
       "</div>"
      ],
      "text/plain": [
       "        user_id\n",
       "exp_id         \n",
       "A1         2484\n",
       "A2         2513\n",
       "B          2537"
      ]
     },
     "execution_count": 15,
     "metadata": {},
     "output_type": "execute_result"
    }
   ],
   "source": [
    "logs_flt.groupby('exp_id').agg({'user_id' : 'nunique'})"
   ]
  },
  {
   "cell_type": "markdown",
   "metadata": {},
   "source": [
    "Все группы имеют участников"
   ]
  },
  {
   "cell_type": "markdown",
   "metadata": {},
   "source": [
    "## Изучение воронки событий "
   ]
  },
  {
   "cell_type": "markdown",
   "metadata": {},
   "source": [
    "### Смотрим частотность событий "
   ]
  },
  {
   "cell_type": "code",
   "execution_count": 16,
   "metadata": {},
   "outputs": [
    {
     "data": {
      "text/html": [
       "<div>\n",
       "<style scoped>\n",
       "    .dataframe tbody tr th:only-of-type {\n",
       "        vertical-align: middle;\n",
       "    }\n",
       "\n",
       "    .dataframe tbody tr th {\n",
       "        vertical-align: top;\n",
       "    }\n",
       "\n",
       "    .dataframe thead th {\n",
       "        text-align: right;\n",
       "    }\n",
       "</style>\n",
       "<table border=\"1\" class=\"dataframe\">\n",
       "  <thead>\n",
       "    <tr style=\"text-align: right;\">\n",
       "      <th></th>\n",
       "      <th>user_id</th>\n",
       "    </tr>\n",
       "    <tr>\n",
       "      <th>event_name</th>\n",
       "      <th></th>\n",
       "    </tr>\n",
       "  </thead>\n",
       "  <tbody>\n",
       "    <tr>\n",
       "      <th>MainScreenAppear</th>\n",
       "      <td>117328</td>\n",
       "    </tr>\n",
       "    <tr>\n",
       "      <th>OffersScreenAppear</th>\n",
       "      <td>46333</td>\n",
       "    </tr>\n",
       "    <tr>\n",
       "      <th>CartScreenAppear</th>\n",
       "      <td>42303</td>\n",
       "    </tr>\n",
       "    <tr>\n",
       "      <th>PaymentScreenSuccessful</th>\n",
       "      <td>33918</td>\n",
       "    </tr>\n",
       "    <tr>\n",
       "      <th>Tutorial</th>\n",
       "      <td>1005</td>\n",
       "    </tr>\n",
       "  </tbody>\n",
       "</table>\n",
       "</div>"
      ],
      "text/plain": [
       "                         user_id\n",
       "event_name                      \n",
       "MainScreenAppear          117328\n",
       "OffersScreenAppear         46333\n",
       "CartScreenAppear           42303\n",
       "PaymentScreenSuccessful    33918\n",
       "Tutorial                    1005"
      ]
     },
     "execution_count": 16,
     "metadata": {},
     "output_type": "execute_result"
    }
   ],
   "source": [
    "(\n",
    "    pd.pivot_table(logs_flt, values='user_id', index='event_name', aggfunc='count')\n",
    "    .sort_values(by=['user_id'], ascending=False)\n",
    ")"
   ]
  },
  {
   "cell_type": "markdown",
   "metadata": {},
   "source": [
    "Вот и вырисовывается предположительная событийная воронка. "
   ]
  },
  {
   "cell_type": "markdown",
   "metadata": {},
   "source": [
    "### Смотрим на популярность событий "
   ]
  },
  {
   "cell_type": "code",
   "execution_count": 17,
   "metadata": {},
   "outputs": [
    {
     "data": {
      "text/html": [
       "<style  type=\"text/css\" >\n",
       "</style><table id=\"T_826ba_\" ><thead>    <tr>        <th class=\"blank level0\" ></th>        <th class=\"col_heading level0 col0\" >unique_users</th>        <th class=\"col_heading level0 col1\" >user_ratio</th>    </tr>    <tr>        <th class=\"index_name level0\" >event_name</th>        <th class=\"blank\" ></th>        <th class=\"blank\" ></th>    </tr></thead><tbody>\n",
       "                <tr>\n",
       "                        <th id=\"T_826ba_level0_row0\" class=\"row_heading level0 row0\" >MainScreenAppear</th>\n",
       "                        <td id=\"T_826ba_row0_col0\" class=\"data row0 col0\" >7419</td>\n",
       "                        <td id=\"T_826ba_row0_col1\" class=\"data row0 col1\" >98.47%</td>\n",
       "            </tr>\n",
       "            <tr>\n",
       "                        <th id=\"T_826ba_level0_row1\" class=\"row_heading level0 row1\" >OffersScreenAppear</th>\n",
       "                        <td id=\"T_826ba_row1_col0\" class=\"data row1 col0\" >4593</td>\n",
       "                        <td id=\"T_826ba_row1_col1\" class=\"data row1 col1\" >60.96%</td>\n",
       "            </tr>\n",
       "            <tr>\n",
       "                        <th id=\"T_826ba_level0_row2\" class=\"row_heading level0 row2\" >CartScreenAppear</th>\n",
       "                        <td id=\"T_826ba_row2_col0\" class=\"data row2 col0\" >3734</td>\n",
       "                        <td id=\"T_826ba_row2_col1\" class=\"data row2 col1\" >49.56%</td>\n",
       "            </tr>\n",
       "            <tr>\n",
       "                        <th id=\"T_826ba_level0_row3\" class=\"row_heading level0 row3\" >PaymentScreenSuccessful</th>\n",
       "                        <td id=\"T_826ba_row3_col0\" class=\"data row3 col0\" >3539</td>\n",
       "                        <td id=\"T_826ba_row3_col1\" class=\"data row3 col1\" >46.97%</td>\n",
       "            </tr>\n",
       "            <tr>\n",
       "                        <th id=\"T_826ba_level0_row4\" class=\"row_heading level0 row4\" >Tutorial</th>\n",
       "                        <td id=\"T_826ba_row4_col0\" class=\"data row4 col0\" >840</td>\n",
       "                        <td id=\"T_826ba_row4_col1\" class=\"data row4 col1\" >11.15%</td>\n",
       "            </tr>\n",
       "    </tbody></table>"
      ],
      "text/plain": [
       "<pandas.io.formats.style.Styler at 0x7f52c7c02550>"
      ]
     },
     "execution_count": 17,
     "metadata": {},
     "output_type": "execute_result"
    }
   ],
   "source": [
    "event_df = (\n",
    "    pd.pivot_table(logs_flt, values='user_id', index='event_name', aggfunc='nunique')\n",
    "    .sort_values(by=['user_id'], ascending=False)\n",
    "    .rename(columns={'user_id': 'unique_users'})\n",
    ")\n",
    "event_df['user_ratio'] = event_df['unique_users'] / logs_flt['user_id'].nunique()\n",
    "event_df.style.format({'user_ratio': '{:.2%}'})"
   ]
  },
  {
   "cell_type": "markdown",
   "metadata": {},
   "source": [
    "Воронка имеет тенденцию к сужению. \n",
    "___\n",
    "***На заметку:*** 1.5% пользователей не смогли осилить туториал и застряли на нём, не дойдя до главной страницы. (?)"
   ]
  },
  {
   "cell_type": "markdown",
   "metadata": {},
   "source": [
    "### Конструируем воронку событий"
   ]
  },
  {
   "cell_type": "markdown",
   "metadata": {},
   "source": [
    "**'MainScreenAppear' -> 'OffersScreenAppear' -> 'CartScreenAppear' -> 'PaymentScreenSuccessful'**\n",
    "\n",
    "**Tutorial** в свою очередь как раз ни как не влияет на путь покупателя от входа до покупки, да и имеет наименьший user_ratio"
   ]
  },
  {
   "cell_type": "markdown",
   "metadata": {},
   "source": [
    "____\n",
    "У меня есть две гипотезы на счёт туториала: \n",
    "- туториал выскакивает, только один раз при загрузке приложения и до перехода на главную страницу\n",
    "- туториал это пояснения к новому шрифту от дизайнеров\n"
   ]
  },
  {
   "cell_type": "code",
   "execution_count": 18,
   "metadata": {},
   "outputs": [
    {
     "data": {
      "text/html": [
       "<div>\n",
       "<style scoped>\n",
       "    .dataframe tbody tr th:only-of-type {\n",
       "        vertical-align: middle;\n",
       "    }\n",
       "\n",
       "    .dataframe tbody tr th {\n",
       "        vertical-align: top;\n",
       "    }\n",
       "\n",
       "    .dataframe thead th {\n",
       "        text-align: right;\n",
       "    }\n",
       "</style>\n",
       "<table border=\"1\" class=\"dataframe\">\n",
       "  <thead>\n",
       "    <tr style=\"text-align: right;\">\n",
       "      <th></th>\n",
       "      <th>user_id</th>\n",
       "    </tr>\n",
       "    <tr>\n",
       "      <th>exp_id</th>\n",
       "      <th></th>\n",
       "    </tr>\n",
       "  </thead>\n",
       "  <tbody>\n",
       "    <tr>\n",
       "      <th>B</th>\n",
       "      <td>350</td>\n",
       "    </tr>\n",
       "    <tr>\n",
       "      <th>A2</th>\n",
       "      <td>338</td>\n",
       "    </tr>\n",
       "    <tr>\n",
       "      <th>A1</th>\n",
       "      <td>317</td>\n",
       "    </tr>\n",
       "  </tbody>\n",
       "</table>\n",
       "</div>"
      ],
      "text/plain": [
       "        user_id\n",
       "exp_id         \n",
       "B           350\n",
       "A2          338\n",
       "A1          317"
      ]
     },
     "execution_count": 18,
     "metadata": {},
     "output_type": "execute_result"
    }
   ],
   "source": [
    "(\n",
    "    logs_flt[logs_flt['event_name'] == 'Tutorial'].pivot_table(values='user_id', index='exp_id', aggfunc='count')\n",
    "    .sort_values(by=['user_id'], ascending=False)\n",
    ")"
   ]
  },
  {
   "cell_type": "markdown",
   "metadata": {},
   "source": [
    "Вторая гипотеза не сработала, так как тогда бы туториал не видели участники групп 248 и 247."
   ]
  },
  {
   "cell_type": "code",
   "execution_count": 19,
   "metadata": {},
   "outputs": [
    {
     "data": {
      "text/html": [
       "<div>\n",
       "<style scoped>\n",
       "    .dataframe tbody tr th:only-of-type {\n",
       "        vertical-align: middle;\n",
       "    }\n",
       "\n",
       "    .dataframe tbody tr th {\n",
       "        vertical-align: top;\n",
       "    }\n",
       "\n",
       "    .dataframe thead th {\n",
       "        text-align: right;\n",
       "    }\n",
       "</style>\n",
       "<table border=\"1\" class=\"dataframe\">\n",
       "  <thead>\n",
       "    <tr style=\"text-align: right;\">\n",
       "      <th></th>\n",
       "      <th>first_event</th>\n",
       "    </tr>\n",
       "    <tr>\n",
       "      <th>event_name</th>\n",
       "      <th></th>\n",
       "    </tr>\n",
       "  </thead>\n",
       "  <tbody>\n",
       "    <tr>\n",
       "      <th>MainScreenAppear</th>\n",
       "      <td>6305</td>\n",
       "    </tr>\n",
       "    <tr>\n",
       "      <th>Tutorial</th>\n",
       "      <td>783</td>\n",
       "    </tr>\n",
       "    <tr>\n",
       "      <th>OffersScreenAppear</th>\n",
       "      <td>288</td>\n",
       "    </tr>\n",
       "    <tr>\n",
       "      <th>PaymentScreenSuccessful</th>\n",
       "      <td>96</td>\n",
       "    </tr>\n",
       "    <tr>\n",
       "      <th>CartScreenAppear</th>\n",
       "      <td>62</td>\n",
       "    </tr>\n",
       "  </tbody>\n",
       "</table>\n",
       "</div>"
      ],
      "text/plain": [
       "                         first_event\n",
       "event_name                          \n",
       "MainScreenAppear                6305\n",
       "Tutorial                         783\n",
       "OffersScreenAppear               288\n",
       "PaymentScreenSuccessful           96\n",
       "CartScreenAppear                  62"
      ]
     },
     "execution_count": 19,
     "metadata": {},
     "output_type": "execute_result"
    }
   ],
   "source": [
    "(\n",
    "    logs_flt.groupby('user_id').agg({'event_name': 'first', 'event_timestamp': 'first'})\n",
    "    .pivot_table(values='event_timestamp', index='event_name', aggfunc='count')\n",
    "    .rename(columns={'event_timestamp': 'first_event'})\n",
    "    .sort_values(by=['first_event'], ascending=False)\n",
    ")"
   ]
  },
  {
   "cell_type": "markdown",
   "metadata": {},
   "source": [
    "Ну уже больше похоже на то, что это вводный элемент. Тогда правда получается, что за неделю было лишь 783 новых пользователя.\n",
    "___\n",
    "В прошло пункте я предположил, что на стадии туториала приложение покинули пользователи. Проверим это. "
   ]
  },
  {
   "cell_type": "code",
   "execution_count": 20,
   "metadata": {},
   "outputs": [
    {
     "data": {
      "text/html": [
       "<div>\n",
       "<style scoped>\n",
       "    .dataframe tbody tr th:only-of-type {\n",
       "        vertical-align: middle;\n",
       "    }\n",
       "\n",
       "    .dataframe tbody tr th {\n",
       "        vertical-align: top;\n",
       "    }\n",
       "\n",
       "    .dataframe thead th {\n",
       "        text-align: right;\n",
       "    }\n",
       "</style>\n",
       "<table border=\"1\" class=\"dataframe\">\n",
       "  <thead>\n",
       "    <tr style=\"text-align: right;\">\n",
       "      <th></th>\n",
       "      <th>user_id</th>\n",
       "    </tr>\n",
       "    <tr>\n",
       "      <th>event_name</th>\n",
       "      <th></th>\n",
       "    </tr>\n",
       "  </thead>\n",
       "  <tbody>\n",
       "    <tr>\n",
       "      <th>MainScreenAppear</th>\n",
       "      <td>111</td>\n",
       "    </tr>\n",
       "    <tr>\n",
       "      <th>OffersScreenAppear</th>\n",
       "      <td>6</td>\n",
       "    </tr>\n",
       "    <tr>\n",
       "      <th>Tutorial</th>\n",
       "      <td>2</td>\n",
       "    </tr>\n",
       "  </tbody>\n",
       "</table>\n",
       "</div>"
      ],
      "text/plain": [
       "                    user_id\n",
       "event_name                 \n",
       "MainScreenAppear        111\n",
       "OffersScreenAppear        6\n",
       "Tutorial                  2"
      ]
     },
     "execution_count": 20,
     "metadata": {},
     "output_type": "execute_result"
    }
   ],
   "source": [
    "#Выясняем сколько событий произошло с каждым пользователем \n",
    "temp = logs_flt.groupby('user_id').agg({'event_name': 'count'}).rename(columns={'event_name': 'event_count'})\n",
    "\n",
    "#Ищем пользователей у которых только одно событие и собираем их в список\n",
    "temp = temp[temp['event_count'] == 1].index.unique().tolist()\n",
    "\n",
    "#Ищем во всей таблице именно этих пользователей \n",
    "temp = logs_flt[logs_flt['user_id'].isin(temp)]\n",
    "\n",
    "#Смотрим какое событие стало для них последним (ну или первым и единственным)\n",
    "temp.groupby('event_name').agg({'user_id': 'count'})"
   ]
  },
  {
   "cell_type": "markdown",
   "metadata": {},
   "source": [
    "Получается лишь два новых пользователя не смогли осилить туториал. а это явно меньше тех 1.5%, в чем же причина? \n",
    "****\n",
    "Так или иначе, но туториал не входит в воронку событий. Исключим его так как для дальнейшего исследования он нам не нужен. "
   ]
  },
  {
   "cell_type": "code",
   "execution_count": 21,
   "metadata": {},
   "outputs": [],
   "source": [
    "#Избавимся от туториала event_name\n",
    "clean_log = logs_flt[logs_flt['event_name'] != 'Tutorial']"
   ]
  },
  {
   "cell_type": "markdown",
   "metadata": {},
   "source": [
    "### Посчитаем общую конверсию и рассмотрим воронку продаж"
   ]
  },
  {
   "cell_type": "code",
   "execution_count": 22,
   "metadata": {},
   "outputs": [],
   "source": [
    "#Не нашел для себя решение кроме такого корявенького через цикл\n",
    "def get_coversion(df):\n",
    "    steps = ['MainScreenAppear',\n",
    "         'OffersScreenAppear',\n",
    "         'CartScreenAppear',\n",
    "         'PaymentScreenSuccessful']\n",
    "    values = []\n",
    "    conversion1 = []\n",
    "    conversion2 = []\n",
    "    lost = []\n",
    "    for step in steps:\n",
    "        data = df[df['event_name'] == step]\n",
    "        x = data['user_id'].nunique()\n",
    "        if step == steps[0]:\n",
    "            conversion1.append(x / x)\n",
    "            conversion2.append(x / x)\n",
    "            lost.append(0)\n",
    "        else:\n",
    "            conversion1.append(x / values[0])\n",
    "            conversion2.append(x / y)\n",
    "            lost.append(y - x)\n",
    "        values.append(x)\n",
    "        y = x\n",
    "        \n",
    "    table = (pd.DataFrame({'step' : steps,\n",
    "                          'unique_users_count' : values,\n",
    "                          'conversion%' : conversion1,\n",
    "                          'step_conversion%' : conversion2,\n",
    "                          'loss per step': lost})\n",
    "            .style.format({'conversion%': '{:.2%}',\n",
    "                           'step_conversion%': '{:.2%}'})\n",
    "           )\n",
    "    return table"
   ]
  },
  {
   "cell_type": "code",
   "execution_count": 23,
   "metadata": {
    "scrolled": false
   },
   "outputs": [
    {
     "data": {
      "image/png": "[encoded data removed]"
     },
     "metadata": {},
     "output_type": "display_data"
    },
    {
     "data": {
      "text/html": [
       "<style  type=\"text/css\" >\n",
       "</style><table id=\"T_0b249_\" ><thead>    <tr>        <th class=\"blank level0\" ></th>        <th class=\"col_heading level0 col0\" >step</th>        <th class=\"col_heading level0 col1\" >unique_users_count</th>        <th class=\"col_heading level0 col2\" >conversion%</th>        <th class=\"col_heading level0 col3\" >step_conversion%</th>        <th class=\"col_heading level0 col4\" >loss per step</th>    </tr></thead><tbody>\n",
       "                <tr>\n",
       "                        <th id=\"T_0b249_level0_row0\" class=\"row_heading level0 row0\" >0</th>\n",
       "                        <td id=\"T_0b249_row0_col0\" class=\"data row0 col0\" >MainScreenAppear</td>\n",
       "                        <td id=\"T_0b249_row0_col1\" class=\"data row0 col1\" >7419</td>\n",
       "                        <td id=\"T_0b249_row0_col2\" class=\"data row0 col2\" >100.00%</td>\n",
       "                        <td id=\"T_0b249_row0_col3\" class=\"data row0 col3\" >100.00%</td>\n",
       "                        <td id=\"T_0b249_row0_col4\" class=\"data row0 col4\" >0</td>\n",
       "            </tr>\n",
       "            <tr>\n",
       "                        <th id=\"T_0b249_level0_row1\" class=\"row_heading level0 row1\" >1</th>\n",
       "                        <td id=\"T_0b249_row1_col0\" class=\"data row1 col0\" >OffersScreenAppear</td>\n",
       "                        <td id=\"T_0b249_row1_col1\" class=\"data row1 col1\" >4593</td>\n",
       "                        <td id=\"T_0b249_row1_col2\" class=\"data row1 col2\" >61.91%</td>\n",
       "                        <td id=\"T_0b249_row1_col3\" class=\"data row1 col3\" >61.91%</td>\n",
       "                        <td id=\"T_0b249_row1_col4\" class=\"data row1 col4\" >2826</td>\n",
       "            </tr>\n",
       "            <tr>\n",
       "                        <th id=\"T_0b249_level0_row2\" class=\"row_heading level0 row2\" >2</th>\n",
       "                        <td id=\"T_0b249_row2_col0\" class=\"data row2 col0\" >CartScreenAppear</td>\n",
       "                        <td id=\"T_0b249_row2_col1\" class=\"data row2 col1\" >3734</td>\n",
       "                        <td id=\"T_0b249_row2_col2\" class=\"data row2 col2\" >50.33%</td>\n",
       "                        <td id=\"T_0b249_row2_col3\" class=\"data row2 col3\" >81.30%</td>\n",
       "                        <td id=\"T_0b249_row2_col4\" class=\"data row2 col4\" >859</td>\n",
       "            </tr>\n",
       "            <tr>\n",
       "                        <th id=\"T_0b249_level0_row3\" class=\"row_heading level0 row3\" >3</th>\n",
       "                        <td id=\"T_0b249_row3_col0\" class=\"data row3 col0\" >PaymentScreenSuccessful</td>\n",
       "                        <td id=\"T_0b249_row3_col1\" class=\"data row3 col1\" >3539</td>\n",
       "                        <td id=\"T_0b249_row3_col2\" class=\"data row3 col2\" >47.70%</td>\n",
       "                        <td id=\"T_0b249_row3_col3\" class=\"data row3 col3\" >94.78%</td>\n",
       "                        <td id=\"T_0b249_row3_col4\" class=\"data row3 col4\" >195</td>\n",
       "            </tr>\n",
       "    </tbody></table>"
      ],
      "text/plain": [
       "<pandas.io.formats.style.Styler at 0x7f52c7a6f550>"
      ]
     },
     "execution_count": 23,
     "metadata": {},
     "output_type": "execute_result"
    }
   ],
   "source": [
    "temp = get_coversion(clean_log)\n",
    "fig = go.Figure()\n",
    "fig.add_trace(go.Funnel(\n",
    "    orientation = \"h\",\n",
    "    y = temp.data['step'],\n",
    "    x = temp.data['unique_users_count'],\n",
    "    textposition = \"inside\",\n",
    "    textinfo = \"value+percent total\"))\n",
    "fig.update_layout(title=\"Воронка событий\")\n",
    "fig.show()\n",
    "temp"
   ]
  },
  {
   "cell_type": "markdown",
   "metadata": {},
   "source": [
    "Великолепная конверсия (да на всех пользователей, а не индивидуально по каждому) по воронке выходит.\n",
    "- 81% пользователей, если открыли карточку товара, то добавят его в корзину. \n",
    "- 94% тех кто положили товар в корзину совершают покупку.\n",
    "- От входа в приложение, до покупки проходит 47% пользователей! \n",
    "\n",
    "Единственная проблема, что лишь 61% пользователей уходят дальше главой страницы, в абсолютных величинах это потери в 2826 потенциальных покупателей. "
   ]
  },
  {
   "cell_type": "markdown",
   "metadata": {},
   "source": [
    "## Результаты эксперимента"
   ]
  },
  {
   "cell_type": "markdown",
   "metadata": {},
   "source": [
    "Напомню, что наши дизайнеры захотели поменять шрифты во всём приложении. Было принято решение провести **A/A/B-тест**. Пользователей разбили на **3 группы**: 2 контрольные (**А1** и **А2**) со старыми шрифтами и одну экспериментальную (**В**) — с новыми. Посмотрим какой шрифт оказался лучшим по результатам тестирования."
   ]
  },
  {
   "cell_type": "markdown",
   "metadata": {},
   "source": [
    "### Обзор групп "
   ]
  },
  {
   "cell_type": "code",
   "execution_count": 24,
   "metadata": {},
   "outputs": [
    {
     "data": {
      "text/html": [
       "<div>\n",
       "<style scoped>\n",
       "    .dataframe tbody tr th:only-of-type {\n",
       "        vertical-align: middle;\n",
       "    }\n",
       "\n",
       "    .dataframe tbody tr th {\n",
       "        vertical-align: top;\n",
       "    }\n",
       "\n",
       "    .dataframe thead th {\n",
       "        text-align: right;\n",
       "    }\n",
       "</style>\n",
       "<table border=\"1\" class=\"dataframe\">\n",
       "  <thead>\n",
       "    <tr style=\"text-align: right;\">\n",
       "      <th></th>\n",
       "      <th>unique_users</th>\n",
       "    </tr>\n",
       "    <tr>\n",
       "      <th>exp_id</th>\n",
       "      <th></th>\n",
       "    </tr>\n",
       "  </thead>\n",
       "  <tbody>\n",
       "    <tr>\n",
       "      <th>A1</th>\n",
       "      <td>2483</td>\n",
       "    </tr>\n",
       "    <tr>\n",
       "      <th>A2</th>\n",
       "      <td>2512</td>\n",
       "    </tr>\n",
       "    <tr>\n",
       "      <th>B</th>\n",
       "      <td>2535</td>\n",
       "    </tr>\n",
       "  </tbody>\n",
       "</table>\n",
       "</div>"
      ],
      "text/plain": [
       "        unique_users\n",
       "exp_id              \n",
       "A1              2483\n",
       "A2              2512\n",
       "B               2535"
      ]
     },
     "metadata": {},
     "output_type": "display_data"
    },
    {
     "name": "stdout",
     "output_type": "stream",
     "text": [
      " \n",
      "exp_id    0\n",
      "dtype: int64\n",
      " \n",
      "Дата начала теста - 2019-08-01\n",
      "Дата конца теста - 2019-08-07\n"
     ]
    }
   ],
   "source": [
    "#Узнаем количсетво уникальных пользователей в каждой группе \n",
    "display(clean_log.groupby('exp_id').agg({'user_id': 'nunique'}).rename(columns={'user_id': 'unique_users'}))\n",
    "print(' ')\n",
    "#Узнаем имеются ли пользователи входящие в несколько групп \n",
    "print(clean_log.groupby('user_id').agg({'exp_id': pd.Series.nunique}).query('exp_id > 1').count())\n",
    "print(' ')\n",
    "#Узннаем даты начала и конца теста\n",
    "print('Дата начала теста -',clean_log['date'].min())\n",
    "print('Дата конца теста -',clean_log['date'].max())"
   ]
  },
  {
   "cell_type": "markdown",
   "metadata": {},
   "source": [
    "Тестирование длилось семь дней, с **2019-08-01** по **2019-08-07**.\n",
    "\n",
    "В группе **A1 - 2483** уникальных участников, в группе **A2 - 2512** уникальных частников и в группе **B - 2535** уникальных частников.\n",
    "\n",
    "Контрольные группы (А1 и А2) имеют минимальный разброс в **29** пользователей (чуть больше **1%)**.\n",
    "\n",
    "Разброс между группами А1/А2 и В разброс: А1 и В **52 (2%)**, А2 и В **23 (0.9%)**.\n",
    "\n",
    "Ни одного пользователя попавшего по ошибке в несколько групп."
   ]
  },
  {
   "cell_type": "markdown",
   "metadata": {},
   "source": [
    "### Воронка событий по группам"
   ]
  },
  {
   "cell_type": "code",
   "execution_count": 25,
   "metadata": {},
   "outputs": [
    {
     "data": {
      "image/png": "[encoded data removed]"
     },
     "metadata": {},
     "output_type": "display_data"
    }
   ],
   "source": [
    "#Визуеализируем воронку с помощью функции написаной нами в пункте 5.4\n",
    "fig = go.Figure()\n",
    "for name in clean_log['exp_id'].unique():\n",
    "    data = clean_log[clean_log['exp_id'] == name]\n",
    "    temp = get_coversion(data)\n",
    "    temp.data = temp.data.drop(columns=['conversion%', 'step_conversion%', 'loss per step'])\n",
    "    fig.add_trace(go.Funnel(\n",
    "        name = name,\n",
    "        orientation = \"h\",\n",
    "        y = temp.data['step'],\n",
    "        x = temp.data['unique_users_count'],\n",
    "        textposition = \"inside\",\n",
    "        textinfo = \"value+percent total\")\n",
    "                 )\n",
    "fig.update_layout(title=\"Воронка событий по группам\")\n",
    "fig.show()"
   ]
  },
  {
   "cell_type": "markdown",
   "metadata": {},
   "source": [
    "Разница между группами на каждой ступени нашей воронки не более процента."
   ]
  },
  {
   "cell_type": "markdown",
   "metadata": {},
   "source": [
    "### Проверка групп на различия"
   ]
  },
  {
   "cell_type": "markdown",
   "metadata": {},
   "source": [
    "Провоедём сравнение по долям пользователей, совершивших события по группам. Сделаем это с помощью **z-теста**.\n",
    "****"
   ]
  },
  {
   "cell_type": "markdown",
   "metadata": {},
   "source": [
    "Пишем функцию для **z-теста**"
   ]
  },
  {
   "cell_type": "code",
   "execution_count": 26,
   "metadata": {},
   "outputs": [],
   "source": [
    "def z_test (n1, s1, n2, s2):\n",
    "    p1 = s1 / n1\n",
    "    p2 = s2 / n2\n",
    "    p_c = (s1 + s2) / (n1 + n2)\n",
    "    dif = p1 - p2 \n",
    "    z_value = dif / mth.sqrt(p_c * (1 - p_c) * (1/n1 + 1/n2))\n",
    "    distr = st.norm(0, 1)  \n",
    "    p_value = (1 - distr.cdf(abs(z_value))) * 2\n",
    "    return p_value"
   ]
  },
  {
   "cell_type": "markdown",
   "metadata": {},
   "source": [
    "****\n",
    "Мы проведём 16 **z-тестов** по четыре для каждой пары A1/A2, A1+A2/B, A1/B, и A2/B. И для того, чтобы избежать ошибок первого рода, нам нужно поправить альфу, сделаем это самым распространнёным методом - методом Бонферрони, то есть поделим альфу на количество сравнений. "
   ]
  },
  {
   "cell_type": "code",
   "execution_count": 27,
   "metadata": {},
   "outputs": [
    {
     "data": {
      "text/plain": [
       "0.003125"
      ]
     },
     "execution_count": 27,
     "metadata": {},
     "output_type": "execute_result"
    }
   ],
   "source": [
    "alpha = 0.05\n",
    "b_alpha = alpha / 16\n",
    "b_alpha"
   ]
  },
  {
   "cell_type": "markdown",
   "metadata": {},
   "source": [
    "Теперь напишем четыре цикла для каждой пары.\n",
    "\n",
    "Напоминаем что: \n",
    "1. Группы А1 и А2 контрольные, а группа В экспериментальная. \n",
    "2. Сравнение ведется по долям пользоватлей, совершивших событие по группам \n",
    "3. Наши гипотезы:\n",
    "    - Нулевая гипотеза: доли равны\n",
    "    - Альтернативная гипотеза: доли не равны\n",
    "****\n",
    "**Пара A1/A2**"
   ]
  },
  {
   "cell_type": "code",
   "execution_count": 28,
   "metadata": {},
   "outputs": [
    {
     "name": "stdout",
     "output_type": "stream",
     "text": [
      "MainScreenAppear p-значение:  0.7526703436483038\n",
      "Не получилось отвергнуть нулевую гипотезу, нет оснований считать доли разными\n",
      " \n",
      "OffersScreenAppear p-значение:  0.24786096925282264\n",
      "Не получилось отвергнуть нулевую гипотезу, нет оснований считать доли разными\n",
      " \n",
      "CartScreenAppear p-значение:  0.22867643757335676\n",
      "Не получилось отвергнуть нулевую гипотезу, нет оснований считать доли разными\n",
      " \n",
      "PaymentScreenSuccessful p-значение:  0.11446627829276612\n",
      "Не получилось отвергнуть нулевую гипотезу, нет оснований считать доли разными\n",
      " \n"
     ]
    }
   ],
   "source": [
    "for event in clean_log['event_name'].unique():\n",
    "    n1 = clean_log[clean_log['exp_id'] == 'A1']['user_id'].nunique()\n",
    "    n2 = clean_log[clean_log['exp_id'] == 'A2']['user_id'].nunique()\n",
    "    s1 = clean_log[(clean_log['exp_id'] == 'A1') & (clean_log['event_name'] == event)]['user_id'].nunique()\n",
    "    s2 = clean_log[(clean_log['exp_id'] == 'A2') & (clean_log['event_name'] == event)]['user_id'].nunique()\n",
    "    p_value = z_test(n1, s1, n2, s2)\n",
    "    print(event,'p-значение: ', p_value)\n",
    "    if p_value < b_alpha:\n",
    "        print('Отвергаем нулевую гипотезу: между долями есть значимая разница')\n",
    "    else:\n",
    "        print('Не получилось отвергнуть нулевую гипотезу, нет оснований считать доли разными')\n",
    "    print(' ')"
   ]
  },
  {
   "cell_type": "markdown",
   "metadata": {},
   "source": [
    "Cравнение групп **А1 и А2**, пожалуй самое важное действие в нашем исследовании, если бы здесь были различия, то вся проделанная работа пошла бы насмарку, так как для точного тества недопустимы различия в контрольных группах.\n",
    "\n",
    "Хорошо что это не наш случай, **z-тест** не выявил различий."
   ]
  },
  {
   "cell_type": "markdown",
   "metadata": {},
   "source": [
    "**Пара A1/В**"
   ]
  },
  {
   "cell_type": "code",
   "execution_count": 29,
   "metadata": {},
   "outputs": [
    {
     "name": "stdout",
     "output_type": "stream",
     "text": [
      "MainScreenAppear p-значение:  0.3387114076159288\n",
      "Не получилось отвергнуть нулевую гипотезу, нет оснований считать доли разными\n",
      " \n",
      "OffersScreenAppear p-значение:  0.21442476639710506\n",
      "Не получилось отвергнуть нулевую гипотезу, нет оснований считать доли разными\n",
      " \n",
      "CartScreenAppear p-значение:  0.08067367598823139\n",
      "Не получилось отвергнуть нулевую гипотезу, нет оснований считать доли разными\n",
      " \n",
      "PaymentScreenSuccessful p-значение:  0.21693033984516674\n",
      "Не получилось отвергнуть нулевую гипотезу, нет оснований считать доли разными\n",
      " \n"
     ]
    }
   ],
   "source": [
    "for event in clean_log['event_name'].unique():\n",
    "    n1 = clean_log[clean_log['exp_id'] == 'A1']['user_id'].nunique()\n",
    "    n2 = clean_log[clean_log['exp_id'] == 'B']['user_id'].nunique()\n",
    "    s1 = clean_log[(clean_log['exp_id'] == 'A1') & (clean_log['event_name'] == event)]['user_id'].nunique()\n",
    "    s2 = clean_log[(clean_log['exp_id'] == 'B') & (clean_log['event_name'] == event)]['user_id'].nunique()\n",
    "    p_value = z_test(n1, s1, n2, s2)\n",
    "    print(event,'p-значение: ', p_value)\n",
    "    if p_value < b_alpha:\n",
    "        print('Отвергаем нулевую гипотезу: между долями есть значимая разница')\n",
    "    else:\n",
    "        print('Не получилось отвергнуть нулевую гипотезу, нет оснований считать доли разными')\n",
    "    print(' ')"
   ]
  },
  {
   "cell_type": "markdown",
   "metadata": {},
   "source": [
    "Группы **A1/В**, различий **не выявлено.**\n",
    "****"
   ]
  },
  {
   "cell_type": "markdown",
   "metadata": {},
   "source": [
    "**Пара A2/В**"
   ]
  },
  {
   "cell_type": "code",
   "execution_count": 30,
   "metadata": {},
   "outputs": [
    {
     "name": "stdout",
     "output_type": "stream",
     "text": [
      "MainScreenAppear p-значение:  0.5194964354051703\n",
      "Не получилось отвергнуть нулевую гипотезу, нет оснований считать доли разными\n",
      " \n",
      "OffersScreenAppear p-значение:  0.9333751305879443\n",
      "Не получилось отвергнуть нулевую гипотезу, нет оснований считать доли разными\n",
      " \n",
      "CartScreenAppear p-значение:  0.5878284605111943\n",
      "Не получилось отвергнуть нулевую гипотезу, нет оснований считать доли разными\n",
      " \n",
      "PaymentScreenSuccessful p-значение:  0.7275718682261119\n",
      "Не получилось отвергнуть нулевую гипотезу, нет оснований считать доли разными\n",
      " \n"
     ]
    }
   ],
   "source": [
    "for event in clean_log['event_name'].unique():\n",
    "    n1 = clean_log[clean_log['exp_id'] == 'B']['user_id'].nunique()\n",
    "    n2 = clean_log[clean_log['exp_id'] == 'A2']['user_id'].nunique()\n",
    "    s1 = clean_log[(clean_log['exp_id'] == 'B') & (clean_log['event_name'] == event)]['user_id'].nunique()\n",
    "    s2 = clean_log[(clean_log['exp_id'] == 'A2') & (clean_log['event_name'] == event)]['user_id'].nunique()\n",
    "    p_value = z_test(n1, s1, n2, s2)\n",
    "    print(event,'p-значение: ', p_value)\n",
    "    if p_value < b_alpha:\n",
    "        print('Отвергаем нулевую гипотезу: между долями есть значимая разница')\n",
    "    else:\n",
    "        print('Не получилось отвергнуть нулевую гипотезу, нет оснований считать доли разными')\n",
    "    print(' ')"
   ]
  },
  {
   "cell_type": "markdown",
   "metadata": {},
   "source": [
    "Группы **A2/В**, различий **не выявлено.**\n",
    "****"
   ]
  },
  {
   "cell_type": "markdown",
   "metadata": {},
   "source": [
    "**Пара A1+A2/В**"
   ]
  },
  {
   "cell_type": "code",
   "execution_count": 31,
   "metadata": {
    "scrolled": false
   },
   "outputs": [
    {
     "name": "stdout",
     "output_type": "stream",
     "text": [
      "MainScreenAppear p-значение:  0.3486684291093256\n",
      "Не получилось отвергнуть нулевую гипотезу, нет оснований считать доли разными\n",
      " \n",
      "OffersScreenAppear p-значение:  0.44582745409482394\n",
      "Не получилось отвергнуть нулевую гипотезу, нет оснований считать доли разными\n",
      " \n",
      "CartScreenAppear p-значение:  0.18683558686831558\n",
      "Не получилось отвергнуть нулевую гипотезу, нет оснований считать доли разными\n",
      " \n",
      "PaymentScreenSuccessful p-значение:  0.6107918742187335\n",
      "Не получилось отвергнуть нулевую гипотезу, нет оснований считать доли разными\n",
      " \n"
     ]
    }
   ],
   "source": [
    "for event in clean_log['event_name'].unique():\n",
    "    n1 = clean_log[clean_log['exp_id'] != 'B']['user_id'].nunique()\n",
    "    n2 = clean_log[clean_log['exp_id'] == 'B']['user_id'].nunique()\n",
    "    s1 = clean_log[(clean_log['exp_id'] != 'B') & (clean_log['event_name'] == event)]['user_id'].nunique()\n",
    "    s2 = clean_log[(clean_log['exp_id'] == 'B') & (clean_log['event_name'] == event)]['user_id'].nunique()\n",
    "    p_value = z_test(n1, s1, n2, s2)\n",
    "    print(event,'p-значение: ', p_value)\n",
    "    if p_value < b_alpha:\n",
    "        print('Отвергаем нулевую гипотезу: между долями есть значимая разница')\n",
    "    else:\n",
    "        print('Не получилось отвергнуть нулевую гипотезу, нет оснований считать доли разными')\n",
    "    print(' ')"
   ]
  },
  {
   "cell_type": "markdown",
   "metadata": {},
   "source": [
    "Группы **A1+А2/В**, различий **не выявлено.**\n",
    "****\n",
    "Как мы видели на графике в пункте 6.2, ни одна из групп не отличается от другой сколько либо значимо, что и подтвердил z-тест."
   ]
  },
  {
   "cell_type": "markdown",
   "metadata": {},
   "source": [
    "## Заключение"
   ]
  },
  {
   "cell_type": "markdown",
   "metadata": {},
   "source": [
    "По итогам исследования можно сделать следующие выводы:\n",
    "1. Продуктовая воронка.\n",
    "    - Присутствуют проблемы на этапе перехода с главного экрана на карточку товара. Имеется просадка - 2826 раз пользователи не пошли дальше главного экрана, так и не открыв карточку товара\n",
    "    - 81% пользователей открыв карточку товара добавляет её в корзину. Хороший показатель, значит общая тсраница товаров хорошо проработана если 4 из 5 пользователей \"наводятся\" с первого раза\n",
    "    - Почти 95% пользователей совершают покупку после добавления в корзину. 1 из 20 откладывает покупку, или использует корзину как отдельный список, чтобы просмотреть интересные ему товары\n",
    "    - Туториал просмотрели 840 раз это лишь 11% от общего числа\n",
    "2. Шрифт \n",
    "    - А/А/В тест проведен корректно, различий между А1 и А2 не наблюдается \n",
    "    - Экспериментальная группа ничем не отличается от контрольных вабсолютных выражениях \n",
    "    - Исследование не выявило отличий в поведении покупателей в связи с новым шрифтом\n",
    "\n",
    "Предложения по улучшению приложения:\n",
    "1. Database девелоперам следует проверить с чем связаны неточности с выгрузкой датафрейма, появились дубликаты и временные рамки были заданы неверно.\n",
    "2. Следует решить проблему низкой конверсии главной страницы и карточек товара. Нужно улучшить алгоритм, который предлагает товары на главной странице. Надо пользоваться тем что пользователь зашёл на главную страницу и не упускать этот момент.\n",
    "3. Проработать механизм высвечивания туториала. Нужно задать определенные моменты срабатывания, например при первом запуске приложения или после долгого отсутствия.\n",
    "4. Шрифт никак не повлиял на восприятие пользователем приложения, значит введение изменения безопасно. "
   ]
  }
 ],
 "metadata": {
  "ExecuteTimeLog": [
   {
    "duration": 454,
    "start_time": "2023-04-30T20:30:00.240Z"
   },
   {
    "duration": 10,
    "start_time": "2023-04-30T20:30:15.838Z"
   },
   {
    "duration": 9,
    "start_time": "2023-04-30T20:30:20.293Z"
   },
   {
    "duration": 10,
    "start_time": "2023-04-30T20:30:25.985Z"
   },
   {
    "duration": 9,
    "start_time": "2023-04-30T20:30:31.397Z"
   },
   {
    "duration": 8,
    "start_time": "2023-04-30T20:33:07.737Z"
   },
   {
    "duration": 10,
    "start_time": "2023-04-30T20:33:19.676Z"
   },
   {
    "duration": 10,
    "start_time": "2023-04-30T20:33:25.489Z"
   },
   {
    "duration": 14,
    "start_time": "2023-04-30T20:33:32.574Z"
   },
   {
    "duration": 645,
    "start_time": "2023-04-30T20:33:39.048Z"
   },
   {
    "duration": 310,
    "start_time": "2023-04-30T20:33:45.848Z"
   },
   {
    "duration": 336,
    "start_time": "2023-04-30T20:34:07.097Z"
   },
   {
    "duration": 58,
    "start_time": "2023-04-30T20:34:52.284Z"
   },
   {
    "duration": 313,
    "start_time": "2023-04-30T20:34:57.253Z"
   },
   {
    "duration": 331,
    "start_time": "2023-04-30T20:35:06.953Z"
   },
   {
    "duration": 323,
    "start_time": "2023-04-30T20:35:42.286Z"
   },
   {
    "duration": 292,
    "start_time": "2023-04-30T20:35:45.461Z"
   },
   {
    "duration": 183,
    "start_time": "2023-04-30T20:36:38.634Z"
   },
   {
    "duration": 175,
    "start_time": "2023-04-30T20:36:48.900Z"
   },
   {
    "duration": 170,
    "start_time": "2023-04-30T20:39:02.649Z"
   },
   {
    "duration": 11,
    "start_time": "2023-04-30T20:39:11.805Z"
   },
   {
    "duration": 167,
    "start_time": "2023-04-30T20:39:19.612Z"
   },
   {
    "duration": 251,
    "start_time": "2023-04-30T20:39:28.309Z"
   },
   {
    "duration": 236,
    "start_time": "2023-04-30T20:41:03.450Z"
   },
   {
    "duration": 2,
    "start_time": "2023-04-30T20:44:46.349Z"
   },
   {
    "duration": 2,
    "start_time": "2023-04-30T20:46:13.277Z"
   },
   {
    "duration": 673,
    "start_time": "2023-04-30T20:46:18.137Z"
   },
   {
    "duration": 3,
    "start_time": "2023-04-30T20:46:18.817Z"
   },
   {
    "duration": 17,
    "start_time": "2023-04-30T20:46:18.822Z"
   },
   {
    "duration": 21,
    "start_time": "2023-04-30T20:46:18.841Z"
   },
   {
    "duration": 5,
    "start_time": "2023-04-30T20:46:26.131Z"
   },
   {
    "duration": 69,
    "start_time": "2023-04-30T20:49:23.316Z"
   },
   {
    "duration": 7,
    "start_time": "2023-04-30T20:59:34.037Z"
   },
   {
    "duration": 11,
    "start_time": "2023-04-30T20:59:46.075Z"
   },
   {
    "duration": 52,
    "start_time": "2023-04-30T20:59:58.915Z"
   },
   {
    "duration": 176,
    "start_time": "2023-04-30T21:05:34.855Z"
   },
   {
    "duration": 671,
    "start_time": "2023-04-30T21:05:55.145Z"
   },
   {
    "duration": 2,
    "start_time": "2023-04-30T21:05:55.818Z"
   },
   {
    "duration": 40,
    "start_time": "2023-04-30T21:05:55.822Z"
   },
   {
    "duration": 170,
    "start_time": "2023-04-30T21:05:55.864Z"
   },
   {
    "duration": 69,
    "start_time": "2023-04-30T21:11:08.660Z"
   },
   {
    "duration": 10,
    "start_time": "2023-04-30T21:11:31.057Z"
   },
   {
    "duration": 36,
    "start_time": "2023-04-30T21:11:54.071Z"
   },
   {
    "duration": 52,
    "start_time": "2023-04-30T21:12:00.321Z"
   },
   {
    "duration": 44,
    "start_time": "2023-04-30T21:12:09.840Z"
   },
   {
    "duration": 8,
    "start_time": "2023-04-30T21:20:33.799Z"
   },
   {
    "duration": 20,
    "start_time": "2023-04-30T21:23:24.408Z"
   },
   {
    "duration": 46,
    "start_time": "2023-04-30T21:24:43.654Z"
   },
   {
    "duration": 8,
    "start_time": "2023-04-30T21:25:39.666Z"
   },
   {
    "duration": 8,
    "start_time": "2023-04-30T21:26:18.705Z"
   },
   {
    "duration": 27,
    "start_time": "2023-04-30T21:26:56.633Z"
   },
   {
    "duration": 21,
    "start_time": "2023-04-30T21:27:15.329Z"
   },
   {
    "duration": 53,
    "start_time": "2023-04-30T21:27:58.226Z"
   },
   {
    "duration": 8,
    "start_time": "2023-04-30T21:29:43.846Z"
   },
   {
    "duration": 707,
    "start_time": "2023-04-30T21:30:04.199Z"
   },
   {
    "duration": 11,
    "start_time": "2023-04-30T21:30:04.908Z"
   },
   {
    "duration": 47,
    "start_time": "2023-04-30T21:30:04.921Z"
   },
   {
    "duration": 186,
    "start_time": "2023-04-30T21:30:04.970Z"
   },
   {
    "duration": 62,
    "start_time": "2023-04-30T21:30:05.159Z"
   },
   {
    "duration": 9,
    "start_time": "2023-04-30T21:30:05.222Z"
   },
   {
    "duration": 47,
    "start_time": "2023-04-30T21:30:05.233Z"
   },
   {
    "duration": 38,
    "start_time": "2023-04-30T21:30:05.282Z"
   },
   {
    "duration": 275,
    "start_time": "2023-04-30T21:32:13.649Z"
   },
   {
    "duration": 694,
    "start_time": "2023-04-30T21:32:45.323Z"
   },
   {
    "duration": 565,
    "start_time": "2023-04-30T21:32:55.543Z"
   },
   {
    "duration": 659,
    "start_time": "2023-04-30T21:33:08.956Z"
   },
   {
    "duration": 27,
    "start_time": "2023-04-30T21:33:48.773Z"
   },
   {
    "duration": 571,
    "start_time": "2023-04-30T21:34:13.211Z"
   },
   {
    "duration": 562,
    "start_time": "2023-04-30T21:35:04.576Z"
   },
   {
    "duration": 450,
    "start_time": "2023-04-30T21:35:33.082Z"
   },
   {
    "duration": 564,
    "start_time": "2023-04-30T21:35:42.251Z"
   },
   {
    "duration": 515,
    "start_time": "2023-04-30T21:35:48.375Z"
   },
   {
    "duration": 1007,
    "start_time": "2023-04-30T21:35:55.267Z"
   },
   {
    "duration": 521,
    "start_time": "2023-04-30T21:35:58.591Z"
   },
   {
    "duration": 490,
    "start_time": "2023-04-30T21:36:03.576Z"
   },
   {
    "duration": 454,
    "start_time": "2023-04-30T21:36:14.278Z"
   },
   {
    "duration": 142,
    "start_time": "2023-04-30T21:36:23.318Z"
   },
   {
    "duration": 36,
    "start_time": "2023-04-30T21:36:47.618Z"
   },
   {
    "duration": 8,
    "start_time": "2023-04-30T21:43:11.703Z"
   },
   {
    "duration": 877,
    "start_time": "2023-04-30T21:47:01.380Z"
   },
   {
    "duration": 162,
    "start_time": "2023-04-30T21:47:17.255Z"
   },
   {
    "duration": 37,
    "start_time": "2023-04-30T21:47:27.802Z"
   },
   {
    "duration": 134,
    "start_time": "2023-04-30T21:48:49.345Z"
   },
   {
    "duration": 39,
    "start_time": "2023-04-30T21:56:45.738Z"
   },
   {
    "duration": 26,
    "start_time": "2023-04-30T21:57:26.431Z"
   },
   {
    "duration": 41,
    "start_time": "2023-04-30T21:57:46.581Z"
   },
   {
    "duration": 202,
    "start_time": "2023-04-30T21:57:58.155Z"
   },
   {
    "duration": 264,
    "start_time": "2023-04-30T21:59:41.056Z"
   },
   {
    "duration": 4,
    "start_time": "2023-04-30T21:59:52.055Z"
   },
   {
    "duration": 454,
    "start_time": "2023-04-30T22:00:05.528Z"
   },
   {
    "duration": 203,
    "start_time": "2023-04-30T22:00:35.049Z"
   },
   {
    "duration": 201,
    "start_time": "2023-04-30T22:00:44.016Z"
   },
   {
    "duration": 32,
    "start_time": "2023-04-30T22:10:19.625Z"
   },
   {
    "duration": 35,
    "start_time": "2023-04-30T22:10:50.053Z"
   },
   {
    "duration": 37,
    "start_time": "2023-04-30T22:11:40.336Z"
   },
   {
    "duration": 39,
    "start_time": "2023-04-30T22:12:21.677Z"
   },
   {
    "duration": 26,
    "start_time": "2023-04-30T22:12:44.224Z"
   },
   {
    "duration": 40,
    "start_time": "2023-04-30T22:12:53.389Z"
   },
   {
    "duration": 44,
    "start_time": "2023-04-30T22:16:17.052Z"
   },
   {
    "duration": 287,
    "start_time": "2023-04-30T22:16:25.029Z"
   },
   {
    "duration": 32,
    "start_time": "2023-04-30T22:16:36.970Z"
   },
   {
    "duration": 38,
    "start_time": "2023-04-30T22:16:45.817Z"
   },
   {
    "duration": 62,
    "start_time": "2023-04-30T22:19:57.837Z"
   },
   {
    "duration": 59,
    "start_time": "2023-04-30T22:20:36.787Z"
   },
   {
    "duration": 57,
    "start_time": "2023-04-30T22:21:02.629Z"
   },
   {
    "duration": 512,
    "start_time": "2023-04-30T22:21:26.818Z"
   },
   {
    "duration": 42,
    "start_time": "2023-04-30T22:22:03.858Z"
   },
   {
    "duration": 12,
    "start_time": "2023-04-30T22:23:13.817Z"
   },
   {
    "duration": 39,
    "start_time": "2023-04-30T22:26:52.439Z"
   },
   {
    "duration": 27,
    "start_time": "2023-04-30T22:32:32.173Z"
   },
   {
    "duration": 29,
    "start_time": "2023-04-30T22:32:41.812Z"
   },
   {
    "duration": 48,
    "start_time": "2023-04-30T22:32:46.989Z"
   },
   {
    "duration": 27,
    "start_time": "2023-04-30T22:33:09.669Z"
   },
   {
    "duration": 692,
    "start_time": "2023-04-30T22:33:32.384Z"
   },
   {
    "duration": 2,
    "start_time": "2023-04-30T22:33:33.079Z"
   },
   {
    "duration": 29,
    "start_time": "2023-04-30T22:33:33.083Z"
   },
   {
    "duration": 168,
    "start_time": "2023-04-30T22:33:33.114Z"
   },
   {
    "duration": 53,
    "start_time": "2023-04-30T22:33:33.283Z"
   },
   {
    "duration": 8,
    "start_time": "2023-04-30T22:33:33.338Z"
   },
   {
    "duration": 28,
    "start_time": "2023-04-30T22:33:33.348Z"
   },
   {
    "duration": 785,
    "start_time": "2023-04-30T22:33:33.378Z"
   },
   {
    "duration": 534,
    "start_time": "2023-04-30T22:33:34.165Z"
   },
   {
    "duration": 51,
    "start_time": "2023-04-30T22:33:34.701Z"
   },
   {
    "duration": 20,
    "start_time": "2023-04-30T22:33:34.753Z"
   },
   {
    "duration": 110,
    "start_time": "2023-04-30T22:33:34.775Z"
   },
   {
    "duration": 28,
    "start_time": "2023-04-30T22:34:17.397Z"
   },
   {
    "duration": 53,
    "start_time": "2023-04-30T22:34:20.604Z"
   },
   {
    "duration": 35,
    "start_time": "2023-04-30T22:34:37.310Z"
   },
   {
    "duration": 27,
    "start_time": "2023-04-30T22:34:43.998Z"
   },
   {
    "duration": 59,
    "start_time": "2023-04-30T22:35:31.005Z"
   },
   {
    "duration": 58,
    "start_time": "2023-04-30T22:36:04.399Z"
   },
   {
    "duration": 71,
    "start_time": "2023-04-30T22:43:59.585Z"
   },
   {
    "duration": 187,
    "start_time": "2023-04-30T22:45:47.765Z"
   },
   {
    "duration": 174,
    "start_time": "2023-04-30T22:45:55.933Z"
   },
   {
    "duration": 69,
    "start_time": "2023-04-30T22:46:18.219Z"
   },
   {
    "duration": 82,
    "start_time": "2023-04-30T22:46:35.592Z"
   },
   {
    "duration": 118,
    "start_time": "2023-04-30T22:47:40.110Z"
   },
   {
    "duration": 37,
    "start_time": "2023-04-30T22:53:23.597Z"
   },
   {
    "duration": 24,
    "start_time": "2023-04-30T22:59:35.826Z"
   },
   {
    "duration": 28,
    "start_time": "2023-04-30T23:00:11.485Z"
   },
   {
    "duration": 21,
    "start_time": "2023-04-30T23:00:35.006Z"
   },
   {
    "duration": 23,
    "start_time": "2023-04-30T23:01:00.588Z"
   },
   {
    "duration": 29,
    "start_time": "2023-04-30T23:01:10.459Z"
   },
   {
    "duration": 25,
    "start_time": "2023-04-30T23:01:38.676Z"
   },
   {
    "duration": 36,
    "start_time": "2023-04-30T23:06:20.907Z"
   },
   {
    "duration": 26,
    "start_time": "2023-04-30T23:11:49.826Z"
   },
   {
    "duration": 21,
    "start_time": "2023-04-30T23:12:35.752Z"
   },
   {
    "duration": 27,
    "start_time": "2023-04-30T23:12:43.555Z"
   },
   {
    "duration": 27,
    "start_time": "2023-04-30T23:13:34.351Z"
   },
   {
    "duration": 27,
    "start_time": "2023-04-30T23:14:01.423Z"
   },
   {
    "duration": 27,
    "start_time": "2023-04-30T23:14:12.979Z"
   },
   {
    "duration": 27,
    "start_time": "2023-04-30T23:14:19.923Z"
   },
   {
    "duration": 28,
    "start_time": "2023-04-30T23:15:17.314Z"
   },
   {
    "duration": 19,
    "start_time": "2023-04-30T23:16:39.684Z"
   },
   {
    "duration": 20,
    "start_time": "2023-04-30T23:16:49.985Z"
   },
   {
    "duration": 707,
    "start_time": "2023-04-30T23:18:02.017Z"
   },
   {
    "duration": 3,
    "start_time": "2023-04-30T23:18:02.727Z"
   },
   {
    "duration": 14,
    "start_time": "2023-04-30T23:18:02.731Z"
   },
   {
    "duration": 170,
    "start_time": "2023-04-30T23:18:02.747Z"
   },
   {
    "duration": 49,
    "start_time": "2023-04-30T23:18:02.919Z"
   },
   {
    "duration": 8,
    "start_time": "2023-04-30T23:18:02.970Z"
   },
   {
    "duration": 49,
    "start_time": "2023-04-30T23:18:02.980Z"
   },
   {
    "duration": 754,
    "start_time": "2023-04-30T23:18:03.031Z"
   },
   {
    "duration": 506,
    "start_time": "2023-04-30T23:18:03.787Z"
   },
   {
    "duration": 50,
    "start_time": "2023-04-30T23:18:04.296Z"
   },
   {
    "duration": 34,
    "start_time": "2023-04-30T23:18:04.347Z"
   },
   {
    "duration": 51,
    "start_time": "2023-04-30T23:18:04.383Z"
   },
   {
    "duration": 115,
    "start_time": "2023-04-30T23:18:04.436Z"
   },
   {
    "duration": 25,
    "start_time": "2023-04-30T23:18:04.552Z"
   },
   {
    "duration": 44,
    "start_time": "2023-04-30T23:18:04.579Z"
   },
   {
    "duration": 18,
    "start_time": "2023-04-30T23:18:04.625Z"
   },
   {
    "duration": 86,
    "start_time": "2023-04-30T23:19:24.891Z"
   },
   {
    "duration": 19,
    "start_time": "2023-04-30T23:19:35.727Z"
   },
   {
    "duration": 67,
    "start_time": "2023-04-30T23:28:31.267Z"
   },
   {
    "duration": 22,
    "start_time": "2023-04-30T23:28:46.043Z"
   },
   {
    "duration": 20,
    "start_time": "2023-04-30T23:31:07.935Z"
   },
   {
    "duration": 29,
    "start_time": "2023-04-30T23:31:27.856Z"
   },
   {
    "duration": 23,
    "start_time": "2023-04-30T23:31:37.959Z"
   },
   {
    "duration": 23,
    "start_time": "2023-04-30T23:32:52.096Z"
   },
   {
    "duration": 27,
    "start_time": "2023-04-30T23:33:01.223Z"
   },
   {
    "duration": 985,
    "start_time": "2023-04-30T23:36:41.785Z"
   },
   {
    "duration": 946,
    "start_time": "2023-04-30T23:37:36.568Z"
   },
   {
    "duration": 868,
    "start_time": "2023-04-30T23:37:54.107Z"
   },
   {
    "duration": 26,
    "start_time": "2023-04-30T23:38:27.119Z"
   },
   {
    "duration": 29,
    "start_time": "2023-04-30T23:38:50.924Z"
   },
   {
    "duration": 29,
    "start_time": "2023-04-30T23:39:08.332Z"
   },
   {
    "duration": 61,
    "start_time": "2023-05-01T11:41:36.708Z"
   },
   {
    "duration": 1422,
    "start_time": "2023-05-01T11:41:48.202Z"
   },
   {
    "duration": 5,
    "start_time": "2023-05-01T11:41:49.626Z"
   },
   {
    "duration": 15,
    "start_time": "2023-05-01T11:41:49.633Z"
   },
   {
    "duration": 183,
    "start_time": "2023-05-01T11:41:49.651Z"
   },
   {
    "duration": 61,
    "start_time": "2023-05-01T11:41:49.836Z"
   },
   {
    "duration": 24,
    "start_time": "2023-05-01T11:41:49.900Z"
   },
   {
    "duration": 29,
    "start_time": "2023-05-01T11:41:49.925Z"
   },
   {
    "duration": 1139,
    "start_time": "2023-05-01T11:41:49.956Z"
   },
   {
    "duration": 558,
    "start_time": "2023-05-01T11:41:51.097Z"
   },
   {
    "duration": 64,
    "start_time": "2023-05-01T11:41:51.658Z"
   },
   {
    "duration": 34,
    "start_time": "2023-05-01T11:41:51.730Z"
   },
   {
    "duration": 34,
    "start_time": "2023-05-01T11:41:51.766Z"
   },
   {
    "duration": 131,
    "start_time": "2023-05-01T11:41:51.815Z"
   },
   {
    "duration": 30,
    "start_time": "2023-05-01T11:41:51.948Z"
   },
   {
    "duration": 61,
    "start_time": "2023-05-01T11:41:51.980Z"
   },
   {
    "duration": 31,
    "start_time": "2023-05-01T11:41:52.042Z"
   },
   {
    "duration": 109,
    "start_time": "2023-05-01T11:41:52.075Z"
   },
   {
    "duration": 38,
    "start_time": "2023-05-01T11:42:00.705Z"
   },
   {
    "duration": 50,
    "start_time": "2023-05-01T11:42:57.435Z"
   },
   {
    "duration": 54,
    "start_time": "2023-05-01T11:43:46.752Z"
   },
   {
    "duration": 100,
    "start_time": "2023-05-01T11:52:49.842Z"
   },
   {
    "duration": 112,
    "start_time": "2023-05-01T12:00:08.158Z"
   },
   {
    "duration": 130,
    "start_time": "2023-05-01T12:01:49.810Z"
   },
   {
    "duration": 98,
    "start_time": "2023-05-01T12:02:19.169Z"
   },
   {
    "duration": 1369,
    "start_time": "2023-05-01T12:02:21.912Z"
   },
   {
    "duration": 96,
    "start_time": "2023-05-01T12:03:42.040Z"
   },
   {
    "duration": 98,
    "start_time": "2023-05-01T12:03:44.786Z"
   },
   {
    "duration": 89,
    "start_time": "2023-05-01T12:04:25.086Z"
   },
   {
    "duration": 98,
    "start_time": "2023-05-01T12:04:35.777Z"
   },
   {
    "duration": 90,
    "start_time": "2023-05-01T12:07:11.930Z"
   },
   {
    "duration": 1452,
    "start_time": "2023-05-01T12:07:26.992Z"
   },
   {
    "duration": 152,
    "start_time": "2023-05-01T12:07:37.676Z"
   },
   {
    "duration": 1333,
    "start_time": "2023-05-01T12:07:45.639Z"
   },
   {
    "duration": 93,
    "start_time": "2023-05-01T12:12:42.635Z"
   },
   {
    "duration": 1349,
    "start_time": "2023-05-01T12:12:46.587Z"
   },
   {
    "duration": 6,
    "start_time": "2023-05-01T12:26:44.625Z"
   },
   {
    "duration": 93,
    "start_time": "2023-05-01T12:26:53.488Z"
   },
   {
    "duration": 10,
    "start_time": "2023-05-01T12:29:38.729Z"
   },
   {
    "duration": 106,
    "start_time": "2023-05-01T12:30:20.947Z"
   },
   {
    "duration": 80,
    "start_time": "2023-05-01T12:30:33.504Z"
   },
   {
    "duration": 41,
    "start_time": "2023-05-01T12:30:52.804Z"
   },
   {
    "duration": 37,
    "start_time": "2023-05-01T12:31:38.407Z"
   },
   {
    "duration": 18,
    "start_time": "2023-05-01T12:32:18.945Z"
   },
   {
    "duration": 37,
    "start_time": "2023-05-01T12:34:07.689Z"
   },
   {
    "duration": 34,
    "start_time": "2023-05-01T12:34:34.853Z"
   },
   {
    "duration": 12,
    "start_time": "2023-05-01T12:35:30.169Z"
   },
   {
    "duration": 30,
    "start_time": "2023-05-01T12:35:48.025Z"
   },
   {
    "duration": 30,
    "start_time": "2023-05-01T12:36:01.849Z"
   },
   {
    "duration": 28,
    "start_time": "2023-05-01T12:36:11.732Z"
   },
   {
    "duration": 30,
    "start_time": "2023-05-01T12:37:19.631Z"
   },
   {
    "duration": 11,
    "start_time": "2023-05-01T12:37:46.086Z"
   },
   {
    "duration": 53,
    "start_time": "2023-05-01T12:38:01.237Z"
   },
   {
    "duration": 12,
    "start_time": "2023-05-01T12:38:21.296Z"
   },
   {
    "duration": 64,
    "start_time": "2023-05-01T12:38:28.392Z"
   },
   {
    "duration": 12,
    "start_time": "2023-05-01T12:38:56.939Z"
   },
   {
    "duration": 21,
    "start_time": "2023-05-01T12:41:28.844Z"
   },
   {
    "duration": 7,
    "start_time": "2023-05-01T12:41:58.298Z"
   },
   {
    "duration": 9,
    "start_time": "2023-05-01T12:42:04.328Z"
   },
   {
    "duration": 7,
    "start_time": "2023-05-01T12:42:10.610Z"
   },
   {
    "duration": 25,
    "start_time": "2023-05-01T12:44:16.116Z"
   },
   {
    "duration": 29,
    "start_time": "2023-05-01T12:44:28.696Z"
   },
   {
    "duration": 19,
    "start_time": "2023-05-01T12:44:36.159Z"
   },
   {
    "duration": 23,
    "start_time": "2023-05-01T12:45:09.824Z"
   },
   {
    "duration": 25,
    "start_time": "2023-05-01T12:45:17.095Z"
   },
   {
    "duration": 29,
    "start_time": "2023-05-01T12:45:30.829Z"
   },
   {
    "duration": 21,
    "start_time": "2023-05-01T12:45:40.833Z"
   },
   {
    "duration": 29,
    "start_time": "2023-05-01T12:48:14.947Z"
   },
   {
    "duration": 29,
    "start_time": "2023-05-01T12:48:24.533Z"
   },
   {
    "duration": 13,
    "start_time": "2023-05-01T12:48:50.910Z"
   },
   {
    "duration": 11,
    "start_time": "2023-05-01T12:49:01.086Z"
   },
   {
    "duration": 4,
    "start_time": "2023-05-01T12:49:29.941Z"
   },
   {
    "duration": 5,
    "start_time": "2023-05-01T12:50:44.448Z"
   },
   {
    "duration": 97,
    "start_time": "2023-05-01T12:51:01.332Z"
   },
   {
    "duration": 96,
    "start_time": "2023-05-01T12:52:49.952Z"
   },
   {
    "duration": 106,
    "start_time": "2023-05-01T12:55:10.054Z"
   },
   {
    "duration": 104,
    "start_time": "2023-05-01T12:55:41.729Z"
   },
   {
    "duration": 89,
    "start_time": "2023-05-01T12:55:51.996Z"
   },
   {
    "duration": 100,
    "start_time": "2023-05-01T12:55:57.345Z"
   },
   {
    "duration": 98,
    "start_time": "2023-05-01T12:59:03.917Z"
   },
   {
    "duration": 4,
    "start_time": "2023-05-01T13:41:07.451Z"
   },
   {
    "duration": 87,
    "start_time": "2023-05-01T13:43:19.349Z"
   },
   {
    "duration": 100,
    "start_time": "2023-05-01T13:43:24.425Z"
   },
   {
    "duration": 97,
    "start_time": "2023-05-01T13:43:38.225Z"
   },
   {
    "duration": 128,
    "start_time": "2023-05-01T13:45:37.403Z"
   },
   {
    "duration": 120,
    "start_time": "2023-05-01T13:46:54.737Z"
   },
   {
    "duration": 117,
    "start_time": "2023-05-01T13:48:10.929Z"
   },
   {
    "duration": 127,
    "start_time": "2023-05-01T13:54:23.747Z"
   },
   {
    "duration": 116,
    "start_time": "2023-05-01T13:55:26.455Z"
   },
   {
    "duration": 126,
    "start_time": "2023-05-01T14:00:54.365Z"
   },
   {
    "duration": 13,
    "start_time": "2023-05-01T14:06:11.150Z"
   },
   {
    "duration": 49,
    "start_time": "2023-05-01T14:06:22.381Z"
   },
   {
    "duration": 675,
    "start_time": "2023-05-01T14:13:41.367Z"
   },
   {
    "duration": 3,
    "start_time": "2023-05-01T14:13:42.043Z"
   },
   {
    "duration": 11,
    "start_time": "2023-05-01T14:13:42.048Z"
   },
   {
    "duration": 196,
    "start_time": "2023-05-01T14:13:42.062Z"
   },
   {
    "duration": 920,
    "start_time": "2023-05-01T14:13:42.259Z"
   },
   {
    "duration": 64,
    "start_time": "2023-05-01T14:13:43.181Z"
   },
   {
    "duration": 41,
    "start_time": "2023-05-01T14:13:43.247Z"
   },
   {
    "duration": 77,
    "start_time": "2023-05-01T14:13:43.290Z"
   },
   {
    "duration": 925,
    "start_time": "2023-05-01T14:13:43.369Z"
   },
   {
    "duration": 639,
    "start_time": "2023-05-01T14:13:44.296Z"
   },
   {
    "duration": 43,
    "start_time": "2023-05-01T14:13:44.936Z"
   },
   {
    "duration": 89,
    "start_time": "2023-05-01T14:13:44.981Z"
   },
   {
    "duration": 59,
    "start_time": "2023-05-01T14:13:45.072Z"
   },
   {
    "duration": 167,
    "start_time": "2023-05-01T14:13:45.133Z"
   },
   {
    "duration": 39,
    "start_time": "2023-05-01T14:13:45.302Z"
   },
   {
    "duration": 87,
    "start_time": "2023-05-01T14:13:45.342Z"
   },
   {
    "duration": 58,
    "start_time": "2023-05-01T14:13:45.431Z"
   },
   {
    "duration": 150,
    "start_time": "2023-05-01T14:13:45.491Z"
   },
   {
    "duration": 196,
    "start_time": "2023-05-01T14:13:45.643Z"
   },
   {
    "duration": 85,
    "start_time": "2023-05-01T14:13:45.840Z"
   },
   {
    "duration": 663,
    "start_time": "2023-05-01T14:14:37.660Z"
   },
   {
    "duration": 3,
    "start_time": "2023-05-01T14:14:38.325Z"
   },
   {
    "duration": 11,
    "start_time": "2023-05-01T14:14:38.330Z"
   },
   {
    "duration": 183,
    "start_time": "2023-05-01T14:14:38.343Z"
   },
   {
    "duration": 61,
    "start_time": "2023-05-01T14:14:38.528Z"
   },
   {
    "duration": 56,
    "start_time": "2023-05-01T14:14:38.591Z"
   },
   {
    "duration": 8,
    "start_time": "2023-05-01T14:14:38.649Z"
   },
   {
    "duration": 63,
    "start_time": "2023-05-01T14:14:38.660Z"
   },
   {
    "duration": 1024,
    "start_time": "2023-05-01T14:14:38.731Z"
   },
   {
    "duration": 577,
    "start_time": "2023-05-01T14:14:39.758Z"
   },
   {
    "duration": 47,
    "start_time": "2023-05-01T14:14:40.337Z"
   },
   {
    "duration": 56,
    "start_time": "2023-05-01T14:14:40.386Z"
   },
   {
    "duration": 33,
    "start_time": "2023-05-01T14:14:40.444Z"
   },
   {
    "duration": 144,
    "start_time": "2023-05-01T14:14:40.480Z"
   },
   {
    "duration": 27,
    "start_time": "2023-05-01T14:14:40.625Z"
   },
   {
    "duration": 31,
    "start_time": "2023-05-01T14:14:40.653Z"
   },
   {
    "duration": 52,
    "start_time": "2023-05-01T14:14:40.686Z"
   },
   {
    "duration": 109,
    "start_time": "2023-05-01T14:14:40.739Z"
   },
   {
    "duration": 144,
    "start_time": "2023-05-01T14:14:40.850Z"
   },
   {
    "duration": 42,
    "start_time": "2023-05-01T14:14:40.995Z"
   },
   {
    "duration": 713,
    "start_time": "2023-05-01T14:15:35.794Z"
   },
   {
    "duration": 7,
    "start_time": "2023-05-01T14:15:39.173Z"
   },
   {
    "duration": 10,
    "start_time": "2023-05-01T14:15:39.539Z"
   },
   {
    "duration": 169,
    "start_time": "2023-05-01T14:15:39.925Z"
   },
   {
    "duration": 44,
    "start_time": "2023-05-01T14:15:41.089Z"
   },
   {
    "duration": 694,
    "start_time": "2023-05-01T14:16:19.778Z"
   },
   {
    "duration": 3,
    "start_time": "2023-05-01T14:16:21.369Z"
   },
   {
    "duration": 15,
    "start_time": "2023-05-01T14:16:21.700Z"
   },
   {
    "duration": 171,
    "start_time": "2023-05-01T14:16:22.192Z"
   },
   {
    "duration": 86,
    "start_time": "2023-05-01T14:16:22.996Z"
   },
   {
    "duration": 711,
    "start_time": "2023-05-01T14:16:59.934Z"
   },
   {
    "duration": 3,
    "start_time": "2023-05-01T14:17:05.206Z"
   },
   {
    "duration": 10,
    "start_time": "2023-05-01T14:17:05.548Z"
   },
   {
    "duration": 173,
    "start_time": "2023-05-01T14:17:05.912Z"
   },
   {
    "duration": 69,
    "start_time": "2023-05-01T14:17:06.268Z"
   },
   {
    "duration": 701,
    "start_time": "2023-05-01T14:17:17.225Z"
   },
   {
    "duration": 4,
    "start_time": "2023-05-01T14:17:17.928Z"
   },
   {
    "duration": 27,
    "start_time": "2023-05-01T14:17:17.933Z"
   },
   {
    "duration": 185,
    "start_time": "2023-05-01T14:17:17.964Z"
   },
   {
    "duration": 86,
    "start_time": "2023-05-01T14:17:18.151Z"
   },
   {
    "duration": 58,
    "start_time": "2023-05-01T14:17:18.239Z"
   },
   {
    "duration": 13,
    "start_time": "2023-05-01T14:17:18.316Z"
   },
   {
    "duration": 28,
    "start_time": "2023-05-01T14:17:18.331Z"
   },
   {
    "duration": 927,
    "start_time": "2023-05-01T14:17:18.361Z"
   },
   {
    "duration": 613,
    "start_time": "2023-05-01T14:17:19.291Z"
   },
   {
    "duration": 53,
    "start_time": "2023-05-01T14:17:19.912Z"
   },
   {
    "duration": 63,
    "start_time": "2023-05-01T14:17:19.967Z"
   },
   {
    "duration": 32,
    "start_time": "2023-05-01T14:17:20.031Z"
   },
   {
    "duration": 122,
    "start_time": "2023-05-01T14:17:20.065Z"
   },
   {
    "duration": 46,
    "start_time": "2023-05-01T14:17:20.188Z"
   },
   {
    "duration": 30,
    "start_time": "2023-05-01T14:17:20.236Z"
   },
   {
    "duration": 32,
    "start_time": "2023-05-01T14:17:20.268Z"
   },
   {
    "duration": 108,
    "start_time": "2023-05-01T14:17:20.314Z"
   },
   {
    "duration": 128,
    "start_time": "2023-05-01T14:17:20.425Z"
   },
   {
    "duration": 43,
    "start_time": "2023-05-01T14:17:20.555Z"
   },
   {
    "duration": 110,
    "start_time": "2023-05-01T14:28:43.421Z"
   },
   {
    "duration": 90,
    "start_time": "2023-05-01T14:29:03.767Z"
   },
   {
    "duration": 55,
    "start_time": "2023-05-01T14:29:08.296Z"
   },
   {
    "duration": 45,
    "start_time": "2023-05-01T14:29:52.228Z"
   },
   {
    "duration": 41,
    "start_time": "2023-05-01T14:29:54.248Z"
   },
   {
    "duration": 52,
    "start_time": "2023-05-01T14:30:04.487Z"
   },
   {
    "duration": 51,
    "start_time": "2023-05-01T14:31:30.997Z"
   },
   {
    "duration": 47,
    "start_time": "2023-05-01T14:31:36.691Z"
   },
   {
    "duration": 43,
    "start_time": "2023-05-01T14:31:52.936Z"
   },
   {
    "duration": 48,
    "start_time": "2023-05-01T14:32:08.177Z"
   },
   {
    "duration": 47,
    "start_time": "2023-05-01T14:32:14.504Z"
   },
   {
    "duration": 40,
    "start_time": "2023-05-01T14:32:17.553Z"
   },
   {
    "duration": 50,
    "start_time": "2023-05-01T14:32:21.109Z"
   },
   {
    "duration": 45,
    "start_time": "2023-05-01T14:32:53.183Z"
   },
   {
    "duration": 350,
    "start_time": "2023-05-01T14:36:52.065Z"
   },
   {
    "duration": 320,
    "start_time": "2023-05-01T14:37:10.052Z"
   },
   {
    "duration": 47,
    "start_time": "2023-05-01T14:37:40.740Z"
   },
   {
    "duration": 68,
    "start_time": "2023-05-01T14:37:47.709Z"
   },
   {
    "duration": 39,
    "start_time": "2023-05-01T14:38:24.825Z"
   },
   {
    "duration": 72,
    "start_time": "2023-05-01T14:38:33.809Z"
   },
   {
    "duration": 40,
    "start_time": "2023-05-01T14:39:12.425Z"
   },
   {
    "duration": 43,
    "start_time": "2023-05-01T14:39:55.627Z"
   },
   {
    "duration": 81,
    "start_time": "2023-05-01T14:40:08.633Z"
   },
   {
    "duration": 1180,
    "start_time": "2023-05-01T14:42:39.527Z"
   },
   {
    "duration": 5,
    "start_time": "2023-05-01T14:42:40.712Z"
   },
   {
    "duration": 17,
    "start_time": "2023-05-01T14:42:40.719Z"
   },
   {
    "duration": 177,
    "start_time": "2023-05-01T14:42:40.738Z"
   },
   {
    "duration": 67,
    "start_time": "2023-05-01T14:42:40.925Z"
   },
   {
    "duration": 62,
    "start_time": "2023-05-01T14:42:40.994Z"
   },
   {
    "duration": 10,
    "start_time": "2023-05-01T14:42:41.058Z"
   },
   {
    "duration": 55,
    "start_time": "2023-05-01T14:42:41.071Z"
   },
   {
    "duration": 888,
    "start_time": "2023-05-01T14:42:41.127Z"
   },
   {
    "duration": 569,
    "start_time": "2023-05-01T14:42:42.024Z"
   },
   {
    "duration": 61,
    "start_time": "2023-05-01T14:42:42.594Z"
   },
   {
    "duration": 68,
    "start_time": "2023-05-01T14:42:42.657Z"
   },
   {
    "duration": 31,
    "start_time": "2023-05-01T14:42:42.727Z"
   },
   {
    "duration": 116,
    "start_time": "2023-05-01T14:42:42.760Z"
   },
   {
    "duration": 45,
    "start_time": "2023-05-01T14:42:42.878Z"
   },
   {
    "duration": 29,
    "start_time": "2023-05-01T14:42:42.925Z"
   },
   {
    "duration": 31,
    "start_time": "2023-05-01T14:42:42.956Z"
   },
   {
    "duration": 110,
    "start_time": "2023-05-01T14:42:42.989Z"
   },
   {
    "duration": 138,
    "start_time": "2023-05-01T14:42:43.100Z"
   },
   {
    "duration": 44,
    "start_time": "2023-05-01T14:42:43.240Z"
   },
   {
    "duration": 101,
    "start_time": "2023-05-01T14:42:43.286Z"
   },
   {
    "duration": 166,
    "start_time": "2023-05-01T14:46:46.485Z"
   },
   {
    "duration": 151,
    "start_time": "2023-05-01T14:52:24.205Z"
   },
   {
    "duration": 167,
    "start_time": "2023-05-01T14:52:43.803Z"
   },
   {
    "duration": 183,
    "start_time": "2023-05-01T14:53:56.618Z"
   },
   {
    "duration": 248,
    "start_time": "2023-05-01T14:54:42.726Z"
   },
   {
    "duration": 167,
    "start_time": "2023-05-01T14:54:49.886Z"
   },
   {
    "duration": 155,
    "start_time": "2023-05-01T14:55:02.934Z"
   },
   {
    "duration": 173,
    "start_time": "2023-05-01T14:57:30.578Z"
   },
   {
    "duration": 8,
    "start_time": "2023-05-01T15:22:18.541Z"
   },
   {
    "duration": 37,
    "start_time": "2023-05-01T15:25:01.605Z"
   },
   {
    "duration": 7,
    "start_time": "2023-05-01T15:25:31.437Z"
   },
   {
    "duration": 60,
    "start_time": "2023-05-01T15:25:35.973Z"
   },
   {
    "duration": 80,
    "start_time": "2023-05-01T15:25:52.103Z"
   },
   {
    "duration": 5,
    "start_time": "2023-05-01T15:25:58.831Z"
   },
   {
    "duration": 37,
    "start_time": "2023-05-01T15:26:01.417Z"
   },
   {
    "duration": 6,
    "start_time": "2023-05-01T15:26:14.403Z"
   },
   {
    "duration": 41,
    "start_time": "2023-05-01T15:26:15.897Z"
   },
   {
    "duration": 5,
    "start_time": "2023-05-01T15:26:41.396Z"
   },
   {
    "duration": 91,
    "start_time": "2023-05-01T15:26:44.043Z"
   },
   {
    "duration": 133,
    "start_time": "2023-05-01T15:27:33.054Z"
   },
   {
    "duration": 128,
    "start_time": "2023-05-01T15:27:39.106Z"
   },
   {
    "duration": 70,
    "start_time": "2023-05-01T15:28:25.541Z"
   },
   {
    "duration": 5,
    "start_time": "2023-05-01T15:29:41.754Z"
   },
   {
    "duration": 65,
    "start_time": "2023-05-01T15:29:43.258Z"
   },
   {
    "duration": 33,
    "start_time": "2023-05-01T15:30:54.427Z"
   },
   {
    "duration": 8,
    "start_time": "2023-05-01T15:30:58.874Z"
   },
   {
    "duration": 70,
    "start_time": "2023-05-01T15:31:00.126Z"
   },
   {
    "duration": 69,
    "start_time": "2023-05-01T15:31:41.177Z"
   },
   {
    "duration": 6,
    "start_time": "2023-05-01T15:32:10.332Z"
   },
   {
    "duration": 80,
    "start_time": "2023-05-01T15:32:11.773Z"
   },
   {
    "duration": 67,
    "start_time": "2023-05-01T15:32:20.356Z"
   },
   {
    "duration": 8,
    "start_time": "2023-05-01T15:33:44.071Z"
   },
   {
    "duration": 151,
    "start_time": "2023-05-01T15:33:48.732Z"
   },
   {
    "duration": 128,
    "start_time": "2023-05-01T15:33:59.613Z"
   },
   {
    "duration": 131,
    "start_time": "2023-05-01T15:34:04.409Z"
   },
   {
    "duration": 120,
    "start_time": "2023-05-01T15:34:08.421Z"
   },
   {
    "duration": 6,
    "start_time": "2023-05-01T15:36:00.422Z"
   },
   {
    "duration": 125,
    "start_time": "2023-05-01T15:36:03.322Z"
   },
   {
    "duration": 30,
    "start_time": "2023-05-01T15:37:05.231Z"
   },
   {
    "duration": 89,
    "start_time": "2023-05-01T15:37:06.381Z"
   },
   {
    "duration": 155,
    "start_time": "2023-05-01T15:40:47.813Z"
   },
   {
    "duration": 30,
    "start_time": "2023-05-01T15:41:23.530Z"
   },
   {
    "duration": 45,
    "start_time": "2023-05-01T15:41:24.817Z"
   },
   {
    "duration": 32,
    "start_time": "2023-05-01T15:42:01.259Z"
   },
   {
    "duration": 87,
    "start_time": "2023-05-01T15:42:02.237Z"
   },
   {
    "duration": 162,
    "start_time": "2023-05-01T15:42:37.478Z"
   },
   {
    "duration": 32,
    "start_time": "2023-05-01T15:43:06.842Z"
   },
   {
    "duration": 60,
    "start_time": "2023-05-01T15:43:16.390Z"
   },
   {
    "duration": 71,
    "start_time": "2023-05-01T15:43:54.342Z"
   },
   {
    "duration": 160,
    "start_time": "2023-05-01T15:44:11.262Z"
   },
   {
    "duration": 168,
    "start_time": "2023-05-01T15:46:59.289Z"
   },
   {
    "duration": 190,
    "start_time": "2023-05-01T15:47:54.858Z"
   },
   {
    "duration": 1192,
    "start_time": "2023-05-01T16:01:20.268Z"
   },
   {
    "duration": 3,
    "start_time": "2023-05-01T16:01:21.462Z"
   },
   {
    "duration": 15,
    "start_time": "2023-05-01T16:01:21.466Z"
   },
   {
    "duration": 175,
    "start_time": "2023-05-01T16:01:21.483Z"
   },
   {
    "duration": 76,
    "start_time": "2023-05-01T16:01:21.660Z"
   },
   {
    "duration": 51,
    "start_time": "2023-05-01T16:01:21.737Z"
   },
   {
    "duration": 27,
    "start_time": "2023-05-01T16:01:21.789Z"
   },
   {
    "duration": 29,
    "start_time": "2023-05-01T16:01:21.818Z"
   },
   {
    "duration": 839,
    "start_time": "2023-05-01T16:01:21.849Z"
   },
   {
    "duration": 597,
    "start_time": "2023-05-01T16:01:22.690Z"
   },
   {
    "duration": 64,
    "start_time": "2023-05-01T16:01:23.289Z"
   },
   {
    "duration": 67,
    "start_time": "2023-05-01T16:01:23.354Z"
   },
   {
    "duration": 35,
    "start_time": "2023-05-01T16:01:23.423Z"
   },
   {
    "duration": 129,
    "start_time": "2023-05-01T16:01:23.460Z"
   },
   {
    "duration": 32,
    "start_time": "2023-05-01T16:01:23.591Z"
   },
   {
    "duration": 38,
    "start_time": "2023-05-01T16:01:23.625Z"
   },
   {
    "duration": 31,
    "start_time": "2023-05-01T16:01:23.665Z"
   },
   {
    "duration": 40,
    "start_time": "2023-05-01T16:01:23.698Z"
   },
   {
    "duration": 120,
    "start_time": "2023-05-01T16:01:23.740Z"
   },
   {
    "duration": 74,
    "start_time": "2023-05-01T16:01:23.862Z"
   },
   {
    "duration": 170,
    "start_time": "2023-05-01T16:01:23.938Z"
   },
   {
    "duration": 203,
    "start_time": "2023-05-01T16:01:24.111Z"
   },
   {
    "duration": 167,
    "start_time": "2023-05-01T16:09:08.655Z"
   },
   {
    "duration": 69,
    "start_time": "2023-05-01T16:09:54.051Z"
   },
   {
    "duration": 88,
    "start_time": "2023-05-01T16:14:32.587Z"
   },
   {
    "duration": 83,
    "start_time": "2023-05-01T16:15:01.343Z"
   },
   {
    "duration": 103,
    "start_time": "2023-05-01T16:15:52.700Z"
   },
   {
    "duration": 95,
    "start_time": "2023-05-01T16:16:37.360Z"
   },
   {
    "duration": 98,
    "start_time": "2023-05-01T16:16:43.568Z"
   },
   {
    "duration": 11,
    "start_time": "2023-05-01T16:24:55.490Z"
   },
   {
    "duration": 1252,
    "start_time": "2023-05-01T16:25:02.303Z"
   },
   {
    "duration": 3,
    "start_time": "2023-05-01T16:25:03.558Z"
   },
   {
    "duration": 26,
    "start_time": "2023-05-01T16:25:03.563Z"
   },
   {
    "duration": 217,
    "start_time": "2023-05-01T16:25:03.591Z"
   },
   {
    "duration": 109,
    "start_time": "2023-05-01T16:25:03.811Z"
   },
   {
    "duration": 67,
    "start_time": "2023-05-01T16:25:03.923Z"
   },
   {
    "duration": 24,
    "start_time": "2023-05-01T16:25:03.992Z"
   },
   {
    "duration": 26,
    "start_time": "2023-05-01T16:25:04.018Z"
   },
   {
    "duration": 928,
    "start_time": "2023-05-01T16:25:04.046Z"
   },
   {
    "duration": 581,
    "start_time": "2023-05-01T16:25:04.977Z"
   },
   {
    "duration": 76,
    "start_time": "2023-05-01T16:25:05.560Z"
   },
   {
    "duration": 47,
    "start_time": "2023-05-01T16:25:05.639Z"
   },
   {
    "duration": 50,
    "start_time": "2023-05-01T16:25:05.687Z"
   },
   {
    "duration": 133,
    "start_time": "2023-05-01T16:25:05.739Z"
   },
   {
    "duration": 43,
    "start_time": "2023-05-01T16:25:05.874Z"
   },
   {
    "duration": 32,
    "start_time": "2023-05-01T16:25:05.919Z"
   },
   {
    "duration": 31,
    "start_time": "2023-05-01T16:25:05.953Z"
   },
   {
    "duration": 49,
    "start_time": "2023-05-01T16:25:05.986Z"
   },
   {
    "duration": 113,
    "start_time": "2023-05-01T16:25:06.037Z"
   },
   {
    "duration": 60,
    "start_time": "2023-05-01T16:25:06.152Z"
   },
   {
    "duration": 193,
    "start_time": "2023-05-01T16:25:06.214Z"
   },
   {
    "duration": 238,
    "start_time": "2023-05-01T16:25:06.411Z"
   },
   {
    "duration": 305,
    "start_time": "2023-05-01T16:26:16.757Z"
   },
   {
    "duration": 207,
    "start_time": "2023-05-01T16:27:08.878Z"
   },
   {
    "duration": 180,
    "start_time": "2023-05-01T16:28:06.014Z"
   },
   {
    "duration": 51,
    "start_time": "2023-05-01T18:37:25.060Z"
   },
   {
    "duration": 1968,
    "start_time": "2023-05-01T21:41:54.519Z"
   },
   {
    "duration": 3,
    "start_time": "2023-05-01T21:41:56.490Z"
   },
   {
    "duration": 16,
    "start_time": "2023-05-01T21:41:56.494Z"
   },
   {
    "duration": 179,
    "start_time": "2023-05-01T21:41:56.513Z"
   },
   {
    "duration": 73,
    "start_time": "2023-05-01T21:41:56.694Z"
   },
   {
    "duration": 49,
    "start_time": "2023-05-01T21:41:56.769Z"
   },
   {
    "duration": 8,
    "start_time": "2023-05-01T21:41:56.820Z"
   },
   {
    "duration": 48,
    "start_time": "2023-05-01T21:41:56.829Z"
   },
   {
    "duration": 1780,
    "start_time": "2023-05-01T21:41:56.879Z"
   },
   {
    "duration": 1130,
    "start_time": "2023-05-01T21:41:58.662Z"
   },
   {
    "duration": 110,
    "start_time": "2023-05-01T21:41:59.794Z"
   },
   {
    "duration": 109,
    "start_time": "2023-05-01T21:41:59.960Z"
   },
   {
    "duration": 90,
    "start_time": "2023-05-01T21:42:00.071Z"
   },
   {
    "duration": 209,
    "start_time": "2023-05-01T21:42:00.162Z"
   },
   {
    "duration": 85,
    "start_time": "2023-05-01T21:42:00.374Z"
   },
   {
    "duration": 29,
    "start_time": "2023-05-01T21:42:00.461Z"
   },
   {
    "duration": 97,
    "start_time": "2023-05-01T21:42:00.492Z"
   },
   {
    "duration": 96,
    "start_time": "2023-05-01T21:42:00.591Z"
   },
   {
    "duration": 213,
    "start_time": "2023-05-01T21:42:00.690Z"
   },
   {
    "duration": 1579,
    "start_time": "2023-05-01T21:42:00.905Z"
   },
   {
    "duration": 306,
    "start_time": "2023-05-01T21:42:02.486Z"
   },
   {
    "duration": 412,
    "start_time": "2023-05-01T21:42:02.794Z"
   },
   {
    "duration": 4,
    "start_time": "2023-05-01T22:34:21.579Z"
   },
   {
    "duration": 2,
    "start_time": "2023-05-01T22:40:33.810Z"
   },
   {
    "duration": 17,
    "start_time": "2023-05-01T22:41:28.474Z"
   },
   {
    "duration": 271,
    "start_time": "2023-05-01T22:50:59.712Z"
   },
   {
    "duration": 160,
    "start_time": "2023-05-01T22:52:29.927Z"
   },
   {
    "duration": 514,
    "start_time": "2023-05-01T22:52:41.527Z"
   },
   {
    "duration": 132,
    "start_time": "2023-05-01T22:53:56.868Z"
   },
   {
    "duration": 4,
    "start_time": "2023-05-01T22:54:38.043Z"
   },
   {
    "duration": 4,
    "start_time": "2023-05-01T22:55:14.291Z"
   },
   {
    "duration": 487,
    "start_time": "2023-05-01T22:55:16.576Z"
   },
   {
    "duration": 450,
    "start_time": "2023-05-01T22:55:37.407Z"
   },
   {
    "duration": 476,
    "start_time": "2023-05-01T22:56:06.006Z"
   },
   {
    "duration": 432,
    "start_time": "2023-05-01T23:00:44.638Z"
   },
   {
    "duration": 401,
    "start_time": "2023-05-01T23:00:47.992Z"
   },
   {
    "duration": 132,
    "start_time": "2023-05-01T23:00:51.135Z"
   },
   {
    "duration": 421,
    "start_time": "2023-05-01T23:02:05.440Z"
   },
   {
    "duration": 1071,
    "start_time": "2023-05-01T23:10:24.223Z"
   },
   {
    "duration": 1295,
    "start_time": "2023-05-01T23:12:59.622Z"
   },
   {
    "duration": 230,
    "start_time": "2023-05-01T23:18:54.561Z"
   },
   {
    "duration": 9,
    "start_time": "2023-05-01T23:38:54.366Z"
   },
   {
    "duration": 157,
    "start_time": "2023-05-01T23:39:01.485Z"
   },
   {
    "duration": 93,
    "start_time": "2023-05-01T23:39:12.733Z"
   },
   {
    "duration": 133,
    "start_time": "2023-05-01T23:39:18.193Z"
   },
   {
    "duration": 1189,
    "start_time": "2023-05-01T23:41:54.505Z"
   },
   {
    "duration": 92,
    "start_time": "2023-05-01T23:41:55.696Z"
   },
   {
    "duration": 4,
    "start_time": "2023-05-01T23:41:55.790Z"
   },
   {
    "duration": 103,
    "start_time": "2023-05-01T23:41:55.796Z"
   },
   {
    "duration": 158,
    "start_time": "2023-05-01T23:41:55.901Z"
   },
   {
    "duration": 69,
    "start_time": "2023-05-01T23:41:56.061Z"
   },
   {
    "duration": 55,
    "start_time": "2023-05-01T23:41:56.132Z"
   },
   {
    "duration": 7,
    "start_time": "2023-05-01T23:41:56.189Z"
   },
   {
    "duration": 37,
    "start_time": "2023-05-01T23:41:56.198Z"
   },
   {
    "duration": 853,
    "start_time": "2023-05-01T23:41:56.262Z"
   },
   {
    "duration": 582,
    "start_time": "2023-05-01T23:41:57.117Z"
   },
   {
    "duration": 67,
    "start_time": "2023-05-01T23:41:57.702Z"
   },
   {
    "duration": 51,
    "start_time": "2023-05-01T23:41:57.771Z"
   },
   {
    "duration": 46,
    "start_time": "2023-05-01T23:41:57.824Z"
   },
   {
    "duration": 113,
    "start_time": "2023-05-01T23:41:57.872Z"
   },
   {
    "duration": 25,
    "start_time": "2023-05-01T23:41:57.987Z"
   },
   {
    "duration": 41,
    "start_time": "2023-05-01T23:41:58.014Z"
   },
   {
    "duration": 31,
    "start_time": "2023-05-01T23:41:58.060Z"
   },
   {
    "duration": 29,
    "start_time": "2023-05-01T23:41:58.092Z"
   },
   {
    "duration": 117,
    "start_time": "2023-05-01T23:41:58.123Z"
   },
   {
    "duration": 1095,
    "start_time": "2023-05-01T23:41:58.242Z"
   },
   {
    "duration": 376,
    "start_time": "2023-05-01T23:41:59.339Z"
   },
   {
    "duration": 5,
    "start_time": "2023-05-01T23:41:59.717Z"
   },
   {
    "duration": 38,
    "start_time": "2023-05-01T23:41:59.724Z"
   },
   {
    "duration": 373,
    "start_time": "2023-05-01T23:41:59.764Z"
   },
   {
    "duration": 0,
    "start_time": "2023-05-01T23:42:00.139Z"
   },
   {
    "duration": 0,
    "start_time": "2023-05-01T23:42:00.140Z"
   },
   {
    "duration": 0,
    "start_time": "2023-05-01T23:42:00.142Z"
   },
   {
    "duration": 1136,
    "start_time": "2023-05-01T23:43:21.146Z"
   },
   {
    "duration": 88,
    "start_time": "2023-05-01T23:43:22.284Z"
   },
   {
    "duration": 3,
    "start_time": "2023-05-01T23:43:22.374Z"
   },
   {
    "duration": 12,
    "start_time": "2023-05-01T23:43:22.380Z"
   },
   {
    "duration": 174,
    "start_time": "2023-05-01T23:43:22.394Z"
   },
   {
    "duration": 69,
    "start_time": "2023-05-01T23:43:22.570Z"
   },
   {
    "duration": 58,
    "start_time": "2023-05-01T23:43:22.641Z"
   },
   {
    "duration": 9,
    "start_time": "2023-05-01T23:43:22.701Z"
   },
   {
    "duration": 52,
    "start_time": "2023-05-01T23:43:22.712Z"
   },
   {
    "duration": 814,
    "start_time": "2023-05-01T23:43:22.768Z"
   },
   {
    "duration": 532,
    "start_time": "2023-05-01T23:43:23.583Z"
   },
   {
    "duration": 54,
    "start_time": "2023-05-01T23:43:24.118Z"
   },
   {
    "duration": 47,
    "start_time": "2023-05-01T23:43:24.174Z"
   },
   {
    "duration": 52,
    "start_time": "2023-05-01T23:43:24.223Z"
   },
   {
    "duration": 116,
    "start_time": "2023-05-01T23:43:24.277Z"
   },
   {
    "duration": 26,
    "start_time": "2023-05-01T23:43:24.395Z"
   },
   {
    "duration": 42,
    "start_time": "2023-05-01T23:43:24.422Z"
   },
   {
    "duration": 34,
    "start_time": "2023-05-01T23:43:24.465Z"
   },
   {
    "duration": 27,
    "start_time": "2023-05-01T23:43:24.501Z"
   },
   {
    "duration": 110,
    "start_time": "2023-05-01T23:43:24.530Z"
   },
   {
    "duration": 1096,
    "start_time": "2023-05-01T23:43:24.642Z"
   },
   {
    "duration": 337,
    "start_time": "2023-05-01T23:43:25.740Z"
   },
   {
    "duration": 5,
    "start_time": "2023-05-01T23:43:26.078Z"
   },
   {
    "duration": 7,
    "start_time": "2023-05-01T23:43:26.084Z"
   },
   {
    "duration": 358,
    "start_time": "2023-05-01T23:43:26.092Z"
   },
   {
    "duration": 0,
    "start_time": "2023-05-01T23:43:26.459Z"
   },
   {
    "duration": 0,
    "start_time": "2023-05-01T23:43:26.460Z"
   },
   {
    "duration": 0,
    "start_time": "2023-05-01T23:43:26.461Z"
   },
   {
    "duration": 1036,
    "start_time": "2023-05-01T23:44:16.392Z"
   },
   {
    "duration": 85,
    "start_time": "2023-05-01T23:44:17.431Z"
   },
   {
    "duration": 3,
    "start_time": "2023-05-01T23:44:17.518Z"
   },
   {
    "duration": 13,
    "start_time": "2023-05-01T23:44:17.523Z"
   },
   {
    "duration": 171,
    "start_time": "2023-05-01T23:44:17.538Z"
   },
   {
    "duration": 67,
    "start_time": "2023-05-01T23:44:17.711Z"
   },
   {
    "duration": 53,
    "start_time": "2023-05-01T23:44:17.780Z"
   },
   {
    "duration": 28,
    "start_time": "2023-05-01T23:44:17.834Z"
   },
   {
    "duration": 35,
    "start_time": "2023-05-01T23:44:17.864Z"
   },
   {
    "duration": 830,
    "start_time": "2023-05-01T23:44:17.902Z"
   },
   {
    "duration": 547,
    "start_time": "2023-05-01T23:44:18.733Z"
   },
   {
    "duration": 43,
    "start_time": "2023-05-01T23:44:19.282Z"
   },
   {
    "duration": 60,
    "start_time": "2023-05-01T23:44:19.327Z"
   },
   {
    "duration": 30,
    "start_time": "2023-05-01T23:44:19.389Z"
   },
   {
    "duration": 118,
    "start_time": "2023-05-01T23:44:19.420Z"
   },
   {
    "duration": 36,
    "start_time": "2023-05-01T23:44:19.539Z"
   },
   {
    "duration": 42,
    "start_time": "2023-05-01T23:44:19.578Z"
   },
   {
    "duration": 67,
    "start_time": "2023-05-01T23:44:19.622Z"
   },
   {
    "duration": 32,
    "start_time": "2023-05-01T23:44:19.690Z"
   },
   {
    "duration": 148,
    "start_time": "2023-05-01T23:44:19.725Z"
   },
   {
    "duration": 1062,
    "start_time": "2023-05-01T23:44:19.875Z"
   },
   {
    "duration": 315,
    "start_time": "2023-05-01T23:44:20.938Z"
   },
   {
    "duration": 5,
    "start_time": "2023-05-01T23:44:21.254Z"
   },
   {
    "duration": 14,
    "start_time": "2023-05-01T23:44:21.260Z"
   },
   {
    "duration": 515,
    "start_time": "2023-05-01T23:44:21.275Z"
   },
   {
    "duration": 442,
    "start_time": "2023-05-01T23:44:21.792Z"
   },
   {
    "duration": 428,
    "start_time": "2023-05-01T23:44:22.235Z"
   },
   {
    "duration": 456,
    "start_time": "2023-05-01T23:44:22.666Z"
   },
   {
    "duration": 1118,
    "start_time": "2023-05-01T23:46:19.676Z"
   },
   {
    "duration": 83,
    "start_time": "2023-05-01T23:46:20.796Z"
   },
   {
    "duration": 3,
    "start_time": "2023-05-01T23:46:20.880Z"
   },
   {
    "duration": 14,
    "start_time": "2023-05-01T23:46:20.885Z"
   },
   {
    "duration": 186,
    "start_time": "2023-05-01T23:46:20.902Z"
   },
   {
    "duration": 70,
    "start_time": "2023-05-01T23:46:21.090Z"
   },
   {
    "duration": 42,
    "start_time": "2023-05-01T23:46:21.162Z"
   },
   {
    "duration": 8,
    "start_time": "2023-05-01T23:46:21.206Z"
   },
   {
    "duration": 47,
    "start_time": "2023-05-01T23:46:21.215Z"
   },
   {
    "duration": 809,
    "start_time": "2023-05-01T23:46:21.264Z"
   },
   {
    "duration": 500,
    "start_time": "2023-05-01T23:46:22.075Z"
   },
   {
    "duration": 44,
    "start_time": "2023-05-01T23:46:22.577Z"
   },
   {
    "duration": 59,
    "start_time": "2023-05-01T23:46:22.622Z"
   },
   {
    "duration": 30,
    "start_time": "2023-05-01T23:46:22.683Z"
   },
   {
    "duration": 113,
    "start_time": "2023-05-01T23:46:22.715Z"
   },
   {
    "duration": 33,
    "start_time": "2023-05-01T23:46:22.830Z"
   },
   {
    "duration": 28,
    "start_time": "2023-05-01T23:46:22.864Z"
   },
   {
    "duration": 28,
    "start_time": "2023-05-01T23:46:22.893Z"
   },
   {
    "duration": 48,
    "start_time": "2023-05-01T23:46:22.923Z"
   },
   {
    "duration": 108,
    "start_time": "2023-05-01T23:46:22.973Z"
   },
   {
    "duration": 1064,
    "start_time": "2023-05-01T23:46:23.083Z"
   },
   {
    "duration": 305,
    "start_time": "2023-05-01T23:46:24.149Z"
   },
   {
    "duration": 4,
    "start_time": "2023-05-01T23:46:24.458Z"
   },
   {
    "duration": 7,
    "start_time": "2023-05-01T23:46:24.464Z"
   },
   {
    "duration": 529,
    "start_time": "2023-05-01T23:46:24.472Z"
   },
   {
    "duration": 439,
    "start_time": "2023-05-01T23:46:25.002Z"
   },
   {
    "duration": 479,
    "start_time": "2023-05-01T23:46:25.444Z"
   },
   {
    "duration": 476,
    "start_time": "2023-05-01T23:46:25.926Z"
   },
   {
    "duration": 1105,
    "start_time": "2023-05-01T23:48:34.154Z"
   },
   {
    "duration": 73,
    "start_time": "2023-05-01T23:48:35.262Z"
   },
   {
    "duration": 3,
    "start_time": "2023-05-01T23:48:35.339Z"
   },
   {
    "duration": 24,
    "start_time": "2023-05-01T23:48:35.344Z"
   },
   {
    "duration": 171,
    "start_time": "2023-05-01T23:48:35.370Z"
   },
   {
    "duration": 74,
    "start_time": "2023-05-01T23:48:35.543Z"
   },
   {
    "duration": 52,
    "start_time": "2023-05-01T23:48:35.618Z"
   },
   {
    "duration": 7,
    "start_time": "2023-05-01T23:48:35.673Z"
   },
   {
    "duration": 25,
    "start_time": "2023-05-01T23:48:35.683Z"
   },
   {
    "duration": 853,
    "start_time": "2023-05-01T23:48:35.710Z"
   },
   {
    "duration": 518,
    "start_time": "2023-05-01T23:48:36.565Z"
   },
   {
    "duration": 44,
    "start_time": "2023-05-01T23:48:37.084Z"
   },
   {
    "duration": 59,
    "start_time": "2023-05-01T23:48:37.130Z"
   },
   {
    "duration": 30,
    "start_time": "2023-05-01T23:48:37.191Z"
   },
   {
    "duration": 116,
    "start_time": "2023-05-01T23:48:37.223Z"
   },
   {
    "duration": 29,
    "start_time": "2023-05-01T23:48:37.341Z"
   },
   {
    "duration": 27,
    "start_time": "2023-05-01T23:48:37.372Z"
   },
   {
    "duration": 29,
    "start_time": "2023-05-01T23:48:37.400Z"
   },
   {
    "duration": 48,
    "start_time": "2023-05-01T23:48:37.431Z"
   },
   {
    "duration": 135,
    "start_time": "2023-05-01T23:48:37.481Z"
   },
   {
    "duration": 0,
    "start_time": "2023-05-01T23:48:37.617Z"
   },
   {
    "duration": 0,
    "start_time": "2023-05-01T23:48:37.619Z"
   },
   {
    "duration": 0,
    "start_time": "2023-05-01T23:48:37.620Z"
   },
   {
    "duration": 0,
    "start_time": "2023-05-01T23:48:37.621Z"
   },
   {
    "duration": 0,
    "start_time": "2023-05-01T23:48:37.622Z"
   },
   {
    "duration": 0,
    "start_time": "2023-05-01T23:48:37.624Z"
   },
   {
    "duration": 0,
    "start_time": "2023-05-01T23:48:37.624Z"
   },
   {
    "duration": 0,
    "start_time": "2023-05-01T23:48:37.625Z"
   },
   {
    "duration": 35,
    "start_time": "2023-05-01T23:49:01.393Z"
   },
   {
    "duration": 37,
    "start_time": "2023-05-01T23:49:06.458Z"
   },
   {
    "duration": 35,
    "start_time": "2023-05-01T23:49:25.336Z"
   },
   {
    "duration": 53,
    "start_time": "2023-05-01T23:49:27.013Z"
   },
   {
    "duration": 33,
    "start_time": "2023-05-01T23:49:55.425Z"
   },
   {
    "duration": 42,
    "start_time": "2023-05-01T23:49:56.481Z"
   },
   {
    "duration": 33,
    "start_time": "2023-05-01T23:50:09.401Z"
   },
   {
    "duration": 94,
    "start_time": "2023-05-01T23:50:10.554Z"
   },
   {
    "duration": 1104,
    "start_time": "2023-05-01T23:50:15.602Z"
   },
   {
    "duration": 81,
    "start_time": "2023-05-01T23:50:16.708Z"
   },
   {
    "duration": 2,
    "start_time": "2023-05-01T23:50:16.791Z"
   },
   {
    "duration": 13,
    "start_time": "2023-05-01T23:50:16.795Z"
   },
   {
    "duration": 171,
    "start_time": "2023-05-01T23:50:16.810Z"
   },
   {
    "duration": 69,
    "start_time": "2023-05-01T23:50:16.982Z"
   },
   {
    "duration": 47,
    "start_time": "2023-05-01T23:50:17.059Z"
   },
   {
    "duration": 7,
    "start_time": "2023-05-01T23:50:17.108Z"
   },
   {
    "duration": 50,
    "start_time": "2023-05-01T23:50:17.117Z"
   },
   {
    "duration": 819,
    "start_time": "2023-05-01T23:50:17.170Z"
   },
   {
    "duration": 519,
    "start_time": "2023-05-01T23:50:17.991Z"
   },
   {
    "duration": 52,
    "start_time": "2023-05-01T23:50:18.512Z"
   },
   {
    "duration": 46,
    "start_time": "2023-05-01T23:50:18.566Z"
   },
   {
    "duration": 56,
    "start_time": "2023-05-01T23:50:18.614Z"
   },
   {
    "duration": 113,
    "start_time": "2023-05-01T23:50:18.671Z"
   },
   {
    "duration": 25,
    "start_time": "2023-05-01T23:50:18.785Z"
   },
   {
    "duration": 27,
    "start_time": "2023-05-01T23:50:18.811Z"
   },
   {
    "duration": 46,
    "start_time": "2023-05-01T23:50:18.839Z"
   },
   {
    "duration": 28,
    "start_time": "2023-05-01T23:50:18.887Z"
   },
   {
    "duration": 112,
    "start_time": "2023-05-01T23:50:18.916Z"
   },
   {
    "duration": 1202,
    "start_time": "2023-05-01T23:50:19.029Z"
   },
   {
    "duration": 341,
    "start_time": "2023-05-01T23:50:20.233Z"
   },
   {
    "duration": 3,
    "start_time": "2023-05-01T23:50:20.576Z"
   },
   {
    "duration": 8,
    "start_time": "2023-05-01T23:50:20.581Z"
   },
   {
    "duration": 565,
    "start_time": "2023-05-01T23:50:20.591Z"
   },
   {
    "duration": 444,
    "start_time": "2023-05-01T23:50:21.159Z"
   },
   {
    "duration": 465,
    "start_time": "2023-05-01T23:50:21.605Z"
   },
   {
    "duration": 459,
    "start_time": "2023-05-01T23:50:22.073Z"
   },
   {
    "duration": 29,
    "start_time": "2023-05-01T23:59:00.121Z"
   },
   {
    "duration": 96,
    "start_time": "2023-05-02T00:02:02.617Z"
   },
   {
    "duration": 90,
    "start_time": "2023-05-02T00:02:35.565Z"
   },
   {
    "duration": 77,
    "start_time": "2023-05-02T00:02:39.617Z"
   },
   {
    "duration": 90,
    "start_time": "2023-05-02T00:02:42.173Z"
   },
   {
    "duration": 100,
    "start_time": "2023-05-02T00:02:57.238Z"
   },
   {
    "duration": 1145,
    "start_time": "2023-05-02T01:02:00.383Z"
   },
   {
    "duration": 90,
    "start_time": "2023-05-02T01:02:01.530Z"
   },
   {
    "duration": 51,
    "start_time": "2023-05-02T01:02:01.622Z"
   },
   {
    "duration": 62,
    "start_time": "2023-05-02T01:02:01.675Z"
   },
   {
    "duration": 206,
    "start_time": "2023-05-02T01:02:01.738Z"
   },
   {
    "duration": 75,
    "start_time": "2023-05-02T01:02:01.946Z"
   },
   {
    "duration": 60,
    "start_time": "2023-05-02T01:02:02.023Z"
   },
   {
    "duration": 126,
    "start_time": "2023-05-02T01:02:02.084Z"
   },
   {
    "duration": 37,
    "start_time": "2023-05-02T01:02:02.211Z"
   },
   {
    "duration": 864,
    "start_time": "2023-05-02T01:02:02.251Z"
   },
   {
    "duration": 571,
    "start_time": "2023-05-02T01:02:03.116Z"
   },
   {
    "duration": 49,
    "start_time": "2023-05-02T01:02:03.689Z"
   },
   {
    "duration": 70,
    "start_time": "2023-05-02T01:02:03.739Z"
   },
   {
    "duration": 49,
    "start_time": "2023-05-02T01:02:03.810Z"
   },
   {
    "duration": 112,
    "start_time": "2023-05-02T01:02:03.861Z"
   },
   {
    "duration": 24,
    "start_time": "2023-05-02T01:02:03.975Z"
   },
   {
    "duration": 27,
    "start_time": "2023-05-02T01:02:04.001Z"
   },
   {
    "duration": 49,
    "start_time": "2023-05-02T01:02:04.030Z"
   },
   {
    "duration": 25,
    "start_time": "2023-05-02T01:02:04.081Z"
   },
   {
    "duration": 7,
    "start_time": "2023-05-02T01:02:04.108Z"
   },
   {
    "duration": 264,
    "start_time": "2023-05-02T01:02:04.117Z"
   },
   {
    "duration": 1224,
    "start_time": "2023-05-02T01:02:04.383Z"
   },
   {
    "duration": 205,
    "start_time": "2023-05-02T01:02:05.609Z"
   },
   {
    "duration": 4,
    "start_time": "2023-05-02T01:02:05.816Z"
   },
   {
    "duration": 25,
    "start_time": "2023-05-02T01:02:05.821Z"
   },
   {
    "duration": 581,
    "start_time": "2023-05-02T01:02:05.848Z"
   },
   {
    "duration": 452,
    "start_time": "2023-05-02T01:02:06.431Z"
   },
   {
    "duration": 446,
    "start_time": "2023-05-02T01:02:06.886Z"
   },
   {
    "duration": 467,
    "start_time": "2023-05-02T01:02:07.334Z"
   },
   {
    "duration": 1583,
    "start_time": "2023-05-03T12:03:18.522Z"
   },
   {
    "duration": 77,
    "start_time": "2023-05-03T12:03:20.107Z"
   },
   {
    "duration": 3,
    "start_time": "2023-05-03T12:03:20.186Z"
   },
   {
    "duration": 15,
    "start_time": "2023-05-03T12:03:20.191Z"
   },
   {
    "duration": 168,
    "start_time": "2023-05-03T12:03:20.208Z"
   },
   {
    "duration": 74,
    "start_time": "2023-05-03T12:03:20.378Z"
   },
   {
    "duration": 47,
    "start_time": "2023-05-03T12:03:20.453Z"
   },
   {
    "duration": 32,
    "start_time": "2023-05-03T12:03:20.502Z"
   },
   {
    "duration": 27,
    "start_time": "2023-05-03T12:03:20.536Z"
   },
   {
    "duration": 1070,
    "start_time": "2023-05-03T12:03:20.566Z"
   },
   {
    "duration": 524,
    "start_time": "2023-05-03T12:03:21.638Z"
   },
   {
    "duration": 51,
    "start_time": "2023-05-03T12:03:22.164Z"
   },
   {
    "duration": 72,
    "start_time": "2023-05-03T12:03:22.234Z"
   },
   {
    "duration": 62,
    "start_time": "2023-05-03T12:03:22.309Z"
   },
   {
    "duration": 114,
    "start_time": "2023-05-03T12:03:22.373Z"
   },
   {
    "duration": 26,
    "start_time": "2023-05-03T12:03:22.488Z"
   },
   {
    "duration": 46,
    "start_time": "2023-05-03T12:03:22.515Z"
   },
   {
    "duration": 29,
    "start_time": "2023-05-03T12:03:22.563Z"
   },
   {
    "duration": 50,
    "start_time": "2023-05-03T12:03:22.593Z"
   },
   {
    "duration": 7,
    "start_time": "2023-05-03T12:03:22.650Z"
   },
   {
    "duration": 378,
    "start_time": "2023-05-03T12:03:22.659Z"
   },
   {
    "duration": 1223,
    "start_time": "2023-05-03T12:03:23.038Z"
   },
   {
    "duration": 196,
    "start_time": "2023-05-03T12:03:24.263Z"
   },
   {
    "duration": 5,
    "start_time": "2023-05-03T12:03:24.460Z"
   },
   {
    "duration": 26,
    "start_time": "2023-05-03T12:03:24.466Z"
   },
   {
    "duration": 431,
    "start_time": "2023-05-03T12:03:24.494Z"
   },
   {
    "duration": 438,
    "start_time": "2023-05-03T12:03:24.927Z"
   },
   {
    "duration": 428,
    "start_time": "2023-05-03T12:03:25.368Z"
   },
   {
    "duration": 557,
    "start_time": "2023-05-03T12:03:25.797Z"
   },
   {
    "duration": 1259,
    "start_time": "2023-05-03T12:03:51.017Z"
   },
   {
    "duration": 91,
    "start_time": "2023-05-03T12:03:52.278Z"
   },
   {
    "duration": 3,
    "start_time": "2023-05-03T12:03:52.371Z"
   },
   {
    "duration": 12,
    "start_time": "2023-05-03T12:03:52.376Z"
   },
   {
    "duration": 211,
    "start_time": "2023-05-03T12:03:52.389Z"
   },
   {
    "duration": 77,
    "start_time": "2023-05-03T12:03:52.602Z"
   },
   {
    "duration": 62,
    "start_time": "2023-05-03T12:03:52.681Z"
   },
   {
    "duration": 8,
    "start_time": "2023-05-03T12:03:52.744Z"
   },
   {
    "duration": 23,
    "start_time": "2023-05-03T12:03:52.754Z"
   },
   {
    "duration": 869,
    "start_time": "2023-05-03T12:03:52.779Z"
   },
   {
    "duration": 532,
    "start_time": "2023-05-03T12:03:53.649Z"
   },
   {
    "duration": 59,
    "start_time": "2023-05-03T12:03:54.182Z"
   },
   {
    "duration": 57,
    "start_time": "2023-05-03T12:03:54.243Z"
   },
   {
    "duration": 47,
    "start_time": "2023-05-03T12:03:54.302Z"
   },
   {
    "duration": 108,
    "start_time": "2023-05-03T12:03:54.351Z"
   },
   {
    "duration": 37,
    "start_time": "2023-05-03T12:03:54.462Z"
   },
   {
    "duration": 48,
    "start_time": "2023-05-03T12:03:54.501Z"
   },
   {
    "duration": 31,
    "start_time": "2023-05-03T12:03:54.551Z"
   },
   {
    "duration": 24,
    "start_time": "2023-05-03T12:03:54.584Z"
   },
   {
    "duration": 24,
    "start_time": "2023-05-03T12:03:54.610Z"
   },
   {
    "duration": 384,
    "start_time": "2023-05-03T12:03:54.636Z"
   },
   {
    "duration": 1313,
    "start_time": "2023-05-03T12:03:55.022Z"
   },
   {
    "duration": 272,
    "start_time": "2023-05-03T12:03:56.337Z"
   },
   {
    "duration": 9,
    "start_time": "2023-05-03T12:03:56.612Z"
   },
   {
    "duration": 12,
    "start_time": "2023-05-03T12:03:56.623Z"
   },
   {
    "duration": 637,
    "start_time": "2023-05-03T12:03:56.638Z"
   },
   {
    "duration": 445,
    "start_time": "2023-05-03T12:03:57.277Z"
   },
   {
    "duration": 555,
    "start_time": "2023-05-03T12:03:57.732Z"
   },
   {
    "duration": 498,
    "start_time": "2023-05-03T12:03:58.290Z"
   },
   {
    "duration": 24,
    "start_time": "2023-05-03T12:07:02.754Z"
   },
   {
    "duration": 457,
    "start_time": "2023-05-03T12:12:33.947Z"
   },
   {
    "duration": 71,
    "start_time": "2023-05-03T12:38:29.922Z"
   },
   {
    "duration": 46,
    "start_time": "2023-05-03T12:38:55.276Z"
   },
   {
    "duration": 1646,
    "start_time": "2023-05-03T12:38:59.954Z"
   },
   {
    "duration": 80,
    "start_time": "2023-05-03T12:39:01.602Z"
   },
   {
    "duration": 3,
    "start_time": "2023-05-03T12:39:01.684Z"
   },
   {
    "duration": 33,
    "start_time": "2023-05-03T12:39:01.688Z"
   },
   {
    "duration": 170,
    "start_time": "2023-05-03T12:39:01.723Z"
   },
   {
    "duration": 69,
    "start_time": "2023-05-03T12:39:01.895Z"
   },
   {
    "duration": 75,
    "start_time": "2023-05-03T12:39:01.966Z"
   },
   {
    "duration": 7,
    "start_time": "2023-05-03T12:39:02.043Z"
   },
   {
    "duration": 41,
    "start_time": "2023-05-03T12:39:02.051Z"
   },
   {
    "duration": 981,
    "start_time": "2023-05-03T12:39:02.094Z"
   },
   {
    "duration": 491,
    "start_time": "2023-05-03T12:39:03.077Z"
   },
   {
    "duration": 53,
    "start_time": "2023-05-03T12:39:03.570Z"
   },
   {
    "duration": 44,
    "start_time": "2023-05-03T12:39:03.625Z"
   },
   {
    "duration": 48,
    "start_time": "2023-05-03T12:39:03.670Z"
   },
   {
    "duration": 108,
    "start_time": "2023-05-03T12:39:03.720Z"
   },
   {
    "duration": 23,
    "start_time": "2023-05-03T12:39:03.829Z"
   },
   {
    "duration": 25,
    "start_time": "2023-05-03T12:39:03.854Z"
   },
   {
    "duration": 49,
    "start_time": "2023-05-03T12:39:03.881Z"
   },
   {
    "duration": 23,
    "start_time": "2023-05-03T12:39:03.932Z"
   },
   {
    "duration": 6,
    "start_time": "2023-05-03T12:39:03.957Z"
   },
   {
    "duration": 234,
    "start_time": "2023-05-03T12:39:03.965Z"
   },
   {
    "duration": 1082,
    "start_time": "2023-05-03T12:39:04.201Z"
   },
   {
    "duration": 169,
    "start_time": "2023-05-03T12:39:05.284Z"
   },
   {
    "duration": 4,
    "start_time": "2023-05-03T12:39:05.454Z"
   },
   {
    "duration": 13,
    "start_time": "2023-05-03T12:39:05.460Z"
   },
   {
    "duration": 429,
    "start_time": "2023-05-03T12:39:05.474Z"
   },
   {
    "duration": 403,
    "start_time": "2023-05-03T12:39:05.905Z"
   },
   {
    "duration": 412,
    "start_time": "2023-05-03T12:39:06.317Z"
   },
   {
    "duration": 454,
    "start_time": "2023-05-03T12:39:06.730Z"
   },
   {
    "duration": 151,
    "start_time": "2023-05-03T12:46:52.695Z"
   },
   {
    "duration": 486,
    "start_time": "2023-05-03T12:55:17.881Z"
   },
   {
    "duration": 1232,
    "start_time": "2023-05-03T12:55:54.916Z"
   },
   {
    "duration": 67,
    "start_time": "2023-05-03T12:55:56.150Z"
   },
   {
    "duration": 2,
    "start_time": "2023-05-03T12:55:56.219Z"
   },
   {
    "duration": 15,
    "start_time": "2023-05-03T12:55:56.223Z"
   },
   {
    "duration": 144,
    "start_time": "2023-05-03T12:55:56.240Z"
   },
   {
    "duration": 71,
    "start_time": "2023-05-03T12:55:56.385Z"
   },
   {
    "duration": 74,
    "start_time": "2023-05-03T12:55:56.458Z"
   },
   {
    "duration": 6,
    "start_time": "2023-05-03T12:55:56.533Z"
   },
   {
    "duration": 18,
    "start_time": "2023-05-03T12:55:56.540Z"
   },
   {
    "duration": 1401,
    "start_time": "2023-05-03T13:00:36.803Z"
   },
   {
    "duration": 72,
    "start_time": "2023-05-03T13:00:38.206Z"
   },
   {
    "duration": 3,
    "start_time": "2023-05-03T13:00:38.279Z"
   },
   {
    "duration": 11,
    "start_time": "2023-05-03T13:00:38.284Z"
   },
   {
    "duration": 169,
    "start_time": "2023-05-03T13:00:38.297Z"
   },
   {
    "duration": 73,
    "start_time": "2023-05-03T13:00:38.467Z"
   },
   {
    "duration": 83,
    "start_time": "2023-05-03T13:00:38.541Z"
   },
   {
    "duration": 7,
    "start_time": "2023-05-03T13:00:38.626Z"
   },
   {
    "duration": 21,
    "start_time": "2023-05-03T13:00:38.634Z"
   },
   {
    "duration": 1261,
    "start_time": "2023-05-03T13:01:01.656Z"
   },
   {
    "duration": 68,
    "start_time": "2023-05-03T13:01:02.919Z"
   },
   {
    "duration": 3,
    "start_time": "2023-05-03T13:01:02.989Z"
   },
   {
    "duration": 24,
    "start_time": "2023-05-03T13:01:02.993Z"
   },
   {
    "duration": 149,
    "start_time": "2023-05-03T13:01:03.019Z"
   },
   {
    "duration": 71,
    "start_time": "2023-05-03T13:01:03.170Z"
   },
   {
    "duration": 81,
    "start_time": "2023-05-03T13:01:03.243Z"
   },
   {
    "duration": 8,
    "start_time": "2023-05-03T13:01:03.325Z"
   },
   {
    "duration": 40,
    "start_time": "2023-05-03T13:01:03.335Z"
   },
   {
    "duration": 176,
    "start_time": "2023-05-03T13:01:03.377Z"
   },
   {
    "duration": 2,
    "start_time": "2023-05-03T13:01:03.555Z"
   },
   {
    "duration": 603,
    "start_time": "2023-05-03T13:01:03.558Z"
   },
   {
    "duration": 45,
    "start_time": "2023-05-03T13:01:04.162Z"
   },
   {
    "duration": 44,
    "start_time": "2023-05-03T13:01:04.219Z"
   },
   {
    "duration": 30,
    "start_time": "2023-05-03T13:01:04.264Z"
   },
   {
    "duration": 121,
    "start_time": "2023-05-03T13:01:04.296Z"
   },
   {
    "duration": 22,
    "start_time": "2023-05-03T13:01:04.418Z"
   },
   {
    "duration": 56,
    "start_time": "2023-05-03T13:01:04.441Z"
   },
   {
    "duration": 27,
    "start_time": "2023-05-03T13:01:04.499Z"
   },
   {
    "duration": 44,
    "start_time": "2023-05-03T13:01:04.527Z"
   },
   {
    "duration": 18,
    "start_time": "2023-05-03T13:01:04.572Z"
   },
   {
    "duration": 239,
    "start_time": "2023-05-03T13:01:04.591Z"
   },
   {
    "duration": 1115,
    "start_time": "2023-05-03T13:01:04.831Z"
   },
   {
    "duration": 178,
    "start_time": "2023-05-03T13:01:05.948Z"
   },
   {
    "duration": 4,
    "start_time": "2023-05-03T13:01:06.127Z"
   },
   {
    "duration": 12,
    "start_time": "2023-05-03T13:01:06.132Z"
   },
   {
    "duration": 461,
    "start_time": "2023-05-03T13:01:06.145Z"
   },
   {
    "duration": 449,
    "start_time": "2023-05-03T13:01:06.608Z"
   },
   {
    "duration": 438,
    "start_time": "2023-05-03T13:01:07.059Z"
   },
   {
    "duration": 531,
    "start_time": "2023-05-03T13:01:07.499Z"
   },
   {
    "duration": 166,
    "start_time": "2023-05-03T13:02:09.014Z"
   },
   {
    "duration": 21,
    "start_time": "2023-05-03T13:08:18.203Z"
   },
   {
    "duration": 50,
    "start_time": "2023-05-03T13:08:55.422Z"
   },
   {
    "duration": 21,
    "start_time": "2023-05-03T13:09:33.411Z"
   },
   {
    "duration": 112,
    "start_time": "2023-05-03T13:11:28.390Z"
   },
   {
    "duration": 10,
    "start_time": "2023-05-03T13:11:41.316Z"
   },
   {
    "duration": 32,
    "start_time": "2023-05-03T13:11:52.615Z"
   },
   {
    "duration": 30,
    "start_time": "2023-05-03T13:12:04.364Z"
   },
   {
    "duration": 32,
    "start_time": "2023-05-03T13:14:20.826Z"
   },
   {
    "duration": 53,
    "start_time": "2023-05-03T13:15:19.435Z"
   },
   {
    "duration": 25,
    "start_time": "2023-05-03T13:16:37.519Z"
   },
   {
    "duration": 221,
    "start_time": "2023-05-03T13:17:04.027Z"
   },
   {
    "duration": 96,
    "start_time": "2023-05-03T13:19:19.042Z"
   },
   {
    "duration": 39,
    "start_time": "2023-05-03T13:19:30.098Z"
   },
   {
    "duration": 152,
    "start_time": "2023-05-03T13:19:38.600Z"
   },
   {
    "duration": 50,
    "start_time": "2023-05-03T13:23:25.721Z"
   },
   {
    "duration": 44,
    "start_time": "2023-05-03T13:24:52.933Z"
   },
   {
    "duration": 72,
    "start_time": "2023-05-03T13:24:59.629Z"
   },
   {
    "duration": 151,
    "start_time": "2023-05-03T13:25:49.414Z"
   },
   {
    "duration": 269,
    "start_time": "2023-05-03T13:26:52.589Z"
   },
   {
    "duration": 303,
    "start_time": "2023-05-03T13:27:12.578Z"
   },
   {
    "duration": 80,
    "start_time": "2023-05-03T13:29:14.557Z"
   },
   {
    "duration": 76,
    "start_time": "2023-05-03T13:29:31.538Z"
   },
   {
    "duration": 33,
    "start_time": "2023-05-03T13:29:43.726Z"
   },
   {
    "duration": 27,
    "start_time": "2023-05-03T13:29:58.216Z"
   },
   {
    "duration": 48,
    "start_time": "2023-05-03T13:32:04.796Z"
   },
   {
    "duration": 206,
    "start_time": "2023-05-03T13:34:59.688Z"
   },
   {
    "duration": 6,
    "start_time": "2023-05-03T13:35:28.086Z"
   },
   {
    "duration": 238,
    "start_time": "2023-05-03T13:37:42.049Z"
   },
   {
    "duration": 139,
    "start_time": "2023-05-03T13:44:16.004Z"
   },
   {
    "duration": 16,
    "start_time": "2023-05-03T13:49:14.907Z"
   },
   {
    "duration": 15,
    "start_time": "2023-05-03T13:50:23.022Z"
   },
   {
    "duration": 15,
    "start_time": "2023-05-03T13:51:22.864Z"
   },
   {
    "duration": 24,
    "start_time": "2023-05-03T13:52:17.833Z"
   },
   {
    "duration": 19,
    "start_time": "2023-05-03T13:56:37.340Z"
   },
   {
    "duration": 16,
    "start_time": "2023-05-03T13:56:42.288Z"
   },
   {
    "duration": 92,
    "start_time": "2023-05-03T13:57:10.200Z"
   },
   {
    "duration": 167,
    "start_time": "2023-05-03T13:57:35.171Z"
   },
   {
    "duration": 73,
    "start_time": "2023-05-03T14:05:54.623Z"
   },
   {
    "duration": 4,
    "start_time": "2023-05-03T14:12:13.721Z"
   },
   {
    "duration": 145,
    "start_time": "2023-05-03T14:12:17.514Z"
   },
   {
    "duration": 82,
    "start_time": "2023-05-03T14:12:25.339Z"
   },
   {
    "duration": 18,
    "start_time": "2023-05-03T14:12:30.128Z"
   },
   {
    "duration": 211,
    "start_time": "2023-05-03T14:13:21.136Z"
   },
   {
    "duration": 201,
    "start_time": "2023-05-03T14:15:07.855Z"
   },
   {
    "duration": 1067,
    "start_time": "2023-05-03T14:23:16.882Z"
   },
   {
    "duration": 349,
    "start_time": "2023-05-03T14:23:17.951Z"
   },
   {
    "duration": 0,
    "start_time": "2023-05-03T14:23:18.304Z"
   },
   {
    "duration": 0,
    "start_time": "2023-05-03T14:23:18.305Z"
   },
   {
    "duration": 0,
    "start_time": "2023-05-03T14:23:18.306Z"
   },
   {
    "duration": 0,
    "start_time": "2023-05-03T14:23:18.317Z"
   },
   {
    "duration": 0,
    "start_time": "2023-05-03T14:23:18.318Z"
   },
   {
    "duration": 0,
    "start_time": "2023-05-03T14:23:18.319Z"
   },
   {
    "duration": 0,
    "start_time": "2023-05-03T14:23:18.319Z"
   },
   {
    "duration": 0,
    "start_time": "2023-05-03T14:23:18.320Z"
   },
   {
    "duration": 0,
    "start_time": "2023-05-03T14:23:18.321Z"
   },
   {
    "duration": 0,
    "start_time": "2023-05-03T14:23:18.322Z"
   },
   {
    "duration": 0,
    "start_time": "2023-05-03T14:23:18.323Z"
   },
   {
    "duration": 0,
    "start_time": "2023-05-03T14:23:18.324Z"
   },
   {
    "duration": 0,
    "start_time": "2023-05-03T14:23:18.325Z"
   },
   {
    "duration": 0,
    "start_time": "2023-05-03T14:23:18.325Z"
   },
   {
    "duration": 0,
    "start_time": "2023-05-03T14:23:18.326Z"
   },
   {
    "duration": 0,
    "start_time": "2023-05-03T14:23:18.327Z"
   },
   {
    "duration": 0,
    "start_time": "2023-05-03T14:23:18.328Z"
   },
   {
    "duration": 0,
    "start_time": "2023-05-03T14:23:18.329Z"
   },
   {
    "duration": 0,
    "start_time": "2023-05-03T14:23:18.330Z"
   },
   {
    "duration": 0,
    "start_time": "2023-05-03T14:23:18.331Z"
   },
   {
    "duration": 0,
    "start_time": "2023-05-03T14:23:18.332Z"
   },
   {
    "duration": 0,
    "start_time": "2023-05-03T14:23:18.333Z"
   },
   {
    "duration": 0,
    "start_time": "2023-05-03T14:23:18.333Z"
   },
   {
    "duration": 0,
    "start_time": "2023-05-03T14:23:18.334Z"
   },
   {
    "duration": 0,
    "start_time": "2023-05-03T14:23:18.335Z"
   },
   {
    "duration": 0,
    "start_time": "2023-05-03T14:23:18.336Z"
   },
   {
    "duration": 0,
    "start_time": "2023-05-03T14:23:18.336Z"
   },
   {
    "duration": 0,
    "start_time": "2023-05-03T14:23:18.337Z"
   },
   {
    "duration": 0,
    "start_time": "2023-05-03T14:23:18.338Z"
   },
   {
    "duration": 9,
    "start_time": "2023-05-03T14:27:21.357Z"
   },
   {
    "duration": 8,
    "start_time": "2023-05-03T14:27:25.457Z"
   },
   {
    "duration": 152,
    "start_time": "2023-05-03T14:27:41.978Z"
   },
   {
    "duration": 9,
    "start_time": "2023-05-03T14:27:43.945Z"
   },
   {
    "duration": 4,
    "start_time": "2023-05-03T14:27:53.684Z"
   },
   {
    "duration": 4,
    "start_time": "2023-05-03T14:28:01.913Z"
   },
   {
    "duration": 1037,
    "start_time": "2023-05-03T14:28:21.719Z"
   },
   {
    "duration": 305,
    "start_time": "2023-05-03T14:28:22.758Z"
   },
   {
    "duration": 0,
    "start_time": "2023-05-03T14:28:23.064Z"
   },
   {
    "duration": 0,
    "start_time": "2023-05-03T14:28:23.066Z"
   },
   {
    "duration": 0,
    "start_time": "2023-05-03T14:28:23.067Z"
   },
   {
    "duration": 0,
    "start_time": "2023-05-03T14:28:23.068Z"
   },
   {
    "duration": 0,
    "start_time": "2023-05-03T14:28:23.069Z"
   },
   {
    "duration": 0,
    "start_time": "2023-05-03T14:28:23.070Z"
   },
   {
    "duration": 0,
    "start_time": "2023-05-03T14:28:23.070Z"
   },
   {
    "duration": 0,
    "start_time": "2023-05-03T14:28:23.071Z"
   },
   {
    "duration": 0,
    "start_time": "2023-05-03T14:28:23.073Z"
   },
   {
    "duration": 0,
    "start_time": "2023-05-03T14:28:23.073Z"
   },
   {
    "duration": 0,
    "start_time": "2023-05-03T14:28:23.074Z"
   },
   {
    "duration": 0,
    "start_time": "2023-05-03T14:28:23.075Z"
   },
   {
    "duration": 0,
    "start_time": "2023-05-03T14:28:23.076Z"
   },
   {
    "duration": 0,
    "start_time": "2023-05-03T14:28:23.076Z"
   },
   {
    "duration": 0,
    "start_time": "2023-05-03T14:28:23.077Z"
   },
   {
    "duration": 0,
    "start_time": "2023-05-03T14:28:23.078Z"
   },
   {
    "duration": 0,
    "start_time": "2023-05-03T14:28:23.079Z"
   },
   {
    "duration": 0,
    "start_time": "2023-05-03T14:28:23.080Z"
   },
   {
    "duration": 0,
    "start_time": "2023-05-03T14:28:23.081Z"
   },
   {
    "duration": 0,
    "start_time": "2023-05-03T14:28:23.082Z"
   },
   {
    "duration": 0,
    "start_time": "2023-05-03T14:28:23.083Z"
   },
   {
    "duration": 0,
    "start_time": "2023-05-03T14:28:23.083Z"
   },
   {
    "duration": 0,
    "start_time": "2023-05-03T14:28:23.084Z"
   },
   {
    "duration": 0,
    "start_time": "2023-05-03T14:28:23.085Z"
   },
   {
    "duration": 0,
    "start_time": "2023-05-03T14:28:23.085Z"
   },
   {
    "duration": 0,
    "start_time": "2023-05-03T14:28:23.118Z"
   },
   {
    "duration": 0,
    "start_time": "2023-05-03T14:28:23.118Z"
   },
   {
    "duration": 0,
    "start_time": "2023-05-03T14:28:23.121Z"
   },
   {
    "duration": 0,
    "start_time": "2023-05-03T14:28:23.122Z"
   },
   {
    "duration": 1057,
    "start_time": "2023-05-03T14:28:40.615Z"
   },
   {
    "duration": 249,
    "start_time": "2023-05-03T14:28:41.674Z"
   },
   {
    "duration": 69,
    "start_time": "2023-05-03T14:28:41.925Z"
   },
   {
    "duration": 3,
    "start_time": "2023-05-03T14:28:41.996Z"
   },
   {
    "duration": 25,
    "start_time": "2023-05-03T14:28:42.000Z"
   },
   {
    "duration": 58,
    "start_time": "2023-05-03T14:28:42.027Z"
   },
   {
    "duration": 80,
    "start_time": "2023-05-03T14:28:42.087Z"
   },
   {
    "duration": 80,
    "start_time": "2023-05-03T14:28:42.168Z"
   },
   {
    "duration": 7,
    "start_time": "2023-05-03T14:28:42.250Z"
   },
   {
    "duration": 25,
    "start_time": "2023-05-03T14:28:42.260Z"
   },
   {
    "duration": 233,
    "start_time": "2023-05-03T14:28:42.287Z"
   },
   {
    "duration": 277,
    "start_time": "2023-05-03T14:28:42.521Z"
   },
   {
    "duration": 253,
    "start_time": "2023-05-03T14:28:42.800Z"
   },
   {
    "duration": 17,
    "start_time": "2023-05-03T14:28:43.054Z"
   },
   {
    "duration": 59,
    "start_time": "2023-05-03T14:28:43.072Z"
   },
   {
    "duration": 33,
    "start_time": "2023-05-03T14:28:43.133Z"
   },
   {
    "duration": 122,
    "start_time": "2023-05-03T14:28:43.168Z"
   },
   {
    "duration": 28,
    "start_time": "2023-05-03T14:28:43.292Z"
   },
   {
    "duration": 26,
    "start_time": "2023-05-03T14:28:43.322Z"
   },
   {
    "duration": 26,
    "start_time": "2023-05-03T14:28:43.350Z"
   },
   {
    "duration": 42,
    "start_time": "2023-05-03T14:28:43.378Z"
   },
   {
    "duration": 5,
    "start_time": "2023-05-03T14:28:43.422Z"
   },
   {
    "duration": 220,
    "start_time": "2023-05-03T14:28:43.429Z"
   },
   {
    "duration": 1136,
    "start_time": "2023-05-03T14:28:43.651Z"
   },
   {
    "duration": 167,
    "start_time": "2023-05-03T14:28:44.789Z"
   },
   {
    "duration": 4,
    "start_time": "2023-05-03T14:28:44.958Z"
   },
   {
    "duration": 5,
    "start_time": "2023-05-03T14:28:44.963Z"
   },
   {
    "duration": 413,
    "start_time": "2023-05-03T14:28:44.971Z"
   },
   {
    "duration": 415,
    "start_time": "2023-05-03T14:28:45.385Z"
   },
   {
    "duration": 408,
    "start_time": "2023-05-03T14:28:45.802Z"
   },
   {
    "duration": 404,
    "start_time": "2023-05-03T14:28:46.218Z"
   },
   {
    "duration": 1149,
    "start_time": "2023-05-03T14:29:13.811Z"
   },
   {
    "duration": 247,
    "start_time": "2023-05-03T14:29:14.962Z"
   },
   {
    "duration": 76,
    "start_time": "2023-05-03T14:29:15.211Z"
   },
   {
    "duration": 4,
    "start_time": "2023-05-03T14:29:15.289Z"
   },
   {
    "duration": 21,
    "start_time": "2023-05-03T14:29:15.296Z"
   },
   {
    "duration": 56,
    "start_time": "2023-05-03T14:29:15.319Z"
   },
   {
    "duration": 75,
    "start_time": "2023-05-03T14:29:15.377Z"
   },
   {
    "duration": 86,
    "start_time": "2023-05-03T14:29:15.453Z"
   },
   {
    "duration": 6,
    "start_time": "2023-05-03T14:29:15.541Z"
   },
   {
    "duration": 20,
    "start_time": "2023-05-03T14:29:15.549Z"
   },
   {
    "duration": 242,
    "start_time": "2023-05-03T14:29:15.570Z"
   },
   {
    "duration": 289,
    "start_time": "2023-05-03T14:29:15.817Z"
   },
   {
    "duration": 273,
    "start_time": "2023-05-03T14:29:16.108Z"
   },
   {
    "duration": 15,
    "start_time": "2023-05-03T14:29:16.384Z"
   },
   {
    "duration": 54,
    "start_time": "2023-05-03T14:29:16.401Z"
   },
   {
    "duration": 34,
    "start_time": "2023-05-03T14:29:16.457Z"
   },
   {
    "duration": 121,
    "start_time": "2023-05-03T14:29:16.492Z"
   },
   {
    "duration": 22,
    "start_time": "2023-05-03T14:29:16.618Z"
   },
   {
    "duration": 26,
    "start_time": "2023-05-03T14:29:16.642Z"
   },
   {
    "duration": 49,
    "start_time": "2023-05-03T14:29:16.669Z"
   },
   {
    "duration": 20,
    "start_time": "2023-05-03T14:29:16.719Z"
   },
   {
    "duration": 4,
    "start_time": "2023-05-03T14:29:16.741Z"
   },
   {
    "duration": 232,
    "start_time": "2023-05-03T14:29:16.747Z"
   },
   {
    "duration": 1233,
    "start_time": "2023-05-03T14:29:16.981Z"
   },
   {
    "duration": 169,
    "start_time": "2023-05-03T14:29:18.217Z"
   },
   {
    "duration": 4,
    "start_time": "2023-05-03T14:29:18.387Z"
   },
   {
    "duration": 10,
    "start_time": "2023-05-03T14:29:18.392Z"
   },
   {
    "duration": 407,
    "start_time": "2023-05-03T14:29:18.403Z"
   },
   {
    "duration": 833,
    "start_time": "2023-05-03T14:29:18.811Z"
   },
   {
    "duration": 806,
    "start_time": "2023-05-03T14:29:19.646Z"
   },
   {
    "duration": 631,
    "start_time": "2023-05-03T14:29:20.454Z"
   },
   {
    "duration": 73,
    "start_time": "2023-05-03T14:31:51.456Z"
   },
   {
    "duration": 100,
    "start_time": "2023-05-03T19:27:18.082Z"
   },
   {
    "duration": 1243,
    "start_time": "2024-06-25T02:48:09.018Z"
   },
   {
    "duration": 883,
    "start_time": "2024-06-25T02:48:10.262Z"
   },
   {
    "duration": 65,
    "start_time": "2024-06-25T02:48:11.146Z"
   },
   {
    "duration": 7,
    "start_time": "2024-06-25T02:48:11.213Z"
   },
   {
    "duration": 16,
    "start_time": "2024-06-25T02:48:11.221Z"
   },
   {
    "duration": 49,
    "start_time": "2024-06-25T02:48:11.239Z"
   },
   {
    "duration": 75,
    "start_time": "2024-06-25T02:48:11.290Z"
   },
   {
    "duration": 72,
    "start_time": "2024-06-25T02:48:11.366Z"
   },
   {
    "duration": 5,
    "start_time": "2024-06-25T02:48:11.440Z"
   },
   {
    "duration": 16,
    "start_time": "2024-06-25T02:48:11.447Z"
   },
   {
    "duration": 211,
    "start_time": "2024-06-25T02:48:11.465Z"
   },
   {
    "duration": 261,
    "start_time": "2024-06-25T02:48:11.677Z"
   },
   {
    "duration": 244,
    "start_time": "2024-06-25T02:48:11.939Z"
   },
   {
    "duration": 13,
    "start_time": "2024-06-25T02:48:12.185Z"
   },
   {
    "duration": 54,
    "start_time": "2024-06-25T02:48:12.200Z"
   },
   {
    "duration": 29,
    "start_time": "2024-06-25T02:48:12.255Z"
   },
   {
    "duration": 113,
    "start_time": "2024-06-25T02:48:12.286Z"
   },
   {
    "duration": 32,
    "start_time": "2024-06-25T02:48:12.400Z"
   },
   {
    "duration": 24,
    "start_time": "2024-06-25T02:48:12.433Z"
   },
   {
    "duration": 23,
    "start_time": "2024-06-25T02:48:12.458Z"
   },
   {
    "duration": 18,
    "start_time": "2024-06-25T02:48:12.482Z"
   },
   {
    "duration": 29,
    "start_time": "2024-06-25T02:48:12.501Z"
   },
   {
    "duration": 228,
    "start_time": "2024-06-25T02:48:12.531Z"
   },
   {
    "duration": 0,
    "start_time": "2024-06-25T02:48:12.761Z"
   },
   {
    "duration": 0,
    "start_time": "2024-06-25T02:48:12.762Z"
   },
   {
    "duration": 0,
    "start_time": "2024-06-25T02:48:12.763Z"
   },
   {
    "duration": 0,
    "start_time": "2024-06-25T02:48:12.764Z"
   },
   {
    "duration": 0,
    "start_time": "2024-06-25T02:48:12.765Z"
   },
   {
    "duration": 0,
    "start_time": "2024-06-25T02:48:12.766Z"
   },
   {
    "duration": 0,
    "start_time": "2024-06-25T02:48:12.767Z"
   },
   {
    "duration": 0,
    "start_time": "2024-06-25T02:48:12.768Z"
   },
   {
    "duration": 8233,
    "start_time": "2024-06-25T02:48:44.433Z"
   },
   {
    "duration": 239,
    "start_time": "2024-06-25T02:48:52.668Z"
   },
   {
    "duration": 70,
    "start_time": "2024-06-25T02:48:52.909Z"
   },
   {
    "duration": 3,
    "start_time": "2024-06-25T02:48:52.981Z"
   },
   {
    "duration": 14,
    "start_time": "2024-06-25T02:48:52.985Z"
   },
   {
    "duration": 67,
    "start_time": "2024-06-25T02:48:53.000Z"
   },
   {
    "duration": 75,
    "start_time": "2024-06-25T02:48:53.068Z"
   },
   {
    "duration": 95,
    "start_time": "2024-06-25T02:48:53.145Z"
   },
   {
    "duration": 6,
    "start_time": "2024-06-25T02:48:53.241Z"
   },
   {
    "duration": 17,
    "start_time": "2024-06-25T02:48:53.250Z"
   },
   {
    "duration": 222,
    "start_time": "2024-06-25T02:48:53.268Z"
   },
   {
    "duration": 274,
    "start_time": "2024-06-25T02:48:53.491Z"
   },
   {
    "duration": 247,
    "start_time": "2024-06-25T02:48:53.766Z"
   },
   {
    "duration": 26,
    "start_time": "2024-06-25T02:48:54.014Z"
   },
   {
    "duration": 49,
    "start_time": "2024-06-25T02:48:54.041Z"
   },
   {
    "duration": 42,
    "start_time": "2024-06-25T02:48:54.091Z"
   },
   {
    "duration": 104,
    "start_time": "2024-06-25T02:48:54.135Z"
   },
   {
    "duration": 26,
    "start_time": "2024-06-25T02:48:54.240Z"
   },
   {
    "duration": 37,
    "start_time": "2024-06-25T02:48:54.268Z"
   },
   {
    "duration": 32,
    "start_time": "2024-06-25T02:48:54.320Z"
   },
   {
    "duration": 22,
    "start_time": "2024-06-25T02:48:54.367Z"
   },
   {
    "duration": 7,
    "start_time": "2024-06-25T02:48:54.390Z"
   },
   {
    "duration": 884,
    "start_time": "2024-06-25T02:48:54.399Z"
   },
   {
    "duration": 1015,
    "start_time": "2024-06-25T02:48:55.285Z"
   },
   {
    "duration": 259,
    "start_time": "2024-06-25T02:48:56.302Z"
   },
   {
    "duration": 3,
    "start_time": "2024-06-25T02:48:56.563Z"
   },
   {
    "duration": 6,
    "start_time": "2024-06-25T02:48:56.567Z"
   },
   {
    "duration": 402,
    "start_time": "2024-06-25T02:48:56.576Z"
   },
   {
    "duration": 743,
    "start_time": "2024-06-25T02:48:56.980Z"
   },
   {
    "duration": 744,
    "start_time": "2024-06-25T02:48:57.724Z"
   },
   {
    "duration": 488,
    "start_time": "2024-06-25T02:48:58.469Z"
   }
  ],
  "kernelspec": {
   "display_name": "Python 3 (ipykernel)",
   "language": "python",
   "name": "python3"
  },
  "language_info": {
   "codemirror_mode": {
    "name": "ipython",
    "version": 3
   },
   "file_extension": ".py",
   "mimetype": "text/x-python",
   "name": "python",
   "nbconvert_exporter": "python",
   "pygments_lexer": "ipython3",
   "version": "3.10.9"
  },
  "toc": {
   "base_numbering": 1,
   "nav_menu": {},
   "number_sections": true,
   "sideBar": true,
   "skip_h1_title": true,
   "title_cell": "Содержание",
   "title_sidebar": "Contents",
   "toc_cell": true,
   "toc_position": {
    "height": "calc(100% - 180px)",
    "left": "10px",
    "top": "150px",
    "width": "165px"
   },
   "toc_section_display": true,
   "toc_window_display": true
  }
 },
 "nbformat": 4,
 "nbformat_minor": 2
}

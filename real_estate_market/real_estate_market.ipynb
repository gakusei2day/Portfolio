{
 "cells": [
  {
   "cell_type": "markdown",
   "metadata": {},
   "source": [
    "# Исследование объявлений о продаже квартир\n",
    "\n",
    "В вашем распоряжении данные сервиса Яндекс.Недвижимость — архив объявлений о продаже квартир в Санкт-Петербурге и соседних населённых пунктов за несколько лет. Нужно научиться определять рыночную стоимость объектов недвижимости. Ваша задача — установить параметры. Это позволит построить автоматизированную систему: она отследит аномалии и мошенническую деятельность. \n",
    "\n",
    "По каждой квартире на продажу доступны два вида данных. Первые вписаны пользователем, вторые — получены автоматически на основе картографических данных. Например, расстояние до центра, аэропорта, ближайшего парка и водоёма. "
   ]
  },
  {
   "cell_type": "markdown",
   "metadata": {},
   "source": [
    "### Откройте файл с данными и изучите общую информацию. "
   ]
  },
  {
   "cell_type": "code",
   "execution_count": 2,
   "metadata": {},
   "outputs": [],
   "source": [
    "import pandas as pd\n",
    "df = pd.read_csv('/datasets/real_estate_data.csv', sep='\\t')"
   ]
  },
  {
   "cell_type": "markdown",
   "metadata": {},
   "source": [
    "1.1. Загрузили датасет в среду"
   ]
  },
  {
   "cell_type": "code",
   "execution_count": 3,
   "metadata": {
    "scrolled": false
   },
   "outputs": [
    {
     "name": "stdout",
     "output_type": "stream",
     "text": [
      "   total_images  last_price  total_area first_day_exposition  rooms  \\\n",
      "0            20  13000000.0       108.0  2019-03-07T00:00:00      3   \n",
      "1             7   3350000.0        40.4  2018-12-04T00:00:00      1   \n",
      "2            10   5196000.0        56.0  2015-08-20T00:00:00      2   \n",
      "3             0  64900000.0       159.0  2015-07-24T00:00:00      3   \n",
      "4             2  10000000.0       100.0  2018-06-19T00:00:00      2   \n",
      "\n",
      "   ceiling_height  floors_total  living_area  floor is_apartment  ...  \\\n",
      "0            2.70          16.0         51.0      8          NaN  ...   \n",
      "1             NaN          11.0         18.6      1          NaN  ...   \n",
      "2             NaN           5.0         34.3      4          NaN  ...   \n",
      "3             NaN          14.0          NaN      9          NaN  ...   \n",
      "4            3.03          14.0         32.0     13          NaN  ...   \n",
      "\n",
      "   kitchen_area  balcony    locality_name  airports_nearest  \\\n",
      "0          25.0      NaN  Санкт-Петербург           18863.0   \n",
      "1          11.0      2.0   посёлок Шушары           12817.0   \n",
      "2           8.3      0.0  Санкт-Петербург           21741.0   \n",
      "3           NaN      0.0  Санкт-Петербург           28098.0   \n",
      "4          41.0      NaN  Санкт-Петербург           31856.0   \n",
      "\n",
      "  cityCenters_nearest  parks_around3000  parks_nearest  ponds_around3000  \\\n",
      "0             16028.0               1.0          482.0               2.0   \n",
      "1             18603.0               0.0            NaN               0.0   \n",
      "2             13933.0               1.0           90.0               2.0   \n",
      "3              6800.0               2.0           84.0               3.0   \n",
      "4              8098.0               2.0          112.0               1.0   \n",
      "\n",
      "   ponds_nearest  days_exposition  \n",
      "0          755.0              NaN  \n",
      "1            NaN             81.0  \n",
      "2          574.0            558.0  \n",
      "3          234.0            424.0  \n",
      "4           48.0            121.0  \n",
      "\n",
      "[5 rows x 22 columns]\n",
      "<class 'pandas.core.frame.DataFrame'>\n",
      "RangeIndex: 23699 entries, 0 to 23698\n",
      "Data columns (total 22 columns):\n",
      " #   Column                Non-Null Count  Dtype  \n",
      "---  ------                --------------  -----  \n",
      " 0   total_images          23699 non-null  int64  \n",
      " 1   last_price            23699 non-null  float64\n",
      " 2   total_area            23699 non-null  float64\n",
      " 3   first_day_exposition  23699 non-null  object \n",
      " 4   rooms                 23699 non-null  int64  \n",
      " 5   ceiling_height        14504 non-null  float64\n",
      " 6   floors_total          23613 non-null  float64\n",
      " 7   living_area           21796 non-null  float64\n",
      " 8   floor                 23699 non-null  int64  \n",
      " 9   is_apartment          2775 non-null   object \n",
      " 10  studio                23699 non-null  bool   \n",
      " 11  open_plan             23699 non-null  bool   \n",
      " 12  kitchen_area          21421 non-null  float64\n",
      " 13  balcony               12180 non-null  float64\n",
      " 14  locality_name         23650 non-null  object \n",
      " 15  airports_nearest      18157 non-null  float64\n",
      " 16  cityCenters_nearest   18180 non-null  float64\n",
      " 17  parks_around3000      18181 non-null  float64\n",
      " 18  parks_nearest         8079 non-null   float64\n",
      " 19  ponds_around3000      18181 non-null  float64\n",
      " 20  ponds_nearest         9110 non-null   float64\n",
      " 21  days_exposition       20518 non-null  float64\n",
      "dtypes: bool(2), float64(14), int64(3), object(3)\n",
      "memory usage: 3.7+ MB\n"
     ]
    }
   ],
   "source": [
    "print(df.head())\n",
    "df.info()"
   ]
  },
  {
   "cell_type": "markdown",
   "metadata": {},
   "source": [
    "1.2. Сразу видно большое количество пропусков "
   ]
  },
  {
   "cell_type": "code",
   "execution_count": 4,
   "metadata": {},
   "outputs": [
    {
     "data": {
      "image/png": "[encoded data removed]",
      "text/plain": [
       "<Figure size 1080x1440 with 20 Axes>"
      ]
     },
     "metadata": {
      "needs_background": "light"
     },
     "output_type": "display_data"
    }
   ],
   "source": [
    "df.hist(figsize=(15, 20));"
   ]
  },
  {
   "cell_type": "markdown",
   "metadata": {},
   "source": [
    "1.3. С первого взгляда при таком значении 'bins' подозрительных выбросов не обнаружено, правда странно выглядит гистограмма last_price, при таком масштабировании совершенно не понятно, что за ней скрывается."
   ]
  },
  {
   "cell_type": "markdown",
   "metadata": {},
   "source": [
    "### Предобработка данных"
   ]
  },
  {
   "cell_type": "markdown",
   "metadata": {},
   "source": [
    "2.1. Ищем пропущенные значения."
   ]
  },
  {
   "cell_type": "code",
   "execution_count": 4,
   "metadata": {},
   "outputs": [
    {
     "data": {
      "text/plain": [
       "total_images                0\n",
       "last_price                  0\n",
       "total_area                  0\n",
       "first_day_exposition        0\n",
       "rooms                       0\n",
       "ceiling_height           9195\n",
       "floors_total               86\n",
       "living_area              1903\n",
       "floor                       0\n",
       "is_apartment            20924\n",
       "studio                      0\n",
       "open_plan                   0\n",
       "kitchen_area             2278\n",
       "balcony                 11519\n",
       "locality_name              49\n",
       "airports_nearest         5542\n",
       "cityCenters_nearest      5519\n",
       "parks_around3000         5518\n",
       "parks_nearest           15620\n",
       "ponds_around3000         5518\n",
       "ponds_nearest           14589\n",
       "days_exposition          3181\n",
       "dtype: int64"
      ]
     },
     "execution_count": 4,
     "metadata": {},
     "output_type": "execute_result"
    }
   ],
   "source": [
    "df.isna().sum()"
   ]
  },
  {
   "cell_type": "markdown",
   "metadata": {},
   "source": [
    "**Начнём по порядку:**\n",
    "**2.1.1.** ceiling_height К сожалению такие данные никак косвенно не востановить и придётся использовать медиану.\n",
    "**2.1.2.** floors_total 86 значений можем позволить себе не учитывать, избавляемся от строк с ними \n",
    "**2.1.3.** living_area Можно вывести примерную площадь математически по формуле (total_area - kitchen_area)\n",
    "**2.1.4.** is_apartment Учитывая что другие две опции (open_plan и studio) заполнены везде верно, можно смело везде ставить True, если нет противоречащих значений в open_plan и studio.\n",
    "**2.1.5.** kitchen_area Так же математически выводим по формуле living_area * 0.9 - living_area\n",
    "**2.1.6.** balcony Определить количество балконов по цифрам не выйдет, поэтому поставим 0\n",
    "**2.1.7.** locality_name Такие данные не востановить и 49 строк не скажутся на нашей выборке\n",
    "**2.1.8.** Группу значений растояния трогать не будем, оставим пропущенные значения, а в группе объектов поставим 0. \n",
    "**2.1.9.** days_exposition Думаю можно взять медианное значение и прибавить его к first_day_exposition        "
   ]
  },
  {
   "cell_type": "markdown",
   "metadata": {},
   "source": [
    "**2.1.1. ceiling_height**"
   ]
  },
  {
   "cell_type": "markdown",
   "metadata": {},
   "source": [
    "В соответствии с планом ищем медиану. Сначала проверим данные."
   ]
  },
  {
   "cell_type": "code",
   "execution_count": 5,
   "metadata": {},
   "outputs": [
    {
     "data": {
      "text/plain": [
       "count    14504.000000\n",
       "mean         2.771499\n",
       "std          1.261056\n",
       "min          1.000000\n",
       "25%          2.520000\n",
       "50%          2.650000\n",
       "75%          2.800000\n",
       "max        100.000000\n",
       "Name: ceiling_height, dtype: float64"
      ]
     },
     "execution_count": 5,
     "metadata": {},
     "output_type": "execute_result"
    }
   ],
   "source": [
    "df['ceiling_height'].describe()"
   ]
  },
  {
   "cell_type": "markdown",
   "metadata": {},
   "source": [
    "Судя по максимальному значению некоторые данные перенесены неверно и скорее всего имелось в виду значение в десять раз меньше. Проверим сколько всего квартир в датасете имеют высоту потолков больше 10 метров (предположим, что такие уникумы существуют в категории опенспейс планеровок)."
   ]
  },
  {
   "cell_type": "code",
   "execution_count": 6,
   "metadata": {},
   "outputs": [
    {
     "name": "stdout",
     "output_type": "stream",
     "text": [
      "25\n"
     ]
    },
    {
     "data": {
      "text/html": [
       "<div>\n",
       "<style scoped>\n",
       "    .dataframe tbody tr th:only-of-type {\n",
       "        vertical-align: middle;\n",
       "    }\n",
       "\n",
       "    .dataframe tbody tr th {\n",
       "        vertical-align: top;\n",
       "    }\n",
       "\n",
       "    .dataframe thead th {\n",
       "        text-align: right;\n",
       "    }\n",
       "</style>\n",
       "<table border=\"1\" class=\"dataframe\">\n",
       "  <thead>\n",
       "    <tr style=\"text-align: right;\">\n",
       "      <th></th>\n",
       "      <th>total_images</th>\n",
       "      <th>last_price</th>\n",
       "      <th>total_area</th>\n",
       "      <th>first_day_exposition</th>\n",
       "      <th>rooms</th>\n",
       "      <th>ceiling_height</th>\n",
       "      <th>floors_total</th>\n",
       "      <th>living_area</th>\n",
       "      <th>floor</th>\n",
       "      <th>is_apartment</th>\n",
       "      <th>...</th>\n",
       "      <th>kitchen_area</th>\n",
       "      <th>balcony</th>\n",
       "      <th>locality_name</th>\n",
       "      <th>airports_nearest</th>\n",
       "      <th>cityCenters_nearest</th>\n",
       "      <th>parks_around3000</th>\n",
       "      <th>parks_nearest</th>\n",
       "      <th>ponds_around3000</th>\n",
       "      <th>ponds_nearest</th>\n",
       "      <th>days_exposition</th>\n",
       "    </tr>\n",
       "  </thead>\n",
       "  <tbody>\n",
       "    <tr>\n",
       "      <th>355</th>\n",
       "      <td>17</td>\n",
       "      <td>3600000.0</td>\n",
       "      <td>55.2</td>\n",
       "      <td>2018-07-12T00:00:00</td>\n",
       "      <td>2</td>\n",
       "      <td>25.0</td>\n",
       "      <td>5.0</td>\n",
       "      <td>32.0</td>\n",
       "      <td>2</td>\n",
       "      <td>False</td>\n",
       "      <td>...</td>\n",
       "      <td>NaN</td>\n",
       "      <td>2.0</td>\n",
       "      <td>Гатчина</td>\n",
       "      <td>NaN</td>\n",
       "      <td>NaN</td>\n",
       "      <td>NaN</td>\n",
       "      <td>NaN</td>\n",
       "      <td>NaN</td>\n",
       "      <td>NaN</td>\n",
       "      <td>259.0</td>\n",
       "    </tr>\n",
       "    <tr>\n",
       "      <th>3148</th>\n",
       "      <td>14</td>\n",
       "      <td>2900000.0</td>\n",
       "      <td>75.0</td>\n",
       "      <td>2018-11-12T00:00:00</td>\n",
       "      <td>3</td>\n",
       "      <td>32.0</td>\n",
       "      <td>3.0</td>\n",
       "      <td>53.0</td>\n",
       "      <td>2</td>\n",
       "      <td>NaN</td>\n",
       "      <td>...</td>\n",
       "      <td>8.0</td>\n",
       "      <td>NaN</td>\n",
       "      <td>Волхов</td>\n",
       "      <td>NaN</td>\n",
       "      <td>NaN</td>\n",
       "      <td>NaN</td>\n",
       "      <td>NaN</td>\n",
       "      <td>NaN</td>\n",
       "      <td>NaN</td>\n",
       "      <td>NaN</td>\n",
       "    </tr>\n",
       "    <tr>\n",
       "      <th>4643</th>\n",
       "      <td>0</td>\n",
       "      <td>4300000.0</td>\n",
       "      <td>45.0</td>\n",
       "      <td>2018-02-01T00:00:00</td>\n",
       "      <td>2</td>\n",
       "      <td>25.0</td>\n",
       "      <td>9.0</td>\n",
       "      <td>30.0</td>\n",
       "      <td>2</td>\n",
       "      <td>NaN</td>\n",
       "      <td>...</td>\n",
       "      <td>7.0</td>\n",
       "      <td>1.0</td>\n",
       "      <td>Санкт-Петербург</td>\n",
       "      <td>12016.0</td>\n",
       "      <td>13256.0</td>\n",
       "      <td>1.0</td>\n",
       "      <td>658.0</td>\n",
       "      <td>1.0</td>\n",
       "      <td>331.0</td>\n",
       "      <td>181.0</td>\n",
       "    </tr>\n",
       "    <tr>\n",
       "      <th>4876</th>\n",
       "      <td>7</td>\n",
       "      <td>3000000.0</td>\n",
       "      <td>25.0</td>\n",
       "      <td>2017-09-27T00:00:00</td>\n",
       "      <td>0</td>\n",
       "      <td>27.0</td>\n",
       "      <td>25.0</td>\n",
       "      <td>17.0</td>\n",
       "      <td>17</td>\n",
       "      <td>NaN</td>\n",
       "      <td>...</td>\n",
       "      <td>NaN</td>\n",
       "      <td>2.0</td>\n",
       "      <td>посёлок Мурино</td>\n",
       "      <td>NaN</td>\n",
       "      <td>NaN</td>\n",
       "      <td>NaN</td>\n",
       "      <td>NaN</td>\n",
       "      <td>NaN</td>\n",
       "      <td>NaN</td>\n",
       "      <td>28.0</td>\n",
       "    </tr>\n",
       "    <tr>\n",
       "      <th>5076</th>\n",
       "      <td>0</td>\n",
       "      <td>3850000.0</td>\n",
       "      <td>30.5</td>\n",
       "      <td>2018-10-03T00:00:00</td>\n",
       "      <td>1</td>\n",
       "      <td>24.0</td>\n",
       "      <td>5.0</td>\n",
       "      <td>19.5</td>\n",
       "      <td>1</td>\n",
       "      <td>True</td>\n",
       "      <td>...</td>\n",
       "      <td>5.5</td>\n",
       "      <td>NaN</td>\n",
       "      <td>Санкт-Петербург</td>\n",
       "      <td>29686.0</td>\n",
       "      <td>8389.0</td>\n",
       "      <td>3.0</td>\n",
       "      <td>397.0</td>\n",
       "      <td>1.0</td>\n",
       "      <td>578.0</td>\n",
       "      <td>7.0</td>\n",
       "    </tr>\n",
       "  </tbody>\n",
       "</table>\n",
       "<p>5 rows × 22 columns</p>\n",
       "</div>"
      ],
      "text/plain": [
       "      total_images  last_price  total_area first_day_exposition  rooms  \\\n",
       "355             17   3600000.0        55.2  2018-07-12T00:00:00      2   \n",
       "3148            14   2900000.0        75.0  2018-11-12T00:00:00      3   \n",
       "4643             0   4300000.0        45.0  2018-02-01T00:00:00      2   \n",
       "4876             7   3000000.0        25.0  2017-09-27T00:00:00      0   \n",
       "5076             0   3850000.0        30.5  2018-10-03T00:00:00      1   \n",
       "\n",
       "      ceiling_height  floors_total  living_area  floor is_apartment  ...  \\\n",
       "355             25.0           5.0         32.0      2        False  ...   \n",
       "3148            32.0           3.0         53.0      2          NaN  ...   \n",
       "4643            25.0           9.0         30.0      2          NaN  ...   \n",
       "4876            27.0          25.0         17.0     17          NaN  ...   \n",
       "5076            24.0           5.0         19.5      1         True  ...   \n",
       "\n",
       "      kitchen_area  balcony    locality_name  airports_nearest  \\\n",
       "355            NaN      2.0          Гатчина               NaN   \n",
       "3148           8.0      NaN           Волхов               NaN   \n",
       "4643           7.0      1.0  Санкт-Петербург           12016.0   \n",
       "4876           NaN      2.0   посёлок Мурино               NaN   \n",
       "5076           5.5      NaN  Санкт-Петербург           29686.0   \n",
       "\n",
       "     cityCenters_nearest  parks_around3000  parks_nearest  ponds_around3000  \\\n",
       "355                  NaN               NaN            NaN               NaN   \n",
       "3148                 NaN               NaN            NaN               NaN   \n",
       "4643             13256.0               1.0          658.0               1.0   \n",
       "4876                 NaN               NaN            NaN               NaN   \n",
       "5076              8389.0               3.0          397.0               1.0   \n",
       "\n",
       "      ponds_nearest  days_exposition  \n",
       "355             NaN            259.0  \n",
       "3148            NaN              NaN  \n",
       "4643          331.0            181.0  \n",
       "4876            NaN             28.0  \n",
       "5076          578.0              7.0  \n",
       "\n",
       "[5 rows x 22 columns]"
      ]
     },
     "execution_count": 6,
     "metadata": {},
     "output_type": "execute_result"
    }
   ],
   "source": [
    "df_big_ceiling = df.query('ceiling_height > 10')\n",
    "print(len(df_big_ceiling['ceiling_height']))\n",
    "df_big_ceiling.head()"
   ]
  },
  {
   "cell_type": "markdown",
   "metadata": {},
   "source": [
    "Двадцать пять значений, кажется, немного, да и на статичтику не сильно влияет судя по describe,так что смело подсталяем медиану.  "
   ]
  },
  {
   "cell_type": "code",
   "execution_count": 7,
   "metadata": {},
   "outputs": [
    {
     "name": "stdout",
     "output_type": "stream",
     "text": [
      "0\n"
     ]
    },
    {
     "data": {
      "text/html": [
       "<div>\n",
       "<style scoped>\n",
       "    .dataframe tbody tr th:only-of-type {\n",
       "        vertical-align: middle;\n",
       "    }\n",
       "\n",
       "    .dataframe tbody tr th {\n",
       "        vertical-align: top;\n",
       "    }\n",
       "\n",
       "    .dataframe thead th {\n",
       "        text-align: right;\n",
       "    }\n",
       "</style>\n",
       "<table border=\"1\" class=\"dataframe\">\n",
       "  <thead>\n",
       "    <tr style=\"text-align: right;\">\n",
       "      <th></th>\n",
       "      <th>total_images</th>\n",
       "      <th>last_price</th>\n",
       "      <th>total_area</th>\n",
       "      <th>first_day_exposition</th>\n",
       "      <th>rooms</th>\n",
       "      <th>ceiling_height</th>\n",
       "      <th>floors_total</th>\n",
       "      <th>living_area</th>\n",
       "      <th>floor</th>\n",
       "      <th>is_apartment</th>\n",
       "      <th>...</th>\n",
       "      <th>kitchen_area</th>\n",
       "      <th>balcony</th>\n",
       "      <th>locality_name</th>\n",
       "      <th>airports_nearest</th>\n",
       "      <th>cityCenters_nearest</th>\n",
       "      <th>parks_around3000</th>\n",
       "      <th>parks_nearest</th>\n",
       "      <th>ponds_around3000</th>\n",
       "      <th>ponds_nearest</th>\n",
       "      <th>days_exposition</th>\n",
       "    </tr>\n",
       "  </thead>\n",
       "  <tbody>\n",
       "    <tr>\n",
       "      <th>0</th>\n",
       "      <td>20</td>\n",
       "      <td>13000000.0</td>\n",
       "      <td>108.0</td>\n",
       "      <td>2019-03-07T00:00:00</td>\n",
       "      <td>3</td>\n",
       "      <td>2.70</td>\n",
       "      <td>16.0</td>\n",
       "      <td>51.0</td>\n",
       "      <td>8</td>\n",
       "      <td>NaN</td>\n",
       "      <td>...</td>\n",
       "      <td>25.0</td>\n",
       "      <td>NaN</td>\n",
       "      <td>Санкт-Петербург</td>\n",
       "      <td>18863.0</td>\n",
       "      <td>16028.0</td>\n",
       "      <td>1.0</td>\n",
       "      <td>482.0</td>\n",
       "      <td>2.0</td>\n",
       "      <td>755.0</td>\n",
       "      <td>NaN</td>\n",
       "    </tr>\n",
       "    <tr>\n",
       "      <th>1</th>\n",
       "      <td>7</td>\n",
       "      <td>3350000.0</td>\n",
       "      <td>40.4</td>\n",
       "      <td>2018-12-04T00:00:00</td>\n",
       "      <td>1</td>\n",
       "      <td>2.65</td>\n",
       "      <td>11.0</td>\n",
       "      <td>18.6</td>\n",
       "      <td>1</td>\n",
       "      <td>NaN</td>\n",
       "      <td>...</td>\n",
       "      <td>11.0</td>\n",
       "      <td>2.0</td>\n",
       "      <td>посёлок Шушары</td>\n",
       "      <td>12817.0</td>\n",
       "      <td>18603.0</td>\n",
       "      <td>0.0</td>\n",
       "      <td>NaN</td>\n",
       "      <td>0.0</td>\n",
       "      <td>NaN</td>\n",
       "      <td>81.0</td>\n",
       "    </tr>\n",
       "    <tr>\n",
       "      <th>2</th>\n",
       "      <td>10</td>\n",
       "      <td>5196000.0</td>\n",
       "      <td>56.0</td>\n",
       "      <td>2015-08-20T00:00:00</td>\n",
       "      <td>2</td>\n",
       "      <td>2.65</td>\n",
       "      <td>5.0</td>\n",
       "      <td>34.3</td>\n",
       "      <td>4</td>\n",
       "      <td>NaN</td>\n",
       "      <td>...</td>\n",
       "      <td>8.3</td>\n",
       "      <td>0.0</td>\n",
       "      <td>Санкт-Петербург</td>\n",
       "      <td>21741.0</td>\n",
       "      <td>13933.0</td>\n",
       "      <td>1.0</td>\n",
       "      <td>90.0</td>\n",
       "      <td>2.0</td>\n",
       "      <td>574.0</td>\n",
       "      <td>558.0</td>\n",
       "    </tr>\n",
       "    <tr>\n",
       "      <th>3</th>\n",
       "      <td>0</td>\n",
       "      <td>64900000.0</td>\n",
       "      <td>159.0</td>\n",
       "      <td>2015-07-24T00:00:00</td>\n",
       "      <td>3</td>\n",
       "      <td>2.65</td>\n",
       "      <td>14.0</td>\n",
       "      <td>NaN</td>\n",
       "      <td>9</td>\n",
       "      <td>NaN</td>\n",
       "      <td>...</td>\n",
       "      <td>NaN</td>\n",
       "      <td>0.0</td>\n",
       "      <td>Санкт-Петербург</td>\n",
       "      <td>28098.0</td>\n",
       "      <td>6800.0</td>\n",
       "      <td>2.0</td>\n",
       "      <td>84.0</td>\n",
       "      <td>3.0</td>\n",
       "      <td>234.0</td>\n",
       "      <td>424.0</td>\n",
       "    </tr>\n",
       "    <tr>\n",
       "      <th>4</th>\n",
       "      <td>2</td>\n",
       "      <td>10000000.0</td>\n",
       "      <td>100.0</td>\n",
       "      <td>2018-06-19T00:00:00</td>\n",
       "      <td>2</td>\n",
       "      <td>3.03</td>\n",
       "      <td>14.0</td>\n",
       "      <td>32.0</td>\n",
       "      <td>13</td>\n",
       "      <td>NaN</td>\n",
       "      <td>...</td>\n",
       "      <td>41.0</td>\n",
       "      <td>NaN</td>\n",
       "      <td>Санкт-Петербург</td>\n",
       "      <td>31856.0</td>\n",
       "      <td>8098.0</td>\n",
       "      <td>2.0</td>\n",
       "      <td>112.0</td>\n",
       "      <td>1.0</td>\n",
       "      <td>48.0</td>\n",
       "      <td>121.0</td>\n",
       "    </tr>\n",
       "  </tbody>\n",
       "</table>\n",
       "<p>5 rows × 22 columns</p>\n",
       "</div>"
      ],
      "text/plain": [
       "   total_images  last_price  total_area first_day_exposition  rooms  \\\n",
       "0            20  13000000.0       108.0  2019-03-07T00:00:00      3   \n",
       "1             7   3350000.0        40.4  2018-12-04T00:00:00      1   \n",
       "2            10   5196000.0        56.0  2015-08-20T00:00:00      2   \n",
       "3             0  64900000.0       159.0  2015-07-24T00:00:00      3   \n",
       "4             2  10000000.0       100.0  2018-06-19T00:00:00      2   \n",
       "\n",
       "   ceiling_height  floors_total  living_area  floor is_apartment  ...  \\\n",
       "0            2.70          16.0         51.0      8          NaN  ...   \n",
       "1            2.65          11.0         18.6      1          NaN  ...   \n",
       "2            2.65           5.0         34.3      4          NaN  ...   \n",
       "3            2.65          14.0          NaN      9          NaN  ...   \n",
       "4            3.03          14.0         32.0     13          NaN  ...   \n",
       "\n",
       "   kitchen_area  balcony    locality_name  airports_nearest  \\\n",
       "0          25.0      NaN  Санкт-Петербург           18863.0   \n",
       "1          11.0      2.0   посёлок Шушары           12817.0   \n",
       "2           8.3      0.0  Санкт-Петербург           21741.0   \n",
       "3           NaN      0.0  Санкт-Петербург           28098.0   \n",
       "4          41.0      NaN  Санкт-Петербург           31856.0   \n",
       "\n",
       "  cityCenters_nearest  parks_around3000  parks_nearest  ponds_around3000  \\\n",
       "0             16028.0               1.0          482.0               2.0   \n",
       "1             18603.0               0.0            NaN               0.0   \n",
       "2             13933.0               1.0           90.0               2.0   \n",
       "3              6800.0               2.0           84.0               3.0   \n",
       "4              8098.0               2.0          112.0               1.0   \n",
       "\n",
       "   ponds_nearest  days_exposition  \n",
       "0          755.0              NaN  \n",
       "1            NaN             81.0  \n",
       "2          574.0            558.0  \n",
       "3          234.0            424.0  \n",
       "4           48.0            121.0  \n",
       "\n",
       "[5 rows x 22 columns]"
      ]
     },
     "execution_count": 7,
     "metadata": {},
     "output_type": "execute_result"
    }
   ],
   "source": [
    "df['ceiling_height'] = df['ceiling_height'].fillna(df['ceiling_height'].median())\n",
    "print(df['ceiling_height'].isna().sum())\n",
    "df.head()"
   ]
  },
  {
   "cell_type": "markdown",
   "metadata": {},
   "source": [
    "Тема потолков пока что закрыта."
   ]
  },
  {
   "cell_type": "markdown",
   "metadata": {},
   "source": [
    "**2.1.2. floors_total**"
   ]
  },
  {
   "cell_type": "code",
   "execution_count": 8,
   "metadata": {},
   "outputs": [
    {
     "data": {
      "text/plain": [
       "86"
      ]
     },
     "execution_count": 8,
     "metadata": {},
     "output_type": "execute_result"
    }
   ],
   "source": [
    "#df = df.dropna(subset=['floors_total'])\n",
    "df['floors_total'].isna().sum() \n",
    "#К сожалению синтетически смоделировать этажность не выйдет, пока оставим пропущеные данные."
   ]
  },
  {
   "cell_type": "markdown",
   "metadata": {},
   "source": [
    "**2.1.3. living_area**"
   ]
  },
  {
   "cell_type": "code",
   "execution_count": 9,
   "metadata": {},
   "outputs": [
    {
     "data": {
      "text/plain": [
       "1464"
      ]
     },
     "execution_count": 9,
     "metadata": {},
     "output_type": "execute_result"
    }
   ],
   "source": [
    "df_l_a = df[df['living_area'].isna()]\n",
    "df_l_a['kitchen_area'].isna().sum()"
   ]
  },
  {
   "cell_type": "markdown",
   "metadata": {},
   "source": [
    "Строк в которых нет ни living_area ни в kitchen_area 1464, к сожалению придётся эти данные никак искусственно не смоделировать."
   ]
  },
  {
   "cell_type": "code",
   "execution_count": 10,
   "metadata": {},
   "outputs": [],
   "source": [
    "#for t in df.index:\n",
    "#    df.loc[df['living_area'].isna(), 'living_area'] = \\\n",
    "#    df.loc[df['living_area'].isna(), 'total_area'] - df.loc[df['living_area'].isna(), 'kitchen_area']\n",
    "#df['living_area'].isna().sum()"
   ]
  },
  {
   "cell_type": "code",
   "execution_count": 11,
   "metadata": {},
   "outputs": [
    {
     "data": {
      "text/plain": [
       "1464"
      ]
     },
     "execution_count": 11,
     "metadata": {},
     "output_type": "execute_result"
    }
   ],
   "source": [
    "df.loc[df['living_area'].isna(), 'living_area'] = \\\n",
    "df.loc[df['living_area'].isna(), 'total_area'] - df.loc[df['living_area'].isna(), 'kitchen_area']\n",
    "df['living_area'].isna().sum()\n"
   ]
  },
  {
   "cell_type": "code",
   "execution_count": 12,
   "metadata": {
    "scrolled": false
   },
   "outputs": [
    {
     "data": {
      "text/html": [
       "<div>\n",
       "<style scoped>\n",
       "    .dataframe tbody tr th:only-of-type {\n",
       "        vertical-align: middle;\n",
       "    }\n",
       "\n",
       "    .dataframe tbody tr th {\n",
       "        vertical-align: top;\n",
       "    }\n",
       "\n",
       "    .dataframe thead th {\n",
       "        text-align: right;\n",
       "    }\n",
       "</style>\n",
       "<table border=\"1\" class=\"dataframe\">\n",
       "  <thead>\n",
       "    <tr style=\"text-align: right;\">\n",
       "      <th></th>\n",
       "      <th>total_images</th>\n",
       "      <th>last_price</th>\n",
       "      <th>total_area</th>\n",
       "      <th>first_day_exposition</th>\n",
       "      <th>rooms</th>\n",
       "      <th>ceiling_height</th>\n",
       "      <th>floors_total</th>\n",
       "      <th>living_area</th>\n",
       "      <th>floor</th>\n",
       "      <th>is_apartment</th>\n",
       "      <th>...</th>\n",
       "      <th>kitchen_area</th>\n",
       "      <th>balcony</th>\n",
       "      <th>locality_name</th>\n",
       "      <th>airports_nearest</th>\n",
       "      <th>cityCenters_nearest</th>\n",
       "      <th>parks_around3000</th>\n",
       "      <th>parks_nearest</th>\n",
       "      <th>ponds_around3000</th>\n",
       "      <th>ponds_nearest</th>\n",
       "      <th>days_exposition</th>\n",
       "    </tr>\n",
       "  </thead>\n",
       "  <tbody>\n",
       "    <tr>\n",
       "      <th>3</th>\n",
       "      <td>0</td>\n",
       "      <td>64900000.0</td>\n",
       "      <td>159.0</td>\n",
       "      <td>2015-07-24T00:00:00</td>\n",
       "      <td>3</td>\n",
       "      <td>2.65</td>\n",
       "      <td>14.0</td>\n",
       "      <td>NaN</td>\n",
       "      <td>9</td>\n",
       "      <td>NaN</td>\n",
       "      <td>...</td>\n",
       "      <td>NaN</td>\n",
       "      <td>0.0</td>\n",
       "      <td>Санкт-Петербург</td>\n",
       "      <td>28098.0</td>\n",
       "      <td>6800.0</td>\n",
       "      <td>2.0</td>\n",
       "      <td>84.0</td>\n",
       "      <td>3.0</td>\n",
       "      <td>234.0</td>\n",
       "      <td>424.0</td>\n",
       "    </tr>\n",
       "    <tr>\n",
       "      <th>30</th>\n",
       "      <td>12</td>\n",
       "      <td>2200000.0</td>\n",
       "      <td>32.8</td>\n",
       "      <td>2018-02-19T00:00:00</td>\n",
       "      <td>1</td>\n",
       "      <td>2.65</td>\n",
       "      <td>9.0</td>\n",
       "      <td>NaN</td>\n",
       "      <td>2</td>\n",
       "      <td>NaN</td>\n",
       "      <td>...</td>\n",
       "      <td>NaN</td>\n",
       "      <td>NaN</td>\n",
       "      <td>Коммунар</td>\n",
       "      <td>NaN</td>\n",
       "      <td>NaN</td>\n",
       "      <td>NaN</td>\n",
       "      <td>NaN</td>\n",
       "      <td>NaN</td>\n",
       "      <td>NaN</td>\n",
       "      <td>63.0</td>\n",
       "    </tr>\n",
       "    <tr>\n",
       "      <th>37</th>\n",
       "      <td>10</td>\n",
       "      <td>1990000.0</td>\n",
       "      <td>45.8</td>\n",
       "      <td>2017-10-28T00:00:00</td>\n",
       "      <td>2</td>\n",
       "      <td>2.50</td>\n",
       "      <td>5.0</td>\n",
       "      <td>NaN</td>\n",
       "      <td>1</td>\n",
       "      <td>NaN</td>\n",
       "      <td>...</td>\n",
       "      <td>NaN</td>\n",
       "      <td>NaN</td>\n",
       "      <td>поселок городского типа Красный Бор</td>\n",
       "      <td>NaN</td>\n",
       "      <td>NaN</td>\n",
       "      <td>NaN</td>\n",
       "      <td>NaN</td>\n",
       "      <td>NaN</td>\n",
       "      <td>NaN</td>\n",
       "      <td>196.0</td>\n",
       "    </tr>\n",
       "    <tr>\n",
       "      <th>44</th>\n",
       "      <td>13</td>\n",
       "      <td>5350000.0</td>\n",
       "      <td>40.0</td>\n",
       "      <td>2018-11-18T00:00:00</td>\n",
       "      <td>1</td>\n",
       "      <td>2.65</td>\n",
       "      <td>22.0</td>\n",
       "      <td>NaN</td>\n",
       "      <td>3</td>\n",
       "      <td>NaN</td>\n",
       "      <td>...</td>\n",
       "      <td>NaN</td>\n",
       "      <td>1.0</td>\n",
       "      <td>Санкт-Петербург</td>\n",
       "      <td>30471.0</td>\n",
       "      <td>11603.0</td>\n",
       "      <td>1.0</td>\n",
       "      <td>620.0</td>\n",
       "      <td>1.0</td>\n",
       "      <td>1152.0</td>\n",
       "      <td>NaN</td>\n",
       "    </tr>\n",
       "    <tr>\n",
       "      <th>59</th>\n",
       "      <td>15</td>\n",
       "      <td>6300000.0</td>\n",
       "      <td>46.5</td>\n",
       "      <td>2017-03-06T00:00:00</td>\n",
       "      <td>1</td>\n",
       "      <td>2.65</td>\n",
       "      <td>13.0</td>\n",
       "      <td>NaN</td>\n",
       "      <td>13</td>\n",
       "      <td>NaN</td>\n",
       "      <td>...</td>\n",
       "      <td>NaN</td>\n",
       "      <td>NaN</td>\n",
       "      <td>Санкт-Петербург</td>\n",
       "      <td>11125.0</td>\n",
       "      <td>14501.0</td>\n",
       "      <td>0.0</td>\n",
       "      <td>NaN</td>\n",
       "      <td>0.0</td>\n",
       "      <td>NaN</td>\n",
       "      <td>336.0</td>\n",
       "    </tr>\n",
       "  </tbody>\n",
       "</table>\n",
       "<p>5 rows × 22 columns</p>\n",
       "</div>"
      ],
      "text/plain": [
       "    total_images  last_price  total_area first_day_exposition  rooms  \\\n",
       "3              0  64900000.0       159.0  2015-07-24T00:00:00      3   \n",
       "30            12   2200000.0        32.8  2018-02-19T00:00:00      1   \n",
       "37            10   1990000.0        45.8  2017-10-28T00:00:00      2   \n",
       "44            13   5350000.0        40.0  2018-11-18T00:00:00      1   \n",
       "59            15   6300000.0        46.5  2017-03-06T00:00:00      1   \n",
       "\n",
       "    ceiling_height  floors_total  living_area  floor is_apartment  ...  \\\n",
       "3             2.65          14.0          NaN      9          NaN  ...   \n",
       "30            2.65           9.0          NaN      2          NaN  ...   \n",
       "37            2.50           5.0          NaN      1          NaN  ...   \n",
       "44            2.65          22.0          NaN      3          NaN  ...   \n",
       "59            2.65          13.0          NaN     13          NaN  ...   \n",
       "\n",
       "    kitchen_area  balcony                        locality_name  \\\n",
       "3            NaN      0.0                      Санкт-Петербург   \n",
       "30           NaN      NaN                             Коммунар   \n",
       "37           NaN      NaN  поселок городского типа Красный Бор   \n",
       "44           NaN      1.0                      Санкт-Петербург   \n",
       "59           NaN      NaN                      Санкт-Петербург   \n",
       "\n",
       "    airports_nearest cityCenters_nearest  parks_around3000  parks_nearest  \\\n",
       "3            28098.0              6800.0               2.0           84.0   \n",
       "30               NaN                 NaN               NaN            NaN   \n",
       "37               NaN                 NaN               NaN            NaN   \n",
       "44           30471.0             11603.0               1.0          620.0   \n",
       "59           11125.0             14501.0               0.0            NaN   \n",
       "\n",
       "    ponds_around3000  ponds_nearest  days_exposition  \n",
       "3                3.0          234.0            424.0  \n",
       "30               NaN            NaN             63.0  \n",
       "37               NaN            NaN            196.0  \n",
       "44               1.0         1152.0              NaN  \n",
       "59               0.0            NaN            336.0  \n",
       "\n",
       "[5 rows x 22 columns]"
      ]
     },
     "execution_count": 12,
     "metadata": {},
     "output_type": "execute_result"
    }
   ],
   "source": [
    "df[df['living_area'].isna()].head() \n",
    "#Проверяем. Кстати интерестные строки обнаружились 30 и 37, как \"много\" в них данных, удивительно."
   ]
  },
  {
   "cell_type": "markdown",
   "metadata": {},
   "source": [
    "На этом оставим столбец living_area."
   ]
  },
  {
   "cell_type": "markdown",
   "metadata": {},
   "source": [
    "**2.1.4. is_apartment**"
   ]
  },
  {
   "cell_type": "code",
   "execution_count": 13,
   "metadata": {},
   "outputs": [
    {
     "name": "stdout",
     "output_type": "stream",
     "text": [
      "20924\n",
      "20790\n",
      "60\n",
      "20864\n",
      "134\n",
      "20730\n"
     ]
    }
   ],
   "source": [
    "df_i_a = df[df['is_apartment'].isna()]\n",
    "print(len(df_i_a))\n",
    "print(len(df_i_a.query('studio == False')))\n",
    "print(len(df_i_a.query('studio == False').query('open_plan == True')))\n",
    "print(len(df_i_a.query('open_plan == False')))\n",
    "print(len(df_i_a.query('open_plan == False').query('studio == True')))\n",
    "print(len(df_i_a.query('open_plan == False').query('studio == False')))"
   ]
  },
  {
   "cell_type": "markdown",
   "metadata": {},
   "source": [
    "Получается на все пропущенные is_apartment у нас 60 open_plan и 131 studio. Заполним оставшиеся значений на True"
   ]
  },
  {
   "cell_type": "code",
   "execution_count": 14,
   "metadata": {},
   "outputs": [
    {
     "data": {
      "text/plain": [
       "0"
      ]
     },
     "execution_count": 14,
     "metadata": {},
     "output_type": "execute_result"
    }
   ],
   "source": [
    "df.loc[(df['open_plan'] == False) & (df['studio'] == False) & (df['is_apartment'].isna()), 'is_apartment'] = True\n",
    "df.loc[((df['open_plan'] == True) | (df['studio'] == True)) & (df['is_apartment'].isna()), 'is_apartment'] = False\n",
    "df['is_apartment'].isna().sum()"
   ]
  },
  {
   "cell_type": "markdown",
   "metadata": {},
   "source": [
    "**2.1.5. kitchen_area**"
   ]
  },
  {
   "cell_type": "code",
   "execution_count": 15,
   "metadata": {},
   "outputs": [
    {
     "data": {
      "text/plain": [
       "1464"
      ]
     },
     "execution_count": 15,
     "metadata": {},
     "output_type": "execute_result"
    }
   ],
   "source": [
    "df.loc[df['kitchen_area'].isna(), 'kitchen_area'] = \\\n",
    "df.loc[df['kitchen_area'].isna(), 'total_area'] - df.loc[df['kitchen_area'].isna(), 'living_area']\n",
    "df['living_area'].isna().sum()"
   ]
  },
  {
   "cell_type": "markdown",
   "metadata": {},
   "source": [
    "Получились те же злополучные 1464, значит всё сделано правильно. Пока оставим их в покое, хотя и смущает что у нас ~6% данных такого качества, с другой стороны всегда можно их выбросить."
   ]
  },
  {
   "cell_type": "markdown",
   "metadata": {},
   "source": [
    "**2.1.6. balcony**"
   ]
  },
  {
   "cell_type": "code",
   "execution_count": 16,
   "metadata": {},
   "outputs": [
    {
     "data": {
      "text/plain": [
       "array([nan,  2.,  0.,  1.,  5.,  4.,  3.])"
      ]
     },
     "execution_count": 16,
     "metadata": {},
     "output_type": "execute_result"
    }
   ],
   "source": [
    "df['balcony'].unique()"
   ]
  },
  {
   "cell_type": "markdown",
   "metadata": {},
   "source": [
    "Смело заменяем на 0."
   ]
  },
  {
   "cell_type": "code",
   "execution_count": 17,
   "metadata": {},
   "outputs": [
    {
     "data": {
      "text/plain": [
       "0"
      ]
     },
     "execution_count": 17,
     "metadata": {},
     "output_type": "execute_result"
    }
   ],
   "source": [
    "df['balcony'] = df['balcony'].fillna(0)\n",
    "df['balcony'].isna().sum()"
   ]
  },
  {
   "cell_type": "markdown",
   "metadata": {},
   "source": [
    "**2.1.7. locality_name**"
   ]
  },
  {
   "cell_type": "code",
   "execution_count": 18,
   "metadata": {},
   "outputs": [
    {
     "data": {
      "text/plain": [
       "49"
      ]
     },
     "execution_count": 18,
     "metadata": {},
     "output_type": "execute_result"
    }
   ],
   "source": [
    "#df = df.dropna(subset=['locality_name'])\n",
    "df['locality_name'].isna().sum()\n",
    "#Такая же ситуация как и с количеством этажей"
   ]
  },
  {
   "cell_type": "markdown",
   "metadata": {},
   "source": [
    "**2.1.8. Географические данные**"
   ]
  },
  {
   "cell_type": "code",
   "execution_count": 19,
   "metadata": {},
   "outputs": [
    {
     "name": "stdout",
     "output_type": "stream",
     "text": [
      "0\n",
      "0\n"
     ]
    }
   ],
   "source": [
    "df['parks_around3000'] = df['parks_around3000'].fillna(0)\n",
    "df['ponds_around3000'] = df['ponds_around3000'].fillna(0)\n",
    "print(df['parks_around3000'].isna().sum())\n",
    "print(df['ponds_around3000'].isna().sum())"
   ]
  },
  {
   "cell_type": "markdown",
   "metadata": {},
   "source": [
    "**2.1.9. days_exposition**"
   ]
  },
  {
   "cell_type": "code",
   "execution_count": 20,
   "metadata": {},
   "outputs": [],
   "source": [
    "#Первым делом переведем тип данных first_day_exposition в datetime.\n",
    "df['first_day_exposition'] = pd.to_datetime(\n",
    "    df['first_day_exposition'], format='%Y-%m-%dT%H:%M:%S'\n",
    ")\n",
    "#После поменяем тип данных для days_exposition на int64\n",
    "#df['days_exposition'] = df['days_exposition']\n",
    "#import datetime\n",
    "#Теперь циклом прибавим к совпадающим значениям даты публикации известный нам по другим строкам срок расмещения.\n",
    "#for d in df['first_day_exposition'].unique():\n",
    "#    d_total = df.loc[(df['first_day_exposition'] == d), 'days_exposition'].median()\n",
    "#    delta = datetime.timedelta(days=float(d_total))\n",
    "#    #df.loc[(df['first_day_exposition'] == d) & (df['days_exposition'].isna()), 'days_exposition'] = d + delta\n",
    "#К сожалению красивая задумка не прошла, вернусь к первоначальному плану\n",
    "#for d in df['first_day_exposition'].unique():\n",
    "#    df.loc[(df['first_day_exposition'] == d) & (df['days_exposition'].isna()), 'days_exposition'] = \\\n",
    "#    df.loc[(df['first_day_exposition'] == d), 'days_exposition'].median()\n",
    "#Этот способо так же не прошел. Тогда оставлю пока данные в таком виде."
   ]
  },
  {
   "cell_type": "markdown",
   "metadata": {},
   "source": [
    "**2.2.**"
   ]
  },
  {
   "cell_type": "code",
   "execution_count": 21,
   "metadata": {
    "scrolled": false
   },
   "outputs": [
    {
     "name": "stdout",
     "output_type": "stream",
     "text": [
      "<class 'pandas.core.frame.DataFrame'>\n",
      "RangeIndex: 23699 entries, 0 to 23698\n",
      "Data columns (total 22 columns):\n",
      " #   Column                Non-Null Count  Dtype         \n",
      "---  ------                --------------  -----         \n",
      " 0   total_images          23699 non-null  int64         \n",
      " 1   last_price            23699 non-null  float64       \n",
      " 2   total_area            23699 non-null  float64       \n",
      " 3   first_day_exposition  23699 non-null  datetime64[ns]\n",
      " 4   rooms                 23699 non-null  int64         \n",
      " 5   ceiling_height        23699 non-null  float64       \n",
      " 6   floors_total          23613 non-null  float64       \n",
      " 7   living_area           22235 non-null  float64       \n",
      " 8   floor                 23699 non-null  int64         \n",
      " 9   is_apartment          23699 non-null  object        \n",
      " 10  studio                23699 non-null  bool          \n",
      " 11  open_plan             23699 non-null  bool          \n",
      " 12  kitchen_area          22235 non-null  float64       \n",
      " 13  balcony               23699 non-null  float64       \n",
      " 14  locality_name         23650 non-null  object        \n",
      " 15  airports_nearest      18157 non-null  float64       \n",
      " 16  cityCenters_nearest   18180 non-null  float64       \n",
      " 17  parks_around3000      23699 non-null  float64       \n",
      " 18  parks_nearest         8079 non-null   float64       \n",
      " 19  ponds_around3000      23699 non-null  float64       \n",
      " 20  ponds_nearest         9110 non-null   float64       \n",
      " 21  days_exposition       20518 non-null  float64       \n",
      "dtypes: bool(2), datetime64[ns](1), float64(14), int64(3), object(2)\n",
      "memory usage: 3.7+ MB\n"
     ]
    }
   ],
   "source": [
    "df.info()"
   ]
  },
  {
   "cell_type": "markdown",
   "metadata": {},
   "source": [
    "Учитывая, что datetime мы перевели до этого, а float64 ранее не хотел ни в какую переходить в int64, и как список апартаментов превратить в bool мне не помог узнать даже интернет, не думаю, что стоит чтото менять "
   ]
  },
  {
   "cell_type": "markdown",
   "metadata": {},
   "source": [
    "**2.3**"
   ]
  },
  {
   "cell_type": "code",
   "execution_count": 22,
   "metadata": {
    "scrolled": false
   },
   "outputs": [
    {
     "data": {
      "text/plain": [
       "array(['Санкт-Петербург', 'посёлок Шушары', 'городской посёлок Янино-1',\n",
       "       'посёлок Парголово', 'посёлок Мурино', 'Ломоносов', 'Сертолово',\n",
       "       'Петергоф', 'Пушкин', 'деревня Кудрово', 'Коммунар', 'Колпино',\n",
       "       'поселок городского типа Красный Бор', 'Гатчина', 'поселок Мурино',\n",
       "       'деревня Фёдоровское', 'Выборг', 'Кронштадт', 'Кировск',\n",
       "       'деревня Новое Девяткино', 'посёлок Металлострой',\n",
       "       'посёлок городского типа Лебяжье',\n",
       "       'посёлок городского типа Сиверский', 'поселок Молодцово',\n",
       "       'поселок городского типа Кузьмоловский',\n",
       "       'садовое товарищество Новая Ропша', 'Павловск',\n",
       "       'деревня Пикколово', 'Всеволожск', 'Волхов', 'Кингисепп',\n",
       "       'Приозерск', 'Сестрорецк', 'деревня Куттузи', 'посёлок Аннино',\n",
       "       'поселок городского типа Ефимовский', 'посёлок Плодовое',\n",
       "       'деревня Заклинье', 'поселок Торковичи', 'поселок Первомайское',\n",
       "       'Красное Село', 'посёлок Понтонный', 'Сясьстрой', 'деревня Старая',\n",
       "       'деревня Лесколово', 'посёлок Новый Свет', 'Сланцы',\n",
       "       'село Путилово', 'Ивангород', 'Мурино', 'Шлиссельбург',\n",
       "       'Никольское', 'Зеленогорск', 'Сосновый Бор', 'поселок Новый Свет',\n",
       "       'деревня Оржицы', 'деревня Кальтино', 'Кудрово',\n",
       "       'поселок Романовка', 'посёлок Бугры', 'поселок Бугры',\n",
       "       'поселок городского типа Рощино', 'Кириши', 'Луга', 'Волосово',\n",
       "       'Отрадное', 'село Павлово', 'поселок Оредеж', 'село Копорье',\n",
       "       'посёлок городского типа Красный Бор', 'посёлок Молодёжное',\n",
       "       'Тихвин', 'посёлок Победа', 'деревня Нурма',\n",
       "       'поселок городского типа Синявино', 'Тосно',\n",
       "       'посёлок городского типа Кузьмоловский', 'посёлок Стрельна',\n",
       "       'Бокситогорск', 'посёлок Александровская', 'деревня Лопухинка',\n",
       "       'Пикалёво', 'поселок Терволово',\n",
       "       'поселок городского типа Советский', 'Подпорожье',\n",
       "       'посёлок Петровское', 'посёлок городского типа Токсово',\n",
       "       'поселок Сельцо', 'посёлок городского типа Вырица',\n",
       "       'деревня Кипень', 'деревня Келози', 'деревня Вартемяги',\n",
       "       'посёлок Тельмана', 'поселок Севастьяново',\n",
       "       'городской поселок Большая Ижора', nan,\n",
       "       'городской посёлок Павлово', 'деревня Агалатово',\n",
       "       'посёлок Новогорелово', 'городской посёлок Лесогорский',\n",
       "       'деревня Лаголово', 'поселок Цвелодубово',\n",
       "       'поселок городского типа Рахья', 'поселок городского типа Вырица',\n",
       "       'деревня Белогорка', 'поселок Заводской',\n",
       "       'городской посёлок Новоселье', 'деревня Большие Колпаны',\n",
       "       'деревня Горбунки', 'деревня Батово', 'деревня Заневка',\n",
       "       'деревня Иссад', 'Приморск', 'городской посёлок Фёдоровское',\n",
       "       'деревня Мистолово', 'Новая Ладога', 'поселок Зимитицы',\n",
       "       'поселок Барышево', 'деревня Разметелево',\n",
       "       'поселок городского типа имени Свердлова', 'деревня Пеники',\n",
       "       'поселок Рябово', 'деревня Пудомяги', 'поселок станции Корнево',\n",
       "       'деревня Низино', 'деревня Бегуницы', 'посёлок Поляны',\n",
       "       'городской посёлок Мга', 'поселок Елизаветино',\n",
       "       'посёлок городского типа Кузнечное', 'деревня Колтуши',\n",
       "       'поселок Запорожское', 'посёлок городского типа Рощино',\n",
       "       'деревня Гостилицы', 'деревня Малое Карлино',\n",
       "       'посёлок Мичуринское', 'посёлок городского типа имени Морозова',\n",
       "       'посёлок Песочный', 'посёлок Сосново', 'деревня Аро',\n",
       "       'поселок Ильичёво', 'посёлок городского типа Тайцы',\n",
       "       'деревня Малое Верево', 'деревня Извара', 'поселок станции Вещево',\n",
       "       'село Паша', 'деревня Калитино',\n",
       "       'посёлок городского типа Ульяновка', 'деревня Чудской Бор',\n",
       "       'поселок городского типа Дубровка', 'деревня Мины',\n",
       "       'поселок Войсковицы', 'посёлок городского типа имени Свердлова',\n",
       "       'деревня Коркино', 'посёлок Ропша',\n",
       "       'поселок городского типа Приладожский', 'посёлок Щеглово',\n",
       "       'посёлок Гаврилово', 'Лодейное Поле', 'деревня Рабитицы',\n",
       "       'поселок городского типа Никольский', 'деревня Кузьмолово',\n",
       "       'деревня Малые Колпаны', 'поселок Тельмана',\n",
       "       'посёлок Петро-Славянка', 'городской посёлок Назия',\n",
       "       'посёлок Репино', 'посёлок Ильичёво', 'поселок Углово',\n",
       "       'поселок Старая Малукса', 'садовое товарищество Рахья',\n",
       "       'поселок Аннино', 'поселок Победа', 'деревня Меньково',\n",
       "       'деревня Старые Бегуницы', 'посёлок Сапёрный', 'поселок Семрино',\n",
       "       'поселок Гаврилово', 'поселок Глажево', 'поселок Кобринское',\n",
       "       'деревня Гарболово', 'деревня Юкки',\n",
       "       'поселок станции Приветнинское', 'деревня Мануйлово',\n",
       "       'деревня Пчева', 'поселок Поляны', 'поселок Цвылёво',\n",
       "       'поселок Мельниково', 'посёлок Пудость', 'посёлок Усть-Луга',\n",
       "       'Светогорск', 'Любань', 'поселок Селезнёво',\n",
       "       'поселок городского типа Рябово', 'Каменногорск', 'деревня Кривко',\n",
       "       'поселок Глебычево', 'деревня Парицы', 'поселок Жилпосёлок',\n",
       "       'посёлок городского типа Мга', 'городской поселок Янино-1',\n",
       "       'посёлок Войскорово', 'село Никольское', 'посёлок Терволово',\n",
       "       'поселок Стеклянный', 'посёлок городского типа Важины',\n",
       "       'посёлок Мыза-Ивановка', 'село Русско-Высоцкое',\n",
       "       'поселок городского типа Лебяжье',\n",
       "       'поселок городского типа Форносово', 'село Старая Ладога',\n",
       "       'поселок Житково', 'городской посёлок Виллози', 'деревня Лампово',\n",
       "       'деревня Шпаньково', 'деревня Лаврики', 'посёлок Сумино',\n",
       "       'посёлок Возрождение', 'деревня Старосиверская',\n",
       "       'посёлок Кикерино', 'поселок Возрождение',\n",
       "       'деревня Старое Хинколово', 'посёлок Пригородный',\n",
       "       'посёлок Торфяное', 'городской посёлок Будогощь',\n",
       "       'поселок Суходолье', 'поселок Красная Долина', 'деревня Хапо-Ое',\n",
       "       'поселок городского типа Дружная Горка', 'поселок Лисий Нос',\n",
       "       'деревня Яльгелево', 'посёлок Стеклянный', 'село Рождествено',\n",
       "       'деревня Старополье', 'посёлок Левашово', 'деревня Сяськелево',\n",
       "       'деревня Камышовка',\n",
       "       'садоводческое некоммерческое товарищество Лесная Поляна',\n",
       "       'деревня Хязельки', 'поселок Жилгородок',\n",
       "       'посёлок городского типа Павлово', 'деревня Ялгино',\n",
       "       'поселок Новый Учхоз', 'городской посёлок Рощино',\n",
       "       'поселок Гончарово', 'поселок Почап', 'посёлок Сапёрное',\n",
       "       'посёлок Платформа 69-й километр', 'поселок Каложицы',\n",
       "       'деревня Фалилеево', 'деревня Пельгора',\n",
       "       'поселок городского типа Лесогорский', 'деревня Торошковичи',\n",
       "       'посёлок Белоостров', 'посёлок Алексеевка', 'поселок Серебрянский',\n",
       "       'поселок Лукаши', 'поселок Петровское', 'деревня Щеглово',\n",
       "       'поселок Мичуринское', 'деревня Тарасово', 'поселок Кингисеппский',\n",
       "       'посёлок при железнодорожной станции Вещево', 'поселок Ушаки',\n",
       "       'деревня Котлы', 'деревня Сижно', 'деревня Торосово',\n",
       "       'посёлок Форт Красная Горка', 'поселок городского типа Токсово',\n",
       "       'деревня Новолисино', 'посёлок станции Громово', 'деревня Глинка',\n",
       "       'посёлок Мельниково', 'поселок городского типа Назия',\n",
       "       'деревня Старая Пустошь', 'поселок Коммунары', 'поселок Починок',\n",
       "       'посёлок городского типа Вознесенье', 'деревня Разбегаево',\n",
       "       'посёлок городского типа Рябово', 'поселок Гладкое',\n",
       "       'посёлок при железнодорожной станции Приветнинское',\n",
       "       'поселок Тёсово-4', 'посёлок Жилгородок', 'деревня Бор',\n",
       "       'посёлок Коробицыно', 'деревня Большая Вруда', 'деревня Курковицы',\n",
       "       'посёлок Лисий Нос', 'городской посёлок Советский',\n",
       "       'посёлок Кобралово', 'деревня Суоранда', 'поселок Кобралово',\n",
       "       'поселок городского типа Кондратьево',\n",
       "       'коттеджный поселок Счастье', 'поселок Любань', 'деревня Реброво',\n",
       "       'деревня Зимитицы', 'деревня Тойворово', 'поселок Семиозерье',\n",
       "       'поселок Лесное', 'поселок Совхозный', 'поселок Усть-Луга',\n",
       "       'посёлок Ленинское', 'посёлок Суйда',\n",
       "       'посёлок городского типа Форносово', 'деревня Нижние Осельки',\n",
       "       'посёлок станции Свирь', 'поселок Перово', 'Высоцк',\n",
       "       'поселок Гарболово', 'село Шум', 'поселок Котельский',\n",
       "       'поселок станции Лужайка', 'деревня Большая Пустомержа',\n",
       "       'поселок Красносельское', 'деревня Вахнова Кара', 'деревня Пижма',\n",
       "       'коттеджный поселок Кивеннапа Север', 'поселок Коробицыно',\n",
       "       'поселок Ромашки', 'посёлок Перово', 'деревня Каськово',\n",
       "       'деревня Куровицы', 'посёлок Плоское', 'поселок Сумино',\n",
       "       'поселок городского типа Большая Ижора', 'поселок Кирпичное',\n",
       "       'деревня Ям-Тесово', 'деревня Раздолье', 'деревня Терпилицы',\n",
       "       'посёлок Шугозеро', 'деревня Ваганово', 'поселок Пушное',\n",
       "       'садовое товарищество Садко', 'посёлок Усть-Ижора',\n",
       "       'деревня Выскатка', 'городской посёлок Свирьстрой',\n",
       "       'поселок Громово', 'деревня Кисельня', 'посёлок Старая Малукса',\n",
       "       'деревня Трубников Бор', 'поселок Калитино',\n",
       "       'посёлок Высокоключевой', 'садовое товарищество Приладожский',\n",
       "       'посёлок Пансионат Зелёный Бор', 'деревня Ненимяки',\n",
       "       'поселок Пансионат Зелёный Бор', 'деревня Снегирёвка',\n",
       "       'деревня Рапполово', 'деревня Пустынка', 'поселок Рабитицы',\n",
       "       'деревня Большой Сабск', 'деревня Русско', 'деревня Лупполово',\n",
       "       'деревня Большое Рейзино', 'деревня Малая Романовка',\n",
       "       'поселок Дружноселье', 'поселок Пчевжа', 'поселок Володарское',\n",
       "       'деревня Нижняя', 'коттеджный посёлок Лесное', 'деревня Тихковицы',\n",
       "       'деревня Борисова Грива', 'посёлок Дзержинского'], dtype=object)"
      ]
     },
     "metadata": {},
     "output_type": "display_data"
    },
    {
     "data": {
      "text/plain": [
       "364"
      ]
     },
     "execution_count": 22,
     "metadata": {},
     "output_type": "execute_result"
    }
   ],
   "source": [
    "display(df['locality_name'].unique())\n",
    "df['locality_name'].nunique()"
   ]
  },
  {
   "cell_type": "code",
   "execution_count": 23,
   "metadata": {
    "scrolled": false
   },
   "outputs": [
    {
     "data": {
      "text/plain": [
       "array(['Санкт-Петербург', 'Шушары', 'Янино-1', 'Парголово', 'Мурино',\n",
       "       'Ломоносов', 'Сертолово', 'Петергоф', 'Пушкин', 'Кудрово',\n",
       "       'Коммунар', 'Колпино', 'Красный Бор', 'Гатчина', 'Фёдоровское',\n",
       "       'Выборг', 'Кронштадт', 'Кировск', 'Новое Девяткино',\n",
       "       'Металлострой', 'Лебяжье', 'Сиверский', 'Молодцово',\n",
       "       'Кузьмоловский', 'Новая Ропша', 'Павловск', 'Пикколово',\n",
       "       'Всеволожск', 'Волхов', 'Кингисепп', 'Приозерск', 'Сестрорецк',\n",
       "       'Куттузи', 'Аннино', 'Ефимовский', 'Плодовое', 'Заклинье',\n",
       "       'Торковичи', 'Первомайское', 'Красное Село', 'Понтонный',\n",
       "       'Сясьстрой', 'Старая', 'Лесколово', 'Новый Свет', 'Сланцы',\n",
       "       'Путилово', 'Ивангород', 'Шлиссельбург', 'Никольское',\n",
       "       'Зеленогорск', 'Сосновый Бор', 'Оржицы', 'Кальтино', 'Романовка',\n",
       "       'Бугры', 'Рощино', 'Кириши', 'Луга', 'Волосово', 'Отрадное',\n",
       "       'Павлово', 'Оредеж', 'Копорье', 'Молодёжное', 'Тихвин', 'Победа',\n",
       "       'Нурма', 'Синявино', 'Тосно', 'Стрельна', 'Бокситогорск',\n",
       "       'Александровская', 'Лопухинка', 'Пикалёво', 'Терволово',\n",
       "       'Советский', 'Подпорожье', 'Петровское', 'Токсово', 'Сельцо',\n",
       "       'Вырица', 'Кипень', 'Келози', 'Вартемяги', 'Тельмана',\n",
       "       'Севастьяново', 'Большая Ижора', nan, 'Агалатово', 'Новогорелово',\n",
       "       'Лесогорский', 'Лаголово', 'Цвелодубово', 'Рахья', 'Белогорка',\n",
       "       'Заводской', 'Новоселье', 'Большие Колпаны', 'Горбунки', 'Батово',\n",
       "       'Заневка', 'Иссад', 'Приморск', 'Мистолово', 'Новая Ладога',\n",
       "       'Зимитицы', 'Барышево', 'Разметелево', 'имени Свердлова', 'Пеники',\n",
       "       'Рябово', 'Пудомяги', 'станции Корнево', 'Низино', 'Бегуницы',\n",
       "       'Поляны', 'Мга', 'Елизаветино', 'Кузнечное', 'Колтуши',\n",
       "       'Запорожское', 'Гостилицы', 'Малое Карлино', 'Мичуринское',\n",
       "       'имени Морозова', 'Песочный', 'Сосново', 'Аро', 'Ильичёво',\n",
       "       'Тайцы', 'Малое Верево', 'Извара', 'станции Вещево', 'Паша',\n",
       "       'Калитино', 'Ульяновка', 'Чудской Бор', 'Дубровка', 'Мины',\n",
       "       'Войсковицы', 'Коркино', 'Ропша', 'Приладожский', 'Щеглово',\n",
       "       'Гаврилово', 'Лодейное Поле', 'Рабитицы', 'Никольский',\n",
       "       'Кузьмолово', 'Малые Колпаны', 'Петро-Славянка', 'Назия', 'Репино',\n",
       "       'Углово', 'Старая Малукса', 'Меньково', 'Старые Бегуницы',\n",
       "       'Сапёрный', 'Семрино', 'Глажево', 'Кобринское', 'Гарболово',\n",
       "       'Юкки', 'станции Приветнинское', 'Мануйлово', 'Пчева', 'Цвылёво',\n",
       "       'Мельниково', 'Пудость', 'Усть-Луга', 'Светогорск', 'Любань',\n",
       "       'Селезнёво', 'Каменногорск', 'Кривко', 'Глебычево', 'Парицы',\n",
       "       'Жилпосёлок', 'Войскорово', 'Стеклянный', 'Важины',\n",
       "       'Мыза-Ивановка', 'Русско-Высоцкое', 'Форносово', 'Старая Ладога',\n",
       "       'Житково', 'Виллози', 'Лампово', 'Шпаньково', 'Лаврики', 'Сумино',\n",
       "       'Возрождение', 'Старосиверская', 'Кикерино', 'Старое Хинколово',\n",
       "       'Пригородный', 'Торфяное', 'Будогощь', 'Суходолье',\n",
       "       'Красная Долина', 'Хапо-Ое', 'Дружная Горка', 'Лисий Нос',\n",
       "       'Яльгелево', 'Рождествено', 'Старополье', 'Левашово', 'Сяськелево',\n",
       "       'Камышовка', 'Лесная Поляна', 'Хязельки', 'Жилгородок', 'Ялгино',\n",
       "       'Новый Учхоз', 'Гончарово', 'Почап', 'Сапёрное',\n",
       "       'Платформа 69-й километр', 'Каложицы', 'Фалилеево', 'Пельгора',\n",
       "       'Торошковичи', 'Белоостров', 'Алексеевка', 'Серебрянский',\n",
       "       'Лукаши', 'Тарасово', 'Кингисеппский', 'Вещево', 'Ушаки', 'Котлы',\n",
       "       'Сижно', 'Торосово', 'Форт Красная Горка', 'Новолисино',\n",
       "       'станции Громово', 'Глинка', 'Старая Пустошь', 'Коммунары',\n",
       "       'Починок', 'Вознесенье', 'Разбегаево', 'Гладкое', 'Приветнинское',\n",
       "       'Тёсово-4', 'Бор', 'Коробицыно', 'Большая Вруда', 'Курковицы',\n",
       "       'Кобралово', 'Суоранда', 'Кондратьево', 'Счастье', 'Реброво',\n",
       "       'Тойворово', 'Семиозерье', 'Лесное', 'Совхозный', 'Ленинское',\n",
       "       'Суйда', 'Нижние Осельки', 'станции Свирь', 'Перово', 'Высоцк',\n",
       "       'Шум', 'Котельский', 'станции Лужайка', 'Большая Пустомержа',\n",
       "       'Красносельское', 'Вахнова Кара', 'Пижма', 'Кивеннапа Север',\n",
       "       'Ромашки', 'Каськово', 'Куровицы', 'Плоское', 'Кирпичное',\n",
       "       'Ям-Тесово', 'Раздолье', 'Терпилицы', 'Шугозеро', 'Ваганово',\n",
       "       'Пушное', 'Садко', 'Усть-Ижора', 'Выскатка', 'Свирьстрой',\n",
       "       'Громово', 'Кисельня', 'Трубников Бор', 'Высокоключевой',\n",
       "       'Пансионат Зелёный Бор', 'Ненимяки', 'Снегирёвка', 'Рапполово',\n",
       "       'Пустынка', 'Большой Сабск', 'Русско', 'Лупполово',\n",
       "       'Большое Рейзино', 'Малая Романовка', 'Дружноселье', 'Пчевжа',\n",
       "       'Володарское', 'Нижняя', 'Тихковицы', 'Борисова Грива',\n",
       "       'Дзержинского'], dtype=object)"
      ]
     },
     "execution_count": 23,
     "metadata": {},
     "output_type": "execute_result"
    }
   ],
   "source": [
    "df['test_locality_name'] = df['locality_name'].str.replace('поселок городского типа ','') \\\n",
    "    .str.replace('посёлок городского типа ','').str.replace('садовое товарищество ','') \\\n",
    "    .str.replace('коттеджный посёлок ','').str.replace('коттеджный поселок ','').str.replace('городской поселок ','') \\\n",
    "    .str.replace('городской посёлок ','').str.replace('садоводческое некоммерческое товарищество ','') \\\n",
    "    .str.replace('посёлок ','').str.replace('село ','').str.replace('поселок ','').str.replace('деревня ','') \\\n",
    "    .str.replace('деревня ','').str.replace('деревня ','').str.replace('пок ','').str.replace('при железнодорожной станции ','') \\\n",
    "    .str.replace('пок станции ','')\n",
    "df['test_locality_name'].unique()"
   ]
  },
  {
   "cell_type": "code",
   "execution_count": 24,
   "metadata": {
    "scrolled": false
   },
   "outputs": [
    {
     "data": {
      "text/html": [
       "<div>\n",
       "<style scoped>\n",
       "    .dataframe tbody tr th:only-of-type {\n",
       "        vertical-align: middle;\n",
       "    }\n",
       "\n",
       "    .dataframe tbody tr th {\n",
       "        vertical-align: top;\n",
       "    }\n",
       "\n",
       "    .dataframe thead th {\n",
       "        text-align: right;\n",
       "    }\n",
       "</style>\n",
       "<table border=\"1\" class=\"dataframe\">\n",
       "  <thead>\n",
       "    <tr style=\"text-align: right;\">\n",
       "      <th></th>\n",
       "      <th>total_images</th>\n",
       "      <th>last_price</th>\n",
       "      <th>total_area</th>\n",
       "      <th>first_day_exposition</th>\n",
       "      <th>rooms</th>\n",
       "      <th>ceiling_height</th>\n",
       "      <th>floors_total</th>\n",
       "      <th>living_area</th>\n",
       "      <th>floor</th>\n",
       "      <th>is_apartment</th>\n",
       "      <th>...</th>\n",
       "      <th>kitchen_area</th>\n",
       "      <th>balcony</th>\n",
       "      <th>locality_name</th>\n",
       "      <th>airports_nearest</th>\n",
       "      <th>cityCenters_nearest</th>\n",
       "      <th>parks_around3000</th>\n",
       "      <th>parks_nearest</th>\n",
       "      <th>ponds_around3000</th>\n",
       "      <th>ponds_nearest</th>\n",
       "      <th>days_exposition</th>\n",
       "    </tr>\n",
       "  </thead>\n",
       "  <tbody>\n",
       "    <tr>\n",
       "      <th>0</th>\n",
       "      <td>20</td>\n",
       "      <td>13000000.0</td>\n",
       "      <td>108.00</td>\n",
       "      <td>2019-03-07</td>\n",
       "      <td>3</td>\n",
       "      <td>2.70</td>\n",
       "      <td>16.0</td>\n",
       "      <td>51.00</td>\n",
       "      <td>8</td>\n",
       "      <td>True</td>\n",
       "      <td>...</td>\n",
       "      <td>25.00</td>\n",
       "      <td>0.0</td>\n",
       "      <td>Санкт-Петербург</td>\n",
       "      <td>18863.0</td>\n",
       "      <td>16028.0</td>\n",
       "      <td>1.0</td>\n",
       "      <td>482.0</td>\n",
       "      <td>2.0</td>\n",
       "      <td>755.0</td>\n",
       "      <td>NaN</td>\n",
       "    </tr>\n",
       "    <tr>\n",
       "      <th>1</th>\n",
       "      <td>7</td>\n",
       "      <td>3350000.0</td>\n",
       "      <td>40.40</td>\n",
       "      <td>2018-12-04</td>\n",
       "      <td>1</td>\n",
       "      <td>2.65</td>\n",
       "      <td>11.0</td>\n",
       "      <td>18.60</td>\n",
       "      <td>1</td>\n",
       "      <td>True</td>\n",
       "      <td>...</td>\n",
       "      <td>11.00</td>\n",
       "      <td>2.0</td>\n",
       "      <td>Шушары</td>\n",
       "      <td>12817.0</td>\n",
       "      <td>18603.0</td>\n",
       "      <td>0.0</td>\n",
       "      <td>NaN</td>\n",
       "      <td>0.0</td>\n",
       "      <td>NaN</td>\n",
       "      <td>81.0</td>\n",
       "    </tr>\n",
       "    <tr>\n",
       "      <th>2</th>\n",
       "      <td>10</td>\n",
       "      <td>5196000.0</td>\n",
       "      <td>56.00</td>\n",
       "      <td>2015-08-20</td>\n",
       "      <td>2</td>\n",
       "      <td>2.65</td>\n",
       "      <td>5.0</td>\n",
       "      <td>34.30</td>\n",
       "      <td>4</td>\n",
       "      <td>True</td>\n",
       "      <td>...</td>\n",
       "      <td>8.30</td>\n",
       "      <td>0.0</td>\n",
       "      <td>Санкт-Петербург</td>\n",
       "      <td>21741.0</td>\n",
       "      <td>13933.0</td>\n",
       "      <td>1.0</td>\n",
       "      <td>90.0</td>\n",
       "      <td>2.0</td>\n",
       "      <td>574.0</td>\n",
       "      <td>558.0</td>\n",
       "    </tr>\n",
       "    <tr>\n",
       "      <th>3</th>\n",
       "      <td>0</td>\n",
       "      <td>64900000.0</td>\n",
       "      <td>159.00</td>\n",
       "      <td>2015-07-24</td>\n",
       "      <td>3</td>\n",
       "      <td>2.65</td>\n",
       "      <td>14.0</td>\n",
       "      <td>NaN</td>\n",
       "      <td>9</td>\n",
       "      <td>True</td>\n",
       "      <td>...</td>\n",
       "      <td>NaN</td>\n",
       "      <td>0.0</td>\n",
       "      <td>Санкт-Петербург</td>\n",
       "      <td>28098.0</td>\n",
       "      <td>6800.0</td>\n",
       "      <td>2.0</td>\n",
       "      <td>84.0</td>\n",
       "      <td>3.0</td>\n",
       "      <td>234.0</td>\n",
       "      <td>424.0</td>\n",
       "    </tr>\n",
       "    <tr>\n",
       "      <th>4</th>\n",
       "      <td>2</td>\n",
       "      <td>10000000.0</td>\n",
       "      <td>100.00</td>\n",
       "      <td>2018-06-19</td>\n",
       "      <td>2</td>\n",
       "      <td>3.03</td>\n",
       "      <td>14.0</td>\n",
       "      <td>32.00</td>\n",
       "      <td>13</td>\n",
       "      <td>True</td>\n",
       "      <td>...</td>\n",
       "      <td>41.00</td>\n",
       "      <td>0.0</td>\n",
       "      <td>Санкт-Петербург</td>\n",
       "      <td>31856.0</td>\n",
       "      <td>8098.0</td>\n",
       "      <td>2.0</td>\n",
       "      <td>112.0</td>\n",
       "      <td>1.0</td>\n",
       "      <td>48.0</td>\n",
       "      <td>121.0</td>\n",
       "    </tr>\n",
       "    <tr>\n",
       "      <th>...</th>\n",
       "      <td>...</td>\n",
       "      <td>...</td>\n",
       "      <td>...</td>\n",
       "      <td>...</td>\n",
       "      <td>...</td>\n",
       "      <td>...</td>\n",
       "      <td>...</td>\n",
       "      <td>...</td>\n",
       "      <td>...</td>\n",
       "      <td>...</td>\n",
       "      <td>...</td>\n",
       "      <td>...</td>\n",
       "      <td>...</td>\n",
       "      <td>...</td>\n",
       "      <td>...</td>\n",
       "      <td>...</td>\n",
       "      <td>...</td>\n",
       "      <td>...</td>\n",
       "      <td>...</td>\n",
       "      <td>...</td>\n",
       "      <td>...</td>\n",
       "    </tr>\n",
       "    <tr>\n",
       "      <th>23694</th>\n",
       "      <td>9</td>\n",
       "      <td>9700000.0</td>\n",
       "      <td>133.81</td>\n",
       "      <td>2017-03-21</td>\n",
       "      <td>3</td>\n",
       "      <td>3.70</td>\n",
       "      <td>5.0</td>\n",
       "      <td>73.30</td>\n",
       "      <td>3</td>\n",
       "      <td>True</td>\n",
       "      <td>...</td>\n",
       "      <td>13.83</td>\n",
       "      <td>0.0</td>\n",
       "      <td>Санкт-Петербург</td>\n",
       "      <td>24665.0</td>\n",
       "      <td>4232.0</td>\n",
       "      <td>1.0</td>\n",
       "      <td>796.0</td>\n",
       "      <td>3.0</td>\n",
       "      <td>381.0</td>\n",
       "      <td>NaN</td>\n",
       "    </tr>\n",
       "    <tr>\n",
       "      <th>23695</th>\n",
       "      <td>14</td>\n",
       "      <td>3100000.0</td>\n",
       "      <td>59.00</td>\n",
       "      <td>2018-01-15</td>\n",
       "      <td>3</td>\n",
       "      <td>2.65</td>\n",
       "      <td>5.0</td>\n",
       "      <td>38.00</td>\n",
       "      <td>4</td>\n",
       "      <td>True</td>\n",
       "      <td>...</td>\n",
       "      <td>8.50</td>\n",
       "      <td>0.0</td>\n",
       "      <td>Тосно</td>\n",
       "      <td>NaN</td>\n",
       "      <td>NaN</td>\n",
       "      <td>0.0</td>\n",
       "      <td>NaN</td>\n",
       "      <td>0.0</td>\n",
       "      <td>NaN</td>\n",
       "      <td>45.0</td>\n",
       "    </tr>\n",
       "    <tr>\n",
       "      <th>23696</th>\n",
       "      <td>18</td>\n",
       "      <td>2500000.0</td>\n",
       "      <td>56.70</td>\n",
       "      <td>2018-02-11</td>\n",
       "      <td>2</td>\n",
       "      <td>2.65</td>\n",
       "      <td>3.0</td>\n",
       "      <td>29.70</td>\n",
       "      <td>1</td>\n",
       "      <td>True</td>\n",
       "      <td>...</td>\n",
       "      <td>27.00</td>\n",
       "      <td>0.0</td>\n",
       "      <td>Рождествено</td>\n",
       "      <td>NaN</td>\n",
       "      <td>NaN</td>\n",
       "      <td>0.0</td>\n",
       "      <td>NaN</td>\n",
       "      <td>0.0</td>\n",
       "      <td>NaN</td>\n",
       "      <td>NaN</td>\n",
       "    </tr>\n",
       "    <tr>\n",
       "      <th>23697</th>\n",
       "      <td>13</td>\n",
       "      <td>11475000.0</td>\n",
       "      <td>76.75</td>\n",
       "      <td>2017-03-28</td>\n",
       "      <td>2</td>\n",
       "      <td>3.00</td>\n",
       "      <td>17.0</td>\n",
       "      <td>53.45</td>\n",
       "      <td>12</td>\n",
       "      <td>True</td>\n",
       "      <td>...</td>\n",
       "      <td>23.30</td>\n",
       "      <td>2.0</td>\n",
       "      <td>Санкт-Петербург</td>\n",
       "      <td>39140.0</td>\n",
       "      <td>10364.0</td>\n",
       "      <td>2.0</td>\n",
       "      <td>173.0</td>\n",
       "      <td>3.0</td>\n",
       "      <td>196.0</td>\n",
       "      <td>602.0</td>\n",
       "    </tr>\n",
       "    <tr>\n",
       "      <th>23698</th>\n",
       "      <td>4</td>\n",
       "      <td>1350000.0</td>\n",
       "      <td>32.30</td>\n",
       "      <td>2017-07-21</td>\n",
       "      <td>1</td>\n",
       "      <td>2.50</td>\n",
       "      <td>5.0</td>\n",
       "      <td>12.30</td>\n",
       "      <td>1</td>\n",
       "      <td>True</td>\n",
       "      <td>...</td>\n",
       "      <td>9.00</td>\n",
       "      <td>0.0</td>\n",
       "      <td>Новый Учхоз</td>\n",
       "      <td>NaN</td>\n",
       "      <td>NaN</td>\n",
       "      <td>0.0</td>\n",
       "      <td>NaN</td>\n",
       "      <td>0.0</td>\n",
       "      <td>NaN</td>\n",
       "      <td>NaN</td>\n",
       "    </tr>\n",
       "  </tbody>\n",
       "</table>\n",
       "<p>23699 rows × 22 columns</p>\n",
       "</div>"
      ],
      "text/plain": [
       "       total_images  last_price  total_area first_day_exposition  rooms  \\\n",
       "0                20  13000000.0      108.00           2019-03-07      3   \n",
       "1                 7   3350000.0       40.40           2018-12-04      1   \n",
       "2                10   5196000.0       56.00           2015-08-20      2   \n",
       "3                 0  64900000.0      159.00           2015-07-24      3   \n",
       "4                 2  10000000.0      100.00           2018-06-19      2   \n",
       "...             ...         ...         ...                  ...    ...   \n",
       "23694             9   9700000.0      133.81           2017-03-21      3   \n",
       "23695            14   3100000.0       59.00           2018-01-15      3   \n",
       "23696            18   2500000.0       56.70           2018-02-11      2   \n",
       "23697            13  11475000.0       76.75           2017-03-28      2   \n",
       "23698             4   1350000.0       32.30           2017-07-21      1   \n",
       "\n",
       "       ceiling_height  floors_total  living_area  floor is_apartment  ...  \\\n",
       "0                2.70          16.0        51.00      8         True  ...   \n",
       "1                2.65          11.0        18.60      1         True  ...   \n",
       "2                2.65           5.0        34.30      4         True  ...   \n",
       "3                2.65          14.0          NaN      9         True  ...   \n",
       "4                3.03          14.0        32.00     13         True  ...   \n",
       "...               ...           ...          ...    ...          ...  ...   \n",
       "23694            3.70           5.0        73.30      3         True  ...   \n",
       "23695            2.65           5.0        38.00      4         True  ...   \n",
       "23696            2.65           3.0        29.70      1         True  ...   \n",
       "23697            3.00          17.0        53.45     12         True  ...   \n",
       "23698            2.50           5.0        12.30      1         True  ...   \n",
       "\n",
       "       kitchen_area  balcony    locality_name  airports_nearest  \\\n",
       "0             25.00      0.0  Санкт-Петербург           18863.0   \n",
       "1             11.00      2.0           Шушары           12817.0   \n",
       "2              8.30      0.0  Санкт-Петербург           21741.0   \n",
       "3               NaN      0.0  Санкт-Петербург           28098.0   \n",
       "4             41.00      0.0  Санкт-Петербург           31856.0   \n",
       "...             ...      ...              ...               ...   \n",
       "23694         13.83      0.0  Санкт-Петербург           24665.0   \n",
       "23695          8.50      0.0            Тосно               NaN   \n",
       "23696         27.00      0.0      Рождествено               NaN   \n",
       "23697         23.30      2.0  Санкт-Петербург           39140.0   \n",
       "23698          9.00      0.0      Новый Учхоз               NaN   \n",
       "\n",
       "      cityCenters_nearest  parks_around3000  parks_nearest  ponds_around3000  \\\n",
       "0                 16028.0               1.0          482.0               2.0   \n",
       "1                 18603.0               0.0            NaN               0.0   \n",
       "2                 13933.0               1.0           90.0               2.0   \n",
       "3                  6800.0               2.0           84.0               3.0   \n",
       "4                  8098.0               2.0          112.0               1.0   \n",
       "...                   ...               ...            ...               ...   \n",
       "23694              4232.0               1.0          796.0               3.0   \n",
       "23695                 NaN               0.0            NaN               0.0   \n",
       "23696                 NaN               0.0            NaN               0.0   \n",
       "23697             10364.0               2.0          173.0               3.0   \n",
       "23698                 NaN               0.0            NaN               0.0   \n",
       "\n",
       "       ponds_nearest  days_exposition  \n",
       "0              755.0              NaN  \n",
       "1                NaN             81.0  \n",
       "2              574.0            558.0  \n",
       "3              234.0            424.0  \n",
       "4               48.0            121.0  \n",
       "...              ...              ...  \n",
       "23694          381.0              NaN  \n",
       "23695            NaN             45.0  \n",
       "23696            NaN              NaN  \n",
       "23697          196.0            602.0  \n",
       "23698            NaN              NaN  \n",
       "\n",
       "[23699 rows x 22 columns]"
      ]
     },
     "execution_count": 24,
     "metadata": {},
     "output_type": "execute_result"
    }
   ],
   "source": [
    "#Данные нас устраивают заменяем столбец\n",
    "df['locality_name'] = df['test_locality_name']\n",
    "df.drop(labels='test_locality_name', axis=1)"
   ]
  },
  {
   "cell_type": "code",
   "execution_count": 25,
   "metadata": {},
   "outputs": [
    {
     "data": {
      "text/plain": [
       "308"
      ]
     },
     "execution_count": 25,
     "metadata": {},
     "output_type": "execute_result"
    }
   ],
   "source": [
    "df['locality_name'].nunique() #Дубли покинули чат"
   ]
  },
  {
   "cell_type": "markdown",
   "metadata": {},
   "source": [
    "**2.4**"
   ]
  },
  {
   "cell_type": "code",
   "execution_count": 26,
   "metadata": {},
   "outputs": [
    {
     "data": {
      "text/plain": [
       "Index(['total_images', 'last_price', 'total_area', 'first_day_exposition',\n",
       "       'rooms', 'ceiling_height', 'floors_total', 'living_area', 'floor',\n",
       "       'is_apartment', 'studio', 'open_plan', 'kitchen_area', 'balcony',\n",
       "       'locality_name', 'airports_nearest', 'cityCenters_nearest',\n",
       "       'parks_around3000', 'parks_nearest', 'ponds_around3000',\n",
       "       'ponds_nearest', 'days_exposition', 'test_locality_name'],\n",
       "      dtype='object')"
      ]
     },
     "execution_count": 26,
     "metadata": {},
     "output_type": "execute_result"
    }
   ],
   "source": [
    "def helper(row):\n",
    "    print(row.describe())\n",
    "    print(row.quantile(0.995)) #верхнее значение начала хвоста\n",
    "    print(row.quantile(0.005)) #нижнее значение начала хвоста\n",
    "df.columns"
   ]
  },
  {
   "cell_type": "code",
   "execution_count": 27,
   "metadata": {},
   "outputs": [
    {
     "name": "stdout",
     "output_type": "stream",
     "text": [
      "count    23699.000000\n",
      "mean        60.348651\n",
      "std         35.654083\n",
      "min         12.000000\n",
      "25%         40.000000\n",
      "50%         52.000000\n",
      "75%         69.900000\n",
      "max        900.000000\n",
      "Name: total_area, dtype: float64\n",
      "248.85299999999953\n",
      "23.5\n"
     ]
    }
   ],
   "source": [
    "helper(df['total_area'])"
   ]
  },
  {
   "cell_type": "code",
   "execution_count": 28,
   "metadata": {},
   "outputs": [
    {
     "data": {
      "text/plain": [
       "count    23460.000000\n",
       "mean        59.126301\n",
       "std         28.654001\n",
       "min         23.550000\n",
       "25%         40.000000\n",
       "50%         52.000000\n",
       "75%         69.300000\n",
       "max        248.700000\n",
       "Name: total_area, dtype: float64"
      ]
     },
     "execution_count": 28,
     "metadata": {},
     "output_type": "execute_result"
    }
   ],
   "source": [
    "df_test = pd.concat([df[df['total_area'].isna()],  \n",
    "                df[df['total_area'].notna()].query('23.5 < total_area < 248.75')], ignore_index=True)\n",
    "df_test['total_area'].describe() "
   ]
  },
  {
   "cell_type": "code",
   "execution_count": 29,
   "metadata": {},
   "outputs": [],
   "source": [
    "#Видим, что ничего криминального с точки зрения статичтики не поменялось, значит можем применять изменения к основному массиву.\n",
    "df = pd.concat([df[df['total_area'].isna()],  \n",
    "                df[df['total_area'].notna()].query('23.5 < total_area < 248.75')], ignore_index=True)"
   ]
  },
  {
   "cell_type": "code",
   "execution_count": 30,
   "metadata": {},
   "outputs": [
    {
     "name": "stdout",
     "output_type": "stream",
     "text": [
      "count    23460.000000\n",
      "mean         2.057161\n",
      "std          1.023871\n",
      "min          0.000000\n",
      "25%          1.000000\n",
      "50%          2.000000\n",
      "75%          3.000000\n",
      "max         14.000000\n",
      "Name: rooms, dtype: float64\n",
      "6.0\n",
      "0.0\n"
     ]
    }
   ],
   "source": [
    "helper(df['rooms'])"
   ]
  },
  {
   "cell_type": "code",
   "execution_count": 31,
   "metadata": {},
   "outputs": [
    {
     "data": {
      "text/plain": [
       "163"
      ]
     },
     "execution_count": 31,
     "metadata": {},
     "output_type": "execute_result"
    }
   ],
   "source": [
    "# 0 Комнат интересно\n",
    "len(df.query('rooms == 0'))"
   ]
  },
  {
   "cell_type": "code",
   "execution_count": 32,
   "metadata": {},
   "outputs": [
    {
     "name": "stdout",
     "output_type": "stream",
     "text": [
      "0\n",
      "51\n",
      "112\n"
     ]
    }
   ],
   "source": [
    "# 160 квартир состоящих видимо исключительно из одной двери, возможно это студии или квартиры с открытой планировкой? \n",
    "print(len(df.query('rooms == 0').query('is_apartment  == True')))\n",
    "print(len(df.query('rooms == 0').query('open_plan  == True')))\n",
    "print(len(df.query('rooms == 0').query('studio  == True')))"
   ]
  },
  {
   "cell_type": "code",
   "execution_count": 33,
   "metadata": {},
   "outputs": [
    {
     "data": {
      "text/plain": [
       "count    23411.00000\n",
       "mean         2.04562\n",
       "std          0.99149\n",
       "min          0.00000\n",
       "25%          1.00000\n",
       "50%          2.00000\n",
       "75%          3.00000\n",
       "max          6.00000\n",
       "Name: rooms, dtype: float64"
      ]
     },
     "execution_count": 33,
     "metadata": {},
     "output_type": "execute_result"
    }
   ],
   "source": [
    "#Всё сходится значит нижнее значение отнимать нельзя, займёмся верхним.\n",
    "df_test = pd.concat([df[df['rooms'].isna()],  \n",
    "                df[df['rooms'].notna()].query('rooms <= 6.0')], ignore_index=True)\n",
    "df_test['rooms'].describe()"
   ]
  },
  {
   "cell_type": "code",
   "execution_count": 34,
   "metadata": {},
   "outputs": [],
   "source": [
    "#Всё в порядке, применяем изменения.\n",
    "df = pd.concat([df[df['rooms'].isna()],  \n",
    "                df[df['rooms'].notna()].query('rooms <= 6.0')], ignore_index=True)"
   ]
  },
  {
   "cell_type": "code",
   "execution_count": 35,
   "metadata": {},
   "outputs": [
    {
     "name": "stdout",
     "output_type": "stream",
     "text": [
      "count    23411.000000\n",
      "mean         2.721564\n",
      "std          0.992517\n",
      "min          1.000000\n",
      "25%          2.600000\n",
      "50%          2.650000\n",
      "75%          2.700000\n",
      "max        100.000000\n",
      "Name: ceiling_height, dtype: float64\n",
      "3.9\n",
      "2.5\n"
     ]
    }
   ],
   "source": [
    "helper(df['ceiling_height'])"
   ]
  },
  {
   "cell_type": "code",
   "execution_count": 36,
   "metadata": {},
   "outputs": [
    {
     "name": "stdout",
     "output_type": "stream",
     "text": [
      "112\n",
      "count    23411.000000\n",
      "mean         2.705898\n",
      "std          0.531035\n",
      "min          1.000000\n",
      "25%          2.600000\n",
      "50%          2.650000\n",
      "75%          2.700000\n",
      "max         26.000000\n",
      "Name: ceiling_height, dtype: float64\n",
      "3.8285000000000218\n",
      "2.5\n"
     ]
    }
   ],
   "source": [
    "#Очень высокие потолки с 30-и этажный дом, интересно сколько таких?\n",
    "print(len(df.query('ceiling_height > 3.9'))) #Возьмем за максимум высоту потолков в зимнем дворце\n",
    "# Предположим что кто-то перепутал метрики и забыл поставить запятую, тогда исправим данные для тех у кого высота потолка равна\n",
    "# десяти медианам \n",
    "for t in df.index:\n",
    "    df.loc[(df['ceiling_height'] > 26), 'ceiling_height'] = \\\n",
    "    df.loc[(df['ceiling_height'] > 26), 'ceiling_height'] / 10 \n",
    "helper(df['ceiling_height'])"
   ]
  },
  {
   "cell_type": "code",
   "execution_count": 37,
   "metadata": {},
   "outputs": [],
   "source": [
    "#Всё в порядке применяем к основному датасету\n",
    "#df = df[(df['ceiling_height'] > 2.5)]\n",
    "#df = df[(df['ceiling_height'] < 3.2)]\n",
    "df = pd.concat([df[df['ceiling_height'].isna()],  \n",
    "                df[df['ceiling_height'].notna()].query('2.5 < ceiling_height < 3.2')], ignore_index=True)"
   ]
  },
  {
   "cell_type": "code",
   "execution_count": 38,
   "metadata": {},
   "outputs": [
    {
     "name": "stdout",
     "output_type": "stream",
     "text": [
      "count    1.882600e+04\n",
      "mean     6.125009e+06\n",
      "std      5.757032e+06\n",
      "min      1.219000e+04\n",
      "25%      3.500000e+06\n",
      "50%      4.700000e+06\n",
      "75%      6.800000e+06\n",
      "max      1.600000e+08\n",
      "Name: last_price, dtype: float64\n",
      "37000000.0\n",
      "820000.0\n"
     ]
    }
   ],
   "source": [
    "helper(df['last_price'])\n",
    "df['last_price'].min()\n",
    "#значения напрягают, с другой стороны для дома в деревне 809500 вполне реальная цена. \n",
    "#(только что на циане посмотрел для лен области) так что можно отбросить значения ниже этого порога.\n",
    "#верхний порог трогать не будем\n",
    "df = pd.concat([df[df['last_price'].isna()],  \n",
    "                df[df['last_price'].notna()].query('37000000 > last_price > 809500')], ignore_index=True)"
   ]
  },
  {
   "cell_type": "code",
   "execution_count": 39,
   "metadata": {},
   "outputs": [
    {
     "name": "stdout",
     "output_type": "stream",
     "text": [
      "count    17443.000000\n",
      "mean        33.139757\n",
      "std         17.339956\n",
      "min          2.000000\n",
      "25%         18.500000\n",
      "50%         30.000000\n",
      "75%         42.000000\n",
      "max        228.060000\n",
      "Name: living_area, dtype: float64\n",
      "106.31600000000036\n",
      "11.384200000000002\n"
     ]
    }
   ],
   "source": [
    "helper(df['living_area'])"
   ]
  },
  {
   "cell_type": "code",
   "execution_count": 40,
   "metadata": {},
   "outputs": [
    {
     "data": {
      "text/plain": [
       "count    17276.000000\n",
       "mean        32.846184\n",
       "std         16.035173\n",
       "min         11.600000\n",
       "25%         18.600000\n",
       "50%         30.000000\n",
       "75%         42.000000\n",
       "max        110.300000\n",
       "Name: living_area, dtype: float64"
      ]
     },
     "execution_count": 40,
     "metadata": {},
     "output_type": "execute_result"
    }
   ],
   "source": [
    "df_test = pd.concat([df[df['living_area'].isna()],  \n",
    "                df[df['living_area'].notna()].query('11.5 < living_area < 110.4')], ignore_index=True)\n",
    "df_test['living_area'].describe()"
   ]
  },
  {
   "cell_type": "code",
   "execution_count": 41,
   "metadata": {},
   "outputs": [],
   "source": [
    "df = pd.concat([df[df['living_area'].isna()],  \n",
    "                df[df['living_area'].notna()].query('11.5 < living_area < 110.4')], ignore_index=True)"
   ]
  },
  {
   "cell_type": "code",
   "execution_count": 42,
   "metadata": {},
   "outputs": [
    {
     "name": "stdout",
     "output_type": "stream",
     "text": [
      "count    17276.000000\n",
      "mean        10.915718\n",
      "std          5.654651\n",
      "min          0.000000\n",
      "25%          7.935000\n",
      "50%         10.000000\n",
      "75%         12.000000\n",
      "max        117.900000\n",
      "Name: kitchen_area, dtype: float64\n",
      "40.2\n",
      "5.0\n"
     ]
    }
   ],
   "source": [
    "helper(df['kitchen_area'])"
   ]
  },
  {
   "cell_type": "code",
   "execution_count": 43,
   "metadata": {},
   "outputs": [
    {
     "data": {
      "text/plain": [
       "count    16890.000000\n",
       "mean        10.848748\n",
       "std          4.910846\n",
       "min          5.040000\n",
       "25%          8.000000\n",
       "50%         10.000000\n",
       "75%         12.000000\n",
       "max         41.200000\n",
       "Name: kitchen_area, dtype: float64"
      ]
     },
     "execution_count": 43,
     "metadata": {},
     "output_type": "execute_result"
    }
   ],
   "source": [
    "df_test = pd.concat([df[df['kitchen_area'].isna()],  \n",
    "                df[df['kitchen_area'].notna()].query('5 < kitchen_area < 42')], ignore_index=True)\n",
    "df_test['kitchen_area'].describe()"
   ]
  },
  {
   "cell_type": "code",
   "execution_count": 44,
   "metadata": {},
   "outputs": [],
   "source": [
    "df = pd.concat([df[df['kitchen_area'].isna()],  \n",
    "                df[df['kitchen_area'].notna()].query('5 < kitchen_area < 42')], ignore_index=True)"
   ]
  },
  {
   "cell_type": "markdown",
   "metadata": {},
   "source": [
    "Пока чистил данные задумался, что было бы неплохо свести тип жилплощади из трех столбцов в один, но исследование этого не требует. Учитывая географию списка, на самом деле не удивительно было встретить дом с площадью 900 квм, за городом и не такой особняк можно отгрохать."
   ]
  },
  {
   "cell_type": "markdown",
   "metadata": {},
   "source": [
    "### Добавляем необходимые столбцы"
   ]
  },
  {
   "cell_type": "code",
   "execution_count": 45,
   "metadata": {},
   "outputs": [
    {
     "name": "stdout",
     "output_type": "stream",
     "text": [
      "0\n",
      "0\n"
     ]
    },
    {
     "data": {
      "text/html": [
       "<div>\n",
       "<style scoped>\n",
       "    .dataframe tbody tr th:only-of-type {\n",
       "        vertical-align: middle;\n",
       "    }\n",
       "\n",
       "    .dataframe tbody tr th {\n",
       "        vertical-align: top;\n",
       "    }\n",
       "\n",
       "    .dataframe thead th {\n",
       "        text-align: right;\n",
       "    }\n",
       "</style>\n",
       "<table border=\"1\" class=\"dataframe\">\n",
       "  <thead>\n",
       "    <tr style=\"text-align: right;\">\n",
       "      <th></th>\n",
       "      <th>total_images</th>\n",
       "      <th>last_price</th>\n",
       "      <th>total_area</th>\n",
       "      <th>first_day_exposition</th>\n",
       "      <th>rooms</th>\n",
       "      <th>ceiling_height</th>\n",
       "      <th>floors_total</th>\n",
       "      <th>living_area</th>\n",
       "      <th>floor</th>\n",
       "      <th>is_apartment</th>\n",
       "      <th>...</th>\n",
       "      <th>locality_name</th>\n",
       "      <th>airports_nearest</th>\n",
       "      <th>cityCenters_nearest</th>\n",
       "      <th>parks_around3000</th>\n",
       "      <th>parks_nearest</th>\n",
       "      <th>ponds_around3000</th>\n",
       "      <th>ponds_nearest</th>\n",
       "      <th>days_exposition</th>\n",
       "      <th>test_locality_name</th>\n",
       "      <th>m_price</th>\n",
       "    </tr>\n",
       "  </thead>\n",
       "  <tbody>\n",
       "    <tr>\n",
       "      <th>0</th>\n",
       "      <td>12</td>\n",
       "      <td>2200000.0</td>\n",
       "      <td>32.8</td>\n",
       "      <td>2018-02-19</td>\n",
       "      <td>1</td>\n",
       "      <td>2.65</td>\n",
       "      <td>9.0</td>\n",
       "      <td>NaN</td>\n",
       "      <td>2</td>\n",
       "      <td>True</td>\n",
       "      <td>...</td>\n",
       "      <td>Коммунар</td>\n",
       "      <td>NaN</td>\n",
       "      <td>NaN</td>\n",
       "      <td>0.0</td>\n",
       "      <td>NaN</td>\n",
       "      <td>0.0</td>\n",
       "      <td>NaN</td>\n",
       "      <td>63.0</td>\n",
       "      <td>Коммунар</td>\n",
       "      <td>67073.170732</td>\n",
       "    </tr>\n",
       "    <tr>\n",
       "      <th>1</th>\n",
       "      <td>13</td>\n",
       "      <td>5350000.0</td>\n",
       "      <td>40.0</td>\n",
       "      <td>2018-11-18</td>\n",
       "      <td>1</td>\n",
       "      <td>2.65</td>\n",
       "      <td>22.0</td>\n",
       "      <td>NaN</td>\n",
       "      <td>3</td>\n",
       "      <td>True</td>\n",
       "      <td>...</td>\n",
       "      <td>Санкт-Петербург</td>\n",
       "      <td>30471.0</td>\n",
       "      <td>11603.0</td>\n",
       "      <td>1.0</td>\n",
       "      <td>620.0</td>\n",
       "      <td>1.0</td>\n",
       "      <td>1152.0</td>\n",
       "      <td>NaN</td>\n",
       "      <td>Санкт-Петербург</td>\n",
       "      <td>133750.000000</td>\n",
       "    </tr>\n",
       "  </tbody>\n",
       "</table>\n",
       "<p>2 rows × 24 columns</p>\n",
       "</div>"
      ],
      "text/plain": [
       "   total_images  last_price  total_area first_day_exposition  rooms  \\\n",
       "0            12   2200000.0        32.8           2018-02-19      1   \n",
       "1            13   5350000.0        40.0           2018-11-18      1   \n",
       "\n",
       "   ceiling_height  floors_total  living_area  floor is_apartment  ...  \\\n",
       "0            2.65           9.0          NaN      2         True  ...   \n",
       "1            2.65          22.0          NaN      3         True  ...   \n",
       "\n",
       "     locality_name  airports_nearest  cityCenters_nearest  parks_around3000  \\\n",
       "0         Коммунар               NaN                  NaN               0.0   \n",
       "1  Санкт-Петербург           30471.0              11603.0               1.0   \n",
       "\n",
       "  parks_nearest  ponds_around3000  ponds_nearest  days_exposition  \\\n",
       "0           NaN               0.0            NaN             63.0   \n",
       "1         620.0               1.0         1152.0              NaN   \n",
       "\n",
       "   test_locality_name        m_price  \n",
       "0            Коммунар   67073.170732  \n",
       "1     Санкт-Петербург  133750.000000  \n",
       "\n",
       "[2 rows x 24 columns]"
      ]
     },
     "execution_count": 45,
     "metadata": {},
     "output_type": "execute_result"
    }
   ],
   "source": [
    "#Проверяем наличие данных\n",
    "print(df['total_area'].isna().sum())\n",
    "print(df['last_price'].isna().sum())\n",
    "#Все данные на месте\n",
    "df['m_price'] = df['last_price'] / df['total_area']\n",
    "df.head(2) #Всё верно"
   ]
  },
  {
   "cell_type": "code",
   "execution_count": 46,
   "metadata": {},
   "outputs": [
    {
     "name": "stdout",
     "output_type": "stream",
     "text": [
      "0\n"
     ]
    },
    {
     "data": {
      "text/html": [
       "<div>\n",
       "<style scoped>\n",
       "    .dataframe tbody tr th:only-of-type {\n",
       "        vertical-align: middle;\n",
       "    }\n",
       "\n",
       "    .dataframe tbody tr th {\n",
       "        vertical-align: top;\n",
       "    }\n",
       "\n",
       "    .dataframe thead th {\n",
       "        text-align: right;\n",
       "    }\n",
       "</style>\n",
       "<table border=\"1\" class=\"dataframe\">\n",
       "  <thead>\n",
       "    <tr style=\"text-align: right;\">\n",
       "      <th></th>\n",
       "      <th>total_images</th>\n",
       "      <th>last_price</th>\n",
       "      <th>total_area</th>\n",
       "      <th>first_day_exposition</th>\n",
       "      <th>rooms</th>\n",
       "      <th>ceiling_height</th>\n",
       "      <th>floors_total</th>\n",
       "      <th>living_area</th>\n",
       "      <th>floor</th>\n",
       "      <th>is_apartment</th>\n",
       "      <th>...</th>\n",
       "      <th>parks_around3000</th>\n",
       "      <th>parks_nearest</th>\n",
       "      <th>ponds_around3000</th>\n",
       "      <th>ponds_nearest</th>\n",
       "      <th>days_exposition</th>\n",
       "      <th>test_locality_name</th>\n",
       "      <th>m_price</th>\n",
       "      <th>day_exposition</th>\n",
       "      <th>month_exposition</th>\n",
       "      <th>year_exposition</th>\n",
       "    </tr>\n",
       "  </thead>\n",
       "  <tbody>\n",
       "    <tr>\n",
       "      <th>0</th>\n",
       "      <td>12</td>\n",
       "      <td>2200000.0</td>\n",
       "      <td>32.8</td>\n",
       "      <td>2018-02-19</td>\n",
       "      <td>1</td>\n",
       "      <td>2.65</td>\n",
       "      <td>9.0</td>\n",
       "      <td>NaN</td>\n",
       "      <td>2</td>\n",
       "      <td>True</td>\n",
       "      <td>...</td>\n",
       "      <td>0.0</td>\n",
       "      <td>NaN</td>\n",
       "      <td>0.0</td>\n",
       "      <td>NaN</td>\n",
       "      <td>63.0</td>\n",
       "      <td>Коммунар</td>\n",
       "      <td>67073.170732</td>\n",
       "      <td>0</td>\n",
       "      <td>2</td>\n",
       "      <td>2018</td>\n",
       "    </tr>\n",
       "    <tr>\n",
       "      <th>1</th>\n",
       "      <td>13</td>\n",
       "      <td>5350000.0</td>\n",
       "      <td>40.0</td>\n",
       "      <td>2018-11-18</td>\n",
       "      <td>1</td>\n",
       "      <td>2.65</td>\n",
       "      <td>22.0</td>\n",
       "      <td>NaN</td>\n",
       "      <td>3</td>\n",
       "      <td>True</td>\n",
       "      <td>...</td>\n",
       "      <td>1.0</td>\n",
       "      <td>620.0</td>\n",
       "      <td>1.0</td>\n",
       "      <td>1152.0</td>\n",
       "      <td>NaN</td>\n",
       "      <td>Санкт-Петербург</td>\n",
       "      <td>133750.000000</td>\n",
       "      <td>6</td>\n",
       "      <td>11</td>\n",
       "      <td>2018</td>\n",
       "    </tr>\n",
       "    <tr>\n",
       "      <th>2</th>\n",
       "      <td>15</td>\n",
       "      <td>6300000.0</td>\n",
       "      <td>46.5</td>\n",
       "      <td>2017-03-06</td>\n",
       "      <td>1</td>\n",
       "      <td>2.65</td>\n",
       "      <td>13.0</td>\n",
       "      <td>NaN</td>\n",
       "      <td>13</td>\n",
       "      <td>True</td>\n",
       "      <td>...</td>\n",
       "      <td>0.0</td>\n",
       "      <td>NaN</td>\n",
       "      <td>0.0</td>\n",
       "      <td>NaN</td>\n",
       "      <td>336.0</td>\n",
       "      <td>Санкт-Петербург</td>\n",
       "      <td>135483.870968</td>\n",
       "      <td>0</td>\n",
       "      <td>3</td>\n",
       "      <td>2017</td>\n",
       "    </tr>\n",
       "    <tr>\n",
       "      <th>3</th>\n",
       "      <td>3</td>\n",
       "      <td>2740000.0</td>\n",
       "      <td>35.0</td>\n",
       "      <td>2018-01-01</td>\n",
       "      <td>1</td>\n",
       "      <td>2.65</td>\n",
       "      <td>12.0</td>\n",
       "      <td>NaN</td>\n",
       "      <td>8</td>\n",
       "      <td>True</td>\n",
       "      <td>...</td>\n",
       "      <td>0.0</td>\n",
       "      <td>NaN</td>\n",
       "      <td>0.0</td>\n",
       "      <td>NaN</td>\n",
       "      <td>11.0</td>\n",
       "      <td>Мурино</td>\n",
       "      <td>78285.714286</td>\n",
       "      <td>0</td>\n",
       "      <td>1</td>\n",
       "      <td>2018</td>\n",
       "    </tr>\n",
       "    <tr>\n",
       "      <th>4</th>\n",
       "      <td>9</td>\n",
       "      <td>10949000.0</td>\n",
       "      <td>68.0</td>\n",
       "      <td>2018-12-27</td>\n",
       "      <td>1</td>\n",
       "      <td>2.65</td>\n",
       "      <td>10.0</td>\n",
       "      <td>NaN</td>\n",
       "      <td>6</td>\n",
       "      <td>True</td>\n",
       "      <td>...</td>\n",
       "      <td>0.0</td>\n",
       "      <td>NaN</td>\n",
       "      <td>0.0</td>\n",
       "      <td>NaN</td>\n",
       "      <td>NaN</td>\n",
       "      <td>Санкт-Петербург</td>\n",
       "      <td>161014.705882</td>\n",
       "      <td>3</td>\n",
       "      <td>12</td>\n",
       "      <td>2018</td>\n",
       "    </tr>\n",
       "  </tbody>\n",
       "</table>\n",
       "<p>5 rows × 27 columns</p>\n",
       "</div>"
      ],
      "text/plain": [
       "   total_images  last_price  total_area first_day_exposition  rooms  \\\n",
       "0            12   2200000.0        32.8           2018-02-19      1   \n",
       "1            13   5350000.0        40.0           2018-11-18      1   \n",
       "2            15   6300000.0        46.5           2017-03-06      1   \n",
       "3             3   2740000.0        35.0           2018-01-01      1   \n",
       "4             9  10949000.0        68.0           2018-12-27      1   \n",
       "\n",
       "   ceiling_height  floors_total  living_area  floor is_apartment  ...  \\\n",
       "0            2.65           9.0          NaN      2         True  ...   \n",
       "1            2.65          22.0          NaN      3         True  ...   \n",
       "2            2.65          13.0          NaN     13         True  ...   \n",
       "3            2.65          12.0          NaN      8         True  ...   \n",
       "4            2.65          10.0          NaN      6         True  ...   \n",
       "\n",
       "   parks_around3000  parks_nearest  ponds_around3000  ponds_nearest  \\\n",
       "0               0.0            NaN               0.0            NaN   \n",
       "1               1.0          620.0               1.0         1152.0   \n",
       "2               0.0            NaN               0.0            NaN   \n",
       "3               0.0            NaN               0.0            NaN   \n",
       "4               0.0            NaN               0.0            NaN   \n",
       "\n",
       "  days_exposition  test_locality_name        m_price  day_exposition  \\\n",
       "0            63.0            Коммунар   67073.170732               0   \n",
       "1             NaN     Санкт-Петербург  133750.000000               6   \n",
       "2           336.0     Санкт-Петербург  135483.870968               0   \n",
       "3            11.0              Мурино   78285.714286               0   \n",
       "4             NaN     Санкт-Петербург  161014.705882               3   \n",
       "\n",
       "   month_exposition  year_exposition  \n",
       "0                 2             2018  \n",
       "1                11             2018  \n",
       "2                 3             2017  \n",
       "3                 1             2018  \n",
       "4                12             2018  \n",
       "\n",
       "[5 rows x 27 columns]"
      ]
     },
     "execution_count": 46,
     "metadata": {},
     "output_type": "execute_result"
    }
   ],
   "source": [
    "#Проверяем наличие данных\n",
    "print(df['first_day_exposition'].isna().sum())\n",
    "#Все данные на месте\n",
    "#Пять минут гугла и была обнаружена замечательная функция\n",
    "df[\"day_exposition\"] = df[\"first_day_exposition\"].dt.dayofweek\n",
    "df[\"month_exposition\"] = df[\"first_day_exposition\"].dt.month\n",
    "df[\"year_exposition\"] = df[\"first_day_exposition\"].dt.year\n",
    "df.head()"
   ]
  },
  {
   "cell_type": "code",
   "execution_count": 47,
   "metadata": {
    "scrolled": true
   },
   "outputs": [
    {
     "data": {
      "text/html": [
       "<div>\n",
       "<style scoped>\n",
       "    .dataframe tbody tr th:only-of-type {\n",
       "        vertical-align: middle;\n",
       "    }\n",
       "\n",
       "    .dataframe tbody tr th {\n",
       "        vertical-align: top;\n",
       "    }\n",
       "\n",
       "    .dataframe thead th {\n",
       "        text-align: right;\n",
       "    }\n",
       "</style>\n",
       "<table border=\"1\" class=\"dataframe\">\n",
       "  <thead>\n",
       "    <tr style=\"text-align: right;\">\n",
       "      <th></th>\n",
       "      <th>total_images</th>\n",
       "      <th>last_price</th>\n",
       "      <th>total_area</th>\n",
       "      <th>first_day_exposition</th>\n",
       "      <th>rooms</th>\n",
       "      <th>ceiling_height</th>\n",
       "      <th>floors_total</th>\n",
       "      <th>living_area</th>\n",
       "      <th>floor</th>\n",
       "      <th>is_apartment</th>\n",
       "      <th>...</th>\n",
       "      <th>parks_nearest</th>\n",
       "      <th>ponds_around3000</th>\n",
       "      <th>ponds_nearest</th>\n",
       "      <th>days_exposition</th>\n",
       "      <th>test_locality_name</th>\n",
       "      <th>m_price</th>\n",
       "      <th>day_exposition</th>\n",
       "      <th>month_exposition</th>\n",
       "      <th>year_exposition</th>\n",
       "      <th>floor_category</th>\n",
       "    </tr>\n",
       "  </thead>\n",
       "  <tbody>\n",
       "    <tr>\n",
       "      <th>0</th>\n",
       "      <td>12</td>\n",
       "      <td>2200000.0</td>\n",
       "      <td>32.8</td>\n",
       "      <td>2018-02-19</td>\n",
       "      <td>1</td>\n",
       "      <td>2.65</td>\n",
       "      <td>9.0</td>\n",
       "      <td>NaN</td>\n",
       "      <td>2</td>\n",
       "      <td>True</td>\n",
       "      <td>...</td>\n",
       "      <td>NaN</td>\n",
       "      <td>0.0</td>\n",
       "      <td>NaN</td>\n",
       "      <td>63.0</td>\n",
       "      <td>Коммунар</td>\n",
       "      <td>67073.170732</td>\n",
       "      <td>0</td>\n",
       "      <td>2</td>\n",
       "      <td>2018</td>\n",
       "      <td>other</td>\n",
       "    </tr>\n",
       "    <tr>\n",
       "      <th>1</th>\n",
       "      <td>13</td>\n",
       "      <td>5350000.0</td>\n",
       "      <td>40.0</td>\n",
       "      <td>2018-11-18</td>\n",
       "      <td>1</td>\n",
       "      <td>2.65</td>\n",
       "      <td>22.0</td>\n",
       "      <td>NaN</td>\n",
       "      <td>3</td>\n",
       "      <td>True</td>\n",
       "      <td>...</td>\n",
       "      <td>620.0</td>\n",
       "      <td>1.0</td>\n",
       "      <td>1152.0</td>\n",
       "      <td>NaN</td>\n",
       "      <td>Санкт-Петербург</td>\n",
       "      <td>133750.000000</td>\n",
       "      <td>6</td>\n",
       "      <td>11</td>\n",
       "      <td>2018</td>\n",
       "      <td>other</td>\n",
       "    </tr>\n",
       "    <tr>\n",
       "      <th>2</th>\n",
       "      <td>15</td>\n",
       "      <td>6300000.0</td>\n",
       "      <td>46.5</td>\n",
       "      <td>2017-03-06</td>\n",
       "      <td>1</td>\n",
       "      <td>2.65</td>\n",
       "      <td>13.0</td>\n",
       "      <td>NaN</td>\n",
       "      <td>13</td>\n",
       "      <td>True</td>\n",
       "      <td>...</td>\n",
       "      <td>NaN</td>\n",
       "      <td>0.0</td>\n",
       "      <td>NaN</td>\n",
       "      <td>336.0</td>\n",
       "      <td>Санкт-Петербург</td>\n",
       "      <td>135483.870968</td>\n",
       "      <td>0</td>\n",
       "      <td>3</td>\n",
       "      <td>2017</td>\n",
       "      <td>last</td>\n",
       "    </tr>\n",
       "    <tr>\n",
       "      <th>3</th>\n",
       "      <td>3</td>\n",
       "      <td>2740000.0</td>\n",
       "      <td>35.0</td>\n",
       "      <td>2018-01-01</td>\n",
       "      <td>1</td>\n",
       "      <td>2.65</td>\n",
       "      <td>12.0</td>\n",
       "      <td>NaN</td>\n",
       "      <td>8</td>\n",
       "      <td>True</td>\n",
       "      <td>...</td>\n",
       "      <td>NaN</td>\n",
       "      <td>0.0</td>\n",
       "      <td>NaN</td>\n",
       "      <td>11.0</td>\n",
       "      <td>Мурино</td>\n",
       "      <td>78285.714286</td>\n",
       "      <td>0</td>\n",
       "      <td>1</td>\n",
       "      <td>2018</td>\n",
       "      <td>other</td>\n",
       "    </tr>\n",
       "    <tr>\n",
       "      <th>4</th>\n",
       "      <td>9</td>\n",
       "      <td>10949000.0</td>\n",
       "      <td>68.0</td>\n",
       "      <td>2018-12-27</td>\n",
       "      <td>1</td>\n",
       "      <td>2.65</td>\n",
       "      <td>10.0</td>\n",
       "      <td>NaN</td>\n",
       "      <td>6</td>\n",
       "      <td>True</td>\n",
       "      <td>...</td>\n",
       "      <td>NaN</td>\n",
       "      <td>0.0</td>\n",
       "      <td>NaN</td>\n",
       "      <td>NaN</td>\n",
       "      <td>Санкт-Петербург</td>\n",
       "      <td>161014.705882</td>\n",
       "      <td>3</td>\n",
       "      <td>12</td>\n",
       "      <td>2018</td>\n",
       "      <td>other</td>\n",
       "    </tr>\n",
       "  </tbody>\n",
       "</table>\n",
       "<p>5 rows × 28 columns</p>\n",
       "</div>"
      ],
      "text/plain": [
       "   total_images  last_price  total_area first_day_exposition  rooms  \\\n",
       "0            12   2200000.0        32.8           2018-02-19      1   \n",
       "1            13   5350000.0        40.0           2018-11-18      1   \n",
       "2            15   6300000.0        46.5           2017-03-06      1   \n",
       "3             3   2740000.0        35.0           2018-01-01      1   \n",
       "4             9  10949000.0        68.0           2018-12-27      1   \n",
       "\n",
       "   ceiling_height  floors_total  living_area  floor is_apartment  ...  \\\n",
       "0            2.65           9.0          NaN      2         True  ...   \n",
       "1            2.65          22.0          NaN      3         True  ...   \n",
       "2            2.65          13.0          NaN     13         True  ...   \n",
       "3            2.65          12.0          NaN      8         True  ...   \n",
       "4            2.65          10.0          NaN      6         True  ...   \n",
       "\n",
       "   parks_nearest  ponds_around3000  ponds_nearest  days_exposition  \\\n",
       "0            NaN               0.0            NaN             63.0   \n",
       "1          620.0               1.0         1152.0              NaN   \n",
       "2            NaN               0.0            NaN            336.0   \n",
       "3            NaN               0.0            NaN             11.0   \n",
       "4            NaN               0.0            NaN              NaN   \n",
       "\n",
       "  test_locality_name        m_price  day_exposition  month_exposition  \\\n",
       "0           Коммунар   67073.170732               0                 2   \n",
       "1    Санкт-Петербург  133750.000000               6                11   \n",
       "2    Санкт-Петербург  135483.870968               0                 3   \n",
       "3             Мурино   78285.714286               0                 1   \n",
       "4    Санкт-Петербург  161014.705882               3                12   \n",
       "\n",
       "   year_exposition  floor_category  \n",
       "0             2018           other  \n",
       "1             2018           other  \n",
       "2             2017            last  \n",
       "3             2018           other  \n",
       "4             2018           other  \n",
       "\n",
       "[5 rows x 28 columns]"
      ]
     },
     "execution_count": 47,
     "metadata": {},
     "output_type": "execute_result"
    }
   ],
   "source": [
    "#Задаем новый столбец. \n",
    "df[\"floor_category\"] = [\"other\"]*len(df)\n",
    "#Переписываем ячейки в соответсвии с условием\n",
    "df.loc[df[\"floor\"] == 1, \"floor_category\"] = \"first\"\n",
    "df.loc[df[\"floor\"] == df[\"floors_total\"], \"floor_category\"] = \"last\"\n",
    "df.head()"
   ]
  },
  {
   "cell_type": "code",
   "execution_count": 48,
   "metadata": {},
   "outputs": [
    {
     "data": {
      "text/html": [
       "<div>\n",
       "<style scoped>\n",
       "    .dataframe tbody tr th:only-of-type {\n",
       "        vertical-align: middle;\n",
       "    }\n",
       "\n",
       "    .dataframe tbody tr th {\n",
       "        vertical-align: top;\n",
       "    }\n",
       "\n",
       "    .dataframe thead th {\n",
       "        text-align: right;\n",
       "    }\n",
       "</style>\n",
       "<table border=\"1\" class=\"dataframe\">\n",
       "  <thead>\n",
       "    <tr style=\"text-align: right;\">\n",
       "      <th></th>\n",
       "      <th>total_images</th>\n",
       "      <th>last_price</th>\n",
       "      <th>total_area</th>\n",
       "      <th>first_day_exposition</th>\n",
       "      <th>rooms</th>\n",
       "      <th>ceiling_height</th>\n",
       "      <th>floors_total</th>\n",
       "      <th>living_area</th>\n",
       "      <th>floor</th>\n",
       "      <th>is_apartment</th>\n",
       "      <th>...</th>\n",
       "      <th>ponds_around3000</th>\n",
       "      <th>ponds_nearest</th>\n",
       "      <th>days_exposition</th>\n",
       "      <th>test_locality_name</th>\n",
       "      <th>m_price</th>\n",
       "      <th>day_exposition</th>\n",
       "      <th>month_exposition</th>\n",
       "      <th>year_exposition</th>\n",
       "      <th>floor_category</th>\n",
       "      <th>cityCenters_nearest_km</th>\n",
       "    </tr>\n",
       "  </thead>\n",
       "  <tbody>\n",
       "    <tr>\n",
       "      <th>0</th>\n",
       "      <td>12</td>\n",
       "      <td>2200000.0</td>\n",
       "      <td>32.8</td>\n",
       "      <td>2018-02-19</td>\n",
       "      <td>1</td>\n",
       "      <td>2.65</td>\n",
       "      <td>9.0</td>\n",
       "      <td>NaN</td>\n",
       "      <td>2</td>\n",
       "      <td>True</td>\n",
       "      <td>...</td>\n",
       "      <td>0.0</td>\n",
       "      <td>NaN</td>\n",
       "      <td>63.0</td>\n",
       "      <td>Коммунар</td>\n",
       "      <td>67073.170732</td>\n",
       "      <td>0</td>\n",
       "      <td>2</td>\n",
       "      <td>2018</td>\n",
       "      <td>other</td>\n",
       "      <td>NaN</td>\n",
       "    </tr>\n",
       "    <tr>\n",
       "      <th>1</th>\n",
       "      <td>13</td>\n",
       "      <td>5350000.0</td>\n",
       "      <td>40.0</td>\n",
       "      <td>2018-11-18</td>\n",
       "      <td>1</td>\n",
       "      <td>2.65</td>\n",
       "      <td>22.0</td>\n",
       "      <td>NaN</td>\n",
       "      <td>3</td>\n",
       "      <td>True</td>\n",
       "      <td>...</td>\n",
       "      <td>1.0</td>\n",
       "      <td>1152.0</td>\n",
       "      <td>NaN</td>\n",
       "      <td>Санкт-Петербург</td>\n",
       "      <td>133750.000000</td>\n",
       "      <td>6</td>\n",
       "      <td>11</td>\n",
       "      <td>2018</td>\n",
       "      <td>other</td>\n",
       "      <td>12.0</td>\n",
       "    </tr>\n",
       "    <tr>\n",
       "      <th>2</th>\n",
       "      <td>15</td>\n",
       "      <td>6300000.0</td>\n",
       "      <td>46.5</td>\n",
       "      <td>2017-03-06</td>\n",
       "      <td>1</td>\n",
       "      <td>2.65</td>\n",
       "      <td>13.0</td>\n",
       "      <td>NaN</td>\n",
       "      <td>13</td>\n",
       "      <td>True</td>\n",
       "      <td>...</td>\n",
       "      <td>0.0</td>\n",
       "      <td>NaN</td>\n",
       "      <td>336.0</td>\n",
       "      <td>Санкт-Петербург</td>\n",
       "      <td>135483.870968</td>\n",
       "      <td>0</td>\n",
       "      <td>3</td>\n",
       "      <td>2017</td>\n",
       "      <td>last</td>\n",
       "      <td>15.0</td>\n",
       "    </tr>\n",
       "    <tr>\n",
       "      <th>3</th>\n",
       "      <td>3</td>\n",
       "      <td>2740000.0</td>\n",
       "      <td>35.0</td>\n",
       "      <td>2018-01-01</td>\n",
       "      <td>1</td>\n",
       "      <td>2.65</td>\n",
       "      <td>12.0</td>\n",
       "      <td>NaN</td>\n",
       "      <td>8</td>\n",
       "      <td>True</td>\n",
       "      <td>...</td>\n",
       "      <td>0.0</td>\n",
       "      <td>NaN</td>\n",
       "      <td>11.0</td>\n",
       "      <td>Мурино</td>\n",
       "      <td>78285.714286</td>\n",
       "      <td>0</td>\n",
       "      <td>1</td>\n",
       "      <td>2018</td>\n",
       "      <td>other</td>\n",
       "      <td>NaN</td>\n",
       "    </tr>\n",
       "    <tr>\n",
       "      <th>4</th>\n",
       "      <td>9</td>\n",
       "      <td>10949000.0</td>\n",
       "      <td>68.0</td>\n",
       "      <td>2018-12-27</td>\n",
       "      <td>1</td>\n",
       "      <td>2.65</td>\n",
       "      <td>10.0</td>\n",
       "      <td>NaN</td>\n",
       "      <td>6</td>\n",
       "      <td>True</td>\n",
       "      <td>...</td>\n",
       "      <td>0.0</td>\n",
       "      <td>NaN</td>\n",
       "      <td>NaN</td>\n",
       "      <td>Санкт-Петербург</td>\n",
       "      <td>161014.705882</td>\n",
       "      <td>3</td>\n",
       "      <td>12</td>\n",
       "      <td>2018</td>\n",
       "      <td>other</td>\n",
       "      <td>NaN</td>\n",
       "    </tr>\n",
       "  </tbody>\n",
       "</table>\n",
       "<p>5 rows × 29 columns</p>\n",
       "</div>"
      ],
      "text/plain": [
       "   total_images  last_price  total_area first_day_exposition  rooms  \\\n",
       "0            12   2200000.0        32.8           2018-02-19      1   \n",
       "1            13   5350000.0        40.0           2018-11-18      1   \n",
       "2            15   6300000.0        46.5           2017-03-06      1   \n",
       "3             3   2740000.0        35.0           2018-01-01      1   \n",
       "4             9  10949000.0        68.0           2018-12-27      1   \n",
       "\n",
       "   ceiling_height  floors_total  living_area  floor is_apartment  ...  \\\n",
       "0            2.65           9.0          NaN      2         True  ...   \n",
       "1            2.65          22.0          NaN      3         True  ...   \n",
       "2            2.65          13.0          NaN     13         True  ...   \n",
       "3            2.65          12.0          NaN      8         True  ...   \n",
       "4            2.65          10.0          NaN      6         True  ...   \n",
       "\n",
       "   ponds_around3000  ponds_nearest  days_exposition  test_locality_name  \\\n",
       "0               0.0            NaN             63.0            Коммунар   \n",
       "1               1.0         1152.0              NaN     Санкт-Петербург   \n",
       "2               0.0            NaN            336.0     Санкт-Петербург   \n",
       "3               0.0            NaN             11.0              Мурино   \n",
       "4               0.0            NaN              NaN     Санкт-Петербург   \n",
       "\n",
       "         m_price  day_exposition  month_exposition  year_exposition  \\\n",
       "0   67073.170732               0                 2             2018   \n",
       "1  133750.000000               6                11             2018   \n",
       "2  135483.870968               0                 3             2017   \n",
       "3   78285.714286               0                 1             2018   \n",
       "4  161014.705882               3                12             2018   \n",
       "\n",
       "   floor_category  cityCenters_nearest_km  \n",
       "0           other                     NaN  \n",
       "1           other                    12.0  \n",
       "2            last                    15.0  \n",
       "3           other                     NaN  \n",
       "4           other                     NaN  \n",
       "\n",
       "[5 rows x 29 columns]"
      ]
     },
     "execution_count": 48,
     "metadata": {},
     "output_type": "execute_result"
    }
   ],
   "source": [
    "df['cityCenters_nearest_km'] = round(df['cityCenters_nearest'] / 1000)\n",
    "df.head()"
   ]
  },
  {
   "cell_type": "markdown",
   "metadata": {},
   "source": [
    "### Исследовательский анализ данных"
   ]
  },
  {
   "cell_type": "code",
   "execution_count": 49,
   "metadata": {},
   "outputs": [],
   "source": [
    "import matplotlib.pyplot as plt\n",
    "#Создаём функцию для простоты\n",
    "def reserch_col(x: pd.Series):\n",
    "    plt.figure()\n",
    "    plt.hist(x, edgecolor=\"black\", bins=25)\n",
    "    plt.grid()\n",
    "    print(x.describe())\n",
    "    "
   ]
  },
  {
   "cell_type": "code",
   "execution_count": 50,
   "metadata": {},
   "outputs": [
    {
     "name": "stdout",
     "output_type": "stream",
     "text": [
      "count    18079.000000\n",
      "mean        58.030683\n",
      "std         24.474577\n",
      "min         23.550000\n",
      "25%         40.000000\n",
      "50%         52.500000\n",
      "75%         70.000000\n",
      "max        240.000000\n",
      "Name: total_area, dtype: float64\n"
     ]
    },
    {
     "data": {
      "image/png": "[encoded data removed]",
      "text/plain": [
       "<Figure size 432x288 with 1 Axes>"
      ]
     },
     "metadata": {
      "needs_background": "light"
     },
     "output_type": "display_data"
    }
   ],
   "source": [
    "reserch_col(df['total_area'])"
   ]
  },
  {
   "cell_type": "markdown",
   "metadata": {},
   "source": [
    "Из гистограммы можно сделать вывод, что большая часть квартир на рынке одно и двухкомнатные (если опираться на нормы СНиП). "
   ]
  },
  {
   "cell_type": "code",
   "execution_count": 51,
   "metadata": {},
   "outputs": [
    {
     "name": "stdout",
     "output_type": "stream",
     "text": [
      "count    16890.000000\n",
      "mean        32.845390\n",
      "std         16.014683\n",
      "min         11.600000\n",
      "25%         18.600000\n",
      "50%         30.000000\n",
      "75%         42.000000\n",
      "max        110.300000\n",
      "Name: living_area, dtype: float64\n"
     ]
    },
    {
     "data": {
      "image/png": "[encoded data removed]",
      "text/plain": [
       "<Figure size 432x288 with 1 Axes>"
      ]
     },
     "metadata": {
      "needs_background": "light"
     },
     "output_type": "display_data"
    }
   ],
   "source": [
    "reserch_col(df['living_area'])"
   ]
  },
  {
   "cell_type": "markdown",
   "metadata": {},
   "source": [
    "На гистограмме четко видны два значения которые наиболе часто встречаются, экстраполируя это на нормы СПиН это подверждает наши выводы по первой гистограмме. "
   ]
  },
  {
   "cell_type": "code",
   "execution_count": 52,
   "metadata": {},
   "outputs": [
    {
     "name": "stdout",
     "output_type": "stream",
     "text": [
      "count    16890.000000\n",
      "mean        10.848748\n",
      "std          4.910846\n",
      "min          5.040000\n",
      "25%          8.000000\n",
      "50%         10.000000\n",
      "75%         12.000000\n",
      "max         41.200000\n",
      "Name: kitchen_area, dtype: float64\n"
     ]
    },
    {
     "data": {
      "image/png": "[encoded data removed]",
      "text/plain": [
       "<Figure size 432x288 with 1 Axes>"
      ]
     },
     "metadata": {
      "needs_background": "light"
     },
     "output_type": "display_data"
    }
   ],
   "source": [
    "reserch_col(df['kitchen_area'])"
   ]
  },
  {
   "cell_type": "markdown",
   "metadata": {},
   "source": [
    "Гистограмма демонстрирует нам, что площадь кухни не растет так же стримительно как и жилплощадь в след за 'комнатностью' квартиры, и что наиболее частым размером кухни является 10квм "
   ]
  },
  {
   "cell_type": "code",
   "execution_count": 53,
   "metadata": {},
   "outputs": [
    {
     "name": "stdout",
     "output_type": "stream",
     "text": [
      "count    1.807900e+04\n",
      "mean     5.835782e+06\n",
      "std      3.999226e+06\n",
      "min      8.200000e+05\n",
      "25%      3.549000e+06\n",
      "50%      4.750000e+06\n",
      "75%      6.785000e+06\n",
      "max      3.675000e+07\n",
      "Name: last_price, dtype: float64\n"
     ]
    },
    {
     "data": {
      "image/png": "[encoded data removed]",
      "text/plain": [
       "<Figure size 432x288 with 1 Axes>"
      ]
     },
     "metadata": {
      "needs_background": "light"
     },
     "output_type": "display_data"
    }
   ],
   "source": [
    "reserch_col(df['last_price'])"
   ]
  },
  {
   "cell_type": "code",
   "execution_count": 54,
   "metadata": {},
   "outputs": [
    {
     "name": "stdout",
     "output_type": "stream",
     "text": [
      "4750000.0\n",
      "5835782.416671276\n"
     ]
    }
   ],
   "source": [
    "#Не самый дружелюбный для восприятия график благодаря масштабу, потому дополнительно вызовем медиану и среднее арифметическое.\n",
    "print(df['last_price'].median())\n",
    "print(df['last_price'].mean())"
   ]
  },
  {
   "cell_type": "markdown",
   "metadata": {},
   "source": [
    "Гистограмма показывает нам, что большинство значений находится в диапазоне до 0.1(1е8), то есть до 10 млн, что перекликается с первой гистограммой метража (1-2 комнтатные помещения)."
   ]
  },
  {
   "cell_type": "code",
   "execution_count": 55,
   "metadata": {},
   "outputs": [
    {
     "name": "stdout",
     "output_type": "stream",
     "text": [
      "count    18079.000000\n",
      "mean         1.986504\n",
      "std          0.950387\n",
      "min          0.000000\n",
      "25%          1.000000\n",
      "50%          2.000000\n",
      "75%          3.000000\n",
      "max          6.000000\n",
      "Name: rooms, dtype: float64\n"
     ]
    },
    {
     "data": {
      "image/png": "[encoded data removed]",
      "text/plain": [
       "<Figure size 432x288 with 1 Axes>"
      ]
     },
     "metadata": {
      "needs_background": "light"
     },
     "output_type": "display_data"
    }
   ],
   "source": [
    "reserch_col(df['rooms'])"
   ]
  },
  {
   "cell_type": "markdown",
   "metadata": {},
   "source": [
    "Данная гистограмма подветрждает наши прошлые выводы что самые часто встречаемые форматы квартир одно и двухкомнатные, 5 и 6 комнат характерны для закогордной недвижимости. "
   ]
  },
  {
   "cell_type": "code",
   "execution_count": 56,
   "metadata": {},
   "outputs": [
    {
     "name": "stdout",
     "output_type": "stream",
     "text": [
      "count    18079.000000\n",
      "mean         2.690730\n",
      "std          0.118922\n",
      "min          2.510000\n",
      "25%          2.650000\n",
      "50%          2.650000\n",
      "75%          2.700000\n",
      "max          3.180000\n",
      "Name: ceiling_height, dtype: float64\n"
     ]
    },
    {
     "data": {
      "image/png": "[encoded data removed]",
      "text/plain": [
       "<Figure size 432x288 with 1 Axes>"
      ]
     },
     "metadata": {
      "needs_background": "light"
     },
     "output_type": "display_data"
    }
   ],
   "source": [
    "reserch_col(df['ceiling_height'])"
   ]
  },
  {
   "cell_type": "markdown",
   "metadata": {},
   "source": [
    "Гистограмма показывает, что высота потолков строго по СНиП, и снова значения выше в загородном частном секторе, где индивидуальное строительство, и застройщик не стремится свести к минимуму затраты на квм. "
   ]
  },
  {
   "cell_type": "code",
   "execution_count": 57,
   "metadata": {},
   "outputs": [
    {
     "name": "stdout",
     "output_type": "stream",
     "text": [
      "count    18079.000000\n",
      "mean         6.349577\n",
      "std          5.176050\n",
      "min          1.000000\n",
      "25%          3.000000\n",
      "50%          5.000000\n",
      "75%          9.000000\n",
      "max         33.000000\n",
      "Name: floor, dtype: float64\n"
     ]
    },
    {
     "data": {
      "image/png": "[encoded data removed]",
      "text/plain": [
       "<Figure size 432x288 with 1 Axes>"
      ]
     },
     "metadata": {
      "needs_background": "light"
     },
     "output_type": "display_data"
    }
   ],
   "source": [
    "reserch_col(df['floor'])"
   ]
  },
  {
   "cell_type": "markdown",
   "metadata": {},
   "source": [
    "На лицо наследие 1844 года с запретом на высотное строительство, так же сказываются прошлые застройки советское эпохи, всё это нам демонстрирует гистограмма перепадом между 4 и 5 этажными предложениями. Так же большое предложение квартиры на первом этаже, но это связано в первую очередь с тем, что на них сложнее найти покупателя. "
   ]
  },
  {
   "cell_type": "code",
   "execution_count": 58,
   "metadata": {},
   "outputs": [
    {
     "name": "stdout",
     "output_type": "stream",
     "text": [
      "count     18079\n",
      "unique        3\n",
      "top       other\n",
      "freq      13699\n",
      "Name: floor_category, dtype: object\n"
     ]
    },
    {
     "data": {
      "image/png": "[encoded data removed]",
      "text/plain": [
       "<Figure size 432x288 with 1 Axes>"
      ]
     },
     "metadata": {
      "needs_background": "light"
     },
     "output_type": "display_data"
    }
   ],
   "source": [
    "reserch_col(df['floor_category'])"
   ]
  },
  {
   "cell_type": "code",
   "execution_count": 59,
   "metadata": {},
   "outputs": [
    {
     "data": {
      "text/html": [
       "<div>\n",
       "<style scoped>\n",
       "    .dataframe tbody tr th:only-of-type {\n",
       "        vertical-align: middle;\n",
       "    }\n",
       "\n",
       "    .dataframe tbody tr th {\n",
       "        vertical-align: top;\n",
       "    }\n",
       "\n",
       "    .dataframe thead th {\n",
       "        text-align: right;\n",
       "    }\n",
       "</style>\n",
       "<table border=\"1\" class=\"dataframe\">\n",
       "  <thead>\n",
       "    <tr style=\"text-align: right;\">\n",
       "      <th></th>\n",
       "      <th>mean</th>\n",
       "      <th>median</th>\n",
       "    </tr>\n",
       "    <tr>\n",
       "      <th>floor_category</th>\n",
       "      <th></th>\n",
       "      <th></th>\n",
       "    </tr>\n",
       "  </thead>\n",
       "  <tbody>\n",
       "    <tr>\n",
       "      <th>first</th>\n",
       "      <td>204.175942</td>\n",
       "      <td>116.0</td>\n",
       "    </tr>\n",
       "    <tr>\n",
       "      <th>last</th>\n",
       "      <td>188.994036</td>\n",
       "      <td>99.0</td>\n",
       "    </tr>\n",
       "    <tr>\n",
       "      <th>other</th>\n",
       "      <td>173.204295</td>\n",
       "      <td>91.0</td>\n",
       "    </tr>\n",
       "  </tbody>\n",
       "</table>\n",
       "</div>"
      ],
      "text/plain": [
       "                      mean  median\n",
       "floor_category                    \n",
       "first           204.175942   116.0\n",
       "last            188.994036    99.0\n",
       "other           173.204295    91.0"
      ]
     },
     "execution_count": 59,
     "metadata": {},
     "output_type": "execute_result"
    }
   ],
   "source": [
    "df.pivot_table(index='floor_category', values='days_exposition', aggfunc=('median','mean'))"
   ]
  },
  {
   "cell_type": "markdown",
   "metadata": {},
   "source": [
    "Как правило на первом и последнем этаже меньше желающих жить, а последний этаж, к которому зачастую любыми способами стараются присовокупить крышу или пристроить мансарду, к тому же еще и мало желающих продать, что и отображает наша сводная таблица. Первый и последний этаж в среднем продается на 10-30 дней дольше."
   ]
  },
  {
   "cell_type": "code",
   "execution_count": 60,
   "metadata": {},
   "outputs": [
    {
     "name": "stdout",
     "output_type": "stream",
     "text": [
      "count    18002.000000\n",
      "mean        11.654872\n",
      "std          6.862627\n",
      "min          1.000000\n",
      "25%          5.000000\n",
      "50%          9.000000\n",
      "75%         16.000000\n",
      "max         60.000000\n",
      "Name: floors_total, dtype: float64\n"
     ]
    },
    {
     "data": {
      "image/png": "[encoded data removed]",
      "text/plain": [
       "<Figure size 432x288 with 1 Axes>"
      ]
     },
     "metadata": {
      "needs_background": "light"
     },
     "output_type": "display_data"
    }
   ],
   "source": [
    "reserch_col(df['floors_total'])"
   ]
  },
  {
   "cell_type": "markdown",
   "metadata": {},
   "source": [
    "Указ 1844 года (первый столбец 4-5 этажей), плановая застройка советской эпохи (второй столбец 9-10 этажей) и современная массовая застройка (третий столбец 15-16 этажей) наглядно видны на графике. "
   ]
  },
  {
   "cell_type": "code",
   "execution_count": 61,
   "metadata": {},
   "outputs": [
    {
     "name": "stdout",
     "output_type": "stream",
     "text": [
      "count    13906.000000\n",
      "mean     14364.601970\n",
      "std       8156.147147\n",
      "min        318.000000\n",
      "25%       9893.250000\n",
      "50%      13265.000000\n",
      "75%      16315.750000\n",
      "max      65968.000000\n",
      "Name: cityCenters_nearest, dtype: float64\n"
     ]
    },
    {
     "data": {
      "image/png": "[encoded data removed]",
      "text/plain": [
       "<Figure size 432x288 with 1 Axes>"
      ]
     },
     "metadata": {
      "needs_background": "light"
     },
     "output_type": "display_data"
    }
   ],
   "source": [
    "reserch_col(df['cityCenters_nearest'])"
   ]
  },
  {
   "cell_type": "markdown",
   "metadata": {},
   "source": [
    "Вот это уже похоже на нормальное распределение, так как желание продать квартиру никак от растояния до центра не зависит. От расстояния от центра зависит то как далеко от исторической застройки находится недвижимость, иными словами плотность застройки, что и демонстрирует нам гистограмма.  "
   ]
  },
  {
   "cell_type": "code",
   "execution_count": 62,
   "metadata": {},
   "outputs": [
    {
     "name": "stdout",
     "output_type": "stream",
     "text": [
      "count    13888.000000\n",
      "mean     28739.788090\n",
      "std      12508.571772\n",
      "min          0.000000\n",
      "25%      18462.000000\n",
      "50%      27313.500000\n",
      "75%      36897.000000\n",
      "max      84869.000000\n",
      "Name: airports_nearest, dtype: float64\n"
     ]
    },
    {
     "data": {
      "image/png": "[encoded data removed]",
      "text/plain": [
       "<Figure size 432x288 with 1 Axes>"
      ]
     },
     "metadata": {
      "needs_background": "light"
     },
     "output_type": "display_data"
    }
   ],
   "source": [
    "reserch_col(df['airports_nearest'])"
   ]
  },
  {
   "cell_type": "markdown",
   "metadata": {},
   "source": [
    "Гистограмма очередной раз намекает нам, что приаэродромная территория имеет особый правовй статус и строительство в таких зонах строго регулируется. Об этом говорит резкий перепад в районе 4 километров после, которого законом разрешено жилищное строительство возле аэропортов."
   ]
  },
  {
   "cell_type": "code",
   "execution_count": 63,
   "metadata": {},
   "outputs": [
    {
     "name": "stdout",
     "output_type": "stream",
     "text": [
      "count    5890.000000\n",
      "mean      505.753820\n",
      "std       363.481176\n",
      "min         1.000000\n",
      "25%       293.000000\n",
      "50%       459.000000\n",
      "75%       623.000000\n",
      "max      3190.000000\n",
      "Name: parks_nearest, dtype: float64\n"
     ]
    },
    {
     "data": {
      "image/png": "[encoded data removed]",
      "text/plain": [
       "<Figure size 432x288 with 1 Axes>"
      ]
     },
     "metadata": {
      "needs_background": "light"
     },
     "output_type": "display_data"
    }
   ],
   "source": [
    "reserch_col(df['parks_nearest'])"
   ]
  },
  {
   "cell_type": "markdown",
   "metadata": {},
   "source": [
    "Если парк рядом с квартирой есть, то он либо рядом, либо его нет."
   ]
  },
  {
   "cell_type": "code",
   "execution_count": 64,
   "metadata": {},
   "outputs": [
    {
     "name": "stdout",
     "output_type": "stream",
     "text": [
      "count    18079.000000\n",
      "mean         2.591736\n",
      "std          1.788236\n",
      "min          0.000000\n",
      "25%          1.000000\n",
      "50%          3.000000\n",
      "75%          4.000000\n",
      "max          6.000000\n",
      "Name: day_exposition, dtype: float64\n"
     ]
    },
    {
     "data": {
      "image/png": "[encoded data removed]",
      "text/plain": [
       "<Figure size 432x288 with 1 Axes>"
      ]
     },
     "metadata": {
      "needs_background": "light"
     },
     "output_type": "display_data"
    }
   ],
   "source": [
    "reserch_col(df['day_exposition'])"
   ]
  },
  {
   "cell_type": "markdown",
   "metadata": {},
   "source": [
    "Скорее всего такая разница в активности между будними и выходными связана с тем кто размешает объявления, по выходным риэлторы отдыхают, отсюда и разница."
   ]
  },
  {
   "cell_type": "code",
   "execution_count": 65,
   "metadata": {},
   "outputs": [
    {
     "name": "stdout",
     "output_type": "stream",
     "text": [
      "count    18079.000000\n",
      "mean         6.429780\n",
      "std          3.490434\n",
      "min          1.000000\n",
      "25%          3.000000\n",
      "50%          6.000000\n",
      "75%         10.000000\n",
      "max         12.000000\n",
      "Name: month_exposition, dtype: float64\n"
     ]
    },
    {
     "data": {
      "image/png": "[encoded data removed]",
      "text/plain": [
       "<Figure size 432x288 with 1 Axes>"
      ]
     },
     "metadata": {
      "needs_background": "light"
     },
     "output_type": "display_data"
    }
   ],
   "source": [
    "reserch_col(df['month_exposition'])"
   ]
  },
  {
   "cell_type": "markdown",
   "metadata": {},
   "source": [
    "Гистограмма демонстрирует туристический характер Санкт-Петербурга, маленькое количество новых объявлений в летний и зимний период можно объестнить периодом каникул, возврастание же предложений в осенне-весенний снижением туристического интереса."
   ]
  },
  {
   "cell_type": "markdown",
   "metadata": {},
   "source": [
    "**4.2 Время \"жизни\" объявления.**"
   ]
  },
  {
   "cell_type": "code",
   "execution_count": 66,
   "metadata": {},
   "outputs": [
    {
     "data": {
      "image/png": "[encoded data removed]",
      "text/plain": [
       "<Figure size 720x432 with 1 Axes>"
      ]
     },
     "metadata": {
      "needs_background": "light"
     },
     "output_type": "display_data"
    },
    {
     "data": {
      "image/png": "[encoded data removed]",
      "text/plain": [
       "<Figure size 720x432 with 1 Axes>"
      ]
     },
     "metadata": {
      "needs_background": "light"
     },
     "output_type": "display_data"
    },
    {
     "data": {
      "text/plain": [
       "count    15945.000000\n",
       "mean       178.652242\n",
       "std        217.504753\n",
       "min          2.000000\n",
       "25%         45.000000\n",
       "50%         94.000000\n",
       "75%        227.000000\n",
       "max       1572.000000\n",
       "Name: days_exposition, dtype: float64"
      ]
     },
     "execution_count": 66,
     "metadata": {},
     "output_type": "execute_result"
    }
   ],
   "source": [
    "df['days_exposition'].hist(bins=50, figsize=(10, 6))\n",
    "plt.show()\n",
    "df['days_exposition'].hist(bins=50, figsize=(10, 6), range=(2,200))\n",
    "plt.show()\n",
    "df['days_exposition'].describe()"
   ]
  },
  {
   "cell_type": "markdown",
   "metadata": {},
   "source": [
    "Классическое распределение Пуассона. Как бы не было удивительно, но большая часть продаж происходит в первые полгода, если за это время покупатель не нашелся, значит нужно срочно что-то менять, инчае есть все шансы просидеть пять лет как рекордсмен из нашего датафрейма. Те кто сумел совершить продажу в течении первых полутра месяцев, можно назвать успешными продажниками и попытаться чему-то научиться у них , в то время как некоторые и за 8 месяцев не смогли передать квартиру в надежные руки, что можно назвать долгой продажей, как мы помним по прошлым графикам раз в полгода количество желающих приобрести жильё в Лен области значительно возврастает. "
   ]
  },
  {
   "cell_type": "markdown",
   "metadata": {},
   "source": [
    "**4.3 Факторы влияющие на стоймость квратиры.**"
   ]
  },
  {
   "cell_type": "code",
   "execution_count": 67,
   "metadata": {},
   "outputs": [],
   "source": [
    "#Для удобства сделаем фунцию\n",
    "def we_r_plottin(z):\n",
    "    df.plot(x='last_price', y=z, kind='scatter')\n",
    "    print(df['last_price'].corr(df[z]))"
   ]
  },
  {
   "cell_type": "markdown",
   "metadata": {},
   "source": [
    "**Кореляция цены иобщей площади.**"
   ]
  },
  {
   "cell_type": "code",
   "execution_count": 69,
   "metadata": {},
   "outputs": [
    {
     "name": "stdout",
     "output_type": "stream",
     "text": [
      "0.7672803943942853\n"
     ]
    },
    {
     "data": {
      "image/png": "[encoded data removed]",
      "text/plain": [
       "<Figure size 432x288 with 1 Axes>"
      ]
     },
     "metadata": {
      "needs_background": "light"
     },
     "output_type": "display_data"
    }
   ],
   "source": [
    "we_r_plottin('total_area')"
   ]
  },
  {
   "cell_type": "markdown",
   "metadata": {},
   "source": [
    "Коэффициент корреляции 0.7 чуть-чуть не дотянул до 0.75, тем не менее это достаточно сильный показатель. Можно смело утверждать, что цена квартиры напрямую зависить от её площади.\n",
    "***\n",
    "**Кореляция цены и жилой площади.**"
   ]
  },
  {
   "cell_type": "code",
   "execution_count": 70,
   "metadata": {},
   "outputs": [
    {
     "name": "stdout",
     "output_type": "stream",
     "text": [
      "0.6469954727542849\n"
     ]
    },
    {
     "data": {
      "image/png": "[encoded data removed]",
      "text/plain": [
       "<Figure size 432x288 with 1 Axes>"
      ]
     },
     "metadata": {
      "needs_background": "light"
     },
     "output_type": "display_data"
    }
   ],
   "source": [
    "we_r_plottin('living_area')"
   ]
  },
  {
   "cell_type": "markdown",
   "metadata": {},
   "source": [
    "Коэффициент корреляции 0.61 слабее чем прошлый, но всё ещё прослеживается определенная связь. Больше жилплощадь, выше цена.\n",
    "***\n",
    "**Кореляция цены и площади кухни.**"
   ]
  },
  {
   "cell_type": "code",
   "execution_count": 71,
   "metadata": {},
   "outputs": [
    {
     "name": "stdout",
     "output_type": "stream",
     "text": [
      "0.5276776172641472\n"
     ]
    },
    {
     "data": {
      "image/png": "[encoded data removed]",
      "text/plain": [
       "<Figure size 432x288 with 1 Axes>"
      ]
     },
     "metadata": {
      "needs_background": "light"
     },
     "output_type": "display_data"
    }
   ],
   "source": [
    "we_r_plottin('kitchen_area')"
   ]
  },
  {
   "cell_type": "markdown",
   "metadata": {},
   "source": [
    "Коэффициент корреляции 0.48 еще слабее чем прошлый, но это связано с тем что размер кухни, как правило, не растет вместе с размером квартиры. Сохраняется средняя положительная корреляция. \n",
    "***\n",
    "**Кореляция цены и числа комнат.**"
   ]
  },
  {
   "cell_type": "code",
   "execution_count": 72,
   "metadata": {},
   "outputs": [
    {
     "data": {
      "text/html": [
       "<div>\n",
       "<style scoped>\n",
       "    .dataframe tbody tr th:only-of-type {\n",
       "        vertical-align: middle;\n",
       "    }\n",
       "\n",
       "    .dataframe tbody tr th {\n",
       "        vertical-align: top;\n",
       "    }\n",
       "\n",
       "    .dataframe thead th {\n",
       "        text-align: right;\n",
       "    }\n",
       "</style>\n",
       "<table border=\"1\" class=\"dataframe\">\n",
       "  <thead>\n",
       "    <tr style=\"text-align: right;\">\n",
       "      <th></th>\n",
       "      <th>mean</th>\n",
       "      <th>median</th>\n",
       "      <th>count</th>\n",
       "    </tr>\n",
       "    <tr>\n",
       "      <th>rooms</th>\n",
       "      <th></th>\n",
       "      <th></th>\n",
       "      <th></th>\n",
       "    </tr>\n",
       "  </thead>\n",
       "  <tbody>\n",
       "    <tr>\n",
       "      <th>0</th>\n",
       "      <td>3.106486e+06</td>\n",
       "      <td>2952500.0</td>\n",
       "      <td>145</td>\n",
       "    </tr>\n",
       "    <tr>\n",
       "      <th>1</th>\n",
       "      <td>3.953799e+06</td>\n",
       "      <td>3700000.0</td>\n",
       "      <td>6466</td>\n",
       "    </tr>\n",
       "    <tr>\n",
       "      <th>2</th>\n",
       "      <td>5.680104e+06</td>\n",
       "      <td>4999999.5</td>\n",
       "      <td>6116</td>\n",
       "    </tr>\n",
       "    <tr>\n",
       "      <th>3</th>\n",
       "      <td>7.791331e+06</td>\n",
       "      <td>6450000.0</td>\n",
       "      <td>4392</td>\n",
       "    </tr>\n",
       "    <tr>\n",
       "      <th>4</th>\n",
       "      <td>1.048641e+07</td>\n",
       "      <td>8700000.0</td>\n",
       "      <td>787</td>\n",
       "    </tr>\n",
       "    <tr>\n",
       "      <th>5</th>\n",
       "      <td>1.293337e+07</td>\n",
       "      <td>11145000.0</td>\n",
       "      <td>146</td>\n",
       "    </tr>\n",
       "    <tr>\n",
       "      <th>6</th>\n",
       "      <td>1.441817e+07</td>\n",
       "      <td>12990000.0</td>\n",
       "      <td>27</td>\n",
       "    </tr>\n",
       "  </tbody>\n",
       "</table>\n",
       "</div>"
      ],
      "text/plain": [
       "               mean      median  count\n",
       "rooms                                 \n",
       "0      3.106486e+06   2952500.0    145\n",
       "1      3.953799e+06   3700000.0   6466\n",
       "2      5.680104e+06   4999999.5   6116\n",
       "3      7.791331e+06   6450000.0   4392\n",
       "4      1.048641e+07   8700000.0    787\n",
       "5      1.293337e+07  11145000.0    146\n",
       "6      1.441817e+07  12990000.0     27"
      ]
     },
     "execution_count": 72,
     "metadata": {},
     "output_type": "execute_result"
    },
    {
     "data": {
      "image/png": "[encoded data removed]",
      "text/plain": [
       "<Figure size 432x288 with 1 Axes>"
      ]
     },
     "metadata": {
      "needs_background": "light"
     },
     "output_type": "display_data"
    }
   ],
   "source": [
    "df.groupby('rooms')['last_price'].agg('median') \\\n",
    "    .plot(x='rooms', y='median', kind='bar') \n",
    "df.groupby('rooms')['last_price'].agg(['mean', 'median', 'count'])"
   ]
  },
  {
   "cell_type": "markdown",
   "metadata": {},
   "source": [
    "График не оставляет пространства для мышления, однозначная прямая зависимость цены от количества комнат.\n",
    "***\n",
    "**Влияние этажа на цену**"
   ]
  },
  {
   "cell_type": "code",
   "execution_count": 73,
   "metadata": {},
   "outputs": [
    {
     "data": {
      "text/plain": [
       "<AxesSubplot:xlabel='floor_category'>"
      ]
     },
     "execution_count": 73,
     "metadata": {},
     "output_type": "execute_result"
    },
    {
     "data": {
      "image/png": "[encoded data removed]",
      "text/plain": [
       "<Figure size 432x288 with 1 Axes>"
      ]
     },
     "metadata": {
      "needs_background": "light"
     },
     "output_type": "display_data"
    }
   ],
   "source": [
    "df.groupby('floor_category')['last_price'].agg('median') \\\n",
    "    .plot(x='floor_category', y='median', kind='bar') "
   ]
  },
  {
   "cell_type": "markdown",
   "metadata": {},
   "source": [
    "Квартиры на последнем этаже имеют тенденцию делать мансардами, порой добавлять чердак, в общем любыми способами увеличивать их площадь, так же для последнего этажа в случае Санкт-Петербурга можно сделать наценку за счет вида. Квартиры же на первом этаже имеют плохой спрос, так как не каждый готов ставить решетки на окна или жить в постоянном опасении что ему в окно кто-то влезет, плюс шумовое и световое загрязнение в городе, так же отпугивают покупателей, из-за чего продавец вынуждено снижает цену.\n",
    "***\n",
    "**Влияние дня недели публикации на цену**"
   ]
  },
  {
   "cell_type": "code",
   "execution_count": 74,
   "metadata": {},
   "outputs": [
    {
     "data": {
      "text/html": [
       "<div>\n",
       "<style scoped>\n",
       "    .dataframe tbody tr th:only-of-type {\n",
       "        vertical-align: middle;\n",
       "    }\n",
       "\n",
       "    .dataframe tbody tr th {\n",
       "        vertical-align: top;\n",
       "    }\n",
       "\n",
       "    .dataframe thead th {\n",
       "        text-align: right;\n",
       "    }\n",
       "</style>\n",
       "<table border=\"1\" class=\"dataframe\">\n",
       "  <thead>\n",
       "    <tr style=\"text-align: right;\">\n",
       "      <th></th>\n",
       "      <th>mean</th>\n",
       "      <th>median</th>\n",
       "      <th>count</th>\n",
       "    </tr>\n",
       "    <tr>\n",
       "      <th>day_exposition</th>\n",
       "      <th></th>\n",
       "      <th></th>\n",
       "      <th></th>\n",
       "    </tr>\n",
       "  </thead>\n",
       "  <tbody>\n",
       "    <tr>\n",
       "      <th>0</th>\n",
       "      <td>5.892550e+06</td>\n",
       "      <td>4775000.0</td>\n",
       "      <td>2674</td>\n",
       "    </tr>\n",
       "    <tr>\n",
       "      <th>1</th>\n",
       "      <td>5.874343e+06</td>\n",
       "      <td>4850000.0</td>\n",
       "      <td>3186</td>\n",
       "    </tr>\n",
       "    <tr>\n",
       "      <th>2</th>\n",
       "      <td>5.937862e+06</td>\n",
       "      <td>4800000.0</td>\n",
       "      <td>3039</td>\n",
       "    </tr>\n",
       "    <tr>\n",
       "      <th>3</th>\n",
       "      <td>5.848673e+06</td>\n",
       "      <td>4750000.0</td>\n",
       "      <td>3262</td>\n",
       "    </tr>\n",
       "    <tr>\n",
       "      <th>4</th>\n",
       "      <td>5.794139e+06</td>\n",
       "      <td>4670000.0</td>\n",
       "      <td>3111</td>\n",
       "    </tr>\n",
       "    <tr>\n",
       "      <th>5</th>\n",
       "      <td>5.627871e+06</td>\n",
       "      <td>4650000.0</td>\n",
       "      <td>1480</td>\n",
       "    </tr>\n",
       "    <tr>\n",
       "      <th>6</th>\n",
       "      <td>5.692859e+06</td>\n",
       "      <td>4626540.0</td>\n",
       "      <td>1327</td>\n",
       "    </tr>\n",
       "  </tbody>\n",
       "</table>\n",
       "</div>"
      ],
      "text/plain": [
       "                        mean     median  count\n",
       "day_exposition                                \n",
       "0               5.892550e+06  4775000.0   2674\n",
       "1               5.874343e+06  4850000.0   3186\n",
       "2               5.937862e+06  4800000.0   3039\n",
       "3               5.848673e+06  4750000.0   3262\n",
       "4               5.794139e+06  4670000.0   3111\n",
       "5               5.627871e+06  4650000.0   1480\n",
       "6               5.692859e+06  4626540.0   1327"
      ]
     },
     "execution_count": 74,
     "metadata": {},
     "output_type": "execute_result"
    },
    {
     "data": {
      "image/png": "[encoded data removed]",
      "text/plain": [
       "<Figure size 432x288 with 1 Axes>"
      ]
     },
     "metadata": {
      "needs_background": "light"
     },
     "output_type": "display_data"
    }
   ],
   "source": [
    "df.groupby('day_exposition')['last_price'].agg('median') \\\n",
    "    .plot(x='day_exposition', y='median', kind='bar') \n",
    "df.groupby('day_exposition')['last_price'].agg(['mean', 'median', 'count'])"
   ]
  },
  {
   "cell_type": "markdown",
   "metadata": {},
   "source": [
    "Как мы выяснили ранее, в буднии дни по мимо обычных пользователей объявления выкладывают и риэлторы. Можно было бы предположить, что тогда в выходные дни были бы неоправдано высокие цены так как продажами занимаются не профессионалы, но мы этого не видим. В целом график показывает нам, что цена от дня недели публикации не зависит. \n",
    "***\n",
    "**Влияние месяца публикации на цену**"
   ]
  },
  {
   "cell_type": "code",
   "execution_count": 75,
   "metadata": {},
   "outputs": [
    {
     "data": {
      "text/html": [
       "<div>\n",
       "<style scoped>\n",
       "    .dataframe tbody tr th:only-of-type {\n",
       "        vertical-align: middle;\n",
       "    }\n",
       "\n",
       "    .dataframe tbody tr th {\n",
       "        vertical-align: top;\n",
       "    }\n",
       "\n",
       "    .dataframe thead th {\n",
       "        text-align: right;\n",
       "    }\n",
       "</style>\n",
       "<table border=\"1\" class=\"dataframe\">\n",
       "  <thead>\n",
       "    <tr style=\"text-align: right;\">\n",
       "      <th></th>\n",
       "      <th>mean</th>\n",
       "      <th>median</th>\n",
       "      <th>count</th>\n",
       "    </tr>\n",
       "    <tr>\n",
       "      <th>month_exposition</th>\n",
       "      <th></th>\n",
       "      <th></th>\n",
       "      <th></th>\n",
       "    </tr>\n",
       "  </thead>\n",
       "  <tbody>\n",
       "    <tr>\n",
       "      <th>1</th>\n",
       "      <td>5.915730e+06</td>\n",
       "      <td>4799500.0</td>\n",
       "      <td>1147</td>\n",
       "    </tr>\n",
       "    <tr>\n",
       "      <th>2</th>\n",
       "      <td>5.814589e+06</td>\n",
       "      <td>4769000.0</td>\n",
       "      <td>1999</td>\n",
       "    </tr>\n",
       "    <tr>\n",
       "      <th>3</th>\n",
       "      <td>5.800320e+06</td>\n",
       "      <td>4800000.0</td>\n",
       "      <td>1876</td>\n",
       "    </tr>\n",
       "    <tr>\n",
       "      <th>4</th>\n",
       "      <td>5.848844e+06</td>\n",
       "      <td>4950000.0</td>\n",
       "      <td>1797</td>\n",
       "    </tr>\n",
       "    <tr>\n",
       "      <th>5</th>\n",
       "      <td>5.774368e+06</td>\n",
       "      <td>4560000.0</td>\n",
       "      <td>1032</td>\n",
       "    </tr>\n",
       "    <tr>\n",
       "      <th>6</th>\n",
       "      <td>5.617719e+06</td>\n",
       "      <td>4500000.0</td>\n",
       "      <td>1390</td>\n",
       "    </tr>\n",
       "    <tr>\n",
       "      <th>7</th>\n",
       "      <td>5.711025e+06</td>\n",
       "      <td>4750000.0</td>\n",
       "      <td>1277</td>\n",
       "    </tr>\n",
       "    <tr>\n",
       "      <th>8</th>\n",
       "      <td>5.921780e+06</td>\n",
       "      <td>4700000.0</td>\n",
       "      <td>1320</td>\n",
       "    </tr>\n",
       "    <tr>\n",
       "      <th>9</th>\n",
       "      <td>5.985821e+06</td>\n",
       "      <td>4800000.0</td>\n",
       "      <td>1505</td>\n",
       "    </tr>\n",
       "    <tr>\n",
       "      <th>10</th>\n",
       "      <td>5.795761e+06</td>\n",
       "      <td>4700000.0</td>\n",
       "      <td>1624</td>\n",
       "    </tr>\n",
       "    <tr>\n",
       "      <th>11</th>\n",
       "      <td>5.957632e+06</td>\n",
       "      <td>4800000.0</td>\n",
       "      <td>1845</td>\n",
       "    </tr>\n",
       "    <tr>\n",
       "      <th>12</th>\n",
       "      <td>5.851870e+06</td>\n",
       "      <td>4700000.0</td>\n",
       "      <td>1267</td>\n",
       "    </tr>\n",
       "  </tbody>\n",
       "</table>\n",
       "</div>"
      ],
      "text/plain": [
       "                          mean     median  count\n",
       "month_exposition                                \n",
       "1                 5.915730e+06  4799500.0   1147\n",
       "2                 5.814589e+06  4769000.0   1999\n",
       "3                 5.800320e+06  4800000.0   1876\n",
       "4                 5.848844e+06  4950000.0   1797\n",
       "5                 5.774368e+06  4560000.0   1032\n",
       "6                 5.617719e+06  4500000.0   1390\n",
       "7                 5.711025e+06  4750000.0   1277\n",
       "8                 5.921780e+06  4700000.0   1320\n",
       "9                 5.985821e+06  4800000.0   1505\n",
       "10                5.795761e+06  4700000.0   1624\n",
       "11                5.957632e+06  4800000.0   1845\n",
       "12                5.851870e+06  4700000.0   1267"
      ]
     },
     "execution_count": 75,
     "metadata": {},
     "output_type": "execute_result"
    },
    {
     "data": {
      "image/png": "[encoded data removed]",
      "text/plain": [
       "<Figure size 432x288 with 1 Axes>"
      ]
     },
     "metadata": {
      "needs_background": "light"
     },
     "output_type": "display_data"
    }
   ],
   "source": [
    "df.groupby('month_exposition')['last_price'].agg('median') \\\n",
    "    .plot(x='month_exposition', y='median', kind='bar') \n",
    "df.groupby('month_exposition')['last_price'].agg(['mean', 'median', 'count'])"
   ]
  },
  {
   "cell_type": "markdown",
   "metadata": {},
   "source": [
    "Хоть есть незначительное понижение в в летне-зимний период, но как и в случае с днем публикации месяц публикации слабо влияет на стоймость.\n",
    "***\n",
    "**Влияние года публикации на цену**"
   ]
  },
  {
   "cell_type": "code",
   "execution_count": 76,
   "metadata": {},
   "outputs": [
    {
     "data": {
      "text/html": [
       "<div>\n",
       "<style scoped>\n",
       "    .dataframe tbody tr th:only-of-type {\n",
       "        vertical-align: middle;\n",
       "    }\n",
       "\n",
       "    .dataframe tbody tr th {\n",
       "        vertical-align: top;\n",
       "    }\n",
       "\n",
       "    .dataframe thead th {\n",
       "        text-align: right;\n",
       "    }\n",
       "</style>\n",
       "<table border=\"1\" class=\"dataframe\">\n",
       "  <thead>\n",
       "    <tr style=\"text-align: right;\">\n",
       "      <th></th>\n",
       "      <th>mean</th>\n",
       "      <th>median</th>\n",
       "      <th>count</th>\n",
       "    </tr>\n",
       "    <tr>\n",
       "      <th>year_exposition</th>\n",
       "      <th></th>\n",
       "      <th></th>\n",
       "      <th></th>\n",
       "    </tr>\n",
       "  </thead>\n",
       "  <tbody>\n",
       "    <tr>\n",
       "      <th>2014</th>\n",
       "      <td>1.005666e+07</td>\n",
       "      <td>7868500.0</td>\n",
       "      <td>112</td>\n",
       "    </tr>\n",
       "    <tr>\n",
       "      <th>2015</th>\n",
       "      <td>6.472239e+06</td>\n",
       "      <td>5250000.0</td>\n",
       "      <td>947</td>\n",
       "    </tr>\n",
       "    <tr>\n",
       "      <th>2016</th>\n",
       "      <td>5.768131e+06</td>\n",
       "      <td>4600000.0</td>\n",
       "      <td>2231</td>\n",
       "    </tr>\n",
       "    <tr>\n",
       "      <th>2017</th>\n",
       "      <td>5.652778e+06</td>\n",
       "      <td>4550000.0</td>\n",
       "      <td>6546</td>\n",
       "    </tr>\n",
       "    <tr>\n",
       "      <th>2018</th>\n",
       "      <td>5.740857e+06</td>\n",
       "      <td>4700000.0</td>\n",
       "      <td>6270</td>\n",
       "    </tr>\n",
       "    <tr>\n",
       "      <th>2019</th>\n",
       "      <td>6.276027e+06</td>\n",
       "      <td>5300000.0</td>\n",
       "      <td>1973</td>\n",
       "    </tr>\n",
       "  </tbody>\n",
       "</table>\n",
       "</div>"
      ],
      "text/plain": [
       "                         mean     median  count\n",
       "year_exposition                                \n",
       "2014             1.005666e+07  7868500.0    112\n",
       "2015             6.472239e+06  5250000.0    947\n",
       "2016             5.768131e+06  4600000.0   2231\n",
       "2017             5.652778e+06  4550000.0   6546\n",
       "2018             5.740857e+06  4700000.0   6270\n",
       "2019             6.276027e+06  5300000.0   1973"
      ]
     },
     "execution_count": 76,
     "metadata": {},
     "output_type": "execute_result"
    },
    {
     "data": {
      "image/png": "[encoded data removed]",
      "text/plain": [
       "<Figure size 432x288 with 1 Axes>"
      ]
     },
     "metadata": {
      "needs_background": "light"
     },
     "output_type": "display_data"
    }
   ],
   "source": [
    "df.groupby('year_exposition')['last_price'].agg('mean') \\\n",
    "    .plot(x='year_exposition', y='median', kind='bar') \n",
    "df.groupby('year_exposition')['last_price'].agg(['mean', 'median', 'count'])"
   ]
  },
  {
   "cell_type": "markdown",
   "metadata": {},
   "source": [
    "Год публикации в свою очередь сильно влияет на стоймость, так как тут чаще вступают в работу макроэкономические показатели и внешние факторы. Как известно недвижимость многими воспринимается как традиционный вид инвестиций и на фоне внешней нестабильности покупатель стремился конвертировать стримительно теряющий позиции рубль в квадратные метры. Это видно на графике, где пиковове значение приходится на 2014 год. В дальнейшем с развитием кризиса и падением как покупательской способности, так и уровня спроса, рынок отскочил, что выражается в падении цены. Со временем экономическая ситуация стабилизировалась, что отображено на графике ростом 2018-19."
   ]
  },
  {
   "cell_type": "markdown",
   "metadata": {},
   "source": [
    "**4.4 Ценность кв. метра в Лен. области.**"
   ]
  },
  {
   "cell_type": "code",
   "execution_count": 77,
   "metadata": {},
   "outputs": [
    {
     "name": "stdout",
     "output_type": "stream",
     "text": [
      "              city   city_m_price\n",
      "0  Санкт-Петербург  111712.978358\n",
      "1           Мурино   85312.642654\n",
      "2          Кудрово   94926.820516\n",
      "3           Шушары   77951.099712\n",
      "4       Всеволожск   69084.539173\n",
      "5        Парголово   90016.289647\n",
      "6           Пушкин  104981.697905\n",
      "7          Колпино   75546.742711\n",
      "8          Гатчина   69467.060677\n",
      "9         Петергоф   84759.582479\n",
      "city              Всеволожск\n",
      "city_m_price    69084.539173\n",
      "dtype: object\n"
     ]
    },
    {
     "data": {
      "text/plain": [
       "city                   Шушары\n",
       "city_m_price    111712.978358\n",
       "dtype: object"
      ]
     },
     "execution_count": 77,
     "metadata": {},
     "output_type": "execute_result"
    }
   ],
   "source": [
    "df['locality_name'].value_counts().head(10) #ищем самые популярные города\n",
    "city = ['Санкт-Петербург','Мурино', 'Кудрово', 'Шушары', 'Всеволожск',\n",
    "        'Парголово', 'Пушкин', 'Колпино', 'Гатчина', 'Петергоф'] #Создаем список с ними\n",
    "city_m_price = []\n",
    "for city_name in city: #Пишем цикл который посчитает нам значения\n",
    "    df_temp = df.query('locality_name == @city_name')\n",
    "    city_m_price.append(df_temp['m_price'].mean())\n",
    "\n",
    "frame = pd.DataFrame({'city' : city,'city_m_price' : city_m_price}) #сводим в новый df\n",
    "print(frame)\n",
    "print(frame.min())\n",
    "frame.max()"
   ]
  },
  {
   "cell_type": "markdown",
   "metadata": {},
   "source": [
    "Самый дешевый метр в Всеволожске, а дорогой в Шушарах."
   ]
  },
  {
   "cell_type": "markdown",
   "metadata": {},
   "source": [
    "**4.5 Средняя ценна квартиры в заисимости от отдаления от центтра**"
   ]
  },
  {
   "cell_type": "code",
   "execution_count": 78,
   "metadata": {},
   "outputs": [
    {
     "data": {
      "text/plain": [
       "<AxesSubplot:xlabel='km_list'>"
      ]
     },
     "execution_count": 78,
     "metadata": {},
     "output_type": "execute_result"
    },
    {
     "data": {
      "image/png": "[encoded data removed]",
      "text/plain": [
       "<Figure size 432x288 with 1 Axes>"
      ]
     },
     "metadata": {
      "needs_background": "light"
     },
     "output_type": "display_data"
    }
   ],
   "source": [
    "df_temp = df.query('locality_name == \"Санкт-Петербург\"') #Делаем срез по городу\n",
    "df_temp['cityCenters_nearest_km'].unique() #Ищем цникальные значения \n",
    "km_list = sorted([16, 14,  8, 12, 11, 15, 13, 10,  2,  4, 17,  7,  5,\n",
    "        9,  3,  6, 18,  1, 24, 26, 22, 20, 25, 21, 27,\n",
    "       28, 19,  0, 23, 29])\n",
    "spb_km_price = []\n",
    "for km in km_list:\n",
    "    df_temp = df.query('cityCenters_nearest_km == @km')\n",
    "    spb_km_price.append(df_temp['m_price'].mean())\n",
    "\n",
    "frame = pd.DataFrame({'km_list' : km_list,'spb_km_price' : spb_km_price})\n",
    "frame.plot(x='km_list', y='spb_km_price')"
   ]
  },
  {
   "cell_type": "markdown",
   "metadata": {},
   "source": [
    "Зависимость выгглядит логично, чем ближе к центру тем дороже квм, скачек на 7 км слабо объясним, возможно там был построен новый ЖК который поломал всю статистику, может быть это связано с тем что (если верить гугл картам) окружная находится на таком растоянии от центра. Так или иначе, но общая тенденция чем ближе к центру тем дороже сохраняется до самого конца. "
   ]
  },
  {
   "cell_type": "markdown",
   "metadata": {},
   "source": [
    "### Общий вывод"
   ]
  },
  {
   "cell_type": "markdown",
   "metadata": {},
   "source": [
    "В ходе работы нами были подготовленны к исследованию предоставленные данные. Проведены исследование основных показателей. Изучена метрика скорости продаж и проверены факторы стоимости квм в Лен области, выявлена средняя стоимость квм в 10 самых популярных населенных пунктах области и проверена гипотеза зависимости стоимости квм от растояния до центра Санкт-Петербурга.\n",
    "\n",
    "Мы узнали, что наиболее частый представитель на рынке это одно и двухкомнатные квартиры площадью до 70 метров. Больше всего квартир в ценовой категории до 20 млн рублей. Самые популярные дома 5, 10 и 16 этажные. Среднее время продажи квартиры составляет 100 дней. Хуже всего продаются квартиры на первом и последних этажах. Самое большое влияние на стоимость жилплощади имеет общая площадь объекта. Выяснено что в среднем в Лен области самый дешевый квм в Всеволожске, а самый дорогой в Шушарах. Так же была подверждена гипотеза, что в Санкт-Петерберге стоимость квм обратно пропорциональна растоянию до центра города. \n",
    "\n",
    "Просим в следующий раз выслать метрику по уже проданным квартирам, чтобы подтвердить гипотезу про разницу в спросе и предложении между летне-зимний периодом и осенне-весеннем, а так же предоставить данные по арендам, для более полного анализа рынка недвижимости. \n"
   ]
  }
 ],
 "metadata": {
  "ExecuteTimeLog": [
   {
    "duration": 508,
    "start_time": "2023-02-16T21:55:12.816Z"
   },
   {
    "duration": 16,
    "start_time": "2023-02-16T21:55:27.665Z"
   },
   {
    "duration": 424,
    "start_time": "2023-02-16T21:56:43.769Z"
   },
   {
    "duration": 17,
    "start_time": "2023-02-16T21:57:11.146Z"
   },
   {
    "duration": 435,
    "start_time": "2023-02-16T21:59:15.058Z"
   },
   {
    "duration": 28,
    "start_time": "2023-02-16T21:59:19.997Z"
   },
   {
    "duration": 62,
    "start_time": "2023-02-16T22:00:33.275Z"
   },
   {
    "duration": 2487,
    "start_time": "2023-02-16T22:00:40.634Z"
   },
   {
    "duration": 73,
    "start_time": "2023-02-16T22:11:12.974Z"
   },
   {
    "duration": 17,
    "start_time": "2023-02-16T22:15:02.986Z"
   },
   {
    "duration": 8,
    "start_time": "2023-02-16T22:15:06.346Z"
   },
   {
    "duration": 16,
    "start_time": "2023-02-16T22:15:08.662Z"
   },
   {
    "duration": 46,
    "start_time": "2023-02-17T14:21:12.696Z"
   },
   {
    "duration": 764,
    "start_time": "2023-02-17T14:21:25.593Z"
   },
   {
    "duration": 27,
    "start_time": "2023-02-17T14:21:27.351Z"
   },
   {
    "duration": 2198,
    "start_time": "2023-02-17T14:21:30.066Z"
   },
   {
    "duration": 11,
    "start_time": "2023-02-17T14:21:36.345Z"
   },
   {
    "duration": 71,
    "start_time": "2023-02-17T14:23:05.296Z"
   },
   {
    "duration": 10,
    "start_time": "2023-02-17T14:23:18.169Z"
   },
   {
    "duration": 11,
    "start_time": "2023-02-17T14:27:46.953Z"
   },
   {
    "duration": 10,
    "start_time": "2023-02-17T14:28:39.575Z"
   },
   {
    "duration": 6,
    "start_time": "2023-02-17T14:28:52.900Z"
   },
   {
    "duration": 11,
    "start_time": "2023-02-17T14:29:00.358Z"
   },
   {
    "duration": 6,
    "start_time": "2023-02-17T14:29:18.084Z"
   },
   {
    "duration": 713,
    "start_time": "2023-02-17T14:35:43.373Z"
   },
   {
    "duration": 9,
    "start_time": "2023-02-17T14:36:50.688Z"
   },
   {
    "duration": 712,
    "start_time": "2023-02-17T14:36:59.623Z"
   },
   {
    "duration": 7,
    "start_time": "2023-02-17T14:37:09.967Z"
   },
   {
    "duration": 82,
    "start_time": "2023-02-17T14:38:44.688Z"
   },
   {
    "duration": 8,
    "start_time": "2023-02-17T14:39:53.247Z"
   },
   {
    "duration": 5,
    "start_time": "2023-02-17T14:40:07.348Z"
   },
   {
    "duration": 10,
    "start_time": "2023-02-17T14:40:30.844Z"
   },
   {
    "duration": 6,
    "start_time": "2023-02-17T14:40:33.635Z"
   },
   {
    "duration": 9,
    "start_time": "2023-02-17T14:40:41.500Z"
   },
   {
    "duration": 18,
    "start_time": "2023-02-17T14:42:24.115Z"
   },
   {
    "duration": 13,
    "start_time": "2023-02-17T14:44:45.671Z"
   },
   {
    "duration": 15,
    "start_time": "2023-02-17T14:45:46.180Z"
   },
   {
    "duration": 14,
    "start_time": "2023-02-17T14:46:12.119Z"
   },
   {
    "duration": 12,
    "start_time": "2023-02-17T14:48:15.071Z"
   },
   {
    "duration": 84,
    "start_time": "2023-02-17T14:48:38.806Z"
   },
   {
    "duration": 2810,
    "start_time": "2023-02-17T14:48:43.181Z"
   },
   {
    "duration": 28,
    "start_time": "2023-02-17T14:49:09.187Z"
   },
   {
    "duration": 2862,
    "start_time": "2023-02-17T14:49:21.125Z"
   },
   {
    "duration": 1250,
    "start_time": "2023-02-17T14:50:20.037Z"
   },
   {
    "duration": 1259,
    "start_time": "2023-02-17T14:51:10.692Z"
   },
   {
    "duration": 436,
    "start_time": "2023-02-17T14:51:32.032Z"
   },
   {
    "duration": 25,
    "start_time": "2023-02-17T14:51:33.100Z"
   },
   {
    "duration": 2004,
    "start_time": "2023-02-17T14:51:34.156Z"
   },
   {
    "duration": 12,
    "start_time": "2023-02-17T14:51:36.393Z"
   },
   {
    "duration": 11,
    "start_time": "2023-02-17T14:51:38.783Z"
   },
   {
    "duration": 29,
    "start_time": "2023-02-17T14:51:41.644Z"
   },
   {
    "duration": 11,
    "start_time": "2023-02-17T14:52:06.938Z"
   },
   {
    "duration": 11,
    "start_time": "2023-02-17T14:53:34.847Z"
   },
   {
    "duration": 6,
    "start_time": "2023-02-17T14:55:36.636Z"
   },
   {
    "duration": 6,
    "start_time": "2023-02-17T15:01:34.339Z"
   },
   {
    "duration": 23,
    "start_time": "2023-02-17T15:02:23.394Z"
   },
   {
    "duration": 6,
    "start_time": "2023-02-17T15:03:40.076Z"
   },
   {
    "duration": 27,
    "start_time": "2023-02-17T15:11:41.848Z"
   },
   {
    "duration": 483,
    "start_time": "2023-02-17T15:12:47.701Z"
   },
   {
    "duration": 25,
    "start_time": "2023-02-17T15:12:50.497Z"
   },
   {
    "duration": 2074,
    "start_time": "2023-02-17T15:12:51.578Z"
   },
   {
    "duration": 11,
    "start_time": "2023-02-17T15:12:53.654Z"
   },
   {
    "duration": 10,
    "start_time": "2023-02-17T15:12:56.309Z"
   },
   {
    "duration": 27,
    "start_time": "2023-02-17T15:12:59.637Z"
   },
   {
    "duration": 35,
    "start_time": "2023-02-17T15:13:09.658Z"
   },
   {
    "duration": 15,
    "start_time": "2023-02-17T15:13:57.042Z"
   },
   {
    "duration": 27,
    "start_time": "2023-02-17T15:15:08.740Z"
   },
   {
    "duration": 457,
    "start_time": "2023-02-17T15:15:42.934Z"
   },
   {
    "duration": 25,
    "start_time": "2023-02-17T15:15:43.754Z"
   },
   {
    "duration": 2230,
    "start_time": "2023-02-17T15:15:44.566Z"
   },
   {
    "duration": 9,
    "start_time": "2023-02-17T15:15:46.798Z"
   },
   {
    "duration": 11,
    "start_time": "2023-02-17T15:15:46.808Z"
   },
   {
    "duration": 30,
    "start_time": "2023-02-17T15:15:46.821Z"
   },
   {
    "duration": 12,
    "start_time": "2023-02-17T15:15:48.295Z"
   },
   {
    "duration": 26,
    "start_time": "2023-02-17T15:15:49.861Z"
   },
   {
    "duration": 12,
    "start_time": "2023-02-17T15:16:38.425Z"
   },
   {
    "duration": 16,
    "start_time": "2023-02-17T15:17:12.880Z"
   },
   {
    "duration": 461,
    "start_time": "2023-02-17T15:17:29.924Z"
   },
   {
    "duration": 26,
    "start_time": "2023-02-17T15:17:30.867Z"
   },
   {
    "duration": 2077,
    "start_time": "2023-02-17T15:17:31.591Z"
   },
   {
    "duration": 10,
    "start_time": "2023-02-17T15:17:33.670Z"
   },
   {
    "duration": 9,
    "start_time": "2023-02-17T15:17:36.198Z"
   },
   {
    "duration": 30,
    "start_time": "2023-02-17T15:17:38.326Z"
   },
   {
    "duration": 29,
    "start_time": "2023-02-17T15:17:42.732Z"
   },
   {
    "duration": 27,
    "start_time": "2023-02-17T15:39:47.053Z"
   },
   {
    "duration": 54,
    "start_time": "2023-02-17T15:40:58.542Z"
   },
   {
    "duration": 491,
    "start_time": "2023-02-17T15:41:04.774Z"
   },
   {
    "duration": 28,
    "start_time": "2023-02-17T15:41:06.261Z"
   },
   {
    "duration": 2064,
    "start_time": "2023-02-17T15:41:07.508Z"
   },
   {
    "duration": 13,
    "start_time": "2023-02-17T15:41:09.929Z"
   },
   {
    "duration": 11,
    "start_time": "2023-02-17T15:41:12.968Z"
   },
   {
    "duration": 29,
    "start_time": "2023-02-17T15:41:14.907Z"
   },
   {
    "duration": 36,
    "start_time": "2023-02-17T15:41:18.497Z"
   },
   {
    "duration": 452,
    "start_time": "2023-02-17T15:42:12.824Z"
   },
   {
    "duration": 27,
    "start_time": "2023-02-17T15:42:13.616Z"
   },
   {
    "duration": 2011,
    "start_time": "2023-02-17T15:42:14.013Z"
   },
   {
    "duration": 14,
    "start_time": "2023-02-17T15:42:16.026Z"
   },
   {
    "duration": 13,
    "start_time": "2023-02-17T15:42:16.654Z"
   },
   {
    "duration": 29,
    "start_time": "2023-02-17T15:42:18.036Z"
   },
   {
    "duration": 77,
    "start_time": "2023-02-17T15:42:24.213Z"
   },
   {
    "duration": 8,
    "start_time": "2023-02-17T15:42:52.416Z"
   },
   {
    "duration": 1351,
    "start_time": "2023-02-17T15:45:42.277Z"
   },
   {
    "duration": 1425,
    "start_time": "2023-02-17T15:48:15.105Z"
   },
   {
    "duration": 36,
    "start_time": "2023-02-17T15:48:39.936Z"
   },
   {
    "duration": 36,
    "start_time": "2023-02-17T15:50:09.605Z"
   },
   {
    "duration": 45,
    "start_time": "2023-02-17T16:43:02.290Z"
   },
   {
    "duration": 453,
    "start_time": "2023-02-17T16:44:18.720Z"
   },
   {
    "duration": 27,
    "start_time": "2023-02-17T16:44:19.916Z"
   },
   {
    "duration": 2008,
    "start_time": "2023-02-17T16:44:20.916Z"
   },
   {
    "duration": 13,
    "start_time": "2023-02-17T16:44:26.574Z"
   },
   {
    "duration": 10,
    "start_time": "2023-02-17T16:44:30.166Z"
   },
   {
    "duration": 28,
    "start_time": "2023-02-17T16:44:34.119Z"
   },
   {
    "duration": 31,
    "start_time": "2023-02-17T16:44:56.789Z"
   },
   {
    "duration": 17,
    "start_time": "2023-02-17T16:45:03.824Z"
   },
   {
    "duration": 27,
    "start_time": "2023-02-17T16:45:26.077Z"
   },
   {
    "duration": 44,
    "start_time": "2023-02-17T16:52:12.541Z"
   },
   {
    "duration": 9,
    "start_time": "2023-02-17T16:52:50.190Z"
   },
   {
    "duration": 88,
    "start_time": "2023-02-17T17:02:38.161Z"
   },
   {
    "duration": 18,
    "start_time": "2023-02-17T17:02:58.199Z"
   },
   {
    "duration": 14,
    "start_time": "2023-02-17T17:03:15.338Z"
   },
   {
    "duration": 10,
    "start_time": "2023-02-17T17:03:35.224Z"
   },
   {
    "duration": 41,
    "start_time": "2023-02-17T17:11:24.425Z"
   },
   {
    "duration": 44,
    "start_time": "2023-02-17T17:12:11.821Z"
   },
   {
    "duration": 47,
    "start_time": "2023-02-17T17:17:06.205Z"
   },
   {
    "duration": 43,
    "start_time": "2023-02-17T17:17:11.665Z"
   },
   {
    "duration": 42,
    "start_time": "2023-02-17T17:17:18.697Z"
   },
   {
    "duration": 39,
    "start_time": "2023-02-17T17:22:04.421Z"
   },
   {
    "duration": 15,
    "start_time": "2023-02-17T17:24:25.722Z"
   },
   {
    "duration": 12049,
    "start_time": "2023-02-17T17:24:46.725Z"
   },
   {
    "duration": 26,
    "start_time": "2023-02-17T17:26:31.695Z"
   },
   {
    "duration": 11956,
    "start_time": "2023-02-17T17:26:40.499Z"
   },
   {
    "duration": 433,
    "start_time": "2023-02-17T17:27:21.241Z"
   },
   {
    "duration": 29,
    "start_time": "2023-02-17T17:27:22.243Z"
   },
   {
    "duration": 2008,
    "start_time": "2023-02-17T17:27:23.124Z"
   },
   {
    "duration": 9,
    "start_time": "2023-02-17T17:27:25.134Z"
   },
   {
    "duration": 14,
    "start_time": "2023-02-17T17:27:25.144Z"
   },
   {
    "duration": 28,
    "start_time": "2023-02-17T17:27:25.737Z"
   },
   {
    "duration": 26,
    "start_time": "2023-02-17T17:27:26.939Z"
   },
   {
    "duration": 10,
    "start_time": "2023-02-17T17:27:28.393Z"
   },
   {
    "duration": 11,
    "start_time": "2023-02-17T17:27:39.542Z"
   },
   {
    "duration": 10,
    "start_time": "2023-02-17T17:27:46.181Z"
   },
   {
    "duration": 444,
    "start_time": "2023-02-17T17:28:32.515Z"
   },
   {
    "duration": 49,
    "start_time": "2023-02-17T17:32:49.071Z"
   },
   {
    "duration": 45,
    "start_time": "2023-02-17T17:32:54.410Z"
   },
   {
    "duration": 20,
    "start_time": "2023-02-17T17:33:06.998Z"
   },
   {
    "duration": 31,
    "start_time": "2023-02-17T17:33:19.450Z"
   },
   {
    "duration": 9,
    "start_time": "2023-02-17T17:41:06.396Z"
   },
   {
    "duration": 13355,
    "start_time": "2023-02-17T17:42:38.404Z"
   },
   {
    "duration": 46,
    "start_time": "2023-02-17T17:43:21.876Z"
   },
   {
    "duration": 483,
    "start_time": "2023-02-17T17:43:28.632Z"
   },
   {
    "duration": 27,
    "start_time": "2023-02-17T17:43:29.214Z"
   },
   {
    "duration": 2393,
    "start_time": "2023-02-17T17:43:29.563Z"
   },
   {
    "duration": 13,
    "start_time": "2023-02-17T17:43:31.958Z"
   },
   {
    "duration": 12,
    "start_time": "2023-02-17T17:43:31.973Z"
   },
   {
    "duration": 42,
    "start_time": "2023-02-17T17:43:31.988Z"
   },
   {
    "duration": 33,
    "start_time": "2023-02-17T17:43:32.032Z"
   },
   {
    "duration": 31,
    "start_time": "2023-02-17T17:43:32.069Z"
   },
   {
    "duration": 8,
    "start_time": "2023-02-17T17:43:32.376Z"
   },
   {
    "duration": 58,
    "start_time": "2023-02-17T17:43:32.653Z"
   },
   {
    "duration": 40268,
    "start_time": "2023-02-17T17:44:02.967Z"
   },
   {
    "duration": 34,
    "start_time": "2023-02-17T17:46:09.770Z"
   },
   {
    "duration": 51,
    "start_time": "2023-02-17T17:47:54.550Z"
   },
   {
    "duration": 16,
    "start_time": "2023-02-17T17:50:15.587Z"
   },
   {
    "duration": 16,
    "start_time": "2023-02-17T17:50:40.986Z"
   },
   {
    "duration": 16,
    "start_time": "2023-02-17T17:51:17.886Z"
   },
   {
    "duration": 15,
    "start_time": "2023-02-17T17:51:33.633Z"
   },
   {
    "duration": 31,
    "start_time": "2023-02-17T17:53:06.433Z"
   },
   {
    "duration": 30,
    "start_time": "2023-02-17T17:55:04.005Z"
   },
   {
    "duration": 47,
    "start_time": "2023-02-17T17:55:47.046Z"
   },
   {
    "duration": 99131,
    "start_time": "2023-02-17T18:04:30.836Z"
   },
   {
    "duration": 10,
    "start_time": "2023-02-17T18:09:57.043Z"
   },
   {
    "duration": 46,
    "start_time": "2023-02-17T18:10:06.394Z"
   },
   {
    "duration": 38155,
    "start_time": "2023-02-17T18:11:49.843Z"
   },
   {
    "duration": 69,
    "start_time": "2023-02-17T18:12:56.425Z"
   },
   {
    "duration": 4,
    "start_time": "2023-02-17T18:14:17.571Z"
   },
   {
    "duration": 4,
    "start_time": "2023-02-17T18:15:15.261Z"
   },
   {
    "duration": 5,
    "start_time": "2023-02-17T18:15:27.758Z"
   },
   {
    "duration": 11,
    "start_time": "2023-02-17T18:16:34.297Z"
   },
   {
    "duration": 764,
    "start_time": "2023-02-17T20:37:02.100Z"
   },
   {
    "duration": 29,
    "start_time": "2023-02-17T20:37:03.357Z"
   },
   {
    "duration": 2643,
    "start_time": "2023-02-17T20:37:04.288Z"
   },
   {
    "duration": 10,
    "start_time": "2023-02-17T20:37:06.933Z"
   },
   {
    "duration": 27,
    "start_time": "2023-02-17T20:37:06.945Z"
   },
   {
    "duration": 31,
    "start_time": "2023-02-17T20:37:12.059Z"
   },
   {
    "duration": 30,
    "start_time": "2023-02-17T20:37:13.058Z"
   },
   {
    "duration": 16,
    "start_time": "2023-02-17T20:37:21.566Z"
   },
   {
    "duration": 10,
    "start_time": "2023-02-17T20:41:18.633Z"
   },
   {
    "duration": 9,
    "start_time": "2023-02-17T20:41:22.727Z"
   },
   {
    "duration": 44536,
    "start_time": "2023-02-17T20:41:24.192Z"
   },
   {
    "duration": 32,
    "start_time": "2023-02-17T20:42:08.730Z"
   },
   {
    "duration": 9,
    "start_time": "2023-02-17T20:42:34.558Z"
   },
   {
    "duration": 46,
    "start_time": "2023-02-17T20:43:01.403Z"
   },
   {
    "duration": 109343,
    "start_time": "2023-02-17T20:43:29.545Z"
   },
   {
    "duration": 6,
    "start_time": "2023-02-17T20:45:18.891Z"
   },
   {
    "duration": 43488,
    "start_time": "2023-02-17T20:46:22.576Z"
   },
   {
    "duration": 6,
    "start_time": "2023-02-17T20:47:18.151Z"
   },
   {
    "duration": 14,
    "start_time": "2023-02-17T20:47:26.528Z"
   },
   {
    "duration": 88,
    "start_time": "2023-02-17T20:56:11.815Z"
   },
   {
    "duration": 6,
    "start_time": "2023-02-17T20:56:15.384Z"
   },
   {
    "duration": 5,
    "start_time": "2023-02-17T20:56:32.775Z"
   },
   {
    "duration": 6,
    "start_time": "2023-02-17T20:57:20.883Z"
   },
   {
    "duration": 6,
    "start_time": "2023-02-17T20:57:34.123Z"
   },
   {
    "duration": 7,
    "start_time": "2023-02-17T20:57:38.366Z"
   },
   {
    "duration": 8,
    "start_time": "2023-02-17T20:58:54.269Z"
   },
   {
    "duration": 24,
    "start_time": "2023-02-17T21:11:30.498Z"
   },
   {
    "duration": 7,
    "start_time": "2023-02-17T21:25:50.529Z"
   },
   {
    "duration": 409,
    "start_time": "2023-02-17T21:29:53.258Z"
   },
   {
    "duration": 29,
    "start_time": "2023-02-17T21:37:20.059Z"
   },
   {
    "duration": 21,
    "start_time": "2023-02-17T21:37:46.419Z"
   },
   {
    "duration": 564,
    "start_time": "2023-02-17T21:39:56.059Z"
   },
   {
    "duration": 29,
    "start_time": "2023-02-17T21:39:57.553Z"
   },
   {
    "duration": 2331,
    "start_time": "2023-02-17T21:39:58.372Z"
   },
   {
    "duration": 14,
    "start_time": "2023-02-17T21:40:04.246Z"
   },
   {
    "duration": 13,
    "start_time": "2023-02-17T21:40:06.084Z"
   },
   {
    "duration": 34,
    "start_time": "2023-02-17T21:40:07.122Z"
   },
   {
    "duration": 31,
    "start_time": "2023-02-17T21:40:07.832Z"
   },
   {
    "duration": 14,
    "start_time": "2023-02-17T21:40:09.550Z"
   },
   {
    "duration": 9,
    "start_time": "2023-02-17T21:40:10.548Z"
   },
   {
    "duration": 40348,
    "start_time": "2023-02-17T21:40:11.781Z"
   },
   {
    "duration": 28,
    "start_time": "2023-02-17T21:42:35.167Z"
   },
   {
    "duration": 42,
    "start_time": "2023-02-17T21:42:38.626Z"
   },
   {
    "duration": 94410,
    "start_time": "2023-02-17T21:42:39.960Z"
   },
   {
    "duration": 39646,
    "start_time": "2023-02-17T21:44:49.897Z"
   },
   {
    "duration": 5,
    "start_time": "2023-02-17T21:45:36.051Z"
   },
   {
    "duration": 7,
    "start_time": "2023-02-17T21:45:41.882Z"
   },
   {
    "duration": 12,
    "start_time": "2023-02-17T21:45:43.730Z"
   },
   {
    "duration": 7,
    "start_time": "2023-02-17T21:45:47.659Z"
   },
   {
    "duration": 85,
    "start_time": "2023-02-17T21:45:50.582Z"
   },
   {
    "duration": 27,
    "start_time": "2023-02-17T21:52:27.706Z"
   },
   {
    "duration": 510,
    "start_time": "2023-02-17T21:53:21.703Z"
   },
   {
    "duration": 505,
    "start_time": "2023-02-17T21:53:39.223Z"
   },
   {
    "duration": 1213,
    "start_time": "2023-02-17T21:54:08.894Z"
   },
   {
    "duration": 1122,
    "start_time": "2023-02-17T21:54:16.595Z"
   },
   {
    "duration": 1029,
    "start_time": "2023-02-17T21:54:30.951Z"
   },
   {
    "duration": 1247,
    "start_time": "2023-02-17T21:55:33.656Z"
   },
   {
    "duration": 1198,
    "start_time": "2023-02-17T21:55:37.751Z"
   },
   {
    "duration": 518,
    "start_time": "2023-02-17T21:55:47.188Z"
   },
   {
    "duration": 1236,
    "start_time": "2023-02-17T21:55:55.462Z"
   },
   {
    "duration": 505,
    "start_time": "2023-02-17T21:56:20.872Z"
   },
   {
    "duration": 1032,
    "start_time": "2023-02-17T21:57:07.203Z"
   },
   {
    "duration": 515,
    "start_time": "2023-02-17T21:57:17.554Z"
   },
   {
    "duration": 488,
    "start_time": "2023-02-17T22:01:31.776Z"
   },
   {
    "duration": 100,
    "start_time": "2023-02-17T22:02:02.762Z"
   },
   {
    "duration": 21,
    "start_time": "2023-02-17T22:02:57.619Z"
   },
   {
    "duration": 27,
    "start_time": "2023-02-17T22:03:43.845Z"
   },
   {
    "duration": 366,
    "start_time": "2023-02-17T22:40:10.222Z"
   },
   {
    "duration": 2303,
    "start_time": "2023-02-17T22:46:05.340Z"
   },
   {
    "duration": 19,
    "start_time": "2023-02-17T22:49:00.197Z"
   },
   {
    "duration": 18,
    "start_time": "2023-02-17T22:49:19.195Z"
   },
   {
    "duration": 2318,
    "start_time": "2023-02-17T22:51:34.696Z"
   },
   {
    "duration": 21,
    "start_time": "2023-02-17T22:53:36.216Z"
   },
   {
    "duration": 3,
    "start_time": "2023-02-17T22:57:58.717Z"
   },
   {
    "duration": 7,
    "start_time": "2023-02-17T23:07:19.819Z"
   },
   {
    "duration": 19,
    "start_time": "2023-02-17T23:41:34.822Z"
   },
   {
    "duration": 18,
    "start_time": "2023-02-17T23:42:00.668Z"
   },
   {
    "duration": 15,
    "start_time": "2023-02-17T23:49:01.466Z"
   },
   {
    "duration": 14,
    "start_time": "2023-02-17T23:49:30.597Z"
   },
   {
    "duration": 13,
    "start_time": "2023-02-17T23:49:44.294Z"
   },
   {
    "duration": 17,
    "start_time": "2023-02-17T23:50:06.421Z"
   },
   {
    "duration": 53,
    "start_time": "2023-02-17T23:54:39.933Z"
   },
   {
    "duration": 145,
    "start_time": "2023-02-17T23:55:22.795Z"
   },
   {
    "duration": 183,
    "start_time": "2023-02-17T23:59:09.672Z"
   },
   {
    "duration": 176,
    "start_time": "2023-02-17T23:59:20.530Z"
   },
   {
    "duration": 6,
    "start_time": "2023-02-18T00:02:26.227Z"
   },
   {
    "duration": 1114,
    "start_time": "2023-02-18T00:09:17.367Z"
   },
   {
    "duration": 846,
    "start_time": "2023-02-18T00:09:26.854Z"
   },
   {
    "duration": 853,
    "start_time": "2023-02-18T00:10:03.736Z"
   },
   {
    "duration": 114,
    "start_time": "2023-02-18T00:10:16.755Z"
   },
   {
    "duration": 48,
    "start_time": "2023-02-18T00:11:56.651Z"
   },
   {
    "duration": 5,
    "start_time": "2023-02-18T00:14:04.009Z"
   },
   {
    "duration": 5,
    "start_time": "2023-02-18T00:14:47.055Z"
   },
   {
    "duration": 10,
    "start_time": "2023-02-18T00:15:05.739Z"
   },
   {
    "duration": 9,
    "start_time": "2023-02-18T00:15:19.263Z"
   },
   {
    "duration": 7,
    "start_time": "2023-02-18T00:15:38.238Z"
   },
   {
    "duration": 12,
    "start_time": "2023-02-18T00:15:40.465Z"
   },
   {
    "duration": 15,
    "start_time": "2023-02-18T00:16:38.350Z"
   },
   {
    "duration": 6,
    "start_time": "2023-02-18T00:18:37.323Z"
   },
   {
    "duration": 9,
    "start_time": "2023-02-18T00:18:39.621Z"
   },
   {
    "duration": 89,
    "start_time": "2023-02-18T00:25:08.337Z"
   },
   {
    "duration": 17,
    "start_time": "2023-02-18T00:25:25.142Z"
   },
   {
    "duration": 9,
    "start_time": "2023-02-18T00:27:59.475Z"
   },
   {
    "duration": 10,
    "start_time": "2023-02-18T00:28:20.705Z"
   },
   {
    "duration": 10,
    "start_time": "2023-02-18T00:29:35.177Z"
   },
   {
    "duration": 13,
    "start_time": "2023-02-18T00:29:58.249Z"
   },
   {
    "duration": 6,
    "start_time": "2023-02-18T00:30:52.786Z"
   },
   {
    "duration": 41,
    "start_time": "2023-02-18T00:35:34.369Z"
   },
   {
    "duration": 46,
    "start_time": "2023-02-18T00:36:10.041Z"
   },
   {
    "duration": 11,
    "start_time": "2023-02-18T00:36:28.185Z"
   },
   {
    "duration": 11,
    "start_time": "2023-02-18T00:36:34.821Z"
   },
   {
    "duration": 33,
    "start_time": "2023-02-18T00:37:32.689Z"
   },
   {
    "duration": 21,
    "start_time": "2023-02-18T00:37:42.810Z"
   },
   {
    "duration": 18,
    "start_time": "2023-02-18T00:38:03.681Z"
   },
   {
    "duration": 18,
    "start_time": "2023-02-18T00:39:06.261Z"
   },
   {
    "duration": 10,
    "start_time": "2023-02-18T00:39:20.174Z"
   },
   {
    "duration": 12,
    "start_time": "2023-02-18T00:39:35.125Z"
   },
   {
    "duration": 15,
    "start_time": "2023-02-18T00:39:44.689Z"
   },
   {
    "duration": 8,
    "start_time": "2023-02-18T00:40:53.569Z"
   },
   {
    "duration": 55,
    "start_time": "2023-02-18T00:41:43.234Z"
   },
   {
    "duration": 10,
    "start_time": "2023-02-18T00:41:47.072Z"
   },
   {
    "duration": 11,
    "start_time": "2023-02-18T00:47:31.109Z"
   },
   {
    "duration": 43700,
    "start_time": "2023-02-18T00:54:44.769Z"
   },
   {
    "duration": 34845,
    "start_time": "2023-02-18T00:59:26.809Z"
   },
   {
    "duration": 801,
    "start_time": "2023-02-18T15:59:24.981Z"
   },
   {
    "duration": 28,
    "start_time": "2023-02-18T15:59:26.449Z"
   },
   {
    "duration": 2724,
    "start_time": "2023-02-18T15:59:27.188Z"
   },
   {
    "duration": 28,
    "start_time": "2023-02-18T15:59:29.914Z"
   },
   {
    "duration": 12,
    "start_time": "2023-02-18T15:59:29.944Z"
   },
   {
    "duration": 32,
    "start_time": "2023-02-18T15:59:29.959Z"
   },
   {
    "duration": 74,
    "start_time": "2023-02-18T15:59:29.993Z"
   },
   {
    "duration": 14,
    "start_time": "2023-02-18T15:59:31.590Z"
   },
   {
    "duration": 8,
    "start_time": "2023-02-18T15:59:32.167Z"
   },
   {
    "duration": 40770,
    "start_time": "2023-02-18T15:59:32.519Z"
   },
   {
    "duration": 31,
    "start_time": "2023-02-18T16:00:13.291Z"
   },
   {
    "duration": 29,
    "start_time": "2023-02-18T16:00:57.096Z"
   },
   {
    "duration": 45,
    "start_time": "2023-02-18T16:00:58.747Z"
   },
   {
    "duration": 97686,
    "start_time": "2023-02-18T16:00:59.691Z"
   },
   {
    "duration": 41352,
    "start_time": "2023-02-18T16:02:37.379Z"
   },
   {
    "duration": 5,
    "start_time": "2023-02-18T16:03:18.734Z"
   },
   {
    "duration": 8,
    "start_time": "2023-02-18T16:03:54.535Z"
   },
   {
    "duration": 16,
    "start_time": "2023-02-18T16:03:55.408Z"
   },
   {
    "duration": 8,
    "start_time": "2023-02-18T16:03:57.263Z"
   },
   {
    "duration": 10,
    "start_time": "2023-02-18T16:03:57.757Z"
   },
   {
    "duration": 15,
    "start_time": "2023-02-18T16:04:01.025Z"
   },
   {
    "duration": 11,
    "start_time": "2023-02-18T16:04:03.338Z"
   },
   {
    "duration": 201,
    "start_time": "2023-02-18T16:04:06.923Z"
   },
   {
    "duration": 4,
    "start_time": "2023-02-18T16:04:15.759Z"
   },
   {
    "duration": 12,
    "start_time": "2023-02-18T16:04:38.787Z"
   },
   {
    "duration": 16,
    "start_time": "2023-02-18T16:04:40.054Z"
   },
   {
    "duration": 13,
    "start_time": "2023-02-18T16:04:43.250Z"
   },
   {
    "duration": 11,
    "start_time": "2023-02-18T16:04:43.847Z"
   },
   {
    "duration": 9,
    "start_time": "2023-02-18T16:05:41.151Z"
   },
   {
    "duration": 22,
    "start_time": "2023-02-18T16:05:43.092Z"
   },
   {
    "duration": 15,
    "start_time": "2023-02-18T16:05:49.843Z"
   },
   {
    "duration": 10,
    "start_time": "2023-02-18T16:05:55.499Z"
   },
   {
    "duration": 12,
    "start_time": "2023-02-18T16:06:04.964Z"
   },
   {
    "duration": 27668,
    "start_time": "2023-02-18T16:06:23.943Z"
   },
   {
    "duration": 558,
    "start_time": "2023-02-18T16:09:02.764Z"
   },
   {
    "duration": 415,
    "start_time": "2023-02-18T16:12:57.511Z"
   },
   {
    "duration": 11,
    "start_time": "2023-02-18T16:13:17.252Z"
   },
   {
    "duration": 500,
    "start_time": "2023-02-18T16:13:24.141Z"
   },
   {
    "duration": 30,
    "start_time": "2023-02-18T16:13:42.291Z"
   },
   {
    "duration": 29,
    "start_time": "2023-02-18T16:15:05.048Z"
   },
   {
    "duration": 8,
    "start_time": "2023-02-18T16:15:23.660Z"
   },
   {
    "duration": 7,
    "start_time": "2023-02-18T16:15:33.863Z"
   },
   {
    "duration": 433,
    "start_time": "2023-02-18T16:16:23.961Z"
   },
   {
    "duration": 52,
    "start_time": "2023-02-18T16:16:56.793Z"
   },
   {
    "duration": 66,
    "start_time": "2023-02-18T16:17:40.081Z"
   },
   {
    "duration": 8,
    "start_time": "2023-02-18T16:18:01.184Z"
   },
   {
    "duration": 11,
    "start_time": "2023-02-18T16:23:51.623Z"
   },
   {
    "duration": 5,
    "start_time": "2023-02-18T16:24:03.999Z"
   },
   {
    "duration": 18,
    "start_time": "2023-02-18T16:24:22.839Z"
   },
   {
    "duration": 16,
    "start_time": "2023-02-18T16:25:09.011Z"
   },
   {
    "duration": 15,
    "start_time": "2023-02-18T16:25:31.529Z"
   },
   {
    "duration": 12,
    "start_time": "2023-02-18T16:26:03.347Z"
   },
   {
    "duration": 12,
    "start_time": "2023-02-18T16:26:17.599Z"
   },
   {
    "duration": 17,
    "start_time": "2023-02-18T16:26:24.885Z"
   },
   {
    "duration": 21,
    "start_time": "2023-02-18T16:26:43.331Z"
   },
   {
    "duration": 11,
    "start_time": "2023-02-18T16:27:31.392Z"
   },
   {
    "duration": 48,
    "start_time": "2023-02-18T16:31:13.796Z"
   },
   {
    "duration": 5,
    "start_time": "2023-02-18T16:37:08.963Z"
   },
   {
    "duration": 28,
    "start_time": "2023-02-18T16:39:47.823Z"
   },
   {
    "duration": 34,
    "start_time": "2023-02-18T16:40:15.903Z"
   },
   {
    "duration": 5,
    "start_time": "2023-02-18T16:42:46.979Z"
   },
   {
    "duration": 5,
    "start_time": "2023-02-18T16:42:53.983Z"
   },
   {
    "duration": 14,
    "start_time": "2023-02-18T16:43:42.392Z"
   },
   {
    "duration": 7,
    "start_time": "2023-02-18T16:43:47.461Z"
   },
   {
    "duration": 11,
    "start_time": "2023-02-18T16:44:02.140Z"
   },
   {
    "duration": 17,
    "start_time": "2023-02-18T16:44:11.601Z"
   },
   {
    "duration": 12,
    "start_time": "2023-02-18T16:48:48.441Z"
   },
   {
    "duration": 8,
    "start_time": "2023-02-18T16:49:08.590Z"
   },
   {
    "duration": 8,
    "start_time": "2023-02-18T16:49:14.011Z"
   },
   {
    "duration": 10,
    "start_time": "2023-02-18T16:51:06.324Z"
   },
   {
    "duration": 802,
    "start_time": "2023-02-18T16:52:10.119Z"
   },
   {
    "duration": 15,
    "start_time": "2023-02-18T16:52:30.252Z"
   },
   {
    "duration": 12,
    "start_time": "2023-02-18T16:53:25.885Z"
   },
   {
    "duration": 23,
    "start_time": "2023-02-18T16:54:41.292Z"
   },
   {
    "duration": 1252,
    "start_time": "2023-02-18T16:55:33.880Z"
   },
   {
    "duration": 1140,
    "start_time": "2023-02-18T16:56:12.478Z"
   },
   {
    "duration": 1209,
    "start_time": "2023-02-18T16:56:41.089Z"
   },
   {
    "duration": 1260,
    "start_time": "2023-02-18T16:57:22.707Z"
   },
   {
    "duration": 1380,
    "start_time": "2023-02-18T16:57:31.816Z"
   },
   {
    "duration": 1262,
    "start_time": "2023-02-18T16:57:46.912Z"
   },
   {
    "duration": 57,
    "start_time": "2023-02-18T16:58:35.030Z"
   },
   {
    "duration": 23,
    "start_time": "2023-02-18T16:59:11.514Z"
   },
   {
    "duration": 107,
    "start_time": "2023-02-18T17:00:16.458Z"
   },
   {
    "duration": 30,
    "start_time": "2023-02-18T17:08:23.442Z"
   },
   {
    "duration": 28,
    "start_time": "2023-02-18T17:08:44.014Z"
   },
   {
    "duration": 9737,
    "start_time": "2023-02-18T17:08:49.430Z"
   },
   {
    "duration": 15,
    "start_time": "2023-02-18T17:13:48.302Z"
   },
   {
    "duration": 14,
    "start_time": "2023-02-18T17:15:42.275Z"
   },
   {
    "duration": 13,
    "start_time": "2023-02-18T17:16:33.715Z"
   },
   {
    "duration": 82,
    "start_time": "2023-02-18T17:21:29.650Z"
   },
   {
    "duration": 23,
    "start_time": "2023-02-18T17:22:15.872Z"
   },
   {
    "duration": 27,
    "start_time": "2023-02-18T17:22:43.531Z"
   },
   {
    "duration": 58,
    "start_time": "2023-02-19T18:17:27.062Z"
   },
   {
    "duration": 594,
    "start_time": "2023-02-19T18:17:36.671Z"
   },
   {
    "duration": 27,
    "start_time": "2023-02-19T18:17:38.120Z"
   },
   {
    "duration": 2558,
    "start_time": "2023-02-19T18:17:38.770Z"
   },
   {
    "duration": 10,
    "start_time": "2023-02-19T18:17:41.330Z"
   },
   {
    "duration": 21,
    "start_time": "2023-02-19T18:17:41.341Z"
   },
   {
    "duration": 40,
    "start_time": "2023-02-19T18:17:41.364Z"
   },
   {
    "duration": 29,
    "start_time": "2023-02-19T18:17:41.406Z"
   },
   {
    "duration": 10,
    "start_time": "2023-02-19T18:17:41.437Z"
   },
   {
    "duration": 6,
    "start_time": "2023-02-19T18:17:41.636Z"
   },
   {
    "duration": 40651,
    "start_time": "2023-02-19T18:17:41.984Z"
   },
   {
    "duration": 25,
    "start_time": "2023-02-19T18:18:22.637Z"
   },
   {
    "duration": 51,
    "start_time": "2023-02-19T18:18:22.664Z"
   },
   {
    "duration": 99552,
    "start_time": "2023-02-19T18:18:22.717Z"
   },
   {
    "duration": 40259,
    "start_time": "2023-02-19T18:20:02.270Z"
   },
   {
    "duration": 5,
    "start_time": "2023-02-19T18:20:42.531Z"
   },
   {
    "duration": 16,
    "start_time": "2023-02-19T18:20:42.538Z"
   },
   {
    "duration": 21,
    "start_time": "2023-02-19T18:20:42.556Z"
   },
   {
    "duration": 20,
    "start_time": "2023-02-19T18:20:42.578Z"
   },
   {
    "duration": 39,
    "start_time": "2023-02-19T18:20:42.602Z"
   },
   {
    "duration": 60,
    "start_time": "2023-02-19T18:20:42.643Z"
   },
   {
    "duration": 21,
    "start_time": "2023-02-19T18:20:42.704Z"
   },
   {
    "duration": 272,
    "start_time": "2023-02-19T18:20:42.726Z"
   },
   {
    "duration": 58,
    "start_time": "2023-02-19T18:20:43.002Z"
   },
   {
    "duration": 5,
    "start_time": "2023-02-19T18:20:43.062Z"
   },
   {
    "duration": 22,
    "start_time": "2023-02-19T18:20:43.069Z"
   },
   {
    "duration": 31,
    "start_time": "2023-02-19T18:20:43.093Z"
   },
   {
    "duration": 13,
    "start_time": "2023-02-19T18:20:43.126Z"
   },
   {
    "duration": 15,
    "start_time": "2023-02-19T18:20:43.141Z"
   },
   {
    "duration": 14,
    "start_time": "2023-02-19T18:20:43.158Z"
   },
   {
    "duration": 28,
    "start_time": "2023-02-19T18:20:43.175Z"
   },
   {
    "duration": 19,
    "start_time": "2023-02-19T18:20:43.205Z"
   },
   {
    "duration": 13,
    "start_time": "2023-02-19T18:20:43.225Z"
   },
   {
    "duration": 18,
    "start_time": "2023-02-19T18:20:43.240Z"
   },
   {
    "duration": 26040,
    "start_time": "2023-02-19T18:20:43.260Z"
   },
   {
    "duration": 14,
    "start_time": "2023-02-19T18:21:09.302Z"
   },
   {
    "duration": 7,
    "start_time": "2023-02-19T18:21:09.318Z"
   },
   {
    "duration": 19,
    "start_time": "2023-02-19T18:21:09.328Z"
   },
   {
    "duration": 54,
    "start_time": "2023-02-19T18:21:09.349Z"
   },
   {
    "duration": 88,
    "start_time": "2023-02-19T18:22:15.022Z"
   },
   {
    "duration": 38,
    "start_time": "2023-02-19T18:22:19.257Z"
   },
   {
    "duration": 41,
    "start_time": "2023-02-19T18:28:11.814Z"
   },
   {
    "duration": 25,
    "start_time": "2023-02-19T18:33:56.611Z"
   },
   {
    "duration": 122,
    "start_time": "2023-02-19T18:37:20.803Z"
   },
   {
    "duration": 176,
    "start_time": "2023-02-19T18:38:10.657Z"
   },
   {
    "duration": 135,
    "start_time": "2023-02-19T18:38:15.294Z"
   },
   {
    "duration": 5,
    "start_time": "2023-02-19T18:40:41.998Z"
   },
   {
    "duration": 152,
    "start_time": "2023-02-19T18:40:48.750Z"
   },
   {
    "duration": 4,
    "start_time": "2023-02-19T18:41:03.500Z"
   },
   {
    "duration": 225,
    "start_time": "2023-02-19T18:41:07.130Z"
   },
   {
    "duration": 75,
    "start_time": "2023-02-19T18:52:04.853Z"
   },
   {
    "duration": 3,
    "start_time": "2023-02-19T18:52:08.588Z"
   },
   {
    "duration": 136,
    "start_time": "2023-02-19T18:52:10.266Z"
   },
   {
    "duration": 143,
    "start_time": "2023-02-19T18:53:19.622Z"
   },
   {
    "duration": 13,
    "start_time": "2023-02-19T18:55:46.796Z"
   },
   {
    "duration": 8,
    "start_time": "2023-02-19T19:01:31.426Z"
   },
   {
    "duration": 7,
    "start_time": "2023-02-19T19:02:19.938Z"
   },
   {
    "duration": 8,
    "start_time": "2023-02-19T19:03:25.225Z"
   },
   {
    "duration": 19,
    "start_time": "2023-02-19T19:08:10.425Z"
   },
   {
    "duration": 13,
    "start_time": "2023-02-19T19:08:29.080Z"
   },
   {
    "duration": 12,
    "start_time": "2023-02-19T19:09:00.833Z"
   },
   {
    "duration": 12,
    "start_time": "2023-02-19T19:09:18.989Z"
   },
   {
    "duration": 12,
    "start_time": "2023-02-19T19:09:26.839Z"
   },
   {
    "duration": 10,
    "start_time": "2023-02-19T19:09:57.157Z"
   },
   {
    "duration": 13,
    "start_time": "2023-02-19T19:10:42.405Z"
   },
   {
    "duration": 9,
    "start_time": "2023-02-19T19:11:05.806Z"
   },
   {
    "duration": 141,
    "start_time": "2023-02-19T19:11:13.077Z"
   },
   {
    "duration": 143,
    "start_time": "2023-02-19T19:11:16.921Z"
   },
   {
    "duration": 124,
    "start_time": "2023-02-19T19:11:28.501Z"
   },
   {
    "duration": 21,
    "start_time": "2023-02-19T19:11:57.441Z"
   },
   {
    "duration": 7,
    "start_time": "2023-02-19T19:12:13.993Z"
   },
   {
    "duration": 8,
    "start_time": "2023-02-19T19:12:17.384Z"
   },
   {
    "duration": 135,
    "start_time": "2023-02-19T19:12:28.316Z"
   },
   {
    "duration": 134,
    "start_time": "2023-02-19T19:12:39.413Z"
   },
   {
    "duration": 165,
    "start_time": "2023-02-19T19:12:50.253Z"
   },
   {
    "duration": 163,
    "start_time": "2023-02-19T19:18:21.997Z"
   },
   {
    "duration": 1126,
    "start_time": "2023-02-19T20:54:21.055Z"
   },
   {
    "duration": 33,
    "start_time": "2023-02-19T20:54:22.183Z"
   },
   {
    "duration": 2498,
    "start_time": "2023-02-19T20:54:22.218Z"
   },
   {
    "duration": 11,
    "start_time": "2023-02-19T20:54:24.719Z"
   },
   {
    "duration": 13,
    "start_time": "2023-02-19T20:54:24.731Z"
   },
   {
    "duration": 33,
    "start_time": "2023-02-19T20:54:24.745Z"
   },
   {
    "duration": 43,
    "start_time": "2023-02-19T20:54:24.780Z"
   },
   {
    "duration": 14,
    "start_time": "2023-02-19T20:54:24.825Z"
   },
   {
    "duration": 9,
    "start_time": "2023-02-19T20:54:24.881Z"
   },
   {
    "duration": 38176,
    "start_time": "2023-02-19T20:54:25.247Z"
   },
   {
    "duration": 27,
    "start_time": "2023-02-19T20:55:03.425Z"
   },
   {
    "duration": 67,
    "start_time": "2023-02-19T20:55:03.453Z"
   },
   {
    "duration": 104860,
    "start_time": "2023-02-19T20:55:03.521Z"
   },
   {
    "duration": 38198,
    "start_time": "2023-02-19T20:56:48.383Z"
   },
   {
    "duration": 6,
    "start_time": "2023-02-19T20:57:26.590Z"
   },
   {
    "duration": 59,
    "start_time": "2023-02-19T20:57:26.598Z"
   },
   {
    "duration": 18,
    "start_time": "2023-02-19T20:57:26.658Z"
   },
   {
    "duration": 45,
    "start_time": "2023-02-19T20:57:26.679Z"
   },
   {
    "duration": 14,
    "start_time": "2023-02-19T20:57:26.727Z"
   },
   {
    "duration": 41,
    "start_time": "2023-02-19T20:57:26.743Z"
   },
   {
    "duration": 14,
    "start_time": "2023-02-19T20:57:26.786Z"
   },
   {
    "duration": 263,
    "start_time": "2023-02-19T20:57:26.802Z"
   },
   {
    "duration": 74,
    "start_time": "2023-02-19T20:57:27.067Z"
   },
   {
    "duration": 6,
    "start_time": "2023-02-19T20:57:27.144Z"
   },
   {
    "duration": 17,
    "start_time": "2023-02-19T20:57:27.152Z"
   },
   {
    "duration": 29,
    "start_time": "2023-02-19T20:57:27.170Z"
   },
   {
    "duration": 10,
    "start_time": "2023-02-19T20:57:27.201Z"
   },
   {
    "duration": 12,
    "start_time": "2023-02-19T20:57:27.213Z"
   },
   {
    "duration": 8,
    "start_time": "2023-02-19T20:57:27.227Z"
   },
   {
    "duration": 24,
    "start_time": "2023-02-19T20:57:27.237Z"
   },
   {
    "duration": 46,
    "start_time": "2023-02-19T20:57:27.263Z"
   },
   {
    "duration": 13,
    "start_time": "2023-02-19T20:57:27.310Z"
   },
   {
    "duration": 15,
    "start_time": "2023-02-19T20:57:27.325Z"
   },
   {
    "duration": 27110,
    "start_time": "2023-02-19T20:57:27.343Z"
   },
   {
    "duration": 16,
    "start_time": "2023-02-19T20:57:54.455Z"
   },
   {
    "duration": 28,
    "start_time": "2023-02-19T20:57:54.473Z"
   },
   {
    "duration": 26,
    "start_time": "2023-02-19T20:57:54.508Z"
   },
   {
    "duration": 10,
    "start_time": "2023-02-19T20:57:54.536Z"
   },
   {
    "duration": 13,
    "start_time": "2023-02-19T20:57:54.548Z"
   },
   {
    "duration": 40,
    "start_time": "2023-02-19T20:57:54.563Z"
   },
   {
    "duration": 14,
    "start_time": "2023-02-19T20:57:54.612Z"
   },
   {
    "duration": 19,
    "start_time": "2023-02-19T20:57:54.628Z"
   },
   {
    "duration": 9,
    "start_time": "2023-02-19T20:57:54.649Z"
   },
   {
    "duration": 50,
    "start_time": "2023-02-19T20:57:54.661Z"
   },
   {
    "duration": 33,
    "start_time": "2023-02-19T20:57:54.712Z"
   },
   {
    "duration": 63,
    "start_time": "2023-02-19T20:57:54.747Z"
   },
   {
    "duration": 28,
    "start_time": "2023-02-19T20:57:54.812Z"
   },
   {
    "duration": 4,
    "start_time": "2023-02-19T20:57:54.841Z"
   },
   {
    "duration": 185,
    "start_time": "2023-02-19T20:57:54.846Z"
   },
   {
    "duration": 204,
    "start_time": "2023-02-19T20:57:55.034Z"
   },
   {
    "duration": 191,
    "start_time": "2023-02-19T20:57:55.240Z"
   },
   {
    "duration": 177,
    "start_time": "2023-02-19T20:57:55.433Z"
   },
   {
    "duration": 222,
    "start_time": "2023-02-19T21:07:58.071Z"
   },
   {
    "duration": 154,
    "start_time": "2023-02-19T21:08:31.930Z"
   },
   {
    "duration": 218,
    "start_time": "2023-02-19T21:08:53.950Z"
   },
   {
    "duration": 165,
    "start_time": "2023-02-19T21:09:06.030Z"
   },
   {
    "duration": 151,
    "start_time": "2023-02-19T21:09:30.635Z"
   },
   {
    "duration": 162,
    "start_time": "2023-02-19T21:10:03.240Z"
   },
   {
    "duration": 161,
    "start_time": "2023-02-19T21:10:15.378Z"
   },
   {
    "duration": 4,
    "start_time": "2023-02-19T21:11:40.059Z"
   },
   {
    "duration": 151,
    "start_time": "2023-02-19T21:14:23.031Z"
   },
   {
    "duration": 170,
    "start_time": "2023-02-19T21:21:54.740Z"
   },
   {
    "duration": 156,
    "start_time": "2023-02-19T21:25:18.138Z"
   },
   {
    "duration": 123,
    "start_time": "2023-02-19T21:32:32.823Z"
   },
   {
    "duration": 46,
    "start_time": "2023-02-19T21:37:20.652Z"
   },
   {
    "duration": 67,
    "start_time": "2023-02-19T21:37:34.087Z"
   },
   {
    "duration": 17,
    "start_time": "2023-02-19T21:38:20.886Z"
   },
   {
    "duration": 17,
    "start_time": "2023-02-19T21:38:31.874Z"
   },
   {
    "duration": 11,
    "start_time": "2023-02-19T21:40:57.316Z"
   },
   {
    "duration": 12,
    "start_time": "2023-02-19T21:41:07.566Z"
   },
   {
    "duration": 48,
    "start_time": "2023-02-19T21:41:32.771Z"
   },
   {
    "duration": 17,
    "start_time": "2023-02-19T21:41:35.058Z"
   },
   {
    "duration": 216,
    "start_time": "2023-02-19T21:43:16.845Z"
   },
   {
    "duration": 141,
    "start_time": "2023-02-19T21:48:11.598Z"
   },
   {
    "duration": 190,
    "start_time": "2023-02-19T21:51:26.302Z"
   },
   {
    "duration": 138,
    "start_time": "2023-02-19T21:56:21.674Z"
   },
   {
    "duration": 148,
    "start_time": "2023-02-19T22:02:53.235Z"
   },
   {
    "duration": 187,
    "start_time": "2023-02-19T22:02:56.490Z"
   },
   {
    "duration": 183,
    "start_time": "2023-02-19T22:12:38.925Z"
   },
   {
    "duration": 193,
    "start_time": "2023-02-19T22:14:09.064Z"
   },
   {
    "duration": 203,
    "start_time": "2023-02-19T22:14:36.071Z"
   },
   {
    "duration": 191,
    "start_time": "2023-02-19T22:17:34.799Z"
   },
   {
    "duration": 362,
    "start_time": "2023-02-19T22:18:01.431Z"
   },
   {
    "duration": 184,
    "start_time": "2023-02-19T22:23:22.113Z"
   },
   {
    "duration": 374,
    "start_time": "2023-02-19T22:23:31.069Z"
   },
   {
    "duration": 489,
    "start_time": "2023-02-19T22:23:46.319Z"
   },
   {
    "duration": 8,
    "start_time": "2023-02-19T23:22:31.519Z"
   },
   {
    "duration": 39,
    "start_time": "2023-02-19T23:23:24.807Z"
   },
   {
    "duration": 46,
    "start_time": "2023-02-19T23:28:48.940Z"
   },
   {
    "duration": 25,
    "start_time": "2023-02-19T23:28:55.749Z"
   },
   {
    "duration": 5308,
    "start_time": "2023-02-19T23:30:48.810Z"
   },
   {
    "duration": 44,
    "start_time": "2023-02-19T23:35:38.506Z"
   },
   {
    "duration": 3,
    "start_time": "2023-02-19T23:36:51.890Z"
   },
   {
    "duration": 3,
    "start_time": "2023-02-19T23:37:07.486Z"
   },
   {
    "duration": 135,
    "start_time": "2023-02-19T23:37:34.447Z"
   },
   {
    "duration": 4,
    "start_time": "2023-02-19T23:37:54.101Z"
   },
   {
    "duration": 138,
    "start_time": "2023-02-19T23:37:56.486Z"
   },
   {
    "duration": 160,
    "start_time": "2023-02-19T23:38:13.619Z"
   },
   {
    "duration": 3,
    "start_time": "2023-02-19T23:39:17.383Z"
   },
   {
    "duration": 914,
    "start_time": "2023-02-19T23:39:19.805Z"
   },
   {
    "duration": 3,
    "start_time": "2023-02-19T23:39:38.483Z"
   },
   {
    "duration": 149,
    "start_time": "2023-02-19T23:39:42.290Z"
   },
   {
    "duration": 156,
    "start_time": "2023-02-19T23:39:52.293Z"
   },
   {
    "duration": 165,
    "start_time": "2023-02-19T23:42:32.646Z"
   },
   {
    "duration": 174,
    "start_time": "2023-02-19T23:44:29.080Z"
   },
   {
    "duration": 156,
    "start_time": "2023-02-19T23:47:16.990Z"
   },
   {
    "duration": 329,
    "start_time": "2023-02-19T23:51:22.792Z"
   },
   {
    "duration": 139,
    "start_time": "2023-02-19T23:52:22.680Z"
   },
   {
    "duration": 385,
    "start_time": "2023-02-19T23:58:55.147Z"
   },
   {
    "duration": 161,
    "start_time": "2023-02-19T23:58:57.655Z"
   },
   {
    "duration": 162,
    "start_time": "2023-02-19T23:59:03.055Z"
   },
   {
    "duration": 162,
    "start_time": "2023-02-20T00:00:39.867Z"
   },
   {
    "duration": 169,
    "start_time": "2023-02-20T00:00:48.267Z"
   },
   {
    "duration": 9,
    "start_time": "2023-02-20T00:16:15.304Z"
   },
   {
    "duration": 5,
    "start_time": "2023-02-20T00:18:55.268Z"
   },
   {
    "duration": 7,
    "start_time": "2023-02-20T00:19:08.088Z"
   },
   {
    "duration": 7,
    "start_time": "2023-02-20T00:21:31.804Z"
   },
   {
    "duration": 7,
    "start_time": "2023-02-20T00:21:40.852Z"
   },
   {
    "duration": 14,
    "start_time": "2023-02-20T00:30:53.072Z"
   },
   {
    "duration": 11,
    "start_time": "2023-02-20T00:33:55.414Z"
   },
   {
    "duration": 43,
    "start_time": "2023-02-20T00:37:58.016Z"
   },
   {
    "duration": 30,
    "start_time": "2023-02-20T00:38:03.336Z"
   },
   {
    "duration": 38,
    "start_time": "2023-02-20T00:38:32.855Z"
   },
   {
    "duration": 30,
    "start_time": "2023-02-20T00:38:45.961Z"
   },
   {
    "duration": 48,
    "start_time": "2023-02-20T00:38:51.318Z"
   },
   {
    "duration": 32,
    "start_time": "2023-02-20T00:38:57.052Z"
   },
   {
    "duration": 40,
    "start_time": "2023-02-20T00:42:53.728Z"
   },
   {
    "duration": 32,
    "start_time": "2023-02-20T00:43:22.772Z"
   },
   {
    "duration": 35,
    "start_time": "2023-02-20T00:43:36.615Z"
   },
   {
    "duration": 37,
    "start_time": "2023-02-20T00:43:56.441Z"
   },
   {
    "duration": 35,
    "start_time": "2023-02-20T00:44:06.524Z"
   },
   {
    "duration": 36,
    "start_time": "2023-02-20T00:44:17.440Z"
   },
   {
    "duration": 45,
    "start_time": "2023-02-20T00:44:25.985Z"
   },
   {
    "duration": 36,
    "start_time": "2023-02-20T00:44:44.391Z"
   },
   {
    "duration": 41,
    "start_time": "2023-02-20T00:44:50.191Z"
   },
   {
    "duration": 9,
    "start_time": "2023-02-20T00:49:14.313Z"
   },
   {
    "duration": 8,
    "start_time": "2023-02-20T00:51:06.204Z"
   },
   {
    "duration": 11,
    "start_time": "2023-02-20T00:55:26.535Z"
   },
   {
    "duration": 73,
    "start_time": "2023-02-20T00:57:59.751Z"
   },
   {
    "duration": 78,
    "start_time": "2023-02-20T00:58:09.051Z"
   },
   {
    "duration": 262,
    "start_time": "2023-02-20T00:58:23.316Z"
   },
   {
    "duration": 76,
    "start_time": "2023-02-20T00:58:41.031Z"
   },
   {
    "duration": 184,
    "start_time": "2023-02-20T00:59:28.645Z"
   },
   {
    "duration": 188,
    "start_time": "2023-02-20T00:59:35.528Z"
   },
   {
    "duration": 523,
    "start_time": "2023-02-20T15:05:33.840Z"
   },
   {
    "duration": 28,
    "start_time": "2023-02-20T15:05:34.365Z"
   },
   {
    "duration": 2290,
    "start_time": "2023-02-20T15:05:34.394Z"
   },
   {
    "duration": 10,
    "start_time": "2023-02-20T15:05:36.686Z"
   },
   {
    "duration": 14,
    "start_time": "2023-02-20T15:05:36.697Z"
   },
   {
    "duration": 29,
    "start_time": "2023-02-20T15:05:36.713Z"
   },
   {
    "duration": 28,
    "start_time": "2023-02-20T15:05:36.744Z"
   },
   {
    "duration": 10,
    "start_time": "2023-02-20T15:05:36.774Z"
   },
   {
    "duration": 10,
    "start_time": "2023-02-20T15:05:36.786Z"
   },
   {
    "duration": 39349,
    "start_time": "2023-02-20T15:05:36.800Z"
   },
   {
    "duration": 27,
    "start_time": "2023-02-20T15:06:16.151Z"
   },
   {
    "duration": 58,
    "start_time": "2023-02-20T15:06:16.180Z"
   },
   {
    "duration": 104113,
    "start_time": "2023-02-20T15:06:16.240Z"
   },
   {
    "duration": 40373,
    "start_time": "2023-02-20T15:08:00.355Z"
   },
   {
    "duration": 8,
    "start_time": "2023-02-20T15:08:40.730Z"
   },
   {
    "duration": 8,
    "start_time": "2023-02-20T15:08:40.740Z"
   },
   {
    "duration": 14,
    "start_time": "2023-02-20T15:08:40.749Z"
   },
   {
    "duration": 7,
    "start_time": "2023-02-20T15:08:40.765Z"
   },
   {
    "duration": 14,
    "start_time": "2023-02-20T15:08:40.773Z"
   },
   {
    "duration": 24,
    "start_time": "2023-02-20T15:08:40.788Z"
   },
   {
    "duration": 25,
    "start_time": "2023-02-20T15:08:40.814Z"
   },
   {
    "duration": 204,
    "start_time": "2023-02-20T15:08:40.841Z"
   },
   {
    "duration": 69,
    "start_time": "2023-02-20T15:08:41.047Z"
   },
   {
    "duration": 21,
    "start_time": "2023-02-20T15:08:41.118Z"
   },
   {
    "duration": 16,
    "start_time": "2023-02-20T15:08:41.141Z"
   },
   {
    "duration": 16,
    "start_time": "2023-02-20T15:08:41.160Z"
   },
   {
    "duration": 9,
    "start_time": "2023-02-20T15:08:41.177Z"
   },
   {
    "duration": 11,
    "start_time": "2023-02-20T15:08:41.191Z"
   },
   {
    "duration": 35,
    "start_time": "2023-02-20T15:08:41.204Z"
   },
   {
    "duration": 23,
    "start_time": "2023-02-20T15:08:41.241Z"
   },
   {
    "duration": 16,
    "start_time": "2023-02-20T15:08:41.266Z"
   },
   {
    "duration": 7,
    "start_time": "2023-02-20T15:08:41.283Z"
   },
   {
    "duration": 23,
    "start_time": "2023-02-20T15:08:41.292Z"
   },
   {
    "duration": 27625,
    "start_time": "2023-02-20T15:08:41.317Z"
   },
   {
    "duration": 20,
    "start_time": "2023-02-20T15:09:08.945Z"
   },
   {
    "duration": 21,
    "start_time": "2023-02-20T15:09:08.968Z"
   },
   {
    "duration": 39,
    "start_time": "2023-02-20T15:09:08.991Z"
   },
   {
    "duration": 13,
    "start_time": "2023-02-20T15:09:09.032Z"
   },
   {
    "duration": 30,
    "start_time": "2023-02-20T15:09:09.047Z"
   },
   {
    "duration": 8,
    "start_time": "2023-02-20T15:09:09.079Z"
   },
   {
    "duration": 41,
    "start_time": "2023-02-20T15:09:09.088Z"
   },
   {
    "duration": 37,
    "start_time": "2023-02-20T15:09:09.130Z"
   },
   {
    "duration": 30,
    "start_time": "2023-02-20T15:09:09.170Z"
   },
   {
    "duration": 60,
    "start_time": "2023-02-20T15:09:09.202Z"
   },
   {
    "duration": 35,
    "start_time": "2023-02-20T15:09:09.263Z"
   },
   {
    "duration": 55,
    "start_time": "2023-02-20T15:09:09.301Z"
   },
   {
    "duration": 28,
    "start_time": "2023-02-20T15:09:09.358Z"
   },
   {
    "duration": 21,
    "start_time": "2023-02-20T15:09:09.388Z"
   },
   {
    "duration": 195,
    "start_time": "2023-02-20T15:09:09.411Z"
   },
   {
    "duration": 175,
    "start_time": "2023-02-20T15:09:09.608Z"
   },
   {
    "duration": 199,
    "start_time": "2023-02-20T15:09:09.785Z"
   },
   {
    "duration": 193,
    "start_time": "2023-02-20T15:09:09.986Z"
   },
   {
    "duration": 7,
    "start_time": "2023-02-20T15:09:10.181Z"
   },
   {
    "duration": 226,
    "start_time": "2023-02-20T15:09:10.190Z"
   },
   {
    "duration": 308,
    "start_time": "2023-02-20T15:09:10.418Z"
   },
   {
    "duration": 196,
    "start_time": "2023-02-20T15:09:10.728Z"
   },
   {
    "duration": 153,
    "start_time": "2023-02-20T15:09:10.925Z"
   },
   {
    "duration": 21,
    "start_time": "2023-02-20T15:09:11.080Z"
   },
   {
    "duration": 199,
    "start_time": "2023-02-20T15:09:11.103Z"
   },
   {
    "duration": 190,
    "start_time": "2023-02-20T15:09:11.304Z"
   },
   {
    "duration": 176,
    "start_time": "2023-02-20T15:09:11.496Z"
   },
   {
    "duration": 188,
    "start_time": "2023-02-20T15:09:11.674Z"
   },
   {
    "duration": 167,
    "start_time": "2023-02-20T15:09:11.864Z"
   },
   {
    "duration": 174,
    "start_time": "2023-02-20T15:09:12.038Z"
   },
   {
    "duration": 485,
    "start_time": "2023-02-20T15:09:12.214Z"
   },
   {
    "duration": 6,
    "start_time": "2023-02-20T15:09:12.701Z"
   },
   {
    "duration": 37,
    "start_time": "2023-02-20T15:09:12.709Z"
   },
   {
    "duration": 346,
    "start_time": "2023-02-20T15:09:12.748Z"
   },
   {
    "duration": 216,
    "start_time": "2023-02-20T15:09:13.095Z"
   },
   {
    "duration": 206,
    "start_time": "2023-02-20T15:09:13.313Z"
   },
   {
    "duration": 190,
    "start_time": "2023-02-20T15:09:13.521Z"
   },
   {
    "duration": 180,
    "start_time": "2023-02-20T15:09:13.713Z"
   },
   {
    "duration": 220,
    "start_time": "2023-02-20T15:09:13.895Z"
   },
   {
    "duration": 221,
    "start_time": "2023-02-20T15:09:14.117Z"
   },
   {
    "duration": 200,
    "start_time": "2023-02-20T15:09:14.340Z"
   },
   {
    "duration": 49,
    "start_time": "2023-02-20T15:09:14.542Z"
   },
   {
    "duration": 252,
    "start_time": "2023-02-20T15:09:14.593Z"
   },
   {
    "duration": 69,
    "start_time": "2023-02-20T15:21:56.367Z"
   },
   {
    "duration": 7,
    "start_time": "2023-02-20T15:23:20.382Z"
   },
   {
    "duration": 15,
    "start_time": "2023-02-20T15:23:43.263Z"
   },
   {
    "duration": 4,
    "start_time": "2023-02-20T15:30:10.427Z"
   },
   {
    "duration": 81,
    "start_time": "2023-02-20T15:38:18.859Z"
   },
   {
    "duration": 12,
    "start_time": "2023-02-20T15:38:25.912Z"
   },
   {
    "duration": 49,
    "start_time": "2023-02-20T16:16:45.164Z"
   },
   {
    "duration": 699,
    "start_time": "2023-02-20T16:18:05.602Z"
   },
   {
    "duration": 30,
    "start_time": "2023-02-20T16:18:07.050Z"
   },
   {
    "duration": 2684,
    "start_time": "2023-02-20T16:18:09.788Z"
   },
   {
    "duration": 13,
    "start_time": "2023-02-20T16:18:12.475Z"
   },
   {
    "duration": 16,
    "start_time": "2023-02-20T16:18:13.117Z"
   },
   {
    "duration": 37,
    "start_time": "2023-02-20T16:18:14.455Z"
   },
   {
    "duration": 40,
    "start_time": "2023-02-20T16:18:16.560Z"
   },
   {
    "duration": 6,
    "start_time": "2023-02-20T16:18:22.013Z"
   },
   {
    "duration": 11,
    "start_time": "2023-02-20T16:19:47.662Z"
   },
   {
    "duration": 7,
    "start_time": "2023-02-20T16:21:21.693Z"
   },
   {
    "duration": 10,
    "start_time": "2023-02-20T16:21:25.480Z"
   },
   {
    "duration": 8,
    "start_time": "2023-02-20T16:22:34.157Z"
   },
   {
    "duration": 11,
    "start_time": "2023-02-20T16:22:57.720Z"
   },
   {
    "duration": 9,
    "start_time": "2023-02-20T16:23:13.179Z"
   },
   {
    "duration": 37,
    "start_time": "2023-02-20T16:24:21.370Z"
   },
   {
    "duration": 13,
    "start_time": "2023-02-20T16:24:33.367Z"
   },
   {
    "duration": 7,
    "start_time": "2023-02-20T16:24:35.999Z"
   },
   {
    "duration": 5,
    "start_time": "2023-02-20T16:25:50.961Z"
   },
   {
    "duration": 8,
    "start_time": "2023-02-20T16:26:07.960Z"
   },
   {
    "duration": 9,
    "start_time": "2023-02-20T16:26:27.116Z"
   },
   {
    "duration": 17,
    "start_time": "2023-02-20T16:26:39.426Z"
   },
   {
    "duration": 6,
    "start_time": "2023-02-20T16:26:44.261Z"
   },
   {
    "duration": 205,
    "start_time": "2023-02-20T16:26:53.609Z"
   },
   {
    "duration": 67,
    "start_time": "2023-02-20T16:27:06.658Z"
   },
   {
    "duration": 11,
    "start_time": "2023-02-20T16:27:31.695Z"
   },
   {
    "duration": 13,
    "start_time": "2023-02-20T16:28:26.535Z"
   },
   {
    "duration": 7,
    "start_time": "2023-02-20T16:28:53.611Z"
   },
   {
    "duration": 57,
    "start_time": "2023-02-20T17:27:29.272Z"
   },
   {
    "duration": 1149,
    "start_time": "2023-02-20T17:28:29.061Z"
   },
   {
    "duration": 52,
    "start_time": "2023-02-20T17:28:39.000Z"
   },
   {
    "duration": 31,
    "start_time": "2023-02-20T17:29:06.896Z"
   },
   {
    "duration": 42,
    "start_time": "2023-02-20T17:29:41.316Z"
   },
   {
    "duration": 13,
    "start_time": "2023-02-20T17:35:36.971Z"
   },
   {
    "duration": 13,
    "start_time": "2023-02-20T17:36:10.921Z"
   },
   {
    "duration": 14,
    "start_time": "2023-02-20T17:36:27.601Z"
   },
   {
    "duration": 13,
    "start_time": "2023-02-20T17:36:47.753Z"
   },
   {
    "duration": 18,
    "start_time": "2023-02-20T17:38:47.352Z"
   },
   {
    "duration": 14,
    "start_time": "2023-02-20T17:40:46.596Z"
   },
   {
    "duration": 92,
    "start_time": "2023-02-20T17:41:11.492Z"
   },
   {
    "duration": 19,
    "start_time": "2023-02-20T17:41:20.688Z"
   },
   {
    "duration": 23,
    "start_time": "2023-02-20T17:42:03.985Z"
   },
   {
    "duration": 26,
    "start_time": "2023-02-20T17:44:22.467Z"
   },
   {
    "duration": 23,
    "start_time": "2023-02-20T17:48:06.976Z"
   },
   {
    "duration": 12,
    "start_time": "2023-02-20T17:57:00.119Z"
   },
   {
    "duration": 11,
    "start_time": "2023-02-20T17:58:15.517Z"
   },
   {
    "duration": 245,
    "start_time": "2023-02-20T17:59:05.617Z"
   },
   {
    "duration": 214,
    "start_time": "2023-02-20T17:59:28.096Z"
   },
   {
    "duration": 8,
    "start_time": "2023-02-20T17:59:42.824Z"
   },
   {
    "duration": 9,
    "start_time": "2023-02-20T17:59:53.050Z"
   },
   {
    "duration": 362,
    "start_time": "2023-02-20T18:01:19.551Z"
   },
   {
    "duration": 13,
    "start_time": "2023-02-20T18:01:57.284Z"
   },
   {
    "duration": 267,
    "start_time": "2023-02-20T18:02:39.072Z"
   },
   {
    "duration": 162,
    "start_time": "2023-02-20T18:06:22.745Z"
   },
   {
    "duration": 276,
    "start_time": "2023-02-20T18:07:03.613Z"
   },
   {
    "duration": 195,
    "start_time": "2023-02-20T18:07:25.925Z"
   },
   {
    "duration": 10,
    "start_time": "2023-02-20T18:07:55.175Z"
   },
   {
    "duration": 5,
    "start_time": "2023-02-20T18:08:37.597Z"
   },
   {
    "duration": 145,
    "start_time": "2023-02-20T18:09:00.957Z"
   },
   {
    "duration": 200,
    "start_time": "2023-02-20T18:09:13.372Z"
   },
   {
    "duration": 1021,
    "start_time": "2023-02-20T18:10:06.581Z"
   },
   {
    "duration": 136,
    "start_time": "2023-02-20T18:10:20.902Z"
   },
   {
    "duration": 789,
    "start_time": "2023-02-20T18:12:18.927Z"
   },
   {
    "duration": 41,
    "start_time": "2023-02-20T18:12:50.338Z"
   },
   {
    "duration": 19,
    "start_time": "2023-02-20T18:13:02.267Z"
   },
   {
    "duration": 161,
    "start_time": "2023-02-20T18:18:02.907Z"
   },
   {
    "duration": 3,
    "start_time": "2023-02-20T18:18:03.069Z"
   },
   {
    "duration": 106,
    "start_time": "2023-02-20T18:18:17.656Z"
   },
   {
    "duration": 14,
    "start_time": "2023-02-20T18:19:29.232Z"
   },
   {
    "duration": 39,
    "start_time": "2023-02-20T18:20:19.732Z"
   },
   {
    "duration": 132,
    "start_time": "2023-02-20T18:20:34.901Z"
   },
   {
    "duration": 187,
    "start_time": "2023-02-20T18:21:07.482Z"
   },
   {
    "duration": 203,
    "start_time": "2023-02-20T18:21:33.667Z"
   },
   {
    "duration": 153,
    "start_time": "2023-02-20T18:22:10.289Z"
   },
   {
    "duration": 167,
    "start_time": "2023-02-20T18:23:03.325Z"
   },
   {
    "duration": 137,
    "start_time": "2023-02-20T18:45:11.073Z"
   },
   {
    "duration": 185,
    "start_time": "2023-02-20T18:45:13.977Z"
   },
   {
    "duration": 177,
    "start_time": "2023-02-20T18:46:11.218Z"
   },
   {
    "duration": 154,
    "start_time": "2023-02-20T19:00:24.012Z"
   },
   {
    "duration": 686,
    "start_time": "2023-02-20T19:00:49.472Z"
   },
   {
    "duration": 32,
    "start_time": "2023-02-20T19:00:51.784Z"
   },
   {
    "duration": 2370,
    "start_time": "2023-02-20T19:00:53.142Z"
   },
   {
    "duration": 10,
    "start_time": "2023-02-20T19:00:55.515Z"
   },
   {
    "duration": 10,
    "start_time": "2023-02-20T19:00:55.526Z"
   },
   {
    "duration": 36,
    "start_time": "2023-02-20T19:00:55.538Z"
   },
   {
    "duration": 29,
    "start_time": "2023-02-20T19:00:55.575Z"
   },
   {
    "duration": 4,
    "start_time": "2023-02-20T19:00:56.175Z"
   },
   {
    "duration": 9,
    "start_time": "2023-02-20T19:00:57.053Z"
   },
   {
    "duration": 2,
    "start_time": "2023-02-20T19:00:58.217Z"
   },
   {
    "duration": 7,
    "start_time": "2023-02-20T19:00:58.467Z"
   },
   {
    "duration": 31,
    "start_time": "2023-02-20T19:00:58.827Z"
   },
   {
    "duration": 41,
    "start_time": "2023-02-20T19:00:59.279Z"
   },
   {
    "duration": 13,
    "start_time": "2023-02-20T19:00:59.616Z"
   },
   {
    "duration": 11,
    "start_time": "2023-02-20T19:00:59.941Z"
   },
   {
    "duration": 6,
    "start_time": "2023-02-20T19:01:00.460Z"
   },
   {
    "duration": 6,
    "start_time": "2023-02-20T19:01:00.781Z"
   },
   {
    "duration": 7,
    "start_time": "2023-02-20T19:01:01.133Z"
   },
   {
    "duration": 8,
    "start_time": "2023-02-20T19:01:01.477Z"
   },
   {
    "duration": 10,
    "start_time": "2023-02-20T19:01:01.784Z"
   },
   {
    "duration": 17,
    "start_time": "2023-02-20T19:01:05.812Z"
   },
   {
    "duration": 23,
    "start_time": "2023-02-20T19:01:07.043Z"
   },
   {
    "duration": 252,
    "start_time": "2023-02-20T19:01:07.234Z"
   },
   {
    "duration": 46,
    "start_time": "2023-02-20T19:01:07.488Z"
   },
   {
    "duration": 8,
    "start_time": "2023-02-20T19:01:07.613Z"
   },
   {
    "duration": 5,
    "start_time": "2023-02-20T19:01:09.173Z"
   },
   {
    "duration": 19,
    "start_time": "2023-02-20T19:01:10.154Z"
   },
   {
    "duration": 104,
    "start_time": "2023-02-20T19:01:10.570Z"
   },
   {
    "duration": 11,
    "start_time": "2023-02-20T19:01:10.760Z"
   },
   {
    "duration": 11,
    "start_time": "2023-02-20T19:01:10.929Z"
   },
   {
    "duration": 9,
    "start_time": "2023-02-20T19:01:11.095Z"
   },
   {
    "duration": 22,
    "start_time": "2023-02-20T19:01:11.261Z"
   },
   {
    "duration": 16,
    "start_time": "2023-02-20T19:01:11.427Z"
   },
   {
    "duration": 12,
    "start_time": "2023-02-20T19:01:11.584Z"
   },
   {
    "duration": 11,
    "start_time": "2023-02-20T19:01:11.761Z"
   },
   {
    "duration": 28345,
    "start_time": "2023-02-20T19:01:11.918Z"
   },
   {
    "duration": 10,
    "start_time": "2023-02-20T19:01:40.265Z"
   },
   {
    "duration": 0,
    "start_time": "2023-02-20T19:01:40.277Z"
   },
   {
    "duration": 0,
    "start_time": "2023-02-20T19:01:40.278Z"
   },
   {
    "duration": 0,
    "start_time": "2023-02-20T19:01:40.279Z"
   },
   {
    "duration": 0,
    "start_time": "2023-02-20T19:01:40.281Z"
   },
   {
    "duration": 0,
    "start_time": "2023-02-20T19:01:40.282Z"
   },
   {
    "duration": 0,
    "start_time": "2023-02-20T19:01:40.282Z"
   },
   {
    "duration": 0,
    "start_time": "2023-02-20T19:01:40.284Z"
   },
   {
    "duration": 0,
    "start_time": "2023-02-20T19:01:40.285Z"
   },
   {
    "duration": 4,
    "start_time": "2023-02-20T19:02:46.633Z"
   },
   {
    "duration": 19,
    "start_time": "2023-02-20T19:02:52.644Z"
   },
   {
    "duration": 4,
    "start_time": "2023-02-20T19:03:15.721Z"
   },
   {
    "duration": 24,
    "start_time": "2023-02-20T19:03:41.116Z"
   },
   {
    "duration": 29,
    "start_time": "2023-02-20T19:04:11.980Z"
   },
   {
    "duration": 30,
    "start_time": "2023-02-20T19:04:32.720Z"
   },
   {
    "duration": 41,
    "start_time": "2023-02-20T19:04:43.445Z"
   },
   {
    "duration": 19,
    "start_time": "2023-02-20T19:04:48.396Z"
   },
   {
    "duration": 10,
    "start_time": "2023-02-20T19:04:54.026Z"
   },
   {
    "duration": 28202,
    "start_time": "2023-02-20T19:04:54.599Z"
   },
   {
    "duration": 17,
    "start_time": "2023-02-20T19:05:22.803Z"
   },
   {
    "duration": 43,
    "start_time": "2023-02-20T19:05:22.822Z"
   },
   {
    "duration": 11,
    "start_time": "2023-02-20T19:05:32.428Z"
   },
   {
    "duration": 26,
    "start_time": "2023-02-20T19:05:36.073Z"
   },
   {
    "duration": 23,
    "start_time": "2023-02-20T19:05:42.099Z"
   },
   {
    "duration": 10,
    "start_time": "2023-02-20T19:05:43.997Z"
   },
   {
    "duration": 35,
    "start_time": "2023-02-20T19:05:50.792Z"
   },
   {
    "duration": 26,
    "start_time": "2023-02-20T19:05:57.441Z"
   },
   {
    "duration": 19,
    "start_time": "2023-02-20T19:06:57.697Z"
   },
   {
    "duration": 30,
    "start_time": "2023-02-20T19:07:01.580Z"
   },
   {
    "duration": 39,
    "start_time": "2023-02-20T19:07:03.236Z"
   },
   {
    "duration": 38,
    "start_time": "2023-02-20T19:07:06.333Z"
   },
   {
    "duration": 31,
    "start_time": "2023-02-20T19:07:10.184Z"
   },
   {
    "duration": 4,
    "start_time": "2023-02-20T19:07:16.469Z"
   },
   {
    "duration": 166,
    "start_time": "2023-02-20T19:07:17.260Z"
   },
   {
    "duration": 170,
    "start_time": "2023-02-20T19:07:20.436Z"
   },
   {
    "duration": 179,
    "start_time": "2023-02-20T19:07:22.394Z"
   },
   {
    "duration": 164,
    "start_time": "2023-02-20T19:07:24.261Z"
   },
   {
    "duration": 6,
    "start_time": "2023-02-20T19:07:25.588Z"
   },
   {
    "duration": 154,
    "start_time": "2023-02-20T19:07:29.479Z"
   },
   {
    "duration": 256,
    "start_time": "2023-02-20T19:07:34.743Z"
   },
   {
    "duration": 155,
    "start_time": "2023-02-20T19:07:38.079Z"
   },
   {
    "duration": 150,
    "start_time": "2023-02-20T19:07:46.136Z"
   },
   {
    "duration": 24,
    "start_time": "2023-02-20T19:07:51.843Z"
   },
   {
    "duration": 154,
    "start_time": "2023-02-20T19:07:55.036Z"
   },
   {
    "duration": 171,
    "start_time": "2023-02-20T19:07:57.424Z"
   },
   {
    "duration": 149,
    "start_time": "2023-02-20T19:07:59.776Z"
   },
   {
    "duration": 183,
    "start_time": "2023-02-20T19:08:02.023Z"
   },
   {
    "duration": 178,
    "start_time": "2023-02-20T19:08:04.215Z"
   },
   {
    "duration": 190,
    "start_time": "2023-02-20T19:08:14.948Z"
   },
   {
    "duration": 437,
    "start_time": "2023-02-20T19:08:18.240Z"
   },
   {
    "duration": 3,
    "start_time": "2023-02-20T19:08:21.572Z"
   },
   {
    "duration": 2,
    "start_time": "2023-02-20T19:08:23.032Z"
   },
   {
    "duration": 311,
    "start_time": "2023-02-20T19:08:23.369Z"
   },
   {
    "duration": 188,
    "start_time": "2023-02-20T19:08:25.184Z"
   },
   {
    "duration": 196,
    "start_time": "2023-02-20T19:08:26.661Z"
   },
   {
    "duration": 175,
    "start_time": "2023-02-20T19:08:30.116Z"
   },
   {
    "duration": 117,
    "start_time": "2023-02-20T19:08:33.719Z"
   },
   {
    "duration": 144,
    "start_time": "2023-02-20T19:08:35.320Z"
   },
   {
    "duration": 175,
    "start_time": "2023-02-20T19:08:36.863Z"
   },
   {
    "duration": 129,
    "start_time": "2023-02-20T19:08:38.592Z"
   },
   {
    "duration": 57,
    "start_time": "2023-02-20T19:08:50.743Z"
   },
   {
    "duration": 222,
    "start_time": "2023-02-20T19:09:02.881Z"
   },
   {
    "duration": 114,
    "start_time": "2023-02-20T19:09:46.769Z"
   },
   {
    "duration": 128,
    "start_time": "2023-02-20T19:09:57.335Z"
   },
   {
    "duration": 601,
    "start_time": "2023-02-20T19:12:30.020Z"
   },
   {
    "duration": 46,
    "start_time": "2023-02-20T19:12:30.624Z"
   },
   {
    "duration": 2428,
    "start_time": "2023-02-20T19:12:30.672Z"
   },
   {
    "duration": 12,
    "start_time": "2023-02-20T19:12:33.103Z"
   },
   {
    "duration": 12,
    "start_time": "2023-02-20T19:12:33.116Z"
   },
   {
    "duration": 39,
    "start_time": "2023-02-20T19:12:33.130Z"
   },
   {
    "duration": 33,
    "start_time": "2023-02-20T19:12:33.171Z"
   },
   {
    "duration": 4,
    "start_time": "2023-02-20T19:12:33.206Z"
   },
   {
    "duration": 7,
    "start_time": "2023-02-20T19:12:33.212Z"
   },
   {
    "duration": 26,
    "start_time": "2023-02-20T19:12:33.222Z"
   },
   {
    "duration": 10,
    "start_time": "2023-02-20T19:12:33.254Z"
   },
   {
    "duration": 28,
    "start_time": "2023-02-20T19:12:33.266Z"
   },
   {
    "duration": 63,
    "start_time": "2023-02-20T19:12:33.296Z"
   },
   {
    "duration": 16,
    "start_time": "2023-02-20T19:12:33.361Z"
   },
   {
    "duration": 8,
    "start_time": "2023-02-20T19:12:33.379Z"
   },
   {
    "duration": 20,
    "start_time": "2023-02-20T19:12:33.389Z"
   },
   {
    "duration": 5,
    "start_time": "2023-02-20T19:12:33.411Z"
   },
   {
    "duration": 7,
    "start_time": "2023-02-20T19:12:33.418Z"
   },
   {
    "duration": 29,
    "start_time": "2023-02-20T19:12:33.427Z"
   },
   {
    "duration": 13,
    "start_time": "2023-02-20T19:12:33.458Z"
   },
   {
    "duration": 32,
    "start_time": "2023-02-20T19:12:33.473Z"
   },
   {
    "duration": 14,
    "start_time": "2023-02-20T19:12:33.506Z"
   },
   {
    "duration": 235,
    "start_time": "2023-02-20T19:12:33.522Z"
   },
   {
    "duration": 49,
    "start_time": "2023-02-20T19:12:33.762Z"
   },
   {
    "duration": 8,
    "start_time": "2023-02-20T19:12:33.812Z"
   },
   {
    "duration": 10,
    "start_time": "2023-02-20T19:12:33.821Z"
   },
   {
    "duration": 22,
    "start_time": "2023-02-20T19:12:33.832Z"
   },
   {
    "duration": 29,
    "start_time": "2023-02-20T19:12:33.863Z"
   },
   {
    "duration": 21,
    "start_time": "2023-02-20T19:12:33.894Z"
   },
   {
    "duration": 33,
    "start_time": "2023-02-20T19:12:33.917Z"
   },
   {
    "duration": 13,
    "start_time": "2023-02-20T19:12:33.952Z"
   },
   {
    "duration": 21,
    "start_time": "2023-02-20T19:12:33.966Z"
   },
   {
    "duration": 24,
    "start_time": "2023-02-20T19:12:33.988Z"
   },
   {
    "duration": 54,
    "start_time": "2023-02-20T19:12:34.013Z"
   },
   {
    "duration": 11,
    "start_time": "2023-02-20T19:12:34.069Z"
   },
   {
    "duration": 27773,
    "start_time": "2023-02-20T19:12:34.082Z"
   },
   {
    "duration": 18,
    "start_time": "2023-02-20T19:13:01.860Z"
   },
   {
    "duration": 42,
    "start_time": "2023-02-20T19:13:01.880Z"
   },
   {
    "duration": 10,
    "start_time": "2023-02-20T19:13:01.924Z"
   },
   {
    "duration": 86,
    "start_time": "2023-02-20T19:13:01.936Z"
   },
   {
    "duration": 20,
    "start_time": "2023-02-20T19:13:02.024Z"
   },
   {
    "duration": 26,
    "start_time": "2023-02-20T19:13:02.053Z"
   },
   {
    "duration": 34,
    "start_time": "2023-02-20T19:13:02.082Z"
   },
   {
    "duration": 20,
    "start_time": "2023-02-20T19:13:02.117Z"
   },
   {
    "duration": 34,
    "start_time": "2023-02-20T19:13:02.139Z"
   },
   {
    "duration": 36,
    "start_time": "2023-02-20T19:13:02.175Z"
   },
   {
    "duration": 53,
    "start_time": "2023-02-20T19:13:02.213Z"
   },
   {
    "duration": 27,
    "start_time": "2023-02-20T19:13:02.268Z"
   },
   {
    "duration": 3,
    "start_time": "2023-02-20T19:13:02.297Z"
   },
   {
    "duration": 187,
    "start_time": "2023-02-20T19:13:02.301Z"
   },
   {
    "duration": 182,
    "start_time": "2023-02-20T19:13:02.490Z"
   },
   {
    "duration": 206,
    "start_time": "2023-02-20T19:13:02.674Z"
   },
   {
    "duration": 202,
    "start_time": "2023-02-20T19:13:02.882Z"
   },
   {
    "duration": 6,
    "start_time": "2023-02-20T19:13:03.085Z"
   },
   {
    "duration": 186,
    "start_time": "2023-02-20T19:13:03.093Z"
   },
   {
    "duration": 269,
    "start_time": "2023-02-20T19:13:03.280Z"
   },
   {
    "duration": 166,
    "start_time": "2023-02-20T19:13:03.551Z"
   },
   {
    "duration": 171,
    "start_time": "2023-02-20T19:13:03.719Z"
   },
   {
    "duration": 26,
    "start_time": "2023-02-20T19:13:03.893Z"
   },
   {
    "duration": 180,
    "start_time": "2023-02-20T19:13:03.921Z"
   },
   {
    "duration": 186,
    "start_time": "2023-02-20T19:13:04.103Z"
   },
   {
    "duration": 180,
    "start_time": "2023-02-20T19:13:04.291Z"
   },
   {
    "duration": 176,
    "start_time": "2023-02-20T19:13:04.472Z"
   },
   {
    "duration": 205,
    "start_time": "2023-02-20T19:13:04.658Z"
   },
   {
    "duration": 183,
    "start_time": "2023-02-20T19:13:04.865Z"
   },
   {
    "duration": 530,
    "start_time": "2023-02-20T19:13:05.051Z"
   },
   {
    "duration": 3,
    "start_time": "2023-02-20T19:13:05.583Z"
   },
   {
    "duration": 7,
    "start_time": "2023-02-20T19:13:05.588Z"
   },
   {
    "duration": 320,
    "start_time": "2023-02-20T19:13:05.597Z"
   },
   {
    "duration": 194,
    "start_time": "2023-02-20T19:13:05.919Z"
   },
   {
    "duration": 200,
    "start_time": "2023-02-20T19:13:06.115Z"
   },
   {
    "duration": 156,
    "start_time": "2023-02-20T19:13:06.317Z"
   },
   {
    "duration": 129,
    "start_time": "2023-02-20T19:13:06.475Z"
   },
   {
    "duration": 155,
    "start_time": "2023-02-20T19:13:06.606Z"
   },
   {
    "duration": 168,
    "start_time": "2023-02-20T19:13:06.763Z"
   },
   {
    "duration": 151,
    "start_time": "2023-02-20T19:13:06.933Z"
   },
   {
    "duration": 47,
    "start_time": "2023-02-20T19:13:07.085Z"
   },
   {
    "duration": 267,
    "start_time": "2023-02-20T19:13:07.133Z"
   },
   {
    "duration": 3,
    "start_time": "2023-02-20T19:13:07.402Z"
   },
   {
    "duration": 6,
    "start_time": "2023-02-20T19:13:42.129Z"
   },
   {
    "duration": 569,
    "start_time": "2023-02-20T19:25:26.343Z"
   },
   {
    "duration": 28,
    "start_time": "2023-02-20T19:25:26.914Z"
   },
   {
    "duration": 2279,
    "start_time": "2023-02-20T19:25:26.945Z"
   },
   {
    "duration": 12,
    "start_time": "2023-02-20T19:25:29.226Z"
   },
   {
    "duration": 18,
    "start_time": "2023-02-20T19:25:29.240Z"
   },
   {
    "duration": 40,
    "start_time": "2023-02-20T19:25:29.260Z"
   },
   {
    "duration": 32,
    "start_time": "2023-02-20T19:25:29.301Z"
   },
   {
    "duration": 14,
    "start_time": "2023-02-20T19:25:29.335Z"
   },
   {
    "duration": 10,
    "start_time": "2023-02-20T19:25:29.351Z"
   },
   {
    "duration": 4,
    "start_time": "2023-02-20T19:25:29.364Z"
   },
   {
    "duration": 12,
    "start_time": "2023-02-20T19:25:29.369Z"
   },
   {
    "duration": 67,
    "start_time": "2023-02-20T19:25:29.383Z"
   },
   {
    "duration": 44,
    "start_time": "2023-02-20T19:25:29.452Z"
   },
   {
    "duration": 12,
    "start_time": "2023-02-20T19:25:29.498Z"
   },
   {
    "duration": 33,
    "start_time": "2023-02-20T19:25:29.512Z"
   },
   {
    "duration": 4,
    "start_time": "2023-02-20T19:25:29.547Z"
   },
   {
    "duration": 7,
    "start_time": "2023-02-20T19:25:29.553Z"
   },
   {
    "duration": 6,
    "start_time": "2023-02-20T19:25:29.561Z"
   },
   {
    "duration": 11,
    "start_time": "2023-02-20T19:25:29.568Z"
   },
   {
    "duration": 9,
    "start_time": "2023-02-20T19:25:29.580Z"
   },
   {
    "duration": 17,
    "start_time": "2023-02-20T19:25:29.591Z"
   },
   {
    "duration": 43,
    "start_time": "2023-02-20T19:25:29.610Z"
   },
   {
    "duration": 216,
    "start_time": "2023-02-20T19:25:29.655Z"
   },
   {
    "duration": 50,
    "start_time": "2023-02-20T19:25:29.873Z"
   },
   {
    "duration": 22,
    "start_time": "2023-02-20T19:25:29.925Z"
   },
   {
    "duration": 5,
    "start_time": "2023-02-20T19:25:29.949Z"
   },
   {
    "duration": 13,
    "start_time": "2023-02-20T19:25:29.956Z"
   },
   {
    "duration": 26,
    "start_time": "2023-02-20T19:25:29.974Z"
   },
   {
    "duration": 52,
    "start_time": "2023-02-20T19:25:30.001Z"
   },
   {
    "duration": 11,
    "start_time": "2023-02-20T19:25:30.055Z"
   },
   {
    "duration": 15,
    "start_time": "2023-02-20T19:25:30.068Z"
   },
   {
    "duration": 27,
    "start_time": "2023-02-20T19:25:30.085Z"
   },
   {
    "duration": 43,
    "start_time": "2023-02-20T19:25:30.113Z"
   },
   {
    "duration": 20,
    "start_time": "2023-02-20T19:25:30.158Z"
   },
   {
    "duration": 11,
    "start_time": "2023-02-20T19:25:30.180Z"
   },
   {
    "duration": 28915,
    "start_time": "2023-02-20T19:25:30.193Z"
   },
   {
    "duration": 16,
    "start_time": "2023-02-20T19:25:59.109Z"
   },
   {
    "duration": 43,
    "start_time": "2023-02-20T19:25:59.127Z"
   },
   {
    "duration": 10,
    "start_time": "2023-02-20T19:25:59.172Z"
   },
   {
    "duration": 25,
    "start_time": "2023-02-20T19:25:59.183Z"
   },
   {
    "duration": 42,
    "start_time": "2023-02-20T19:25:59.209Z"
   },
   {
    "duration": 14,
    "start_time": "2023-02-20T19:25:59.254Z"
   },
   {
    "duration": 23,
    "start_time": "2023-02-20T19:25:59.269Z"
   },
   {
    "duration": 16,
    "start_time": "2023-02-20T19:25:59.293Z"
   },
   {
    "duration": 64,
    "start_time": "2023-02-20T19:25:59.311Z"
   },
   {
    "duration": 34,
    "start_time": "2023-02-20T19:25:59.377Z"
   },
   {
    "duration": 62,
    "start_time": "2023-02-20T19:25:59.413Z"
   },
   {
    "duration": 33,
    "start_time": "2023-02-20T19:25:59.476Z"
   },
   {
    "duration": 4,
    "start_time": "2023-02-20T19:25:59.511Z"
   },
   {
    "duration": 193,
    "start_time": "2023-02-20T19:25:59.516Z"
   },
   {
    "duration": 182,
    "start_time": "2023-02-20T19:25:59.710Z"
   },
   {
    "duration": 207,
    "start_time": "2023-02-20T19:25:59.893Z"
   },
   {
    "duration": 195,
    "start_time": "2023-02-20T19:26:00.102Z"
   },
   {
    "duration": 5,
    "start_time": "2023-02-20T19:26:00.299Z"
   },
   {
    "duration": 264,
    "start_time": "2023-02-20T19:26:00.306Z"
   },
   {
    "duration": 262,
    "start_time": "2023-02-20T19:26:00.572Z"
   },
   {
    "duration": 181,
    "start_time": "2023-02-20T19:26:00.836Z"
   },
   {
    "duration": 190,
    "start_time": "2023-02-20T19:26:01.019Z"
   },
   {
    "duration": 21,
    "start_time": "2023-02-20T19:26:01.211Z"
   },
   {
    "duration": 178,
    "start_time": "2023-02-20T19:26:01.245Z"
   },
   {
    "duration": 208,
    "start_time": "2023-02-20T19:26:01.425Z"
   },
   {
    "duration": 176,
    "start_time": "2023-02-20T19:26:01.635Z"
   },
   {
    "duration": 198,
    "start_time": "2023-02-20T19:26:01.813Z"
   },
   {
    "duration": 187,
    "start_time": "2023-02-20T19:26:02.013Z"
   },
   {
    "duration": 194,
    "start_time": "2023-02-20T19:26:02.202Z"
   },
   {
    "duration": 451,
    "start_time": "2023-02-20T19:26:02.398Z"
   },
   {
    "duration": 6,
    "start_time": "2023-02-20T19:26:02.852Z"
   },
   {
    "duration": 7,
    "start_time": "2023-02-20T19:26:02.861Z"
   },
   {
    "duration": 358,
    "start_time": "2023-02-20T19:26:02.870Z"
   },
   {
    "duration": 202,
    "start_time": "2023-02-20T19:26:03.230Z"
   },
   {
    "duration": 238,
    "start_time": "2023-02-20T19:26:03.434Z"
   },
   {
    "duration": 153,
    "start_time": "2023-02-20T19:26:03.674Z"
   },
   {
    "duration": 133,
    "start_time": "2023-02-20T19:26:03.829Z"
   },
   {
    "duration": 152,
    "start_time": "2023-02-20T19:26:03.964Z"
   },
   {
    "duration": 182,
    "start_time": "2023-02-20T19:26:04.118Z"
   },
   {
    "duration": 188,
    "start_time": "2023-02-20T19:26:04.302Z"
   },
   {
    "duration": 53,
    "start_time": "2023-02-20T19:26:04.492Z"
   },
   {
    "duration": 239,
    "start_time": "2023-02-20T19:26:04.548Z"
   },
   {
    "duration": 735,
    "start_time": "2023-02-21T03:54:40.738Z"
   },
   {
    "duration": 26,
    "start_time": "2023-02-21T03:54:41.475Z"
   },
   {
    "duration": 2422,
    "start_time": "2023-02-21T03:54:41.503Z"
   },
   {
    "duration": 10,
    "start_time": "2023-02-21T03:54:43.928Z"
   },
   {
    "duration": 10,
    "start_time": "2023-02-21T03:54:43.940Z"
   },
   {
    "duration": 31,
    "start_time": "2023-02-21T03:54:43.952Z"
   },
   {
    "duration": 34,
    "start_time": "2023-02-21T03:54:43.984Z"
   },
   {
    "duration": 7,
    "start_time": "2023-02-21T03:54:44.020Z"
   },
   {
    "duration": 9,
    "start_time": "2023-02-21T03:54:44.028Z"
   },
   {
    "duration": 9,
    "start_time": "2023-02-21T03:54:44.039Z"
   },
   {
    "duration": 18,
    "start_time": "2023-02-21T03:54:44.050Z"
   },
   {
    "duration": 45,
    "start_time": "2023-02-21T03:54:44.070Z"
   },
   {
    "duration": 41,
    "start_time": "2023-02-21T03:54:44.117Z"
   },
   {
    "duration": 33,
    "start_time": "2023-02-21T03:54:44.160Z"
   },
   {
    "duration": 9,
    "start_time": "2023-02-21T03:54:44.194Z"
   },
   {
    "duration": 5,
    "start_time": "2023-02-21T03:54:44.205Z"
   },
   {
    "duration": 6,
    "start_time": "2023-02-21T03:54:44.212Z"
   },
   {
    "duration": 5,
    "start_time": "2023-02-21T03:54:44.219Z"
   },
   {
    "duration": 8,
    "start_time": "2023-02-21T03:54:44.226Z"
   },
   {
    "duration": 9,
    "start_time": "2023-02-21T03:54:44.236Z"
   },
   {
    "duration": 54,
    "start_time": "2023-02-21T03:54:44.248Z"
   },
   {
    "duration": 11,
    "start_time": "2023-02-21T03:54:44.304Z"
   },
   {
    "duration": 214,
    "start_time": "2023-02-21T03:54:44.317Z"
   },
   {
    "duration": 46,
    "start_time": "2023-02-21T03:54:44.533Z"
   },
   {
    "duration": 8,
    "start_time": "2023-02-21T03:54:44.592Z"
   },
   {
    "duration": 6,
    "start_time": "2023-02-21T03:54:44.601Z"
   },
   {
    "duration": 14,
    "start_time": "2023-02-21T03:54:44.608Z"
   },
   {
    "duration": 25,
    "start_time": "2023-02-21T03:54:44.628Z"
   },
   {
    "duration": 53,
    "start_time": "2023-02-21T03:54:44.655Z"
   },
   {
    "duration": 10,
    "start_time": "2023-02-21T03:54:44.710Z"
   },
   {
    "duration": 10,
    "start_time": "2023-02-21T03:54:44.722Z"
   },
   {
    "duration": 21,
    "start_time": "2023-02-21T03:54:44.734Z"
   },
   {
    "duration": 53,
    "start_time": "2023-02-21T03:54:44.756Z"
   },
   {
    "duration": 18,
    "start_time": "2023-02-21T03:54:44.811Z"
   },
   {
    "duration": 10,
    "start_time": "2023-02-21T03:54:44.831Z"
   },
   {
    "duration": 26291,
    "start_time": "2023-02-21T03:54:44.843Z"
   },
   {
    "duration": 17,
    "start_time": "2023-02-21T03:55:11.136Z"
   },
   {
    "duration": 38,
    "start_time": "2023-02-21T03:55:11.154Z"
   },
   {
    "duration": 17,
    "start_time": "2023-02-21T03:55:11.194Z"
   },
   {
    "duration": 35,
    "start_time": "2023-02-21T03:55:11.213Z"
   },
   {
    "duration": 21,
    "start_time": "2023-02-21T03:55:11.250Z"
   },
   {
    "duration": 23,
    "start_time": "2023-02-21T03:55:11.273Z"
   },
   {
    "duration": 25,
    "start_time": "2023-02-21T03:55:11.301Z"
   },
   {
    "duration": 15,
    "start_time": "2023-02-21T03:55:11.328Z"
   },
   {
    "duration": 24,
    "start_time": "2023-02-21T03:55:11.344Z"
   },
   {
    "duration": 54,
    "start_time": "2023-02-21T03:55:11.369Z"
   },
   {
    "duration": 24,
    "start_time": "2023-02-21T03:55:11.425Z"
   },
   {
    "duration": 52,
    "start_time": "2023-02-21T03:55:11.451Z"
   },
   {
    "duration": 3,
    "start_time": "2023-02-21T03:55:11.505Z"
   },
   {
    "duration": 216,
    "start_time": "2023-02-21T03:55:11.510Z"
   },
   {
    "duration": 147,
    "start_time": "2023-02-21T03:55:11.728Z"
   },
   {
    "duration": 186,
    "start_time": "2023-02-21T03:55:11.877Z"
   },
   {
    "duration": 171,
    "start_time": "2023-02-21T03:55:12.065Z"
   },
   {
    "duration": 5,
    "start_time": "2023-02-21T03:55:12.238Z"
   },
   {
    "duration": 241,
    "start_time": "2023-02-21T03:55:12.244Z"
   },
   {
    "duration": 171,
    "start_time": "2023-02-21T03:55:12.487Z"
   },
   {
    "duration": 164,
    "start_time": "2023-02-21T03:55:12.660Z"
   },
   {
    "duration": 152,
    "start_time": "2023-02-21T03:55:12.826Z"
   },
   {
    "duration": 31,
    "start_time": "2023-02-21T03:55:12.980Z"
   },
   {
    "duration": 153,
    "start_time": "2023-02-21T03:55:13.013Z"
   },
   {
    "duration": 176,
    "start_time": "2023-02-21T03:55:13.168Z"
   },
   {
    "duration": 164,
    "start_time": "2023-02-21T03:55:13.346Z"
   },
   {
    "duration": 162,
    "start_time": "2023-02-21T03:55:13.511Z"
   },
   {
    "duration": 165,
    "start_time": "2023-02-21T03:55:13.675Z"
   },
   {
    "duration": 171,
    "start_time": "2023-02-21T03:55:13.842Z"
   },
   {
    "duration": 537,
    "start_time": "2023-02-21T03:55:14.015Z"
   },
   {
    "duration": 3,
    "start_time": "2023-02-21T03:55:14.554Z"
   },
   {
    "duration": 7,
    "start_time": "2023-02-21T03:55:14.558Z"
   },
   {
    "duration": 231,
    "start_time": "2023-02-21T03:55:14.566Z"
   },
   {
    "duration": 215,
    "start_time": "2023-02-21T03:55:14.799Z"
   },
   {
    "duration": 211,
    "start_time": "2023-02-21T03:55:15.016Z"
   },
   {
    "duration": 159,
    "start_time": "2023-02-21T03:55:15.229Z"
   },
   {
    "duration": 126,
    "start_time": "2023-02-21T03:55:15.389Z"
   },
   {
    "duration": 148,
    "start_time": "2023-02-21T03:55:15.517Z"
   },
   {
    "duration": 178,
    "start_time": "2023-02-21T03:55:15.667Z"
   },
   {
    "duration": 161,
    "start_time": "2023-02-21T03:55:15.847Z"
   },
   {
    "duration": 55,
    "start_time": "2023-02-21T03:55:16.011Z"
   },
   {
    "duration": 259,
    "start_time": "2023-02-21T03:55:16.068Z"
   },
   {
    "duration": 5,
    "start_time": "2023-02-21T03:55:36.963Z"
   },
   {
    "duration": 13,
    "start_time": "2023-02-21T03:57:09.375Z"
   },
   {
    "duration": 115,
    "start_time": "2023-02-21T04:00:51.561Z"
   },
   {
    "duration": 59,
    "start_time": "2023-02-21T04:00:56.449Z"
   },
   {
    "duration": 5,
    "start_time": "2023-02-21T04:01:03.808Z"
   },
   {
    "duration": 44,
    "start_time": "2024-06-24T22:54:37.793Z"
   },
   {
    "duration": 680,
    "start_time": "2024-06-24T22:54:42.847Z"
   },
   {
    "duration": 30,
    "start_time": "2024-06-24T22:54:43.712Z"
   },
   {
    "duration": 2044,
    "start_time": "2024-06-24T22:54:47.931Z"
   }
  ],
  "kernelspec": {
   "display_name": "Python 3 (ipykernel)",
   "language": "python",
   "name": "python3"
  },
  "language_info": {
   "codemirror_mode": {
    "name": "ipython",
    "version": 3
   },
   "file_extension": ".py",
   "mimetype": "text/x-python",
   "name": "python",
   "nbconvert_exporter": "python",
   "pygments_lexer": "ipython3",
   "version": "3.10.9"
  },
  "toc": {
   "base_numbering": 1,
   "nav_menu": {},
   "number_sections": true,
   "sideBar": true,
   "skip_h1_title": true,
   "title_cell": "Table of Contents",
   "title_sidebar": "Contents",
   "toc_cell": false,
   "toc_position": {
    "height": "calc(100% - 180px)",
    "left": "10px",
    "top": "150px",
    "width": "165px"
   },
   "toc_section_display": true,
   "toc_window_display": true
  }
 },
 "nbformat": 4,
 "nbformat_minor": 2
}
